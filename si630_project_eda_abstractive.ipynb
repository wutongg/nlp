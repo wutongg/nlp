{
 "cells": [
  {
   "cell_type": "code",
   "execution_count": 1,
   "metadata": {
    "colab": {
     "base_uri": "https://localhost:8080/"
    },
    "id": "ljWSal-Ook4u",
    "outputId": "3e892d09-2a22-4bf9-bb49-21caa69a35a2"
   },
   "outputs": [
    {
     "name": "stdout",
     "output_type": "stream",
     "text": [
      "Looking in indexes: https://pypi.org/simple, https://us-python.pkg.dev/colab-wheels/public/simple/\n",
      "Requirement already satisfied: sentencepiece in /usr/local/lib/python3.9/dist-packages (0.1.98)\n",
      "Looking in indexes: https://pypi.org/simple, https://us-python.pkg.dev/colab-wheels/public/simple/\n",
      "Requirement already satisfied: transformers in /usr/local/lib/python3.9/dist-packages (4.28.1)\n",
      "Requirement already satisfied: packaging>=20.0 in /usr/local/lib/python3.9/dist-packages (from transformers) (23.1)\n",
      "Requirement already satisfied: tqdm>=4.27 in /usr/local/lib/python3.9/dist-packages (from transformers) (4.65.0)\n",
      "Requirement already satisfied: numpy>=1.17 in /usr/local/lib/python3.9/dist-packages (from transformers) (1.22.4)\n",
      "Requirement already satisfied: requests in /usr/local/lib/python3.9/dist-packages (from transformers) (2.27.1)\n",
      "Requirement already satisfied: filelock in /usr/local/lib/python3.9/dist-packages (from transformers) (3.11.0)\n",
      "Requirement already satisfied: tokenizers!=0.11.3,<0.14,>=0.11.1 in /usr/local/lib/python3.9/dist-packages (from transformers) (0.13.3)\n",
      "Requirement already satisfied: pyyaml>=5.1 in /usr/local/lib/python3.9/dist-packages (from transformers) (6.0)\n",
      "Requirement already satisfied: huggingface-hub<1.0,>=0.11.0 in /usr/local/lib/python3.9/dist-packages (from transformers) (0.13.4)\n",
      "Requirement already satisfied: regex!=2019.12.17 in /usr/local/lib/python3.9/dist-packages (from transformers) (2022.10.31)\n",
      "Requirement already satisfied: typing-extensions>=3.7.4.3 in /usr/local/lib/python3.9/dist-packages (from huggingface-hub<1.0,>=0.11.0->transformers) (4.5.0)\n",
      "Requirement already satisfied: idna<4,>=2.5 in /usr/local/lib/python3.9/dist-packages (from requests->transformers) (3.4)\n",
      "Requirement already satisfied: urllib3<1.27,>=1.21.1 in /usr/local/lib/python3.9/dist-packages (from requests->transformers) (1.26.15)\n",
      "Requirement already satisfied: charset-normalizer~=2.0.0 in /usr/local/lib/python3.9/dist-packages (from requests->transformers) (2.0.12)\n",
      "Requirement already satisfied: certifi>=2017.4.17 in /usr/local/lib/python3.9/dist-packages (from requests->transformers) (2022.12.7)\n",
      "Looking in indexes: https://pypi.org/simple, https://us-python.pkg.dev/colab-wheels/public/simple/\n",
      "Requirement already satisfied: rouge-score in /usr/local/lib/python3.9/dist-packages (0.1.2)\n",
      "Requirement already satisfied: absl-py in /usr/local/lib/python3.9/dist-packages (from rouge-score) (1.4.0)\n",
      "Requirement already satisfied: nltk in /usr/local/lib/python3.9/dist-packages (from rouge-score) (3.8.1)\n",
      "Requirement already satisfied: six>=1.14.0 in /usr/local/lib/python3.9/dist-packages (from rouge-score) (1.16.0)\n",
      "Requirement already satisfied: numpy in /usr/local/lib/python3.9/dist-packages (from rouge-score) (1.22.4)\n",
      "Requirement already satisfied: tqdm in /usr/local/lib/python3.9/dist-packages (from nltk->rouge-score) (4.65.0)\n",
      "Requirement already satisfied: joblib in /usr/local/lib/python3.9/dist-packages (from nltk->rouge-score) (1.2.0)\n",
      "Requirement already satisfied: regex>=2021.8.3 in /usr/local/lib/python3.9/dist-packages (from nltk->rouge-score) (2022.10.31)\n",
      "Requirement already satisfied: click in /usr/local/lib/python3.9/dist-packages (from nltk->rouge-score) (8.1.3)\n",
      "Looking in indexes: https://pypi.org/simple, https://us-python.pkg.dev/colab-wheels/public/simple/\n",
      "Requirement already satisfied: datasets in /usr/local/lib/python3.9/dist-packages (2.11.0)\n",
      "Requirement already satisfied: pyyaml>=5.1 in /usr/local/lib/python3.9/dist-packages (from datasets) (6.0)\n",
      "Requirement already satisfied: huggingface-hub<1.0.0,>=0.11.0 in /usr/local/lib/python3.9/dist-packages (from datasets) (0.13.4)\n",
      "Requirement already satisfied: responses<0.19 in /usr/local/lib/python3.9/dist-packages (from datasets) (0.18.0)\n",
      "Requirement already satisfied: xxhash in /usr/local/lib/python3.9/dist-packages (from datasets) (3.2.0)\n",
      "Requirement already satisfied: pandas in /usr/local/lib/python3.9/dist-packages (from datasets) (1.5.3)\n",
      "Requirement already satisfied: tqdm>=4.62.1 in /usr/local/lib/python3.9/dist-packages (from datasets) (4.65.0)\n",
      "Requirement already satisfied: fsspec[http]>=2021.11.1 in /usr/local/lib/python3.9/dist-packages (from datasets) (2023.4.0)\n",
      "Requirement already satisfied: numpy>=1.17 in /usr/local/lib/python3.9/dist-packages (from datasets) (1.22.4)\n",
      "Requirement already satisfied: packaging in /usr/local/lib/python3.9/dist-packages (from datasets) (23.1)\n",
      "Requirement already satisfied: pyarrow>=8.0.0 in /usr/local/lib/python3.9/dist-packages (from datasets) (9.0.0)\n",
      "Requirement already satisfied: multiprocess in /usr/local/lib/python3.9/dist-packages (from datasets) (0.70.14)\n",
      "Requirement already satisfied: requests>=2.19.0 in /usr/local/lib/python3.9/dist-packages (from datasets) (2.27.1)\n",
      "Requirement already satisfied: aiohttp in /usr/local/lib/python3.9/dist-packages (from datasets) (3.8.4)\n",
      "Requirement already satisfied: dill<0.3.7,>=0.3.0 in /usr/local/lib/python3.9/dist-packages (from datasets) (0.3.6)\n",
      "Requirement already satisfied: frozenlist>=1.1.1 in /usr/local/lib/python3.9/dist-packages (from aiohttp->datasets) (1.3.3)\n",
      "Requirement already satisfied: charset-normalizer<4.0,>=2.0 in /usr/local/lib/python3.9/dist-packages (from aiohttp->datasets) (2.0.12)\n",
      "Requirement already satisfied: aiosignal>=1.1.2 in /usr/local/lib/python3.9/dist-packages (from aiohttp->datasets) (1.3.1)\n",
      "Requirement already satisfied: multidict<7.0,>=4.5 in /usr/local/lib/python3.9/dist-packages (from aiohttp->datasets) (6.0.4)\n",
      "Requirement already satisfied: yarl<2.0,>=1.0 in /usr/local/lib/python3.9/dist-packages (from aiohttp->datasets) (1.8.2)\n",
      "Requirement already satisfied: attrs>=17.3.0 in /usr/local/lib/python3.9/dist-packages (from aiohttp->datasets) (23.1.0)\n",
      "Requirement already satisfied: async-timeout<5.0,>=4.0.0a3 in /usr/local/lib/python3.9/dist-packages (from aiohttp->datasets) (4.0.2)\n",
      "Requirement already satisfied: filelock in /usr/local/lib/python3.9/dist-packages (from huggingface-hub<1.0.0,>=0.11.0->datasets) (3.11.0)\n",
      "Requirement already satisfied: typing-extensions>=3.7.4.3 in /usr/local/lib/python3.9/dist-packages (from huggingface-hub<1.0.0,>=0.11.0->datasets) (4.5.0)\n",
      "Requirement already satisfied: urllib3<1.27,>=1.21.1 in /usr/local/lib/python3.9/dist-packages (from requests>=2.19.0->datasets) (1.26.15)\n",
      "Requirement already satisfied: idna<4,>=2.5 in /usr/local/lib/python3.9/dist-packages (from requests>=2.19.0->datasets) (3.4)\n",
      "Requirement already satisfied: certifi>=2017.4.17 in /usr/local/lib/python3.9/dist-packages (from requests>=2.19.0->datasets) (2022.12.7)\n",
      "Requirement already satisfied: python-dateutil>=2.8.1 in /usr/local/lib/python3.9/dist-packages (from pandas->datasets) (2.8.2)\n",
      "Requirement already satisfied: pytz>=2020.1 in /usr/local/lib/python3.9/dist-packages (from pandas->datasets) (2022.7.1)\n",
      "Requirement already satisfied: six>=1.5 in /usr/local/lib/python3.9/dist-packages (from python-dateutil>=2.8.1->pandas->datasets) (1.16.0)\n",
      "Looking in indexes: https://pypi.org/simple, https://us-python.pkg.dev/colab-wheels/public/simple/\n",
      "Requirement already satisfied: transformers in /usr/local/lib/python3.9/dist-packages (4.28.1)\n",
      "Requirement already satisfied: rouge in /usr/local/lib/python3.9/dist-packages (1.0.1)\n",
      "Requirement already satisfied: huggingface-hub<1.0,>=0.11.0 in /usr/local/lib/python3.9/dist-packages (from transformers) (0.13.4)\n",
      "Requirement already satisfied: requests in /usr/local/lib/python3.9/dist-packages (from transformers) (2.27.1)\n",
      "Requirement already satisfied: tqdm>=4.27 in /usr/local/lib/python3.9/dist-packages (from transformers) (4.65.0)\n",
      "Requirement already satisfied: filelock in /usr/local/lib/python3.9/dist-packages (from transformers) (3.11.0)\n",
      "Requirement already satisfied: regex!=2019.12.17 in /usr/local/lib/python3.9/dist-packages (from transformers) (2022.10.31)\n",
      "Requirement already satisfied: tokenizers!=0.11.3,<0.14,>=0.11.1 in /usr/local/lib/python3.9/dist-packages (from transformers) (0.13.3)\n",
      "Requirement already satisfied: numpy>=1.17 in /usr/local/lib/python3.9/dist-packages (from transformers) (1.22.4)\n",
      "Requirement already satisfied: pyyaml>=5.1 in /usr/local/lib/python3.9/dist-packages (from transformers) (6.0)\n",
      "Requirement already satisfied: packaging>=20.0 in /usr/local/lib/python3.9/dist-packages (from transformers) (23.1)\n",
      "Requirement already satisfied: six in /usr/local/lib/python3.9/dist-packages (from rouge) (1.16.0)\n",
      "Requirement already satisfied: typing-extensions>=3.7.4.3 in /usr/local/lib/python3.9/dist-packages (from huggingface-hub<1.0,>=0.11.0->transformers) (4.5.0)\n",
      "Requirement already satisfied: charset-normalizer~=2.0.0 in /usr/local/lib/python3.9/dist-packages (from requests->transformers) (2.0.12)\n",
      "Requirement already satisfied: idna<4,>=2.5 in /usr/local/lib/python3.9/dist-packages (from requests->transformers) (3.4)\n",
      "Requirement already satisfied: certifi>=2017.4.17 in /usr/local/lib/python3.9/dist-packages (from requests->transformers) (2022.12.7)\n",
      "Requirement already satisfied: urllib3<1.27,>=1.21.1 in /usr/local/lib/python3.9/dist-packages (from requests->transformers) (1.26.15)\n"
     ]
    }
   ],
   "source": [
    "! pip install sentencepiece\n",
    "! pip install transformers\n",
    "! pip install rouge-score\n",
    "! pip install datasets\n",
    "! pip install transformers rouge"
   ]
  },
  {
   "cell_type": "code",
   "execution_count": 1,
   "metadata": {
    "id": "o4qr4fA0FX86"
   },
   "outputs": [],
   "source": [
    "import requests\n",
    "import io\n",
    "import zipfile\n",
    "import pandas as pd\n",
    "import numpy as np\n",
    "import os\n",
    "import xml.etree.ElementTree as ET\n",
    "import json\n",
    "import re\n",
    "import string\n",
    "import html\n",
    "import time\n",
    "import torch\n",
    "from rouge_score import rouge_scorer\n",
    "from rouge import Rouge"
   ]
  },
  {
   "cell_type": "markdown",
   "metadata": {
    "id": "61qdrCprJdSy"
   },
   "source": [
    "# Load Dataset"
   ]
  },
  {
   "cell_type": "code",
   "execution_count": null,
   "metadata": {
    "colab": {
     "base_uri": "https://localhost:8080/"
    },
    "id": "Jyid84m1KN0P",
    "outputId": "cf9848cb-849c-41e5-8db0-5b9abd51b2d2"
   },
   "outputs": [
    {
     "name": "stdout",
     "output_type": "stream",
     "text": [
      "/content\n"
     ]
    }
   ],
   "source": [
    "! pwd"
   ]
  },
  {
   "cell_type": "code",
   "execution_count": 4,
   "metadata": {
    "colab": {
     "base_uri": "https://localhost:8080/"
    },
    "id": "yUUSVmVlKARy",
    "outputId": "3a7b6119-a1ee-4d20-9c7c-ce8ea58e4168"
   },
   "outputs": [
    {
     "name": "stdout",
     "output_type": "stream",
     "text": [
      "File is unzipped in nlp_data folder\n"
     ]
    }
   ],
   "source": [
    "# download data\n",
    "if not os.path.isdir(\"./nlp_data\"):\n",
    "  url = \"https://cs.stanford.edu/~myasu/projects/scisumm_net/scisummnet_release1.1__20190413.zip\"\n",
    "  response = requests.get(url)\n",
    "  with zipfile.ZipFile(io.BytesIO(response.content)) as zipObj:\n",
    "     # Extract all the contents of zip file in different directory\n",
    "     zipObj.extractall(\"nlp_data\")\n",
    "     print(\"File is unzipped in nlp_data folder\") \n",
    "else:\n",
    "  print(\"Data has been already downloaded.\")"
   ]
  },
  {
   "cell_type": "code",
   "execution_count": 5,
   "metadata": {
    "id": "WqCmhZy4ItBE"
   },
   "outputs": [],
   "source": [
    "# get all raw text, break all papers into two parts -- Abstract and rest of document\n",
    "# first get all filepaths\n",
    "xmlfiles = []\n",
    "citations = []\n",
    "summaries = []\n",
    "for subdir, dirs, files in os.walk(r'./nlp_data/scisummnet_release1.1__20190413/top1000_complete'):\n",
    "    for filename in files:\n",
    "        filepath = subdir + os.sep + filename\n",
    "        if filepath.endswith(\".xml\"):\n",
    "            xmlfiles.append(filepath)\n",
    "        if filepath.endswith(\".json\"):\n",
    "            citations.append(filepath)\n",
    "        if filepath.endswith(\".txt\"):\n",
    "            summaries.append(filepath)"
   ]
  },
  {
   "cell_type": "code",
   "execution_count": null,
   "metadata": {
    "colab": {
     "base_uri": "https://localhost:8080/"
    },
    "id": "uAoRy0CmrFoA",
    "outputId": "be4cdde5-5212-4f1a-853b-db677f633ac4"
   },
   "outputs": [
    {
     "name": "stdout",
     "output_type": "stream",
     "text": [
      "['./nlp_data/scisummnet_release1.1__20190413/top1000_complete/N03-2021/summary/N03-2021.gold.txt', './nlp_data/scisummnet_release1.1__20190413/top1000_complete/C02-1144/summary/C02-1144.gold.txt', './nlp_data/scisummnet_release1.1__20190413/top1000_complete/E87-1002/summary/E87-1002.gold.txt', './nlp_data/scisummnet_release1.1__20190413/top1000_complete/P05-1044/summary/P05-1044.gold.txt', './nlp_data/scisummnet_release1.1__20190413/top1000_complete/N13-1039/summary/N13-1039.gold.txt', './nlp_data/scisummnet_release1.1__20190413/top1000_complete/P03-1012/summary/P03-1012.gold.txt', './nlp_data/scisummnet_release1.1__20190413/top1000_complete/J04-1002/summary/J04-1002.gold.txt', './nlp_data/scisummnet_release1.1__20190413/top1000_complete/W97-0209/summary/W97-0209.gold.txt', './nlp_data/scisummnet_release1.1__20190413/top1000_complete/J93-1004/summary/J93-1004.gold.txt', './nlp_data/scisummnet_release1.1__20190413/top1000_complete/C92-1038/summary/C92-1038.gold.txt', './nlp_data/scisummnet_release1.1__20190413/top1000_complete/P06-1005/summary/P06-1005.gold.txt', './nlp_data/scisummnet_release1.1__20190413/top1000_complete/P97-1009/summary/P97-1009.gold.txt', './nlp_data/scisummnet_release1.1__20190413/top1000_complete/J93-2004/summary/J93-2004.gold.txt', './nlp_data/scisummnet_release1.1__20190413/top1000_complete/P07-1106/summary/P07-1106.gold.txt', './nlp_data/scisummnet_release1.1__20190413/top1000_complete/P92-1032/summary/P92-1032.gold.txt', './nlp_data/scisummnet_release1.1__20190413/top1000_complete/J08-2002/summary/J08-2002.gold.txt', './nlp_data/scisummnet_release1.1__20190413/top1000_complete/P00-1010/summary/P00-1010.gold.txt', './nlp_data/scisummnet_release1.1__20190413/top1000_complete/W03-0407/summary/W03-0407.gold.txt', './nlp_data/scisummnet_release1.1__20190413/top1000_complete/P85-1011/summary/P85-1011.gold.txt', './nlp_data/scisummnet_release1.1__20190413/top1000_complete/P07-1121/summary/P07-1121.gold.txt', './nlp_data/scisummnet_release1.1__20190413/top1000_complete/C04-1146/summary/C04-1146.gold.txt', './nlp_data/scisummnet_release1.1__20190413/top1000_complete/P03-2026/summary/P03-2026.gold.txt', './nlp_data/scisummnet_release1.1__20190413/top1000_complete/H05-1066/summary/H05-1066.gold.txt', './nlp_data/scisummnet_release1.1__20190413/top1000_complete/P09-1011/summary/P09-1011.gold.txt', './nlp_data/scisummnet_release1.1__20190413/top1000_complete/D09-1098/summary/D09-1098.gold.txt', './nlp_data/scisummnet_release1.1__20190413/top1000_complete/P05-1020/summary/P05-1020.gold.txt', './nlp_data/scisummnet_release1.1__20190413/top1000_complete/D07-1080/summary/D07-1080.gold.txt', './nlp_data/scisummnet_release1.1__20190413/top1000_complete/P06-1091/summary/P06-1091.gold.txt', './nlp_data/scisummnet_release1.1__20190413/top1000_complete/P05-1017/summary/P05-1017.gold.txt', './nlp_data/scisummnet_release1.1__20190413/top1000_complete/W97-0313/summary/W97-0313.gold.txt', './nlp_data/scisummnet_release1.1__20190413/top1000_complete/W07-1604/summary/W07-1604.gold.txt', './nlp_data/scisummnet_release1.1__20190413/top1000_complete/P02-1042/summary/P02-1042.gold.txt', './nlp_data/scisummnet_release1.1__20190413/top1000_complete/N10-1013/summary/N10-1013.gold.txt', './nlp_data/scisummnet_release1.1__20190413/top1000_complete/W97-0301/summary/W97-0301.gold.txt', './nlp_data/scisummnet_release1.1__20190413/top1000_complete/W04-3212/summary/W04-3212.gold.txt', './nlp_data/scisummnet_release1.1__20190413/top1000_complete/W98-1118/summary/W98-1118.gold.txt', './nlp_data/scisummnet_release1.1__20190413/top1000_complete/N10-1056/summary/N10-1056.gold.txt', './nlp_data/scisummnet_release1.1__20190413/top1000_complete/W97-0109/summary/W97-0109.gold.txt', './nlp_data/scisummnet_release1.1__20190413/top1000_complete/P98-1034/summary/P98-1034.gold.txt', './nlp_data/scisummnet_release1.1__20190413/top1000_complete/P08-1090/summary/P08-1090.gold.txt', './nlp_data/scisummnet_release1.1__20190413/top1000_complete/W11-2103/summary/W11-2103.gold.txt', './nlp_data/scisummnet_release1.1__20190413/top1000_complete/D12-1050/summary/D12-1050.gold.txt', './nlp_data/scisummnet_release1.1__20190413/top1000_complete/P98-1106/summary/P98-1106.gold.txt', './nlp_data/scisummnet_release1.1__20190413/top1000_complete/W99-0623/summary/W99-0623.gold.txt', './nlp_data/scisummnet_release1.1__20190413/top1000_complete/C90-3063/summary/C90-3063.gold.txt', './nlp_data/scisummnet_release1.1__20190413/top1000_complete/P06-1038/summary/P06-1038.gold.txt', './nlp_data/scisummnet_release1.1__20190413/top1000_complete/W01-0501/summary/W01-0501.gold.txt', './nlp_data/scisummnet_release1.1__20190413/top1000_complete/J03-4003/summary/J03-4003.gold.txt', './nlp_data/scisummnet_release1.1__20190413/top1000_complete/W11-0705/summary/W11-0705.gold.txt', './nlp_data/scisummnet_release1.1__20190413/top1000_complete/W05-0909/summary/W05-0909.gold.txt', './nlp_data/scisummnet_release1.1__20190413/top1000_complete/A00-2031/summary/A00-2031.gold.txt', './nlp_data/scisummnet_release1.1__20190413/top1000_complete/J03-1003/summary/J03-1003.gold.txt', './nlp_data/scisummnet_release1.1__20190413/top1000_complete/J00-2004/summary/J00-2004.gold.txt', './nlp_data/scisummnet_release1.1__20190413/top1000_complete/P05-1012/summary/P05-1012.gold.txt', './nlp_data/scisummnet_release1.1__20190413/top1000_complete/W02-2026/summary/W02-2026.gold.txt', './nlp_data/scisummnet_release1.1__20190413/top1000_complete/W00-0726/summary/W00-0726.gold.txt', './nlp_data/scisummnet_release1.1__20190413/top1000_complete/P98-1081/summary/P98-1081.gold.txt', './nlp_data/scisummnet_release1.1__20190413/top1000_complete/P05-1074/summary/P05-1074.gold.txt', './nlp_data/scisummnet_release1.1__20190413/top1000_complete/J02-1002/summary/J02-1002.gold.txt', './nlp_data/scisummnet_release1.1__20190413/top1000_complete/W04-3252/summary/W04-3252.gold.txt', './nlp_data/scisummnet_release1.1__20190413/top1000_complete/P02-1040/summary/P02-1040.gold.txt', './nlp_data/scisummnet_release1.1__20190413/top1000_complete/N07-1018/summary/N07-1018.gold.txt', './nlp_data/scisummnet_release1.1__20190413/top1000_complete/D07-1076/summary/D07-1076.gold.txt', './nlp_data/scisummnet_release1.1__20190413/top1000_complete/E03-1008/summary/E03-1008.gold.txt', './nlp_data/scisummnet_release1.1__20190413/top1000_complete/W04-3253/summary/W04-3253.gold.txt', './nlp_data/scisummnet_release1.1__20190413/top1000_complete/D07-1096/summary/D07-1096.gold.txt', './nlp_data/scisummnet_release1.1__20190413/top1000_complete/P04-1041/summary/P04-1041.gold.txt', './nlp_data/scisummnet_release1.1__20190413/top1000_complete/P93-1022/summary/P93-1022.gold.txt', './nlp_data/scisummnet_release1.1__20190413/top1000_complete/P06-1109/summary/P06-1109.gold.txt', './nlp_data/scisummnet_release1.1__20190413/top1000_complete/P01-1008/summary/P01-1008.gold.txt', './nlp_data/scisummnet_release1.1__20190413/top1000_complete/P06-1115/summary/P06-1115.gold.txt', './nlp_data/scisummnet_release1.1__20190413/top1000_complete/P03-1051/summary/P03-1051.gold.txt', './nlp_data/scisummnet_release1.1__20190413/top1000_complete/D10-1044/summary/D10-1044.gold.txt', './nlp_data/scisummnet_release1.1__20190413/top1000_complete/W99-0501/summary/W99-0501.gold.txt', './nlp_data/scisummnet_release1.1__20190413/top1000_complete/P07-2045/summary/P07-2045.gold.txt', './nlp_data/scisummnet_release1.1__20190413/top1000_complete/P08-1088/summary/P08-1088.gold.txt', './nlp_data/scisummnet_release1.1__20190413/top1000_complete/D08-1024/summary/D08-1024.gold.txt', './nlp_data/scisummnet_release1.1__20190413/top1000_complete/J82-3004/summary/J82-3004.gold.txt', './nlp_data/scisummnet_release1.1__20190413/top1000_complete/P93-1035/summary/P93-1035.gold.txt', './nlp_data/scisummnet_release1.1__20190413/top1000_complete/W07-0734/summary/W07-0734.gold.txt', './nlp_data/scisummnet_release1.1__20190413/top1000_complete/W03-1008/summary/W03-1008.gold.txt', './nlp_data/scisummnet_release1.1__20190413/top1000_complete/M95-1005/summary/M95-1005.gold.txt', './nlp_data/scisummnet_release1.1__20190413/top1000_complete/P03-1011/summary/P03-1011.gold.txt', './nlp_data/scisummnet_release1.1__20190413/top1000_complete/D08-1036/summary/D08-1036.gold.txt', './nlp_data/scisummnet_release1.1__20190413/top1000_complete/P08-2026/summary/P08-2026.gold.txt', './nlp_data/scisummnet_release1.1__20190413/top1000_complete/P08-1024/summary/P08-1024.gold.txt', './nlp_data/scisummnet_release1.1__20190413/top1000_complete/H05-1044/summary/H05-1044.gold.txt', './nlp_data/scisummnet_release1.1__20190413/top1000_complete/A00-2004/summary/A00-2004.gold.txt', './nlp_data/scisummnet_release1.1__20190413/top1000_complete/W07-2216/summary/W07-2216.gold.txt', './nlp_data/scisummnet_release1.1__20190413/top1000_complete/C88-2121/summary/C88-2121.gold.txt', './nlp_data/scisummnet_release1.1__20190413/top1000_complete/W99-0625/summary/W99-0625.gold.txt', './nlp_data/scisummnet_release1.1__20190413/top1000_complete/P94-1012/summary/P94-1012.gold.txt', './nlp_data/scisummnet_release1.1__20190413/top1000_complete/P08-1030/summary/P08-1030.gold.txt', './nlp_data/scisummnet_release1.1__20190413/top1000_complete/P96-1024/summary/P96-1024.gold.txt', './nlp_data/scisummnet_release1.1__20190413/top1000_complete/P05-1010/summary/P05-1010.gold.txt', './nlp_data/scisummnet_release1.1__20190413/top1000_complete/N03-1016/summary/N03-1016.gold.txt', './nlp_data/scisummnet_release1.1__20190413/top1000_complete/A00-1043/summary/A00-1043.gold.txt', './nlp_data/scisummnet_release1.1__20190413/top1000_complete/P05-1073/summary/P05-1073.gold.txt', './nlp_data/scisummnet_release1.1__20190413/top1000_complete/P04-1061/summary/P04-1061.gold.txt', './nlp_data/scisummnet_release1.1__20190413/top1000_complete/W06-3812/summary/W06-3812.gold.txt', './nlp_data/scisummnet_release1.1__20190413/top1000_complete/P03-1023/summary/P03-1023.gold.txt', './nlp_data/scisummnet_release1.1__20190413/top1000_complete/D09-1101/summary/D09-1101.gold.txt', './nlp_data/scisummnet_release1.1__20190413/top1000_complete/C92-2070/summary/C92-2070.gold.txt', './nlp_data/scisummnet_release1.1__20190413/top1000_complete/P95-1034/summary/P95-1034.gold.txt', './nlp_data/scisummnet_release1.1__20190413/top1000_complete/D09-1092/summary/D09-1092.gold.txt', './nlp_data/scisummnet_release1.1__20190413/top1000_complete/D07-1071/summary/D07-1071.gold.txt', './nlp_data/scisummnet_release1.1__20190413/top1000_complete/P08-1028/summary/P08-1028.gold.txt', './nlp_data/scisummnet_release1.1__20190413/top1000_complete/P97-1041/summary/P97-1041.gold.txt', './nlp_data/scisummnet_release1.1__20190413/top1000_complete/J03-4004/summary/J03-4004.gold.txt', './nlp_data/scisummnet_release1.1__20190413/top1000_complete/P02-1050/summary/P02-1050.gold.txt', './nlp_data/scisummnet_release1.1__20190413/top1000_complete/W10-2903/summary/W10-2903.gold.txt', './nlp_data/scisummnet_release1.1__20190413/top1000_complete/D07-1101/summary/D07-1101.gold.txt', './nlp_data/scisummnet_release1.1__20190413/top1000_complete/P96-1006/summary/P96-1006.gold.txt', './nlp_data/scisummnet_release1.1__20190413/top1000_complete/P04-1005/summary/P04-1005.gold.txt', './nlp_data/scisummnet_release1.1__20190413/top1000_complete/J91-1003/summary/J91-1003.gold.txt', './nlp_data/scisummnet_release1.1__20190413/top1000_complete/P07-1096/summary/P07-1096.gold.txt', './nlp_data/scisummnet_release1.1__20190413/top1000_complete/D10-1115/summary/D10-1115.gold.txt', './nlp_data/scisummnet_release1.1__20190413/top1000_complete/W02-0505/summary/W02-0505.gold.txt', './nlp_data/scisummnet_release1.1__20190413/top1000_complete/N01-1016/summary/N01-1016.gold.txt', './nlp_data/scisummnet_release1.1__20190413/top1000_complete/N06-1039/summary/N06-1039.gold.txt', './nlp_data/scisummnet_release1.1__20190413/top1000_complete/D11-1142/summary/D11-1142.gold.txt', './nlp_data/scisummnet_release1.1__20190413/top1000_complete/W04-0811/summary/W04-0811.gold.txt', './nlp_data/scisummnet_release1.1__20190413/top1000_complete/P00-1041/summary/P00-1041.gold.txt', './nlp_data/scisummnet_release1.1__20190413/top1000_complete/W07-0718/summary/W07-0718.gold.txt', './nlp_data/scisummnet_release1.1__20190413/top1000_complete/P85-1008/summary/P85-1008.gold.txt', './nlp_data/scisummnet_release1.1__20190413/top1000_complete/W02-1503/summary/W02-1503.gold.txt', './nlp_data/scisummnet_release1.1__20190413/top1000_complete/N06-1014/summary/N06-1014.gold.txt', './nlp_data/scisummnet_release1.1__20190413/top1000_complete/J93-2003/summary/J93-2003.gold.txt', './nlp_data/scisummnet_release1.1__20190413/top1000_complete/E06-1025/summary/E06-1025.gold.txt', './nlp_data/scisummnet_release1.1__20190413/top1000_complete/W05-0602/summary/W05-0602.gold.txt', './nlp_data/scisummnet_release1.1__20190413/top1000_complete/P05-1022/summary/P05-1022.gold.txt', './nlp_data/scisummnet_release1.1__20190413/top1000_complete/P08-1115/summary/P08-1115.gold.txt', './nlp_data/scisummnet_release1.1__20190413/top1000_complete/J87-1005/summary/J87-1005.gold.txt', './nlp_data/scisummnet_release1.1__20190413/top1000_complete/P03-1056/summary/P03-1056.gold.txt', './nlp_data/scisummnet_release1.1__20190413/top1000_complete/W02-1001/summary/W02-1001.gold.txt', './nlp_data/scisummnet_release1.1__20190413/top1000_complete/W03-1719/summary/W03-1719.gold.txt', './nlp_data/scisummnet_release1.1__20190413/top1000_complete/N06-1041/summary/N06-1041.gold.txt', './nlp_data/scisummnet_release1.1__20190413/top1000_complete/W04-1221/summary/W04-1221.gold.txt', './nlp_data/scisummnet_release1.1__20190413/top1000_complete/E06-1051/summary/E06-1051.gold.txt', './nlp_data/scisummnet_release1.1__20190413/top1000_complete/J04-1005/summary/J04-1005.gold.txt', './nlp_data/scisummnet_release1.1__20190413/top1000_complete/W08-1301/summary/W08-1301.gold.txt', './nlp_data/scisummnet_release1.1__20190413/top1000_complete/W06-0301/summary/W06-0301.gold.txt', './nlp_data/scisummnet_release1.1__20190413/top1000_complete/J98-2001/summary/J98-2001.gold.txt', './nlp_data/scisummnet_release1.1__20190413/top1000_complete/P96-1027/summary/P96-1027.gold.txt', './nlp_data/scisummnet_release1.1__20190413/top1000_complete/J97-1005/summary/J97-1005.gold.txt', './nlp_data/scisummnet_release1.1__20190413/top1000_complete/P03-1013/summary/P03-1013.gold.txt', './nlp_data/scisummnet_release1.1__20190413/top1000_complete/P93-1008/summary/P93-1008.gold.txt', './nlp_data/scisummnet_release1.1__20190413/top1000_complete/N04-1023/summary/N04-1023.gold.txt', './nlp_data/scisummnet_release1.1__20190413/top1000_complete/P07-1123/summary/P07-1123.gold.txt', './nlp_data/scisummnet_release1.1__20190413/top1000_complete/D10-1001/summary/D10-1001.gold.txt', './nlp_data/scisummnet_release1.1__20190413/top1000_complete/C04-1073/summary/C04-1073.gold.txt', './nlp_data/scisummnet_release1.1__20190413/top1000_complete/P91-1023/summary/P91-1023.gold.txt', './nlp_data/scisummnet_release1.1__20190413/top1000_complete/W97-0302/summary/W97-0302.gold.txt', './nlp_data/scisummnet_release1.1__20190413/top1000_complete/W99-0612/summary/W99-0612.gold.txt', './nlp_data/scisummnet_release1.1__20190413/top1000_complete/P99-1004/summary/P99-1004.gold.txt', './nlp_data/scisummnet_release1.1__20190413/top1000_complete/P05-1052/summary/P05-1052.gold.txt', './nlp_data/scisummnet_release1.1__20190413/top1000_complete/P09-1039/summary/P09-1039.gold.txt', './nlp_data/scisummnet_release1.1__20190413/top1000_complete/J93-2006/summary/J93-2006.gold.txt', './nlp_data/scisummnet_release1.1__20190413/top1000_complete/P06-1072/summary/P06-1072.gold.txt', './nlp_data/scisummnet_release1.1__20190413/top1000_complete/W98-1411/summary/W98-1411.gold.txt', './nlp_data/scisummnet_release1.1__20190413/top1000_complete/P03-1003/summary/P03-1003.gold.txt', './nlp_data/scisummnet_release1.1__20190413/top1000_complete/J04-2003/summary/J04-2003.gold.txt', './nlp_data/scisummnet_release1.1__20190413/top1000_complete/D07-1003/summary/D07-1003.gold.txt', './nlp_data/scisummnet_release1.1__20190413/top1000_complete/N06-1025/summary/N06-1025.gold.txt', './nlp_data/scisummnet_release1.1__20190413/top1000_complete/W05-1203/summary/W05-1203.gold.txt', './nlp_data/scisummnet_release1.1__20190413/top1000_complete/N07-4013/summary/N07-4013.gold.txt', './nlp_data/scisummnet_release1.1__20190413/top1000_complete/C00-2136/summary/C00-2136.gold.txt', './nlp_data/scisummnet_release1.1__20190413/top1000_complete/W97-0713/summary/W97-0713.gold.txt', './nlp_data/scisummnet_release1.1__20190413/top1000_complete/D08-1083/summary/D08-1083.gold.txt', './nlp_data/scisummnet_release1.1__20190413/top1000_complete/P02-1053/summary/P02-1053.gold.txt', './nlp_data/scisummnet_release1.1__20190413/top1000_complete/H91-1026/summary/H91-1026.gold.txt', './nlp_data/scisummnet_release1.1__20190413/top1000_complete/W02-1018/summary/W02-1018.gold.txt', './nlp_data/scisummnet_release1.1__20190413/top1000_complete/P93-1020/summary/P93-1020.gold.txt', './nlp_data/scisummnet_release1.1__20190413/top1000_complete/W02-1028/summary/W02-1028.gold.txt', './nlp_data/scisummnet_release1.1__20190413/top1000_complete/D07-1114/summary/D07-1114.gold.txt', './nlp_data/scisummnet_release1.1__20190413/top1000_complete/E99-1010/summary/E99-1010.gold.txt', './nlp_data/scisummnet_release1.1__20190413/top1000_complete/P06-1009/summary/P06-1009.gold.txt', './nlp_data/scisummnet_release1.1__20190413/top1000_complete/D09-1058/summary/D09-1058.gold.txt', './nlp_data/scisummnet_release1.1__20190413/top1000_complete/W03-1006/summary/W03-1006.gold.txt', './nlp_data/scisummnet_release1.1__20190413/top1000_complete/P04-1056/summary/P04-1056.gold.txt', './nlp_data/scisummnet_release1.1__20190413/top1000_complete/D08-1065/summary/D08-1065.gold.txt', './nlp_data/scisummnet_release1.1__20190413/top1000_complete/P10-1040/summary/P10-1040.gold.txt', './nlp_data/scisummnet_release1.1__20190413/top1000_complete/P03-1022/summary/P03-1022.gold.txt', './nlp_data/scisummnet_release1.1__20190413/top1000_complete/A97-1011/summary/A97-1011.gold.txt', './nlp_data/scisummnet_release1.1__20190413/top1000_complete/E06-1038/summary/E06-1038.gold.txt', './nlp_data/scisummnet_release1.1__20190413/top1000_complete/P05-1015/summary/P05-1015.gold.txt', './nlp_data/scisummnet_release1.1__20190413/top1000_complete/P08-1102/summary/P08-1102.gold.txt', './nlp_data/scisummnet_release1.1__20190413/top1000_complete/P02-1062/summary/P02-1062.gold.txt', './nlp_data/scisummnet_release1.1__20190413/top1000_complete/P97-1017/summary/P97-1017.gold.txt', './nlp_data/scisummnet_release1.1__20190413/top1000_complete/D07-1104/summary/D07-1104.gold.txt', './nlp_data/scisummnet_release1.1__20190413/top1000_complete/E06-1011/summary/E06-1011.gold.txt', './nlp_data/scisummnet_release1.1__20190413/top1000_complete/C04-1024/summary/C04-1024.gold.txt', './nlp_data/scisummnet_release1.1__20190413/top1000_complete/P05-1047/summary/P05-1047.gold.txt', './nlp_data/scisummnet_release1.1__20190413/top1000_complete/N04-1021/summary/N04-1021.gold.txt', './nlp_data/scisummnet_release1.1__20190413/top1000_complete/P05-1001/summary/P05-1001.gold.txt', './nlp_data/scisummnet_release1.1__20190413/top1000_complete/W04-2319/summary/W04-2319.gold.txt', './nlp_data/scisummnet_release1.1__20190413/top1000_complete/P88-1015/summary/P88-1015.gold.txt', './nlp_data/scisummnet_release1.1__20190413/top1000_complete/W04-0807/summary/W04-0807.gold.txt', './nlp_data/scisummnet_release1.1__20190413/top1000_complete/P09-1027/summary/P09-1027.gold.txt', './nlp_data/scisummnet_release1.1__20190413/top1000_complete/H05-1004/summary/H05-1004.gold.txt', './nlp_data/scisummnet_release1.1__20190413/top1000_complete/H93-1052/summary/H93-1052.gold.txt', './nlp_data/scisummnet_release1.1__20190413/top1000_complete/W11-1801/summary/W11-1801.gold.txt', './nlp_data/scisummnet_release1.1__20190413/top1000_complete/P83-1021/summary/P83-1021.gold.txt', './nlp_data/scisummnet_release1.1__20190413/top1000_complete/W03-1730/summary/W03-1730.gold.txt', './nlp_data/scisummnet_release1.1__20190413/top1000_complete/N10-1061/summary/N10-1061.gold.txt', './nlp_data/scisummnet_release1.1__20190413/top1000_complete/J93-1003/summary/J93-1003.gold.txt', './nlp_data/scisummnet_release1.1__20190413/top1000_complete/D08-1016/summary/D08-1016.gold.txt', './nlp_data/scisummnet_release1.1__20190413/top1000_complete/P00-1058/summary/P00-1058.gold.txt', './nlp_data/scisummnet_release1.1__20190413/top1000_complete/W03-1728/summary/W03-1728.gold.txt', './nlp_data/scisummnet_release1.1__20190413/top1000_complete/W06-1639/summary/W06-1639.gold.txt', './nlp_data/scisummnet_release1.1__20190413/top1000_complete/J01-4004/summary/J01-4004.gold.txt', './nlp_data/scisummnet_release1.1__20190413/top1000_complete/J90-1003/summary/J90-1003.gold.txt', './nlp_data/scisummnet_release1.1__20190413/top1000_complete/N04-1042/summary/N04-1042.gold.txt', './nlp_data/scisummnet_release1.1__20190413/top1000_complete/P04-1018/summary/P04-1018.gold.txt', './nlp_data/scisummnet_release1.1__20190413/top1000_complete/J93-2002/summary/J93-2002.gold.txt', './nlp_data/scisummnet_release1.1__20190413/top1000_complete/J03-3005/summary/J03-3005.gold.txt', './nlp_data/scisummnet_release1.1__20190413/top1000_complete/C94-2178/summary/C94-2178.gold.txt', './nlp_data/scisummnet_release1.1__20190413/top1000_complete/W10-1703/summary/W10-1703.gold.txt', './nlp_data/scisummnet_release1.1__20190413/top1000_complete/N07-1038/summary/N07-1038.gold.txt', './nlp_data/scisummnet_release1.1__20190413/top1000_complete/D07-1043/summary/D07-1043.gold.txt', './nlp_data/scisummnet_release1.1__20190413/top1000_complete/P05-1071/summary/P05-1071.gold.txt', './nlp_data/scisummnet_release1.1__20190413/top1000_complete/W04-0803/summary/W04-0803.gold.txt', './nlp_data/scisummnet_release1.1__20190413/top1000_complete/P06-4020/summary/P06-4020.gold.txt', './nlp_data/scisummnet_release1.1__20190413/top1000_complete/W98-0705/summary/W98-0705.gold.txt', './nlp_data/scisummnet_release1.1__20190413/top1000_complete/W06-3119/summary/W06-3119.gold.txt', './nlp_data/scisummnet_release1.1__20190413/top1000_complete/N01-1008/summary/N01-1008.gold.txt', './nlp_data/scisummnet_release1.1__20190413/top1000_complete/C90-3045/summary/C90-3045.gold.txt', './nlp_data/scisummnet_release1.1__20190413/top1000_complete/N04-1015/summary/N04-1015.gold.txt', './nlp_data/scisummnet_release1.1__20190413/top1000_complete/W11-1802/summary/W11-1802.gold.txt', './nlp_data/scisummnet_release1.1__20190413/top1000_complete/P06-1043/summary/P06-1043.gold.txt', './nlp_data/scisummnet_release1.1__20190413/top1000_complete/N03-1021/summary/N03-1021.gold.txt', './nlp_data/scisummnet_release1.1__20190413/top1000_complete/P05-1057/summary/P05-1057.gold.txt', './nlp_data/scisummnet_release1.1__20190413/top1000_complete/C96-1058/summary/C96-1058.gold.txt', './nlp_data/scisummnet_release1.1__20190413/top1000_complete/W04-2406/summary/W04-2406.gold.txt', './nlp_data/scisummnet_release1.1__20190413/top1000_complete/P08-1076/summary/P08-1076.gold.txt', './nlp_data/scisummnet_release1.1__20190413/top1000_complete/P84-1085/summary/P84-1085.gold.txt', './nlp_data/scisummnet_release1.1__20190413/top1000_complete/E89-1037/summary/E89-1037.gold.txt', './nlp_data/scisummnet_release1.1__20190413/top1000_complete/W04-3208/summary/W04-3208.gold.txt', './nlp_data/scisummnet_release1.1__20190413/top1000_complete/P05-3026/summary/P05-3026.gold.txt', './nlp_data/scisummnet_release1.1__20190413/top1000_complete/P08-1086/summary/P08-1086.gold.txt', './nlp_data/scisummnet_release1.1__20190413/top1000_complete/D11-1125/summary/D11-1125.gold.txt', './nlp_data/scisummnet_release1.1__20190413/top1000_complete/J93-2005/summary/J93-2005.gold.txt', './nlp_data/scisummnet_release1.1__20190413/top1000_complete/N06-1058/summary/N06-1058.gold.txt', './nlp_data/scisummnet_release1.1__20190413/top1000_complete/N01-1006/summary/N01-1006.gold.txt', './nlp_data/scisummnet_release1.1__20190413/top1000_complete/P09-1113/summary/P09-1113.gold.txt', './nlp_data/scisummnet_release1.1__20190413/top1000_complete/W02-2016/summary/W02-2016.gold.txt', './nlp_data/scisummnet_release1.1__20190413/top1000_complete/W04-3250/summary/W04-3250.gold.txt', './nlp_data/scisummnet_release1.1__20190413/top1000_complete/N03-1020/summary/N03-1020.gold.txt', './nlp_data/scisummnet_release1.1__20190413/top1000_complete/H05-1011/summary/H05-1011.gold.txt', './nlp_data/scisummnet_release1.1__20190413/top1000_complete/N04-1025/summary/N04-1025.gold.txt', './nlp_data/scisummnet_release1.1__20190413/top1000_complete/A88-1019/summary/A88-1019.gold.txt', './nlp_data/scisummnet_release1.1__20190413/top1000_complete/P11-2033/summary/P11-2033.gold.txt', './nlp_data/scisummnet_release1.1__20190413/top1000_complete/P11-2008/summary/P11-2008.gold.txt', './nlp_data/scisummnet_release1.1__20190413/top1000_complete/P91-1034/summary/P91-1034.gold.txt', './nlp_data/scisummnet_release1.1__20190413/top1000_complete/J99-4004/summary/J99-4004.gold.txt', './nlp_data/scisummnet_release1.1__20190413/top1000_complete/W04-2609/summary/W04-2609.gold.txt', './nlp_data/scisummnet_release1.1__20190413/top1000_complete/J10-3003/summary/J10-3003.gold.txt', './nlp_data/scisummnet_release1.1__20190413/top1000_complete/N06-1020/summary/N06-1020.gold.txt', './nlp_data/scisummnet_release1.1__20190413/top1000_complete/A92-1018/summary/A92-1018.gold.txt', './nlp_data/scisummnet_release1.1__20190413/top1000_complete/P97-1023/summary/P97-1023.gold.txt', './nlp_data/scisummnet_release1.1__20190413/top1000_complete/W00-0712/summary/W00-0712.gold.txt', './nlp_data/scisummnet_release1.1__20190413/top1000_complete/P96-1041/summary/P96-1041.gold.txt', './nlp_data/scisummnet_release1.1__20190413/top1000_complete/J92-4007/summary/J92-4007.gold.txt', './nlp_data/scisummnet_release1.1__20190413/top1000_complete/P86-1004/summary/P86-1004.gold.txt', './nlp_data/scisummnet_release1.1__20190413/top1000_complete/H94-1048/summary/H94-1048.gold.txt', './nlp_data/scisummnet_release1.1__20190413/top1000_complete/W05-1506/summary/W05-1506.gold.txt', './nlp_data/scisummnet_release1.1__20190413/top1000_complete/A00-2018/summary/A00-2018.gold.txt', './nlp_data/scisummnet_release1.1__20190413/top1000_complete/E09-1013/summary/E09-1013.gold.txt', './nlp_data/scisummnet_release1.1__20190413/top1000_complete/W98-1119/summary/W98-1119.gold.txt', './nlp_data/scisummnet_release1.1__20190413/top1000_complete/J98-4003/summary/J98-4003.gold.txt', './nlp_data/scisummnet_release1.1__20190413/top1000_complete/P98-1013/summary/P98-1013.gold.txt', './nlp_data/scisummnet_release1.1__20190413/top1000_complete/W03-0419/summary/W03-0419.gold.txt', './nlp_data/scisummnet_release1.1__20190413/top1000_complete/J97-3003/summary/J97-3003.gold.txt', './nlp_data/scisummnet_release1.1__20190413/top1000_complete/P03-1029/summary/P03-1029.gold.txt', './nlp_data/scisummnet_release1.1__20190413/top1000_complete/P05-1067/summary/P05-1067.gold.txt', './nlp_data/scisummnet_release1.1__20190413/top1000_complete/D07-1074/summary/D07-1074.gold.txt', './nlp_data/scisummnet_release1.1__20190413/top1000_complete/P06-1085/summary/P06-1085.gold.txt', './nlp_data/scisummnet_release1.1__20190413/top1000_complete/P93-1002/summary/P93-1002.gold.txt', './nlp_data/scisummnet_release1.1__20190413/top1000_complete/W06-3105/summary/W06-3105.gold.txt', './nlp_data/scisummnet_release1.1__20190413/top1000_complete/P97-1013/summary/P97-1013.gold.txt', './nlp_data/scisummnet_release1.1__20190413/top1000_complete/W00-1308/summary/W00-1308.gold.txt', './nlp_data/scisummnet_release1.1__20190413/top1000_complete/W06-1203/summary/W06-1203.gold.txt', './nlp_data/scisummnet_release1.1__20190413/top1000_complete/P06-1066/summary/P06-1066.gold.txt', './nlp_data/scisummnet_release1.1__20190413/top1000_complete/W07-2006/summary/W07-2006.gold.txt', './nlp_data/scisummnet_release1.1__20190413/top1000_complete/P05-1072/summary/P05-1072.gold.txt', './nlp_data/scisummnet_release1.1__20190413/top1000_complete/P04-1013/summary/P04-1013.gold.txt', './nlp_data/scisummnet_release1.1__20190413/top1000_complete/W93-0301/summary/W93-0301.gold.txt', './nlp_data/scisummnet_release1.1__20190413/top1000_complete/W04-3207/summary/W04-3207.gold.txt', './nlp_data/scisummnet_release1.1__20190413/top1000_complete/E09-1005/summary/E09-1005.gold.txt', './nlp_data/scisummnet_release1.1__20190413/top1000_complete/J92-1004/summary/J92-1004.gold.txt', './nlp_data/scisummnet_release1.1__20190413/top1000_complete/W10-2805/summary/W10-2805.gold.txt', './nlp_data/scisummnet_release1.1__20190413/top1000_complete/J92-1001/summary/J92-1001.gold.txt', './nlp_data/scisummnet_release1.1__20190413/top1000_complete/P10-2041/summary/P10-2041.gold.txt', './nlp_data/scisummnet_release1.1__20190413/top1000_complete/P06-1095/summary/P06-1095.gold.txt', './nlp_data/scisummnet_release1.1__20190413/top1000_complete/P83-1019/summary/P83-1019.gold.txt', './nlp_data/scisummnet_release1.1__20190413/top1000_complete/P08-1084/summary/P08-1084.gold.txt', './nlp_data/scisummnet_release1.1__20190413/top1000_complete/A92-1006/summary/A92-1006.gold.txt', './nlp_data/scisummnet_release1.1__20190413/top1000_complete/P92-1008/summary/P92-1008.gold.txt', './nlp_data/scisummnet_release1.1__20190413/top1000_complete/E06-1043/summary/E06-1043.gold.txt', './nlp_data/scisummnet_release1.1__20190413/top1000_complete/P01-1030/summary/P01-1030.gold.txt', './nlp_data/scisummnet_release1.1__20190413/top1000_complete/P98-1012/summary/P98-1012.gold.txt', './nlp_data/scisummnet_release1.1__20190413/top1000_complete/N06-2033/summary/N06-2033.gold.txt', './nlp_data/scisummnet_release1.1__20190413/top1000_complete/N01-1011/summary/N01-1011.gold.txt', './nlp_data/scisummnet_release1.1__20190413/top1000_complete/P91-1022/summary/P91-1022.gold.txt', './nlp_data/scisummnet_release1.1__20190413/top1000_complete/C04-1072/summary/C04-1072.gold.txt', './nlp_data/scisummnet_release1.1__20190413/top1000_complete/P08-1101/summary/P08-1101.gold.txt', './nlp_data/scisummnet_release1.1__20190413/top1000_complete/W01-0513/summary/W01-0513.gold.txt', './nlp_data/scisummnet_release1.1__20190413/top1000_complete/J03-3002/summary/J03-3002.gold.txt', './nlp_data/scisummnet_release1.1__20190413/top1000_complete/P03-1001/summary/P03-1001.gold.txt', './nlp_data/scisummnet_release1.1__20190413/top1000_complete/P00-1016/summary/P00-1016.gold.txt', './nlp_data/scisummnet_release1.1__20190413/top1000_complete/P08-1066/summary/P08-1066.gold.txt', './nlp_data/scisummnet_release1.1__20190413/top1000_complete/P07-1037/summary/P07-1037.gold.txt', './nlp_data/scisummnet_release1.1__20190413/top1000_complete/J00-4003/summary/J00-4003.gold.txt', './nlp_data/scisummnet_release1.1__20190413/top1000_complete/E06-1032/summary/E06-1032.gold.txt', './nlp_data/scisummnet_release1.1__20190413/top1000_complete/J81-4003/summary/J81-4003.gold.txt', './nlp_data/scisummnet_release1.1__20190413/top1000_complete/W96-0213/summary/W96-0213.gold.txt', './nlp_data/scisummnet_release1.1__20190413/top1000_complete/W06-2501/summary/W06-2501.gold.txt', './nlp_data/scisummnet_release1.1__20190413/top1000_complete/J00-1004/summary/J00-1004.gold.txt', './nlp_data/scisummnet_release1.1__20190413/top1000_complete/E89-1009/summary/E89-1009.gold.txt', './nlp_data/scisummnet_release1.1__20190413/top1000_complete/P87-1015/summary/P87-1015.gold.txt', './nlp_data/scisummnet_release1.1__20190413/top1000_complete/N10-1019/summary/N10-1019.gold.txt', './nlp_data/scisummnet_release1.1__20190413/top1000_complete/W04-3219/summary/W04-3219.gold.txt', './nlp_data/scisummnet_release1.1__20190413/top1000_complete/W04-3213/summary/W04-3213.gold.txt', './nlp_data/scisummnet_release1.1__20190413/top1000_complete/P10-1052/summary/P10-1052.gold.txt', './nlp_data/scisummnet_release1.1__20190413/top1000_complete/W04-3205/summary/W04-3205.gold.txt', './nlp_data/scisummnet_release1.1__20190413/top1000_complete/H94-1020/summary/H94-1020.gold.txt', './nlp_data/scisummnet_release1.1__20190413/top1000_complete/P02-1035/summary/P02-1035.gold.txt', './nlp_data/scisummnet_release1.1__20190413/top1000_complete/P11-1055/summary/P11-1055.gold.txt', './nlp_data/scisummnet_release1.1__20190413/top1000_complete/W04-3236/summary/W04-3236.gold.txt', './nlp_data/scisummnet_release1.1__20190413/top1000_complete/C08-1018/summary/C08-1018.gold.txt', './nlp_data/scisummnet_release1.1__20190413/top1000_complete/W07-2014/summary/W07-2014.gold.txt', './nlp_data/scisummnet_release1.1__20190413/top1000_complete/P02-1001/summary/P02-1001.gold.txt', './nlp_data/scisummnet_release1.1__20190413/top1000_complete/N09-1003/summary/N09-1003.gold.txt', './nlp_data/scisummnet_release1.1__20190413/top1000_complete/J94-4001/summary/J94-4001.gold.txt', './nlp_data/scisummnet_release1.1__20190413/top1000_complete/N01-1026/summary/N01-1026.gold.txt', './nlp_data/scisummnet_release1.1__20190413/top1000_complete/P06-1055/summary/P06-1055.gold.txt', './nlp_data/scisummnet_release1.1__20190413/top1000_complete/C02-1011/summary/C02-1011.gold.txt', './nlp_data/scisummnet_release1.1__20190413/top1000_complete/W11-1901/summary/W11-1901.gold.txt', './nlp_data/scisummnet_release1.1__20190413/top1000_complete/P10-1142/summary/P10-1142.gold.txt', './nlp_data/scisummnet_release1.1__20190413/top1000_complete/N04-1022/summary/N04-1022.gold.txt', './nlp_data/scisummnet_release1.1__20190413/top1000_complete/P98-1046/summary/P98-1046.gold.txt', './nlp_data/scisummnet_release1.1__20190413/top1000_complete/C90-3052/summary/C90-3052.gold.txt', './nlp_data/scisummnet_release1.1__20190413/top1000_complete/S10-1010/summary/S10-1010.gold.txt', './nlp_data/scisummnet_release1.1__20190413/top1000_complete/P07-1003/summary/P07-1003.gold.txt', './nlp_data/scisummnet_release1.1__20190413/top1000_complete/C94-2195/summary/C94-2195.gold.txt', './nlp_data/scisummnet_release1.1__20190413/top1000_complete/J00-3003/summary/J00-3003.gold.txt', './nlp_data/scisummnet_release1.1__20190413/top1000_complete/N09-1037/summary/N09-1037.gold.txt', './nlp_data/scisummnet_release1.1__20190413/top1000_complete/N09-1041/summary/N09-1041.gold.txt', './nlp_data/scisummnet_release1.1__20190413/top1000_complete/J97-4005/summary/J97-4005.gold.txt', './nlp_data/scisummnet_release1.1__20190413/top1000_complete/C88-1016/summary/C88-1016.gold.txt', './nlp_data/scisummnet_release1.1__20190413/top1000_complete/P12-1092/summary/P12-1092.gold.txt', './nlp_data/scisummnet_release1.1__20190413/top1000_complete/P07-1019/summary/P07-1019.gold.txt', './nlp_data/scisummnet_release1.1__20190413/top1000_complete/H92-1026/summary/H92-1026.gold.txt', './nlp_data/scisummnet_release1.1__20190413/top1000_complete/P02-1014/summary/P02-1014.gold.txt', './nlp_data/scisummnet_release1.1__20190413/top1000_complete/A00-2026/summary/A00-2026.gold.txt', './nlp_data/scisummnet_release1.1__20190413/top1000_complete/W06-1615/summary/W06-1615.gold.txt', './nlp_data/scisummnet_release1.1__20190413/top1000_complete/N12-1052/summary/N12-1052.gold.txt', './nlp_data/scisummnet_release1.1__20190413/top1000_complete/P09-1019/summary/P09-1019.gold.txt', './nlp_data/scisummnet_release1.1__20190413/top1000_complete/I08-1059/summary/I08-1059.gold.txt', './nlp_data/scisummnet_release1.1__20190413/top1000_complete/P98-1010/summary/P98-1010.gold.txt', './nlp_data/scisummnet_release1.1__20190413/top1000_complete/P08-1023/summary/P08-1023.gold.txt', './nlp_data/scisummnet_release1.1__20190413/top1000_complete/W10-3001/summary/W10-3001.gold.txt', './nlp_data/scisummnet_release1.1__20190413/top1000_complete/P09-2012/summary/P09-2012.gold.txt', './nlp_data/scisummnet_release1.1__20190413/top1000_complete/P03-1058/summary/P03-1058.gold.txt', './nlp_data/scisummnet_release1.1__20190413/top1000_complete/H05-1091/summary/H05-1091.gold.txt', './nlp_data/scisummnet_release1.1__20190413/top1000_complete/N03-1003/summary/N03-1003.gold.txt', './nlp_data/scisummnet_release1.1__20190413/top1000_complete/N07-1047/summary/N07-1047.gold.txt', './nlp_data/scisummnet_release1.1__20190413/top1000_complete/P08-1109/summary/P08-1109.gold.txt', './nlp_data/scisummnet_release1.1__20190413/top1000_complete/J05-4003/summary/J05-4003.gold.txt', './nlp_data/scisummnet_release1.1__20190413/top1000_complete/P07-1030/summary/P07-1030.gold.txt', './nlp_data/scisummnet_release1.1__20190413/top1000_complete/J97-1003/summary/J97-1003.gold.txt', './nlp_data/scisummnet_release1.1__20190413/top1000_complete/W03-1812/summary/W03-1812.gold.txt', './nlp_data/scisummnet_release1.1__20190413/top1000_complete/P08-1036/summary/P08-1036.gold.txt', './nlp_data/scisummnet_release1.1__20190413/top1000_complete/W03-1810/summary/W03-1810.gold.txt', './nlp_data/scisummnet_release1.1__20190413/top1000_complete/P04-1077/summary/P04-1077.gold.txt', './nlp_data/scisummnet_release1.1__20190413/top1000_complete/M95-1012/summary/M95-1012.gold.txt', './nlp_data/scisummnet_release1.1__20190413/top1000_complete/H05-1012/summary/H05-1012.gold.txt', './nlp_data/scisummnet_release1.1__20190413/top1000_complete/P06-1123/summary/P06-1123.gold.txt', './nlp_data/scisummnet_release1.1__20190413/top1000_complete/P07-1028/summary/P07-1028.gold.txt', './nlp_data/scisummnet_release1.1__20190413/top1000_complete/C92-2082/summary/C92-2082.gold.txt', './nlp_data/scisummnet_release1.1__20190413/top1000_complete/W09-1304/summary/W09-1304.gold.txt', './nlp_data/scisummnet_release1.1__20190413/top1000_complete/C94-1032/summary/C94-1032.gold.txt', './nlp_data/scisummnet_release1.1__20190413/top1000_complete/P06-1015/summary/P06-1015.gold.txt', './nlp_data/scisummnet_release1.1__20190413/top1000_complete/P91-1030/summary/P91-1030.gold.txt', './nlp_data/scisummnet_release1.1__20190413/top1000_complete/W99-0613/summary/W99-0613.gold.txt', './nlp_data/scisummnet_release1.1__20190413/top1000_complete/C04-1046/summary/C04-1046.gold.txt', './nlp_data/scisummnet_release1.1__20190413/top1000_complete/J93-1001/summary/J93-1001.gold.txt', './nlp_data/scisummnet_release1.1__20190413/top1000_complete/P06-2005/summary/P06-2005.gold.txt', './nlp_data/scisummnet_release1.1__20190413/top1000_complete/P93-1001/summary/P93-1001.gold.txt', './nlp_data/scisummnet_release1.1__20190413/top1000_complete/P96-1038/summary/P96-1038.gold.txt', './nlp_data/scisummnet_release1.1__20190413/top1000_complete/P03-1035/summary/P03-1035.gold.txt', './nlp_data/scisummnet_release1.1__20190413/top1000_complete/P11-1020/summary/P11-1020.gold.txt', './nlp_data/scisummnet_release1.1__20190413/top1000_complete/W03-1508/summary/W03-1508.gold.txt', './nlp_data/scisummnet_release1.1__20190413/top1000_complete/W05-1513/summary/W05-1513.gold.txt', './nlp_data/scisummnet_release1.1__20190413/top1000_complete/N06-1006/summary/N06-1006.gold.txt', './nlp_data/scisummnet_release1.1__20190413/top1000_complete/C96-2141/summary/C96-2141.gold.txt', './nlp_data/scisummnet_release1.1__20190413/top1000_complete/P99-1016/summary/P99-1016.gold.txt', './nlp_data/scisummnet_release1.1__20190413/top1000_complete/C02-1150/summary/C02-1150.gold.txt', './nlp_data/scisummnet_release1.1__20190413/top1000_complete/W07-0717/summary/W07-0717.gold.txt', './nlp_data/scisummnet_release1.1__20190413/top1000_complete/P99-1014/summary/P99-1014.gold.txt', './nlp_data/scisummnet_release1.1__20190413/top1000_complete/H92-1045/summary/H92-1045.gold.txt', './nlp_data/scisummnet_release1.1__20190413/top1000_complete/D07-1103/summary/D07-1103.gold.txt', './nlp_data/scisummnet_release1.1__20190413/top1000_complete/D08-1059/summary/D08-1059.gold.txt', './nlp_data/scisummnet_release1.1__20190413/top1000_complete/P04-1085/summary/P04-1085.gold.txt', './nlp_data/scisummnet_release1.1__20190413/top1000_complete/P07-1007/summary/P07-1007.gold.txt', './nlp_data/scisummnet_release1.1__20190413/top1000_complete/P84-1075/summary/P84-1075.gold.txt', './nlp_data/scisummnet_release1.1__20190413/top1000_complete/P89-1010/summary/P89-1010.gold.txt', './nlp_data/scisummnet_release1.1__20190413/top1000_complete/J94-2001/summary/J94-2001.gold.txt', './nlp_data/scisummnet_release1.1__20190413/top1000_complete/P09-1026/summary/P09-1026.gold.txt', './nlp_data/scisummnet_release1.1__20190413/top1000_complete/P08-1114/summary/P08-1114.gold.txt', './nlp_data/scisummnet_release1.1__20190413/top1000_complete/P06-2094/summary/P06-2094.gold.txt', './nlp_data/scisummnet_release1.1__20190413/top1000_complete/P02-1034/summary/P02-1034.gold.txt', './nlp_data/scisummnet_release1.1__20190413/top1000_complete/W06-1651/summary/W06-1651.gold.txt', './nlp_data/scisummnet_release1.1__20190413/top1000_complete/P85-1018/summary/P85-1018.gold.txt', './nlp_data/scisummnet_release1.1__20190413/top1000_complete/J08-1002/summary/J08-1002.gold.txt', './nlp_data/scisummnet_release1.1__20190413/top1000_complete/N04-1001/summary/N04-1001.gold.txt', './nlp_data/scisummnet_release1.1__20190413/top1000_complete/E03-1005/summary/E03-1005.gold.txt', './nlp_data/scisummnet_release1.1__20190413/top1000_complete/D08-1068/summary/D08-1068.gold.txt', './nlp_data/scisummnet_release1.1__20190413/top1000_complete/P09-1104/summary/P09-1104.gold.txt', './nlp_data/scisummnet_release1.1__20190413/top1000_complete/C86-1045/summary/C86-1045.gold.txt', './nlp_data/scisummnet_release1.1__20190413/top1000_complete/J04-3002/summary/J04-3002.gold.txt', './nlp_data/scisummnet_release1.1__20190413/top1000_complete/D11-1129/summary/D11-1129.gold.txt', './nlp_data/scisummnet_release1.1__20190413/top1000_complete/P09-1074/summary/P09-1074.gold.txt', './nlp_data/scisummnet_release1.1__20190413/top1000_complete/N04-4038/summary/N04-4038.gold.txt', './nlp_data/scisummnet_release1.1__20190413/top1000_complete/D07-1109/summary/D07-1109.gold.txt', './nlp_data/scisummnet_release1.1__20190413/top1000_complete/D09-1127/summary/D09-1127.gold.txt', './nlp_data/scisummnet_release1.1__20190413/top1000_complete/W01-0514/summary/W01-0514.gold.txt', './nlp_data/scisummnet_release1.1__20190413/top1000_complete/P11-1061/summary/P11-1061.gold.txt', './nlp_data/scisummnet_release1.1__20190413/top1000_complete/N04-1035/summary/N04-1035.gold.txt', './nlp_data/scisummnet_release1.1__20190413/top1000_complete/P96-1008/summary/P96-1008.gold.txt', './nlp_data/scisummnet_release1.1__20190413/top1000_complete/P00-1037/summary/P00-1037.gold.txt', './nlp_data/scisummnet_release1.1__20190413/top1000_complete/J01-2001/summary/J01-2001.gold.txt', './nlp_data/scisummnet_release1.1__20190413/top1000_complete/P08-1012/summary/P08-1012.gold.txt', './nlp_data/scisummnet_release1.1__20190413/top1000_complete/P99-1048/summary/P99-1048.gold.txt', './nlp_data/scisummnet_release1.1__20190413/top1000_complete/J99-1003/summary/J99-1003.gold.txt', './nlp_data/scisummnet_release1.1__20190413/top1000_complete/H05-1021/summary/H05-1021.gold.txt', './nlp_data/scisummnet_release1.1__20190413/top1000_complete/P06-2006/summary/P06-2006.gold.txt', './nlp_data/scisummnet_release1.1__20190413/top1000_complete/P07-1036/summary/P07-1036.gold.txt', './nlp_data/scisummnet_release1.1__20190413/top1000_complete/P07-1092/summary/P07-1092.gold.txt', './nlp_data/scisummnet_release1.1__20190413/top1000_complete/D09-1001/summary/D09-1001.gold.txt', './nlp_data/scisummnet_release1.1__20190413/top1000_complete/C04-1059/summary/C04-1059.gold.txt', './nlp_data/scisummnet_release1.1__20190413/top1000_complete/P05-1034/summary/P05-1034.gold.txt', './nlp_data/scisummnet_release1.1__20190413/top1000_complete/N09-1012/summary/N09-1012.gold.txt', './nlp_data/scisummnet_release1.1__20190413/top1000_complete/A97-1004/summary/A97-1004.gold.txt', './nlp_data/scisummnet_release1.1__20190413/top1000_complete/W01-1313/summary/W01-1313.gold.txt', './nlp_data/scisummnet_release1.1__20190413/top1000_complete/C08-1109/summary/C08-1109.gold.txt', './nlp_data/scisummnet_release1.1__20190413/top1000_complete/P02-1060/summary/P02-1060.gold.txt', './nlp_data/scisummnet_release1.1__20190413/top1000_complete/P04-1021/summary/P04-1021.gold.txt', './nlp_data/scisummnet_release1.1__20190413/top1000_complete/P03-1010/summary/P03-1010.gold.txt', './nlp_data/scisummnet_release1.1__20190413/top1000_complete/P98-2127/summary/P98-2127.gold.txt', './nlp_data/scisummnet_release1.1__20190413/top1000_complete/P83-1020/summary/P83-1020.gold.txt', './nlp_data/scisummnet_release1.1__20190413/top1000_complete/W95-0103/summary/W95-0103.gold.txt', './nlp_data/scisummnet_release1.1__20190413/top1000_complete/W10-0204/summary/W10-0204.gold.txt', './nlp_data/scisummnet_release1.1__20190413/top1000_complete/P94-1002/summary/P94-1002.gold.txt', './nlp_data/scisummnet_release1.1__20190413/top1000_complete/J00-4005/summary/J00-4005.gold.txt', './nlp_data/scisummnet_release1.1__20190413/top1000_complete/P07-1098/summary/P07-1098.gold.txt', './nlp_data/scisummnet_release1.1__20190413/top1000_complete/W97-0311/summary/W97-0311.gold.txt', './nlp_data/scisummnet_release1.1__20190413/top1000_complete/P96-1021/summary/P96-1021.gold.txt', './nlp_data/scisummnet_release1.1__20190413/top1000_complete/W02-0301/summary/W02-0301.gold.txt', './nlp_data/scisummnet_release1.1__20190413/top1000_complete/W10-0701/summary/W10-0701.gold.txt', './nlp_data/scisummnet_release1.1__20190413/top1000_complete/P03-1071/summary/P03-1071.gold.txt', './nlp_data/scisummnet_release1.1__20190413/top1000_complete/J98-1001/summary/J98-1001.gold.txt', './nlp_data/scisummnet_release1.1__20190413/top1000_complete/D10-1119/summary/D10-1119.gold.txt', './nlp_data/scisummnet_release1.1__20190413/top1000_complete/P97-1063/summary/P97-1063.gold.txt', './nlp_data/scisummnet_release1.1__20190413/top1000_complete/J93-3003/summary/J93-3003.gold.txt', './nlp_data/scisummnet_release1.1__20190413/top1000_complete/N01-1023/summary/N01-1023.gold.txt', './nlp_data/scisummnet_release1.1__20190413/top1000_complete/P90-1005/summary/P90-1005.gold.txt', './nlp_data/scisummnet_release1.1__20190413/top1000_complete/P09-1094/summary/P09-1094.gold.txt', './nlp_data/scisummnet_release1.1__20190413/top1000_complete/P13-1045/summary/P13-1045.gold.txt', './nlp_data/scisummnet_release1.1__20190413/top1000_complete/J90-1004/summary/J90-1004.gold.txt', './nlp_data/scisummnet_release1.1__20190413/top1000_complete/J04-4004/summary/J04-4004.gold.txt', './nlp_data/scisummnet_release1.1__20190413/top1000_complete/P07-1107/summary/P07-1107.gold.txt', './nlp_data/scisummnet_release1.1__20190413/top1000_complete/P09-1057/summary/P09-1057.gold.txt', './nlp_data/scisummnet_release1.1__20190413/top1000_complete/P87-1022/summary/P87-1022.gold.txt', './nlp_data/scisummnet_release1.1__20190413/top1000_complete/P02-1018/summary/P02-1018.gold.txt', './nlp_data/scisummnet_release1.1__20190413/top1000_complete/N03-1022/summary/N03-1022.gold.txt', './nlp_data/scisummnet_release1.1__20190413/top1000_complete/P02-1019/summary/P02-1019.gold.txt', './nlp_data/scisummnet_release1.1__20190413/top1000_complete/J08-4004/summary/J08-4004.gold.txt', './nlp_data/scisummnet_release1.1__20190413/top1000_complete/P05-1036/summary/P05-1036.gold.txt', './nlp_data/scisummnet_release1.1__20190413/top1000_complete/J88-2006/summary/J88-2006.gold.txt', './nlp_data/scisummnet_release1.1__20190413/top1000_complete/W08-0336/summary/W08-0336.gold.txt', './nlp_data/scisummnet_release1.1__20190413/top1000_complete/P07-1031/summary/P07-1031.gold.txt', './nlp_data/scisummnet_release1.1__20190413/top1000_complete/N09-1028/summary/N09-1028.gold.txt', './nlp_data/scisummnet_release1.1__20190413/top1000_complete/A97-1030/summary/A97-1030.gold.txt', './nlp_data/scisummnet_release1.1__20190413/top1000_complete/A00-2024/summary/A00-2024.gold.txt', './nlp_data/scisummnet_release1.1__20190413/top1000_complete/P93-1023/summary/P93-1023.gold.txt', './nlp_data/scisummnet_release1.1__20190413/top1000_complete/W02-0902/summary/W02-0902.gold.txt', './nlp_data/scisummnet_release1.1__20190413/top1000_complete/P93-1016/summary/P93-1016.gold.txt', './nlp_data/scisummnet_release1.1__20190413/top1000_complete/P95-1037/summary/P95-1037.gold.txt', './nlp_data/scisummnet_release1.1__20190413/top1000_complete/W08-2102/summary/W08-2102.gold.txt', './nlp_data/scisummnet_release1.1__20190413/top1000_complete/P06-1084/summary/P06-1084.gold.txt', './nlp_data/scisummnet_release1.1__20190413/top1000_complete/N01-1025/summary/N01-1025.gold.txt', './nlp_data/scisummnet_release1.1__20190413/top1000_complete/N09-1009/summary/N09-1009.gold.txt', './nlp_data/scisummnet_release1.1__20190413/top1000_complete/J93-1002/summary/J93-1002.gold.txt', './nlp_data/scisummnet_release1.1__20190413/top1000_complete/P90-1010/summary/P90-1010.gold.txt', './nlp_data/scisummnet_release1.1__20190413/top1000_complete/P06-1101/summary/P06-1101.gold.txt', './nlp_data/scisummnet_release1.1__20190413/top1000_complete/W11-2123/summary/W11-2123.gold.txt', './nlp_data/scisummnet_release1.1__20190413/top1000_complete/P03-1044/summary/P03-1044.gold.txt', './nlp_data/scisummnet_release1.1__20190413/top1000_complete/J95-2002/summary/J95-2002.gold.txt', './nlp_data/scisummnet_release1.1__20190413/top1000_complete/P05-2008/summary/P05-2008.gold.txt', './nlp_data/scisummnet_release1.1__20190413/top1000_complete/P02-1051/summary/P02-1051.gold.txt', './nlp_data/scisummnet_release1.1__20190413/top1000_complete/P07-1004/summary/P07-1004.gold.txt', './nlp_data/scisummnet_release1.1__20190413/top1000_complete/D10-1125/summary/D10-1125.gold.txt', './nlp_data/scisummnet_release1.1__20190413/top1000_complete/J92-4003/summary/J92-4003.gold.txt', './nlp_data/scisummnet_release1.1__20190413/top1000_complete/P01-1064/summary/P01-1064.gold.txt', './nlp_data/scisummnet_release1.1__20190413/top1000_complete/P08-1004/summary/P08-1004.gold.txt', './nlp_data/scisummnet_release1.1__20190413/top1000_complete/W01-0511/summary/W01-0511.gold.txt', './nlp_data/scisummnet_release1.1__20190413/top1000_complete/C90-3044/summary/C90-3044.gold.txt', './nlp_data/scisummnet_release1.1__20190413/top1000_complete/J96-3004/summary/J96-3004.gold.txt', './nlp_data/scisummnet_release1.1__20190413/top1000_complete/W03-1017/summary/W03-1017.gold.txt', './nlp_data/scisummnet_release1.1__20190413/top1000_complete/H93-1061/summary/H93-1061.gold.txt', './nlp_data/scisummnet_release1.1__20190413/top1000_complete/A94-1016/summary/A94-1016.gold.txt', './nlp_data/scisummnet_release1.1__20190413/top1000_complete/D07-1097/summary/D07-1097.gold.txt', './nlp_data/scisummnet_release1.1__20190413/top1000_complete/J94-4002/summary/J94-4002.gold.txt', './nlp_data/scisummnet_release1.1__20190413/top1000_complete/P07-1034/summary/P07-1034.gold.txt', './nlp_data/scisummnet_release1.1__20190413/top1000_complete/P01-1025/summary/P01-1025.gold.txt', './nlp_data/scisummnet_release1.1__20190413/top1000_complete/W04-3111/summary/W04-3111.gold.txt', './nlp_data/scisummnet_release1.1__20190413/top1000_complete/J05-3002/summary/J05-3002.gold.txt', './nlp_data/scisummnet_release1.1__20190413/top1000_complete/P06-2066/summary/P06-2066.gold.txt', './nlp_data/scisummnet_release1.1__20190413/top1000_complete/E03-1071/summary/E03-1071.gold.txt', './nlp_data/scisummnet_release1.1__20190413/top1000_complete/C08-1022/summary/C08-1022.gold.txt', './nlp_data/scisummnet_release1.1__20190413/top1000_complete/W02-1210/summary/W02-1210.gold.txt', './nlp_data/scisummnet_release1.1__20190413/top1000_complete/L08-1093/summary/L08-1093.gold.txt', './nlp_data/scisummnet_release1.1__20190413/top1000_complete/P10-4002/summary/P10-4002.gold.txt', './nlp_data/scisummnet_release1.1__20190413/top1000_complete/W07-2012/summary/W07-2012.gold.txt', './nlp_data/scisummnet_release1.1__20190413/top1000_complete/P98-2177/summary/P98-2177.gold.txt', './nlp_data/scisummnet_release1.1__20190413/top1000_complete/P07-1055/summary/P07-1055.gold.txt', './nlp_data/scisummnet_release1.1__20190413/top1000_complete/P10-1146/summary/P10-1146.gold.txt', './nlp_data/scisummnet_release1.1__20190413/top1000_complete/J07-4004/summary/J07-4004.gold.txt', './nlp_data/scisummnet_release1.1__20190413/top1000_complete/N04-1030/summary/N04-1030.gold.txt', './nlp_data/scisummnet_release1.1__20190413/top1000_complete/A00-1031/summary/A00-1031.gold.txt', './nlp_data/scisummnet_release1.1__20190413/top1000_complete/P06-3002/summary/P06-3002.gold.txt', './nlp_data/scisummnet_release1.1__20190413/top1000_complete/J90-2002/summary/J90-2002.gold.txt', './nlp_data/scisummnet_release1.1__20190413/top1000_complete/W06-3601/summary/W06-3601.gold.txt', './nlp_data/scisummnet_release1.1__20190413/top1000_complete/C92-3126/summary/C92-3126.gold.txt', './nlp_data/scisummnet_release1.1__20190413/top1000_complete/C08-1107/summary/C08-1107.gold.txt', './nlp_data/scisummnet_release1.1__20190413/top1000_complete/J02-2003/summary/J02-2003.gold.txt', './nlp_data/scisummnet_release1.1__20190413/top1000_complete/W07-1401/summary/W07-1401.gold.txt', './nlp_data/scisummnet_release1.1__20190413/top1000_complete/W08-2123/summary/W08-2123.gold.txt', './nlp_data/scisummnet_release1.1__20190413/top1000_complete/P84-1008/summary/P84-1008.gold.txt', './nlp_data/scisummnet_release1.1__20190413/top1000_complete/N13-1090/summary/N13-1090.gold.txt', './nlp_data/scisummnet_release1.1__20190413/top1000_complete/P06-2014/summary/P06-2014.gold.txt', './nlp_data/scisummnet_release1.1__20190413/top1000_complete/P04-1014/summary/P04-1014.gold.txt', './nlp_data/scisummnet_release1.1__20190413/top1000_complete/E99-1023/summary/E99-1023.gold.txt', './nlp_data/scisummnet_release1.1__20190413/top1000_complete/W95-0105/summary/W95-0105.gold.txt', './nlp_data/scisummnet_release1.1__20190413/top1000_complete/C04-1200/summary/C04-1200.gold.txt', './nlp_data/scisummnet_release1.1__20190413/top1000_complete/P08-1067/summary/P08-1067.gold.txt', './nlp_data/scisummnet_release1.1__20190413/top1000_complete/P01-1005/summary/P01-1005.gold.txt', './nlp_data/scisummnet_release1.1__20190413/top1000_complete/P11-1060/summary/P11-1060.gold.txt', './nlp_data/scisummnet_release1.1__20190413/top1000_complete/P09-1058/summary/P09-1058.gold.txt', './nlp_data/scisummnet_release1.1__20190413/top1000_complete/P05-1077/summary/P05-1077.gold.txt', './nlp_data/scisummnet_release1.1__20190413/top1000_complete/D11-1014/summary/D11-1014.gold.txt', './nlp_data/scisummnet_release1.1__20190413/top1000_complete/P88-1020/summary/P88-1020.gold.txt', './nlp_data/scisummnet_release1.1__20190413/top1000_complete/N07-1051/summary/N07-1051.gold.txt', './nlp_data/scisummnet_release1.1__20190413/top1000_complete/C96-1005/summary/C96-1005.gold.txt', './nlp_data/scisummnet_release1.1__20190413/top1000_complete/W03-0428/summary/W03-0428.gold.txt', './nlp_data/scisummnet_release1.1__20190413/top1000_complete/J93-1005/summary/J93-1005.gold.txt', './nlp_data/scisummnet_release1.1__20190413/top1000_complete/D08-1027/summary/D08-1027.gold.txt', './nlp_data/scisummnet_release1.1__20190413/top1000_complete/P98-2143/summary/P98-2143.gold.txt', './nlp_data/scisummnet_release1.1__20190413/top1000_complete/J02-4002/summary/J02-4002.gold.txt', './nlp_data/scisummnet_release1.1__20190413/top1000_complete/H94-1046/summary/H94-1046.gold.txt', './nlp_data/scisummnet_release1.1__20190413/top1000_complete/W02-0908/summary/W02-0908.gold.txt', './nlp_data/scisummnet_release1.1__20190413/top1000_complete/W06-1670/summary/W06-1670.gold.txt', './nlp_data/scisummnet_release1.1__20190413/top1000_complete/W04-3237/summary/W04-3237.gold.txt', './nlp_data/scisummnet_release1.1__20190413/top1000_complete/P99-1071/summary/P99-1071.gold.txt', './nlp_data/scisummnet_release1.1__20190413/top1000_complete/E03-1076/summary/E03-1076.gold.txt', './nlp_data/scisummnet_release1.1__20190413/top1000_complete/S12-1053/summary/S12-1053.gold.txt', './nlp_data/scisummnet_release1.1__20190413/top1000_complete/N04-3012/summary/N04-3012.gold.txt', './nlp_data/scisummnet_release1.1__20190413/top1000_complete/J86-3001/summary/J86-3001.gold.txt', './nlp_data/scisummnet_release1.1__20190413/top1000_complete/D07-1072/summary/D07-1072.gold.txt', './nlp_data/scisummnet_release1.1__20190413/top1000_complete/C00-1007/summary/C00-1007.gold.txt', './nlp_data/scisummnet_release1.1__20190413/top1000_complete/P08-1108/summary/P08-1108.gold.txt', './nlp_data/scisummnet_release1.1__20190413/top1000_complete/H93-1051/summary/H93-1051.gold.txt', './nlp_data/scisummnet_release1.1__20190413/top1000_complete/P09-1116/summary/P09-1116.gold.txt', './nlp_data/scisummnet_release1.1__20190413/top1000_complete/D07-1111/summary/D07-1111.gold.txt', './nlp_data/scisummnet_release1.1__20190413/top1000_complete/D07-1090/summary/D07-1090.gold.txt', './nlp_data/scisummnet_release1.1__20190413/top1000_complete/C96-1021/summary/C96-1021.gold.txt', './nlp_data/scisummnet_release1.1__20190413/top1000_complete/W02-1502/summary/W02-1502.gold.txt', './nlp_data/scisummnet_release1.1__20190413/top1000_complete/W02-0603/summary/W02-0603.gold.txt', './nlp_data/scisummnet_release1.1__20190413/top1000_complete/W03-1014/summary/W03-1014.gold.txt', './nlp_data/scisummnet_release1.1__20190413/top1000_complete/C92-1019/summary/C92-1019.gold.txt', './nlp_data/scisummnet_release1.1__20190413/top1000_complete/J01-3003/summary/J01-3003.gold.txt', './nlp_data/scisummnet_release1.1__20190413/top1000_complete/C94-1027/summary/C94-1027.gold.txt', './nlp_data/scisummnet_release1.1__20190413/top1000_complete/E03-1009/summary/E03-1009.gold.txt', './nlp_data/scisummnet_release1.1__20190413/top1000_complete/W09-1401/summary/W09-1401.gold.txt', './nlp_data/scisummnet_release1.1__20190413/top1000_complete/W04-2407/summary/W04-2407.gold.txt', './nlp_data/scisummnet_release1.1__20190413/top1000_complete/P95-1007/summary/P95-1007.gold.txt', './nlp_data/scisummnet_release1.1__20190413/top1000_complete/P07-1059/summary/P07-1059.gold.txt', './nlp_data/scisummnet_release1.1__20190413/top1000_complete/N03-1017/summary/N03-1017.gold.txt', './nlp_data/scisummnet_release1.1__20190413/top1000_complete/P97-1003/summary/P97-1003.gold.txt', './nlp_data/scisummnet_release1.1__20190413/top1000_complete/W05-0904/summary/W05-0904.gold.txt', './nlp_data/scisummnet_release1.1__20190413/top1000_complete/W05-0625/summary/W05-0625.gold.txt', './nlp_data/scisummnet_release1.1__20190413/top1000_complete/P96-1011/summary/P96-1011.gold.txt', './nlp_data/scisummnet_release1.1__20190413/top1000_complete/P99-1067/summary/P99-1067.gold.txt', './nlp_data/scisummnet_release1.1__20190413/top1000_complete/W97-0703/summary/W97-0703.gold.txt', './nlp_data/scisummnet_release1.1__20190413/top1000_complete/N07-1030/summary/N07-1030.gold.txt', './nlp_data/scisummnet_release1.1__20190413/top1000_complete/J96-2004/summary/J96-2004.gold.txt', './nlp_data/scisummnet_release1.1__20190413/top1000_complete/P90-1032/summary/P90-1032.gold.txt', './nlp_data/scisummnet_release1.1__20190413/top1000_complete/P07-1065/summary/P07-1065.gold.txt', './nlp_data/scisummnet_release1.1__20190413/top1000_complete/C00-1044/summary/C00-1044.gold.txt', './nlp_data/scisummnet_release1.1__20190413/top1000_complete/W03-0501/summary/W03-0501.gold.txt', './nlp_data/scisummnet_release1.1__20190413/top1000_complete/P07-1049/summary/P07-1049.gold.txt', './nlp_data/scisummnet_release1.1__20190413/top1000_complete/P08-1064/summary/P08-1064.gold.txt', './nlp_data/scisummnet_release1.1__20190413/top1000_complete/N06-2013/summary/N06-2013.gold.txt', './nlp_data/scisummnet_release1.1__20190413/top1000_complete/D09-1026/summary/D09-1026.gold.txt', './nlp_data/scisummnet_release1.1__20190413/top1000_complete/N01-1020/summary/N01-1020.gold.txt', './nlp_data/scisummnet_release1.1__20190413/top1000_complete/P04-1035/summary/P04-1035.gold.txt', './nlp_data/scisummnet_release1.1__20190413/top1000_complete/W04-2401/summary/W04-2401.gold.txt', './nlp_data/scisummnet_release1.1__20190413/top1000_complete/P95-1026/summary/P95-1026.gold.txt', './nlp_data/scisummnet_release1.1__20190413/top1000_complete/P00-1065/summary/P00-1065.gold.txt', './nlp_data/scisummnet_release1.1__20190413/top1000_complete/C92-3150/summary/C92-3150.gold.txt', './nlp_data/scisummnet_release1.1__20190413/top1000_complete/W95-0115/summary/W95-0115.gold.txt', './nlp_data/scisummnet_release1.1__20190413/top1000_complete/H05-1053/summary/H05-1053.gold.txt', './nlp_data/scisummnet_release1.1__20190413/top1000_complete/P06-1134/summary/P06-1134.gold.txt', './nlp_data/scisummnet_release1.1__20190413/top1000_complete/J97-2003/summary/J97-2003.gold.txt', './nlp_data/scisummnet_release1.1__20190413/top1000_complete/P05-1018/summary/P05-1018.gold.txt', './nlp_data/scisummnet_release1.1__20190413/top1000_complete/W02-2024/summary/W02-2024.gold.txt', './nlp_data/scisummnet_release1.1__20190413/top1000_complete/P02-1039/summary/P02-1039.gold.txt', './nlp_data/scisummnet_release1.1__20190413/top1000_complete/H01-1035/summary/H01-1035.gold.txt', './nlp_data/scisummnet_release1.1__20190413/top1000_complete/D10-1120/summary/D10-1120.gold.txt', './nlp_data/scisummnet_release1.1__20190413/top1000_complete/P04-1083/summary/P04-1083.gold.txt', './nlp_data/scisummnet_release1.1__20190413/top1000_complete/C08-1098/summary/C08-1098.gold.txt', './nlp_data/scisummnet_release1.1__20190413/top1000_complete/N09-1036/summary/N09-1036.gold.txt', './nlp_data/scisummnet_release1.1__20190413/top1000_complete/D11-1062/summary/D11-1062.gold.txt', './nlp_data/scisummnet_release1.1__20190413/top1000_complete/D08-1092/summary/D08-1092.gold.txt', './nlp_data/scisummnet_release1.1__20190413/top1000_complete/A92-1021/summary/A92-1021.gold.txt', './nlp_data/scisummnet_release1.1__20190413/top1000_complete/C90-2067/summary/C90-2067.gold.txt', './nlp_data/scisummnet_release1.1__20190413/top1000_complete/W07-0733/summary/W07-0733.gold.txt', './nlp_data/scisummnet_release1.1__20190413/top1000_complete/W12-3102/summary/W12-3102.gold.txt', './nlp_data/scisummnet_release1.1__20190413/top1000_complete/N03-1024/summary/N03-1024.gold.txt', './nlp_data/scisummnet_release1.1__20190413/top1000_complete/H05-1073/summary/H05-1073.gold.txt', './nlp_data/scisummnet_release1.1__20190413/top1000_complete/P02-1006/summary/P02-1006.gold.txt', './nlp_data/scisummnet_release1.1__20190413/top1000_complete/P06-1077/summary/P06-1077.gold.txt', './nlp_data/scisummnet_release1.1__20190413/top1000_complete/W06-3114/summary/W06-3114.gold.txt', './nlp_data/scisummnet_release1.1__20190413/top1000_complete/W95-0107/summary/W95-0107.gold.txt', './nlp_data/scisummnet_release1.1__20190413/top1000_complete/J06-3003/summary/J06-3003.gold.txt', './nlp_data/scisummnet_release1.1__20190413/top1000_complete/W04-3201/summary/W04-3201.gold.txt', './nlp_data/scisummnet_release1.1__20190413/top1000_complete/C90-3030/summary/C90-3030.gold.txt', './nlp_data/scisummnet_release1.1__20190413/top1000_complete/P92-1005/summary/P92-1005.gold.txt', './nlp_data/scisummnet_release1.1__20190413/top1000_complete/J96-1002/summary/J96-1002.gold.txt', './nlp_data/scisummnet_release1.1__20190413/top1000_complete/P02-1043/summary/P02-1043.gold.txt', './nlp_data/scisummnet_release1.1__20190413/top1000_complete/P99-1068/summary/P99-1068.gold.txt', './nlp_data/scisummnet_release1.1__20190413/top1000_complete/J93-1007/summary/J93-1007.gold.txt', './nlp_data/scisummnet_release1.1__20190413/top1000_complete/J03-3001/summary/J03-3001.gold.txt', './nlp_data/scisummnet_release1.1__20190413/top1000_complete/E99-1001/summary/E99-1001.gold.txt', './nlp_data/scisummnet_release1.1__20190413/top1000_complete/P01-1017/summary/P01-1017.gold.txt', './nlp_data/scisummnet_release1.1__20190413/top1000_complete/P99-1069/summary/P99-1069.gold.txt', './nlp_data/scisummnet_release1.1__20190413/top1000_complete/W09-0441/summary/W09-0441.gold.txt', './nlp_data/scisummnet_release1.1__20190413/top1000_complete/P00-1056/summary/P00-1056.gold.txt', './nlp_data/scisummnet_release1.1__20190413/top1000_complete/D10-1124/summary/D10-1124.gold.txt', './nlp_data/scisummnet_release1.1__20190413/top1000_complete/P89-1002/summary/P89-1002.gold.txt', './nlp_data/scisummnet_release1.1__20190413/top1000_complete/N03-1026/summary/N03-1026.gold.txt', './nlp_data/scisummnet_release1.1__20190413/top1000_complete/W03-0301/summary/W03-0301.gold.txt', './nlp_data/scisummnet_release1.1__20190413/top1000_complete/D09-1159/summary/D09-1159.gold.txt', './nlp_data/scisummnet_release1.1__20190413/top1000_complete/P06-1010/summary/P06-1010.gold.txt', './nlp_data/scisummnet_release1.1__20190413/top1000_complete/A00-2019/summary/A00-2019.gold.txt', './nlp_data/scisummnet_release1.1__20190413/top1000_complete/W99-0611/summary/W99-0611.gold.txt', './nlp_data/scisummnet_release1.1__20190413/top1000_complete/P93-1024/summary/P93-1024.gold.txt', './nlp_data/scisummnet_release1.1__20190413/top1000_complete/C00-2137/summary/C00-2137.gold.txt', './nlp_data/scisummnet_release1.1__20190413/top1000_complete/P09-1077/summary/P09-1077.gold.txt', './nlp_data/scisummnet_release1.1__20190413/top1000_complete/I05-3025/summary/I05-3025.gold.txt', './nlp_data/scisummnet_release1.1__20190413/top1000_complete/P11-1098/summary/P11-1098.gold.txt', './nlp_data/scisummnet_release1.1__20190413/top1000_complete/W08-0309/summary/W08-0309.gold.txt', './nlp_data/scisummnet_release1.1__20190413/top1000_complete/A97-1014/summary/A97-1014.gold.txt', './nlp_data/scisummnet_release1.1__20190413/top1000_complete/P89-1009/summary/P89-1009.gold.txt', './nlp_data/scisummnet_release1.1__20190413/top1000_complete/P02-1017/summary/P02-1017.gold.txt', './nlp_data/scisummnet_release1.1__20190413/top1000_complete/C94-1042/summary/C94-1042.gold.txt', './nlp_data/scisummnet_release1.1__20190413/top1000_complete/C02-1054/summary/C02-1054.gold.txt', './nlp_data/scisummnet_release1.1__20190413/top1000_complete/P98-1112/summary/P98-1112.gold.txt', './nlp_data/scisummnet_release1.1__20190413/top1000_complete/W06-2933/summary/W06-2933.gold.txt', './nlp_data/scisummnet_release1.1__20190413/top1000_complete/W03-1809/summary/W03-1809.gold.txt', './nlp_data/scisummnet_release1.1__20190413/top1000_complete/W03-0424/summary/W03-0424.gold.txt', './nlp_data/scisummnet_release1.1__20190413/top1000_complete/W97-0802/summary/W97-0802.gold.txt', './nlp_data/scisummnet_release1.1__20190413/top1000_complete/N07-1071/summary/N07-1071.gold.txt', './nlp_data/scisummnet_release1.1__20190413/top1000_complete/W07-2016/summary/W07-2016.gold.txt', './nlp_data/scisummnet_release1.1__20190413/top1000_complete/D07-1061/summary/D07-1061.gold.txt', './nlp_data/scisummnet_release1.1__20190413/top1000_complete/P04-1075/summary/P04-1075.gold.txt', './nlp_data/scisummnet_release1.1__20190413/top1000_complete/W00-1303/summary/W00-1303.gold.txt', './nlp_data/scisummnet_release1.1__20190413/top1000_complete/I05-3017/summary/I05-3017.gold.txt', './nlp_data/scisummnet_release1.1__20190413/top1000_complete/C10-1152/summary/C10-1152.gold.txt', './nlp_data/scisummnet_release1.1__20190413/top1000_complete/P98-2204/summary/P98-2204.gold.txt', './nlp_data/scisummnet_release1.1__20190413/top1000_complete/P03-2041/summary/P03-2041.gold.txt', './nlp_data/scisummnet_release1.1__20190413/top1000_complete/P06-1011/summary/P06-1011.gold.txt', './nlp_data/scisummnet_release1.1__20190413/top1000_complete/P05-1059/summary/P05-1059.gold.txt', './nlp_data/scisummnet_release1.1__20190413/top1000_complete/J98-4004/summary/J98-4004.gold.txt', './nlp_data/scisummnet_release1.1__20190413/top1000_complete/H05-1045/summary/H05-1045.gold.txt', './nlp_data/scisummnet_release1.1__20190413/top1000_complete/P05-1066/summary/P05-1066.gold.txt', './nlp_data/scisummnet_release1.1__20190413/top1000_complete/P86-1031/summary/P86-1031.gold.txt', './nlp_data/scisummnet_release1.1__20190413/top1000_complete/C02-1145/summary/C02-1145.gold.txt', './nlp_data/scisummnet_release1.1__20190413/top1000_complete/P07-1094/summary/P07-1094.gold.txt', './nlp_data/scisummnet_release1.1__20190413/top1000_complete/J08-4003/summary/J08-4003.gold.txt', './nlp_data/scisummnet_release1.1__20190413/top1000_complete/W08-0509/summary/W08-0509.gold.txt', './nlp_data/scisummnet_release1.1__20190413/top1000_complete/P02-1033/summary/P02-1033.gold.txt', './nlp_data/scisummnet_release1.1__20190413/top1000_complete/N06-1033/summary/N06-1033.gold.txt', './nlp_data/scisummnet_release1.1__20190413/top1000_complete/P09-1088/summary/P09-1088.gold.txt', './nlp_data/scisummnet_release1.1__20190413/top1000_complete/P93-1005/summary/P93-1005.gold.txt', './nlp_data/scisummnet_release1.1__20190413/top1000_complete/W03-0425/summary/W03-0425.gold.txt', './nlp_data/scisummnet_release1.1__20190413/top1000_complete/P93-1041/summary/P93-1041.gold.txt', './nlp_data/scisummnet_release1.1__20190413/top1000_complete/H05-2018/summary/H05-2018.gold.txt', './nlp_data/scisummnet_release1.1__20190413/top1000_complete/C04-1100/summary/C04-1100.gold.txt', './nlp_data/scisummnet_release1.1__20190413/top1000_complete/P99-1032/summary/P99-1032.gold.txt', './nlp_data/scisummnet_release1.1__20190413/top1000_complete/W04-1013/summary/W04-1013.gold.txt', './nlp_data/scisummnet_release1.1__20190413/top1000_complete/W04-2705/summary/W04-2705.gold.txt', './nlp_data/scisummnet_release1.1__20190413/top1000_complete/H05-1079/summary/H05-1079.gold.txt', './nlp_data/scisummnet_release1.1__20190413/top1000_complete/W00-0403/summary/W00-0403.gold.txt', './nlp_data/scisummnet_release1.1__20190413/top1000_complete/W99-0629/summary/W99-0629.gold.txt', './nlp_data/scisummnet_release1.1__20190413/top1000_complete/W01-1605/summary/W01-1605.gold.txt', './nlp_data/scisummnet_release1.1__20190413/top1000_complete/E06-1040/summary/E06-1040.gold.txt', './nlp_data/scisummnet_release1.1__20190413/top1000_complete/J96-1001/summary/J96-1001.gold.txt', './nlp_data/scisummnet_release1.1__20190413/top1000_complete/C04-1180/summary/C04-1180.gold.txt', './nlp_data/scisummnet_release1.1__20190413/top1000_complete/J01-3001/summary/J01-3001.gold.txt', './nlp_data/scisummnet_release1.1__20190413/top1000_complete/P11-1038/summary/P11-1038.gold.txt', './nlp_data/scisummnet_release1.1__20190413/top1000_complete/P98-2173/summary/P98-2173.gold.txt', './nlp_data/scisummnet_release1.1__20190413/top1000_complete/W04-3247/summary/W04-3247.gold.txt', './nlp_data/scisummnet_release1.1__20190413/top1000_complete/P83-1007/summary/P83-1007.gold.txt', './nlp_data/scisummnet_release1.1__20190413/top1000_complete/W09-0401/summary/W09-0401.gold.txt', './nlp_data/scisummnet_release1.1__20190413/top1000_complete/W04-3103/summary/W04-3103.gold.txt', './nlp_data/scisummnet_release1.1__20190413/top1000_complete/J94-4004/summary/J94-4004.gold.txt', './nlp_data/scisummnet_release1.1__20190413/top1000_complete/P09-1040/summary/P09-1040.gold.txt', './nlp_data/scisummnet_release1.1__20190413/top1000_complete/P91-1027/summary/P91-1027.gold.txt', './nlp_data/scisummnet_release1.1__20190413/top1000_complete/D07-1007/summary/D07-1007.gold.txt', './nlp_data/scisummnet_release1.1__20190413/top1000_complete/W01-0521/summary/W01-0521.gold.txt', './nlp_data/scisummnet_release1.1__20190413/top1000_complete/A94-1006/summary/A94-1006.gold.txt', './nlp_data/scisummnet_release1.1__20190413/top1000_complete/P08-1119/summary/P08-1119.gold.txt', './nlp_data/scisummnet_release1.1__20190413/top1000_complete/C02-1139/summary/C02-1139.gold.txt', './nlp_data/scisummnet_release1.1__20190413/top1000_complete/E06-1015/summary/E06-1015.gold.txt', './nlp_data/scisummnet_release1.1__20190413/top1000_complete/D09-1120/summary/D09-1120.gold.txt', './nlp_data/scisummnet_release1.1__20190413/top1000_complete/J01-2002/summary/J01-2002.gold.txt', './nlp_data/scisummnet_release1.1__20190413/top1000_complete/W00-1201/summary/W00-1201.gold.txt', './nlp_data/scisummnet_release1.1__20190413/top1000_complete/N09-2004/summary/N09-2004.gold.txt', './nlp_data/scisummnet_release1.1__20190413/top1000_complete/W03-0404/summary/W03-0404.gold.txt', './nlp_data/scisummnet_release1.1__20190413/top1000_complete/C04-1111/summary/C04-1111.gold.txt', './nlp_data/scisummnet_release1.1__20190413/top1000_complete/J01-2004/summary/J01-2004.gold.txt', './nlp_data/scisummnet_release1.1__20190413/top1000_complete/P03-1069/summary/P03-1069.gold.txt', './nlp_data/scisummnet_release1.1__20190413/top1000_complete/P07-1125/summary/P07-1125.gold.txt', './nlp_data/scisummnet_release1.1__20190413/top1000_complete/C08-1114/summary/C08-1114.gold.txt', './nlp_data/scisummnet_release1.1__20190413/top1000_complete/N06-1011/summary/N06-1011.gold.txt', './nlp_data/scisummnet_release1.1__20190413/top1000_complete/P05-1033/summary/P05-1033.gold.txt', './nlp_data/scisummnet_release1.1__20190413/top1000_complete/N10-1119/summary/N10-1119.gold.txt', './nlp_data/scisummnet_release1.1__20190413/top1000_complete/P96-1042/summary/P96-1042.gold.txt', './nlp_data/scisummnet_release1.1__20190413/top1000_complete/P05-1053/summary/P05-1053.gold.txt', './nlp_data/scisummnet_release1.1__20190413/top1000_complete/P05-1011/summary/P05-1011.gold.txt', './nlp_data/scisummnet_release1.1__20190413/top1000_complete/W08-2121/summary/W08-2121.gold.txt', './nlp_data/scisummnet_release1.1__20190413/top1000_complete/W06-2932/summary/W06-2932.gold.txt', './nlp_data/scisummnet_release1.1__20190413/top1000_complete/P06-2101/summary/P06-2101.gold.txt', './nlp_data/scisummnet_release1.1__20190413/top1000_complete/D08-1076/summary/D08-1076.gold.txt', './nlp_data/scisummnet_release1.1__20190413/top1000_complete/E06-1042/summary/E06-1042.gold.txt', './nlp_data/scisummnet_release1.1__20190413/top1000_complete/W06-2915/summary/W06-2915.gold.txt', './nlp_data/scisummnet_release1.1__20190413/top1000_complete/C02-2025/summary/C02-2025.gold.txt', './nlp_data/scisummnet_release1.1__20190413/top1000_complete/P03-1009/summary/P03-1009.gold.txt', './nlp_data/scisummnet_release1.1__20190413/top1000_complete/W02-2018/summary/W02-2018.gold.txt', './nlp_data/scisummnet_release1.1__20190413/top1000_complete/P03-1019/summary/P03-1019.gold.txt', './nlp_data/scisummnet_release1.1__20190413/top1000_complete/A97-1029/summary/A97-1029.gold.txt', './nlp_data/scisummnet_release1.1__20190413/top1000_complete/P10-1044/summary/P10-1044.gold.txt', './nlp_data/scisummnet_release1.1__20190413/top1000_complete/J02-1003/summary/J02-1003.gold.txt', './nlp_data/scisummnet_release1.1__20190413/top1000_complete/W00-1401/summary/W00-1401.gold.txt', './nlp_data/scisummnet_release1.1__20190413/top1000_complete/J98-1006/summary/J98-1006.gold.txt', './nlp_data/scisummnet_release1.1__20190413/top1000_complete/P04-1036/summary/P04-1036.gold.txt', './nlp_data/scisummnet_release1.1__20190413/top1000_complete/W07-2018/summary/W07-2018.gold.txt', './nlp_data/scisummnet_release1.1__20190413/top1000_complete/J10-4006/summary/J10-4006.gold.txt', './nlp_data/scisummnet_release1.1__20190413/top1000_complete/W09-0432/summary/W09-0432.gold.txt', './nlp_data/scisummnet_release1.1__20190413/top1000_complete/P00-1027/summary/P00-1027.gold.txt', './nlp_data/scisummnet_release1.1__20190413/top1000_complete/P07-1056/summary/P07-1056.gold.txt', './nlp_data/scisummnet_release1.1__20190413/top1000_complete/A97-1039/summary/A97-1039.gold.txt', './nlp_data/scisummnet_release1.1__20190413/top1000_complete/N03-2002/summary/N03-2002.gold.txt', './nlp_data/scisummnet_release1.1__20190413/top1000_complete/E06-1005/summary/E06-1005.gold.txt', './nlp_data/scisummnet_release1.1__20190413/top1000_complete/N03-1030/summary/N03-1030.gold.txt', './nlp_data/scisummnet_release1.1__20190413/top1000_complete/W94-0319/summary/W94-0319.gold.txt', './nlp_data/scisummnet_release1.1__20190413/top1000_complete/H05-1010/summary/H05-1010.gold.txt', './nlp_data/scisummnet_release1.1__20190413/top1000_complete/N10-1115/summary/N10-1115.gold.txt', './nlp_data/scisummnet_release1.1__20190413/top1000_complete/P95-1021/summary/P95-1021.gold.txt', './nlp_data/scisummnet_release1.1__20190413/top1000_complete/W07-2002/summary/W07-2002.gold.txt', './nlp_data/scisummnet_release1.1__20190413/top1000_complete/C04-1081/summary/C04-1081.gold.txt', './nlp_data/scisummnet_release1.1__20190413/top1000_complete/C04-1080/summary/C04-1080.gold.txt', './nlp_data/scisummnet_release1.1__20190413/top1000_complete/W04-0308/summary/W04-0308.gold.txt', './nlp_data/scisummnet_release1.1__20190413/top1000_complete/P11-2031/summary/P11-2031.gold.txt', './nlp_data/scisummnet_release1.1__20190413/top1000_complete/P06-1014/summary/P06-1014.gold.txt', './nlp_data/scisummnet_release1.1__20190413/top1000_complete/P08-2007/summary/P08-2007.gold.txt', './nlp_data/scisummnet_release1.1__20190413/top1000_complete/J93-1006/summary/J93-1006.gold.txt', './nlp_data/scisummnet_release1.1__20190413/top1000_complete/P05-1013/summary/P05-1013.gold.txt', './nlp_data/scisummnet_release1.1__20190413/top1000_complete/E06-1031/summary/E06-1031.gold.txt', './nlp_data/scisummnet_release1.1__20190413/top1000_complete/C92-2066/summary/C92-2066.gold.txt', './nlp_data/scisummnet_release1.1__20190413/top1000_complete/D07-1091/summary/D07-1091.gold.txt', './nlp_data/scisummnet_release1.1__20190413/top1000_complete/W95-0104/summary/W95-0104.gold.txt', './nlp_data/scisummnet_release1.1__20190413/top1000_complete/W09-0424/summary/W09-0424.gold.txt', './nlp_data/scisummnet_release1.1__20190413/top1000_complete/N04-4026/summary/N04-4026.gold.txt', './nlp_data/scisummnet_release1.1__20190413/top1000_complete/P95-1050/summary/P95-1050.gold.txt', './nlp_data/scisummnet_release1.1__20190413/top1000_complete/P88-1012/summary/P88-1012.gold.txt', './nlp_data/scisummnet_release1.1__20190413/top1000_complete/J94-4003/summary/J94-4003.gold.txt', './nlp_data/scisummnet_release1.1__20190413/top1000_complete/P04-1066/summary/P04-1066.gold.txt', './nlp_data/scisummnet_release1.1__20190413/top1000_complete/C00-1072/summary/C00-1072.gold.txt', './nlp_data/scisummnet_release1.1__20190413/top1000_complete/W07-2009/summary/W07-2009.gold.txt', './nlp_data/scisummnet_release1.1__20190413/top1000_complete/P11-1138/summary/P11-1138.gold.txt', './nlp_data/scisummnet_release1.1__20190413/top1000_complete/N04-1041/summary/N04-1041.gold.txt', './nlp_data/scisummnet_release1.1__20190413/top1000_complete/P98-2182/summary/P98-2182.gold.txt', './nlp_data/scisummnet_release1.1__20190413/top1000_complete/C04-1051/summary/C04-1051.gold.txt', './nlp_data/scisummnet_release1.1__20190413/top1000_complete/P06-1121/summary/P06-1121.gold.txt', './nlp_data/scisummnet_release1.1__20190413/top1000_complete/W96-0102/summary/W96-0102.gold.txt', './nlp_data/scisummnet_release1.1__20190413/top1000_complete/J07-3004/summary/J07-3004.gold.txt', './nlp_data/scisummnet_release1.1__20190413/top1000_complete/P01-1019/summary/P01-1019.gold.txt', './nlp_data/scisummnet_release1.1__20190413/top1000_complete/J04-4002/summary/J04-4002.gold.txt', './nlp_data/scisummnet_release1.1__20190413/top1000_complete/D11-1033/summary/D11-1033.gold.txt', './nlp_data/scisummnet_release1.1__20190413/top1000_complete/P06-1104/summary/P06-1104.gold.txt', './nlp_data/scisummnet_release1.1__20190413/top1000_complete/P07-1040/summary/P07-1040.gold.txt', './nlp_data/scisummnet_release1.1__20190413/top1000_complete/W97-0322/summary/W97-0322.gold.txt', './nlp_data/scisummnet_release1.1__20190413/top1000_complete/W03-1028/summary/W03-1028.gold.txt', './nlp_data/scisummnet_release1.1__20190413/top1000_complete/N12-1047/summary/N12-1047.gold.txt', './nlp_data/scisummnet_release1.1__20190413/top1000_complete/C02-1114/summary/C02-1114.gold.txt', './nlp_data/scisummnet_release1.1__20190413/top1000_complete/N04-4015/summary/N04-4015.gold.txt', './nlp_data/scisummnet_release1.1__20190413/top1000_complete/P11-1019/summary/P11-1019.gold.txt', './nlp_data/scisummnet_release1.1__20190413/top1000_complete/N04-1019/summary/N04-1019.gold.txt', './nlp_data/scisummnet_release1.1__20190413/top1000_complete/H05-1043/summary/H05-1043.gold.txt', './nlp_data/scisummnet_release1.1__20190413/top1000_complete/N10-1020/summary/N10-1020.gold.txt', './nlp_data/scisummnet_release1.1__20190413/top1000_complete/W02-0109/summary/W02-0109.gold.txt', './nlp_data/scisummnet_release1.1__20190413/top1000_complete/P93-1032/summary/P93-1032.gold.txt', './nlp_data/scisummnet_release1.1__20190413/top1000_complete/D11-1141/summary/D11-1141.gold.txt', './nlp_data/scisummnet_release1.1__20190413/top1000_complete/P90-1034/summary/P90-1034.gold.txt', './nlp_data/scisummnet_release1.1__20190413/top1000_complete/W06-2922/summary/W06-2922.gold.txt', './nlp_data/scisummnet_release1.1__20190413/top1000_complete/J97-3002/summary/J97-3002.gold.txt', './nlp_data/scisummnet_release1.1__20190413/top1000_complete/W04-3239/summary/W04-3239.gold.txt', './nlp_data/scisummnet_release1.1__20190413/top1000_complete/N04-1033/summary/N04-1033.gold.txt', './nlp_data/scisummnet_release1.1__20190413/top1000_complete/N03-1014/summary/N03-1014.gold.txt', './nlp_data/scisummnet_release1.1__20190413/top1000_complete/C04-1041/summary/C04-1041.gold.txt', './nlp_data/scisummnet_release1.1__20190413/top1000_complete/N04-1043/summary/N04-1043.gold.txt', './nlp_data/scisummnet_release1.1__20190413/top1000_complete/P99-1059/summary/P99-1059.gold.txt', './nlp_data/scisummnet_release1.1__20190413/top1000_complete/P10-1110/summary/P10-1110.gold.txt', './nlp_data/scisummnet_release1.1__20190413/top1000_complete/D08-1031/summary/D08-1031.gold.txt', './nlp_data/scisummnet_release1.1__20190413/top1000_complete/C96-1079/summary/C96-1079.gold.txt', './nlp_data/scisummnet_release1.1__20190413/top1000_complete/N07-1023/summary/N07-1023.gold.txt', './nlp_data/scisummnet_release1.1__20190413/top1000_complete/P08-1068/summary/P08-1068.gold.txt', './nlp_data/scisummnet_release1.1__20190413/top1000_complete/P06-1097/summary/P06-1097.gold.txt', './nlp_data/scisummnet_release1.1__20190413/top1000_complete/A00-2030/summary/A00-2030.gold.txt', './nlp_data/scisummnet_release1.1__20190413/top1000_complete/N04-1016/summary/N04-1016.gold.txt', './nlp_data/scisummnet_release1.1__20190413/top1000_complete/J88-1003/summary/J88-1003.gold.txt', './nlp_data/scisummnet_release1.1__20190413/top1000_complete/I05-2038/summary/I05-2038.gold.txt', './nlp_data/scisummnet_release1.1__20190413/top1000_complete/W03-1011/summary/W03-1011.gold.txt', './nlp_data/scisummnet_release1.1__20190413/top1000_complete/P11-1016/summary/P11-1016.gold.txt', './nlp_data/scisummnet_release1.1__20190413/top1000_complete/D08-1022/summary/D08-1022.gold.txt', './nlp_data/scisummnet_release1.1__20190413/top1000_complete/J00-3004/summary/J00-3004.gold.txt', './nlp_data/scisummnet_release1.1__20190413/top1000_complete/D09-1086/summary/D09-1086.gold.txt', './nlp_data/scisummnet_release1.1__20190413/top1000_complete/C10-2028/summary/C10-2028.gold.txt', './nlp_data/scisummnet_release1.1__20190413/top1000_complete/W02-1039/summary/W02-1039.gold.txt', './nlp_data/scisummnet_release1.1__20190413/top1000_complete/W02-1011/summary/W02-1011.gold.txt', './nlp_data/scisummnet_release1.1__20190413/top1000_complete/N09-1025/summary/N09-1025.gold.txt', './nlp_data/scisummnet_release1.1__20190413/top1000_complete/P91-1017/summary/P91-1017.gold.txt', './nlp_data/scisummnet_release1.1__20190413/top1000_complete/D07-1002/summary/D07-1002.gold.txt', './nlp_data/scisummnet_release1.1__20190413/top1000_complete/C00-2163/summary/C00-2163.gold.txt', './nlp_data/scisummnet_release1.1__20190413/top1000_complete/P04-1053/summary/P04-1053.gold.txt', './nlp_data/scisummnet_release1.1__20190413/top1000_complete/N04-1014/summary/N04-1014.gold.txt', './nlp_data/scisummnet_release1.1__20190413/top1000_complete/J98-3005/summary/J98-3005.gold.txt', './nlp_data/scisummnet_release1.1__20190413/top1000_complete/C94-1079/summary/C94-1079.gold.txt', './nlp_data/scisummnet_release1.1__20190413/top1000_complete/W11-1902/summary/W11-1902.gold.txt', './nlp_data/scisummnet_release1.1__20190413/top1000_complete/P03-1054/summary/P03-1054.gold.txt', './nlp_data/scisummnet_release1.1__20190413/top1000_complete/N09-1046/summary/N09-1046.gold.txt', './nlp_data/scisummnet_release1.1__20190413/top1000_complete/N07-1011/summary/N07-1011.gold.txt', './nlp_data/scisummnet_release1.1__20190413/top1000_complete/N01-1024/summary/N01-1024.gold.txt', './nlp_data/scisummnet_release1.1__20190413/top1000_complete/C10-2005/summary/C10-2005.gold.txt', './nlp_data/scisummnet_release1.1__20190413/top1000_complete/W00-0730/summary/W00-0730.gold.txt', './nlp_data/scisummnet_release1.1__20190413/top1000_complete/J87-1004/summary/J87-1004.gold.txt', './nlp_data/scisummnet_release1.1__20190413/top1000_complete/P84-1018/summary/P84-1018.gold.txt', './nlp_data/scisummnet_release1.1__20190413/top1000_complete/P05-1065/summary/P05-1065.gold.txt', './nlp_data/scisummnet_release1.1__20190413/top1000_complete/J94-2003/summary/J94-2003.gold.txt', './nlp_data/scisummnet_release1.1__20190413/top1000_complete/C88-2147/summary/C88-2147.gold.txt', './nlp_data/scisummnet_release1.1__20190413/top1000_complete/N06-1003/summary/N06-1003.gold.txt', './nlp_data/scisummnet_release1.1__20190413/top1000_complete/W95-0101/summary/W95-0101.gold.txt', './nlp_data/scisummnet_release1.1__20190413/top1000_complete/J99-2004/summary/J99-2004.gold.txt', './nlp_data/scisummnet_release1.1__20190413/top1000_complete/P06-1103/summary/P06-1103.gold.txt', './nlp_data/scisummnet_release1.1__20190413/top1000_complete/P98-2180/summary/P98-2180.gold.txt', './nlp_data/scisummnet_release1.1__20190413/top1000_complete/P07-1091/summary/P07-1091.gold.txt', './nlp_data/scisummnet_release1.1__20190413/top1000_complete/J09-3003/summary/J09-3003.gold.txt', './nlp_data/scisummnet_release1.1__20190413/top1000_complete/W06-1616/summary/W06-1616.gold.txt', './nlp_data/scisummnet_release1.1__20190413/top1000_complete/P10-1001/summary/P10-1001.gold.txt', './nlp_data/scisummnet_release1.1__20190413/top1000_complete/P06-1067/summary/P06-1067.gold.txt', './nlp_data/scisummnet_release1.1__20190413/top1000_complete/W04-3230/summary/W04-3230.gold.txt', './nlp_data/scisummnet_release1.1__20190413/top1000_complete/P92-1017/summary/P92-1017.gold.txt', './nlp_data/scisummnet_release1.1__20190413/top1000_complete/P08-1085/summary/P08-1085.gold.txt', './nlp_data/scisummnet_release1.1__20190413/top1000_complete/D08-1082/summary/D08-1082.gold.txt', './nlp_data/scisummnet_release1.1__20190413/top1000_complete/P94-1013/summary/P94-1013.gold.txt', './nlp_data/scisummnet_release1.1__20190413/top1000_complete/E06-1002/summary/E06-1002.gold.txt', './nlp_data/scisummnet_release1.1__20190413/top1000_complete/P87-1033/summary/P87-1033.gold.txt', './nlp_data/scisummnet_release1.1__20190413/top1000_complete/P02-1031/summary/P02-1031.gold.txt', './nlp_data/scisummnet_release1.1__20190413/top1000_complete/W02-0817/summary/W02-0817.gold.txt', './nlp_data/scisummnet_release1.1__20190413/top1000_complete/W97-1306/summary/W97-1306.gold.txt', './nlp_data/scisummnet_release1.1__20190413/top1000_complete/P94-1020/summary/P94-1020.gold.txt', './nlp_data/scisummnet_release1.1__20190413/top1000_complete/P02-1022/summary/P02-1022.gold.txt', './nlp_data/scisummnet_release1.1__20190413/top1000_complete/C92-1025/summary/C92-1025.gold.txt', './nlp_data/scisummnet_release1.1__20190413/top1000_complete/J98-2004/summary/J98-2004.gold.txt', './nlp_data/scisummnet_release1.1__20190413/top1000_complete/D08-1020/summary/D08-1020.gold.txt', './nlp_data/scisummnet_release1.1__20190413/top1000_complete/P98-1069/summary/P98-1069.gold.txt', './nlp_data/scisummnet_release1.1__20190413/top1000_complete/N06-1056/summary/N06-1056.gold.txt', './nlp_data/scisummnet_release1.1__20190413/top1000_complete/E06-1027/summary/E06-1027.gold.txt', './nlp_data/scisummnet_release1.1__20190413/top1000_complete/J98-2002/summary/J98-2002.gold.txt', './nlp_data/scisummnet_release1.1__20190413/top1000_complete/J95-2003/summary/J95-2003.gold.txt', './nlp_data/scisummnet_release1.1__20190413/top1000_complete/W98-1115/summary/W98-1115.gold.txt', './nlp_data/scisummnet_release1.1__20190413/top1000_complete/P03-1021/summary/P03-1021.gold.txt', './nlp_data/scisummnet_release1.1__20190413/top1000_complete/P08-2012/summary/P08-2012.gold.txt', './nlp_data/scisummnet_release1.1__20190413/top1000_complete/J08-2005/summary/J08-2005.gold.txt', './nlp_data/scisummnet_release1.1__20190413/top1000_complete/P00-1071/summary/P00-1071.gold.txt', './nlp_data/scisummnet_release1.1__20190413/top1000_complete/N10-1063/summary/N10-1063.gold.txt', './nlp_data/scisummnet_release1.1__20190413/top1000_complete/P09-1042/summary/P09-1042.gold.txt', './nlp_data/scisummnet_release1.1__20190413/top1000_complete/D08-1011/summary/D08-1011.gold.txt', './nlp_data/scisummnet_release1.1__20190413/top1000_complete/D08-1089/summary/D08-1089.gold.txt', './nlp_data/scisummnet_release1.1__20190413/top1000_complete/C04-1197/summary/C04-1197.gold.txt', './nlp_data/scisummnet_release1.1__20190413/top1000_complete/J99-4005/summary/J99-4005.gold.txt', './nlp_data/scisummnet_release1.1__20190413/top1000_complete/J91-1002/summary/J91-1002.gold.txt', './nlp_data/scisummnet_release1.1__20190413/top1000_complete/P99-1042/summary/P99-1042.gold.txt', './nlp_data/scisummnet_release1.1__20190413/top1000_complete/W07-0702/summary/W07-0702.gold.txt', './nlp_data/scisummnet_release1.1__20190413/top1000_complete/W06-1607/summary/W06-1607.gold.txt', './nlp_data/scisummnet_release1.1__20190413/top1000_complete/A00-2034/summary/A00-2034.gold.txt', './nlp_data/scisummnet_release1.1__20190413/top1000_complete/N01-1021/summary/N01-1021.gold.txt', './nlp_data/scisummnet_release1.1__20190413/top1000_complete/S10-1011/summary/S10-1011.gold.txt', './nlp_data/scisummnet_release1.1__20190413/top1000_complete/D11-1006/summary/D11-1006.gold.txt', './nlp_data/scisummnet_release1.1__20190413/top1000_complete/C88-2128/summary/C88-2128.gold.txt', './nlp_data/scisummnet_release1.1__20190413/top1000_complete/W06-1606/summary/W06-1606.gold.txt', './nlp_data/scisummnet_release1.1__20190413/top1000_complete/P02-1046/summary/P02-1046.gold.txt', './nlp_data/scisummnet_release1.1__20190413/top1000_complete/P06-1114/summary/P06-1114.gold.txt', './nlp_data/scisummnet_release1.1__20190413/top1000_complete/P06-1124/summary/P06-1124.gold.txt', './nlp_data/scisummnet_release1.1__20190413/top1000_complete/N07-1029/summary/N07-1029.gold.txt', './nlp_data/scisummnet_release1.1__20190413/top1000_complete/W09-1119/summary/W09-1119.gold.txt', './nlp_data/scisummnet_release1.1__20190413/top1000_complete/P08-1043/summary/P08-1043.gold.txt', './nlp_data/scisummnet_release1.1__20190413/top1000_complete/J08-1001/summary/J08-1001.gold.txt', './nlp_data/scisummnet_release1.1__20190413/top1000_complete/P06-1032/summary/P06-1032.gold.txt', './nlp_data/scisummnet_release1.1__20190413/top1000_complete/W02-1006/summary/W02-1006.gold.txt', './nlp_data/scisummnet_release1.1__20190413/top1000_complete/J07-2003/summary/J07-2003.gold.txt', './nlp_data/scisummnet_release1.1__20190413/top1000_complete/D10-1048/summary/D10-1048.gold.txt', './nlp_data/scisummnet_release1.1__20190413/top1000_complete/P09-1068/summary/P09-1068.gold.txt', './nlp_data/scisummnet_release1.1__20190413/top1000_complete/D09-1030/summary/D09-1030.gold.txt', './nlp_data/scisummnet_release1.1__20190413/top1000_complete/W03-0405/summary/W03-0405.gold.txt', './nlp_data/scisummnet_release1.1__20190413/top1000_complete/D07-1077/summary/D07-1077.gold.txt', './nlp_data/scisummnet_release1.1__20190413/top1000_complete/W96-0208/summary/W96-0208.gold.txt', './nlp_data/scisummnet_release1.1__20190413/top1000_complete/P94-1019/summary/P94-1019.gold.txt', './nlp_data/scisummnet_release1.1__20190413/top1000_complete/P07-1032/summary/P07-1032.gold.txt', './nlp_data/scisummnet_release1.1__20190413/top1000_complete/P04-1054/summary/P04-1054.gold.txt', './nlp_data/scisummnet_release1.1__20190413/top1000_complete/P02-1038/summary/P02-1038.gold.txt', './nlp_data/scisummnet_release1.1__20190413/top1000_complete/D08-1021/summary/D08-1021.gold.txt', './nlp_data/scisummnet_release1.1__20190413/top1000_complete/P98-1035/summary/P98-1035.gold.txt', './nlp_data/scisummnet_release1.1__20190413/top1000_complete/P99-1008/summary/P99-1008.gold.txt', './nlp_data/scisummnet_release1.1__20190413/top1000_complete/D09-1005/summary/D09-1005.gold.txt', './nlp_data/scisummnet_release1.1__20190413/top1000_complete/P99-1041/summary/P99-1041.gold.txt', './nlp_data/scisummnet_release1.1__20190413/top1000_complete/A00-2009/summary/A00-2009.gold.txt', './nlp_data/scisummnet_release1.1__20190413/top1000_complete/H91-1060/summary/H91-1060.gold.txt', './nlp_data/scisummnet_release1.1__20190413/top1000_complete/J91-4003/summary/J91-4003.gold.txt', './nlp_data/scisummnet_release1.1__20190413/top1000_complete/D08-1035/summary/D08-1035.gold.txt', './nlp_data/scisummnet_release1.1__20190413/top1000_complete/I05-3027/summary/I05-3027.gold.txt', './nlp_data/scisummnet_release1.1__20190413/top1000_complete/C96-2183/summary/C96-2183.gold.txt', './nlp_data/scisummnet_release1.1__20190413/top1000_complete/P05-1045/summary/P05-1045.gold.txt', './nlp_data/scisummnet_release1.1__20190413/top1000_complete/P98-1029/summary/P98-1029.gold.txt', './nlp_data/scisummnet_release1.1__20190413/top1000_complete/W04-3206/summary/W04-3206.gold.txt', './nlp_data/scisummnet_release1.1__20190413/top1000_complete/C96-1055/summary/C96-1055.gold.txt', './nlp_data/scisummnet_release1.1__20190413/top1000_complete/D08-1014/summary/D08-1014.gold.txt', './nlp_data/scisummnet_release1.1__20190413/top1000_complete/J02-3001/summary/J02-3001.gold.txt', './nlp_data/scisummnet_release1.1__20190413/top1000_complete/P89-1031/summary/P89-1031.gold.txt', './nlp_data/scisummnet_release1.1__20190413/top1000_complete/P97-1005/summary/P97-1005.gold.txt', './nlp_data/scisummnet_release1.1__20190413/top1000_complete/W02-1021/summary/W02-1021.gold.txt', './nlp_data/scisummnet_release1.1__20190413/top1000_complete/W98-1106/summary/W98-1106.gold.txt', './nlp_data/scisummnet_release1.1__20190413/top1000_complete/C04-1010/summary/C04-1010.gold.txt', './nlp_data/scisummnet_release1.1__20190413/top1000_complete/P09-2004/summary/P09-2004.gold.txt', './nlp_data/scisummnet_release1.1__20190413/top1000_complete/J03-1005/summary/J03-1005.gold.txt', './nlp_data/scisummnet_release1.1__20190413/top1000_complete/P06-1004/summary/P06-1004.gold.txt', './nlp_data/scisummnet_release1.1__20190413/top1000_complete/W97-0119/summary/W97-0119.gold.txt', './nlp_data/scisummnet_release1.1__20190413/top1000_complete/P04-1015/summary/P04-1015.gold.txt', './nlp_data/scisummnet_release1.1__20190413/top1000_complete/P96-1025/summary/P96-1025.gold.txt', './nlp_data/scisummnet_release1.1__20190413/top1000_complete/W00-0717/summary/W00-0717.gold.txt', './nlp_data/scisummnet_release1.1__20190413/top1000_complete/P99-1065/summary/P99-1065.gold.txt', './nlp_data/scisummnet_release1.1__20190413/top1000_complete/J95-4004/summary/J95-4004.gold.txt', './nlp_data/scisummnet_release1.1__20190413/top1000_complete/W06-3108/summary/W06-3108.gold.txt', './nlp_data/scisummnet_release1.1__20190413/top1000_complete/P93-1003/summary/P93-1003.gold.txt', './nlp_data/scisummnet_release1.1__20190413/top1000_complete/J97-1002/summary/J97-1002.gold.txt', './nlp_data/scisummnet_release1.1__20190413/top1000_complete/W07-0403/summary/W07-0403.gold.txt', './nlp_data/scisummnet_release1.1__20190413/top1000_complete/C10-1011/summary/C10-1011.gold.txt', './nlp_data/scisummnet_release1.1__20190413/top1000_complete/P03-1002/summary/P03-1002.gold.txt', './nlp_data/scisummnet_release1.1__20190413/top1000_complete/P07-1005/summary/P07-1005.gold.txt', './nlp_data/scisummnet_release1.1__20190413/top1000_complete/W09-1105/summary/W09-1105.gold.txt', './nlp_data/scisummnet_release1.1__20190413/top1000_complete/J03-1002/summary/J03-1002.gold.txt', './nlp_data/scisummnet_release1.1__20190413/top1000_complete/A94-1009/summary/A94-1009.gold.txt', './nlp_data/scisummnet_release1.1__20190413/top1000_complete/A97-1052/summary/A97-1052.gold.txt', './nlp_data/scisummnet_release1.1__20190413/top1000_complete/W06-1642/summary/W06-1642.gold.txt', './nlp_data/scisummnet_release1.1__20190413/top1000_complete/C86-1016/summary/C86-1016.gold.txt', './nlp_data/scisummnet_release1.1__20190413/top1000_complete/W00-1427/summary/W00-1427.gold.txt', './nlp_data/scisummnet_release1.1__20190413/top1000_complete/N03-1033/summary/N03-1033.gold.txt', './nlp_data/scisummnet_release1.1__20190413/top1000_complete/W03-0430/summary/W03-0430.gold.txt', './nlp_data/scisummnet_release1.1__20190413/top1000_complete/P04-3022/summary/P04-3022.gold.txt', './nlp_data/scisummnet_release1.1__20190413/top1000_complete/J94-3001/summary/J94-3001.gold.txt', './nlp_data/scisummnet_release1.1__20190413/top1000_complete/W11-2107/summary/W11-2107.gold.txt', './nlp_data/scisummnet_release1.1__20190413/top1000_complete/C94-2174/summary/C94-2174.gold.txt', './nlp_data/scisummnet_release1.1__20190413/top1000_complete/P09-1010/summary/P09-1010.gold.txt', './nlp_data/scisummnet_release1.1__20190413/top1000_complete/J05-1003/summary/J05-1003.gold.txt', './nlp_data/scisummnet_release1.1__20190413/top1000_complete/P04-1043/summary/P04-1043.gold.txt', './nlp_data/scisummnet_release1.1__20190413/top1000_complete/P01-1067/summary/P01-1067.gold.txt', './nlp_data/scisummnet_release1.1__20190413/top1000_complete/W96-0214/summary/W96-0214.gold.txt', './nlp_data/scisummnet_release1.1__20190413/top1000_complete/W06-3808/summary/W06-3808.gold.txt', './nlp_data/scisummnet_release1.1__20190413/top1000_complete/H05-1059/summary/H05-1059.gold.txt', './nlp_data/scisummnet_release1.1__20190413/top1000_complete/J05-1004/summary/J05-1004.gold.txt', './nlp_data/scisummnet_release1.1__20190413/top1000_complete/W99-0604/summary/W99-0604.gold.txt', './nlp_data/scisummnet_release1.1__20190413/top1000_complete/N03-1028/summary/N03-1028.gold.txt', './nlp_data/scisummnet_release1.1__20190413/top1000_complete/J88-2003/summary/J88-2003.gold.txt', './nlp_data/scisummnet_release1.1__20190413/top1000_complete/D12-1133/summary/D12-1133.gold.txt', './nlp_data/scisummnet_release1.1__20190413/top1000_complete/W06-2920/summary/W06-2920.gold.txt', './nlp_data/scisummnet_release1.1__20190413/top1000_complete/D07-1031/summary/D07-1031.gold.txt', './nlp_data/scisummnet_release1.1__20190413/top1000_complete/J99-3001/summary/J99-3001.gold.txt', './nlp_data/scisummnet_release1.1__20190413/top1000_complete/P07-1073/summary/P07-1073.gold.txt', './nlp_data/scisummnet_release1.1__20190413/top1000_complete/N06-2015/summary/N06-2015.gold.txt', './nlp_data/scisummnet_release1.1__20190413/top1000_complete/N04-1013/summary/N04-1013.gold.txt', './nlp_data/scisummnet_release1.1__20190413/top1000_complete/N12-1067/summary/N12-1067.gold.txt', './nlp_data/scisummnet_release1.1__20190413/top1000_complete/P97-1035/summary/P97-1035.gold.txt', './nlp_data/scisummnet_release1.1__20190413/top1000_complete/P03-1004/summary/P03-1004.gold.txt', './nlp_data/scisummnet_release1.1__20190413/top1000_complete/J80-3003/summary/J80-3003.gold.txt', './nlp_data/scisummnet_release1.1__20190413/top1000_complete/J06-1003/summary/J06-1003.gold.txt', './nlp_data/scisummnet_release1.1__20190413/top1000_complete/P02-1047/summary/P02-1047.gold.txt']\n"
     ]
    }
   ],
   "source": [
    "print(summaries)"
   ]
  },
  {
   "cell_type": "code",
   "execution_count": 6,
   "metadata": {
    "id": "ZermgmX3KcdD"
   },
   "outputs": [],
   "source": [
    "#next parse all XML documents\n",
    "def parse_xml_abstract(fp):\n",
    "    \"\"\" parse an XML journal article into an abstract and the rest of the text\n",
    "    \"\"\"\n",
    "    try:\n",
    "        tree = ET.parse(fp)\n",
    "    except Exception as e:\n",
    "        return \"\",\"\",str(e)\n",
    "    root = tree.getroot()\n",
    "    \n",
    "    ab = []\n",
    "    bod = []\n",
    "    \n",
    "    for child in root:\n",
    "        if child.tag == \"ABSTRACT\":\n",
    "            for block in child:\n",
    "                ab.append(block.text)\n",
    "        else:\n",
    "            for block in child:\n",
    "                bod.append(block.text)\n",
    "                \n",
    "    #convert from list --> string\n",
    "    abstract = \"\\n\".join(ab)\n",
    "    body = \"\\n\".join(bod)\n",
    "    \n",
    "    #decode html entities\n",
    "    abstract = html.unescape(abstract)\n",
    "    body = html.unescape(body)\n",
    "    \n",
    "    return abstract,body,\"\""
   ]
  },
  {
   "cell_type": "code",
   "execution_count": 7,
   "metadata": {
    "colab": {
     "base_uri": "https://localhost:8080/",
     "height": 441
    },
    "id": "jhRNHIH2KgfU",
    "outputId": "3836c7fd-7d8c-4ad4-de21-09b8f2d4f2fe"
   },
   "outputs": [
    {
     "data": {
      "text/html": [
       "\n",
       "  <div id=\"df-ea35ec84-cdee-4773-a7c5-78fd4a0a50f7\">\n",
       "    <div class=\"colab-df-container\">\n",
       "      <div>\n",
       "<style scoped>\n",
       "    .dataframe tbody tr th:only-of-type {\n",
       "        vertical-align: middle;\n",
       "    }\n",
       "\n",
       "    .dataframe tbody tr th {\n",
       "        vertical-align: top;\n",
       "    }\n",
       "\n",
       "    .dataframe thead th {\n",
       "        text-align: right;\n",
       "    }\n",
       "</style>\n",
       "<table border=\"1\" class=\"dataframe\">\n",
       "  <thead>\n",
       "    <tr style=\"text-align: right;\">\n",
       "      <th></th>\n",
       "      <th>abstract</th>\n",
       "      <th>body</th>\n",
       "      <th>citations</th>\n",
       "      <th>filepath</th>\n",
       "    </tr>\n",
       "  </thead>\n",
       "  <tbody>\n",
       "    <tr>\n",
       "      <th>0</th>\n",
       "      <td>Broad-coverage lexical resources such as WordN...</td>\n",
       "      <td>Broad-coverage lexical resources such as WordN...</td>\n",
       "      <td>[Different measures have been proposed, which ...</td>\n",
       "      <td>./nlp_data/scisummnet_release1.1__20190413/top...</td>\n",
       "    </tr>\n",
       "    <tr>\n",
       "      <th>1</th>\n",
       "      <td>algebraic path problem (shortest paths; matrix...</td>\n",
       "      <td>Rational relations on strings have become wide...</td>\n",
       "      <td>[The calculation of expected counts can be for...</td>\n",
       "      <td>./nlp_data/scisummnet_release1.1__20190413/top...</td>\n",
       "    </tr>\n",
       "    <tr>\n",
       "      <th>2</th>\n",
       "      <td>This paper investigates why the HMMs es timate...</td>\n",
       "      <td>It is well known that Expectation-Maximization...</td>\n",
       "      <td>[[vbhmm]: Bayesian HMM with variational Bayes ...</td>\n",
       "      <td>./nlp_data/scisummnet_release1.1__20190413/top...</td>\n",
       "    </tr>\n",
       "    <tr>\n",
       "      <th>3</th>\n",
       "      <td>Identifying sentiments (the affective parts of...</td>\n",
       "      <td>What is an opinion?\\nThe many opinions on opin...</td>\n",
       "      <td>[This idea is similar to that of (Kim and Hovy...</td>\n",
       "      <td>./nlp_data/scisummnet_release1.1__20190413/top...</td>\n",
       "    </tr>\n",
       "    <tr>\n",
       "      <th>4</th>\n",
       "      <td></td>\n",
       "      <td></td>\n",
       "      <td>[Hence, the most important single construct of...</td>\n",
       "      <td>./nlp_data/scisummnet_release1.1__20190413/top...</td>\n",
       "    </tr>\n",
       "  </tbody>\n",
       "</table>\n",
       "</div>\n",
       "      <button class=\"colab-df-convert\" onclick=\"convertToInteractive('df-ea35ec84-cdee-4773-a7c5-78fd4a0a50f7')\"\n",
       "              title=\"Convert this dataframe to an interactive table.\"\n",
       "              style=\"display:none;\">\n",
       "        \n",
       "  <svg xmlns=\"http://www.w3.org/2000/svg\" height=\"24px\"viewBox=\"0 0 24 24\"\n",
       "       width=\"24px\">\n",
       "    <path d=\"M0 0h24v24H0V0z\" fill=\"none\"/>\n",
       "    <path d=\"M18.56 5.44l.94 2.06.94-2.06 2.06-.94-2.06-.94-.94-2.06-.94 2.06-2.06.94zm-11 1L8.5 8.5l.94-2.06 2.06-.94-2.06-.94L8.5 2.5l-.94 2.06-2.06.94zm10 10l.94 2.06.94-2.06 2.06-.94-2.06-.94-.94-2.06-.94 2.06-2.06.94z\"/><path d=\"M17.41 7.96l-1.37-1.37c-.4-.4-.92-.59-1.43-.59-.52 0-1.04.2-1.43.59L10.3 9.45l-7.72 7.72c-.78.78-.78 2.05 0 2.83L4 21.41c.39.39.9.59 1.41.59.51 0 1.02-.2 1.41-.59l7.78-7.78 2.81-2.81c.8-.78.8-2.07 0-2.86zM5.41 20L4 18.59l7.72-7.72 1.47 1.35L5.41 20z\"/>\n",
       "  </svg>\n",
       "      </button>\n",
       "      \n",
       "  <style>\n",
       "    .colab-df-container {\n",
       "      display:flex;\n",
       "      flex-wrap:wrap;\n",
       "      gap: 12px;\n",
       "    }\n",
       "\n",
       "    .colab-df-convert {\n",
       "      background-color: #E8F0FE;\n",
       "      border: none;\n",
       "      border-radius: 50%;\n",
       "      cursor: pointer;\n",
       "      display: none;\n",
       "      fill: #1967D2;\n",
       "      height: 32px;\n",
       "      padding: 0 0 0 0;\n",
       "      width: 32px;\n",
       "    }\n",
       "\n",
       "    .colab-df-convert:hover {\n",
       "      background-color: #E2EBFA;\n",
       "      box-shadow: 0px 1px 2px rgba(60, 64, 67, 0.3), 0px 1px 3px 1px rgba(60, 64, 67, 0.15);\n",
       "      fill: #174EA6;\n",
       "    }\n",
       "\n",
       "    [theme=dark] .colab-df-convert {\n",
       "      background-color: #3B4455;\n",
       "      fill: #D2E3FC;\n",
       "    }\n",
       "\n",
       "    [theme=dark] .colab-df-convert:hover {\n",
       "      background-color: #434B5C;\n",
       "      box-shadow: 0px 1px 3px 1px rgba(0, 0, 0, 0.15);\n",
       "      filter: drop-shadow(0px 1px 2px rgba(0, 0, 0, 0.3));\n",
       "      fill: #FFFFFF;\n",
       "    }\n",
       "  </style>\n",
       "\n",
       "      <script>\n",
       "        const buttonEl =\n",
       "          document.querySelector('#df-ea35ec84-cdee-4773-a7c5-78fd4a0a50f7 button.colab-df-convert');\n",
       "        buttonEl.style.display =\n",
       "          google.colab.kernel.accessAllowed ? 'block' : 'none';\n",
       "\n",
       "        async function convertToInteractive(key) {\n",
       "          const element = document.querySelector('#df-ea35ec84-cdee-4773-a7c5-78fd4a0a50f7');\n",
       "          const dataTable =\n",
       "            await google.colab.kernel.invokeFunction('convertToInteractive',\n",
       "                                                     [key], {});\n",
       "          if (!dataTable) return;\n",
       "\n",
       "          const docLinkHtml = 'Like what you see? Visit the ' +\n",
       "            '<a target=\"_blank\" href=https://colab.research.google.com/notebooks/data_table.ipynb>data table notebook</a>'\n",
       "            + ' to learn more about interactive tables.';\n",
       "          element.innerHTML = '';\n",
       "          dataTable['output_type'] = 'display_data';\n",
       "          await google.colab.output.renderOutput(dataTable, element);\n",
       "          const docLink = document.createElement('div');\n",
       "          docLink.innerHTML = docLinkHtml;\n",
       "          element.appendChild(docLink);\n",
       "        }\n",
       "      </script>\n",
       "    </div>\n",
       "  </div>\n",
       "  "
      ],
      "text/plain": [
       "                                            abstract  \\\n",
       "0  Broad-coverage lexical resources such as WordN...   \n",
       "1  algebraic path problem (shortest paths; matrix...   \n",
       "2  This paper investigates why the HMMs es timate...   \n",
       "3  Identifying sentiments (the affective parts of...   \n",
       "4                                                      \n",
       "\n",
       "                                                body  \\\n",
       "0  Broad-coverage lexical resources such as WordN...   \n",
       "1  Rational relations on strings have become wide...   \n",
       "2  It is well known that Expectation-Maximization...   \n",
       "3  What is an opinion?\\nThe many opinions on opin...   \n",
       "4                                                      \n",
       "\n",
       "                                           citations  \\\n",
       "0  [Different measures have been proposed, which ...   \n",
       "1  [The calculation of expected counts can be for...   \n",
       "2  [[vbhmm]: Bayesian HMM with variational Bayes ...   \n",
       "3  [This idea is similar to that of (Kim and Hovy...   \n",
       "4  [Hence, the most important single construct of...   \n",
       "\n",
       "                                            filepath  \n",
       "0  ./nlp_data/scisummnet_release1.1__20190413/top...  \n",
       "1  ./nlp_data/scisummnet_release1.1__20190413/top...  \n",
       "2  ./nlp_data/scisummnet_release1.1__20190413/top...  \n",
       "3  ./nlp_data/scisummnet_release1.1__20190413/top...  \n",
       "4  ./nlp_data/scisummnet_release1.1__20190413/top...  "
      ]
     },
     "execution_count": 7,
     "metadata": {},
     "output_type": "execute_result"
    }
   ],
   "source": [
    "# create DF with papers and citations\n",
    "\n",
    "raw_cols = []\n",
    "for fpn in range(len(xmlfiles)):\n",
    "    ab,bod,err = parse_xml_abstract(xmlfiles[fpn])\n",
    "    if err:\n",
    "        #print(fp, err)\n",
    "        continue\n",
    "    f = open(citations[fpn]) \n",
    "\n",
    "    # returns JSON object as a dictionary \n",
    "    data = json.load(f) \n",
    "    only_text = []\n",
    "    for entry in data:\n",
    "        only_text.append(entry['clean_text'])\n",
    "#     print(only_text)\n",
    "        \n",
    "    raw_cols.append([ab,bod,only_text,xmlfiles[fpn]])\n",
    "\n",
    "df = pd.DataFrame(raw_cols, columns=[\"abstract\",\"body\",\"citations\", \"filepath\"])\n",
    "df.head()"
   ]
  },
  {
   "cell_type": "code",
   "execution_count": 8,
   "metadata": {
    "id": "pTMr3o9nrg_f"
   },
   "outputs": [],
   "source": [
    "# get all summary text using the summary path\n",
    "summary_text = []\n",
    "for fpn in range(len(summaries)):\n",
    "    f = open(summaries[fpn]) \n",
    "    data = f.read()\n",
    "    summary_text.append(data)\n",
    "\n",
    "df['summary'] = summary_text"
   ]
  },
  {
   "cell_type": "code",
   "execution_count": 9,
   "metadata": {
    "colab": {
     "base_uri": "https://localhost:8080/",
     "height": 649
    },
    "id": "WD-j7f4mtKhr",
    "outputId": "881a4731-a4e6-4d1e-e66b-9f0a3b4bae5c"
   },
   "outputs": [
    {
     "data": {
      "text/html": [
       "\n",
       "  <div id=\"df-287b1fd5-0e4c-473b-a865-de7207597d63\">\n",
       "    <div class=\"colab-df-container\">\n",
       "      <div>\n",
       "<style scoped>\n",
       "    .dataframe tbody tr th:only-of-type {\n",
       "        vertical-align: middle;\n",
       "    }\n",
       "\n",
       "    .dataframe tbody tr th {\n",
       "        vertical-align: top;\n",
       "    }\n",
       "\n",
       "    .dataframe thead th {\n",
       "        text-align: right;\n",
       "    }\n",
       "</style>\n",
       "<table border=\"1\" class=\"dataframe\">\n",
       "  <thead>\n",
       "    <tr style=\"text-align: right;\">\n",
       "      <th></th>\n",
       "      <th>abstract</th>\n",
       "      <th>body</th>\n",
       "      <th>citations</th>\n",
       "      <th>filepath</th>\n",
       "      <th>summary</th>\n",
       "    </tr>\n",
       "  </thead>\n",
       "  <tbody>\n",
       "    <tr>\n",
       "      <th>0</th>\n",
       "      <td>Broad-coverage lexical resources such as WordN...</td>\n",
       "      <td>Broad-coverage lexical resources such as WordN...</td>\n",
       "      <td>[Different measures have been proposed, which ...</td>\n",
       "      <td>./nlp_data/scisummnet_release1.1__20190413/top...</td>\n",
       "      <td>Concept Discovery From Text\\nBroad-coverage le...</td>\n",
       "    </tr>\n",
       "    <tr>\n",
       "      <th>1</th>\n",
       "      <td>algebraic path problem (shortest paths; matrix...</td>\n",
       "      <td>Rational relations on strings have become wide...</td>\n",
       "      <td>[The calculation of expected counts can be for...</td>\n",
       "      <td>./nlp_data/scisummnet_release1.1__20190413/top...</td>\n",
       "      <td>Parameter Estimation For Probabilistic Finite-...</td>\n",
       "    </tr>\n",
       "    <tr>\n",
       "      <th>2</th>\n",
       "      <td>This paper investigates why the HMMs es timate...</td>\n",
       "      <td>It is well known that Expectation-Maximization...</td>\n",
       "      <td>[[vbhmm]: Bayesian HMM with variational Bayes ...</td>\n",
       "      <td>./nlp_data/scisummnet_release1.1__20190413/top...</td>\n",
       "      <td>Why Doesn't EM Find Good HMM POS-Taggers?\\nThi...</td>\n",
       "    </tr>\n",
       "    <tr>\n",
       "      <th>3</th>\n",
       "      <td>Identifying sentiments (the affective parts of...</td>\n",
       "      <td>What is an opinion?\\nThe many opinions on opin...</td>\n",
       "      <td>[This idea is similar to that of (Kim and Hovy...</td>\n",
       "      <td>./nlp_data/scisummnet_release1.1__20190413/top...</td>\n",
       "      <td>Determining The Sentiment Of Opinions\\nIdentif...</td>\n",
       "    </tr>\n",
       "    <tr>\n",
       "      <th>4</th>\n",
       "      <td></td>\n",
       "      <td></td>\n",
       "      <td>[Hence, the most important single construct of...</td>\n",
       "      <td>./nlp_data/scisummnet_release1.1__20190413/top...</td>\n",
       "      <td>Japanese Discourse And The Process Of Centerin...</td>\n",
       "    </tr>\n",
       "  </tbody>\n",
       "</table>\n",
       "</div>\n",
       "      <button class=\"colab-df-convert\" onclick=\"convertToInteractive('df-287b1fd5-0e4c-473b-a865-de7207597d63')\"\n",
       "              title=\"Convert this dataframe to an interactive table.\"\n",
       "              style=\"display:none;\">\n",
       "        \n",
       "  <svg xmlns=\"http://www.w3.org/2000/svg\" height=\"24px\"viewBox=\"0 0 24 24\"\n",
       "       width=\"24px\">\n",
       "    <path d=\"M0 0h24v24H0V0z\" fill=\"none\"/>\n",
       "    <path d=\"M18.56 5.44l.94 2.06.94-2.06 2.06-.94-2.06-.94-.94-2.06-.94 2.06-2.06.94zm-11 1L8.5 8.5l.94-2.06 2.06-.94-2.06-.94L8.5 2.5l-.94 2.06-2.06.94zm10 10l.94 2.06.94-2.06 2.06-.94-2.06-.94-.94-2.06-.94 2.06-2.06.94z\"/><path d=\"M17.41 7.96l-1.37-1.37c-.4-.4-.92-.59-1.43-.59-.52 0-1.04.2-1.43.59L10.3 9.45l-7.72 7.72c-.78.78-.78 2.05 0 2.83L4 21.41c.39.39.9.59 1.41.59.51 0 1.02-.2 1.41-.59l7.78-7.78 2.81-2.81c.8-.78.8-2.07 0-2.86zM5.41 20L4 18.59l7.72-7.72 1.47 1.35L5.41 20z\"/>\n",
       "  </svg>\n",
       "      </button>\n",
       "      \n",
       "  <style>\n",
       "    .colab-df-container {\n",
       "      display:flex;\n",
       "      flex-wrap:wrap;\n",
       "      gap: 12px;\n",
       "    }\n",
       "\n",
       "    .colab-df-convert {\n",
       "      background-color: #E8F0FE;\n",
       "      border: none;\n",
       "      border-radius: 50%;\n",
       "      cursor: pointer;\n",
       "      display: none;\n",
       "      fill: #1967D2;\n",
       "      height: 32px;\n",
       "      padding: 0 0 0 0;\n",
       "      width: 32px;\n",
       "    }\n",
       "\n",
       "    .colab-df-convert:hover {\n",
       "      background-color: #E2EBFA;\n",
       "      box-shadow: 0px 1px 2px rgba(60, 64, 67, 0.3), 0px 1px 3px 1px rgba(60, 64, 67, 0.15);\n",
       "      fill: #174EA6;\n",
       "    }\n",
       "\n",
       "    [theme=dark] .colab-df-convert {\n",
       "      background-color: #3B4455;\n",
       "      fill: #D2E3FC;\n",
       "    }\n",
       "\n",
       "    [theme=dark] .colab-df-convert:hover {\n",
       "      background-color: #434B5C;\n",
       "      box-shadow: 0px 1px 3px 1px rgba(0, 0, 0, 0.15);\n",
       "      filter: drop-shadow(0px 1px 2px rgba(0, 0, 0, 0.3));\n",
       "      fill: #FFFFFF;\n",
       "    }\n",
       "  </style>\n",
       "\n",
       "      <script>\n",
       "        const buttonEl =\n",
       "          document.querySelector('#df-287b1fd5-0e4c-473b-a865-de7207597d63 button.colab-df-convert');\n",
       "        buttonEl.style.display =\n",
       "          google.colab.kernel.accessAllowed ? 'block' : 'none';\n",
       "\n",
       "        async function convertToInteractive(key) {\n",
       "          const element = document.querySelector('#df-287b1fd5-0e4c-473b-a865-de7207597d63');\n",
       "          const dataTable =\n",
       "            await google.colab.kernel.invokeFunction('convertToInteractive',\n",
       "                                                     [key], {});\n",
       "          if (!dataTable) return;\n",
       "\n",
       "          const docLinkHtml = 'Like what you see? Visit the ' +\n",
       "            '<a target=\"_blank\" href=https://colab.research.google.com/notebooks/data_table.ipynb>data table notebook</a>'\n",
       "            + ' to learn more about interactive tables.';\n",
       "          element.innerHTML = '';\n",
       "          dataTable['output_type'] = 'display_data';\n",
       "          await google.colab.output.renderOutput(dataTable, element);\n",
       "          const docLink = document.createElement('div');\n",
       "          docLink.innerHTML = docLinkHtml;\n",
       "          element.appendChild(docLink);\n",
       "        }\n",
       "      </script>\n",
       "    </div>\n",
       "  </div>\n",
       "  "
      ],
      "text/plain": [
       "                                            abstract  \\\n",
       "0  Broad-coverage lexical resources such as WordN...   \n",
       "1  algebraic path problem (shortest paths; matrix...   \n",
       "2  This paper investigates why the HMMs es timate...   \n",
       "3  Identifying sentiments (the affective parts of...   \n",
       "4                                                      \n",
       "\n",
       "                                                body  \\\n",
       "0  Broad-coverage lexical resources such as WordN...   \n",
       "1  Rational relations on strings have become wide...   \n",
       "2  It is well known that Expectation-Maximization...   \n",
       "3  What is an opinion?\\nThe many opinions on opin...   \n",
       "4                                                      \n",
       "\n",
       "                                           citations  \\\n",
       "0  [Different measures have been proposed, which ...   \n",
       "1  [The calculation of expected counts can be for...   \n",
       "2  [[vbhmm]: Bayesian HMM with variational Bayes ...   \n",
       "3  [This idea is similar to that of (Kim and Hovy...   \n",
       "4  [Hence, the most important single construct of...   \n",
       "\n",
       "                                            filepath  \\\n",
       "0  ./nlp_data/scisummnet_release1.1__20190413/top...   \n",
       "1  ./nlp_data/scisummnet_release1.1__20190413/top...   \n",
       "2  ./nlp_data/scisummnet_release1.1__20190413/top...   \n",
       "3  ./nlp_data/scisummnet_release1.1__20190413/top...   \n",
       "4  ./nlp_data/scisummnet_release1.1__20190413/top...   \n",
       "\n",
       "                                             summary  \n",
       "0  Concept Discovery From Text\\nBroad-coverage le...  \n",
       "1  Parameter Estimation For Probabilistic Finite-...  \n",
       "2  Why Doesn't EM Find Good HMM POS-Taggers?\\nThi...  \n",
       "3  Determining The Sentiment Of Opinions\\nIdentif...  \n",
       "4  Japanese Discourse And The Process Of Centerin...  "
      ]
     },
     "execution_count": 9,
     "metadata": {},
     "output_type": "execute_result"
    }
   ],
   "source": [
    "df.head()"
   ]
  },
  {
   "cell_type": "code",
   "execution_count": 10,
   "metadata": {
    "colab": {
     "base_uri": "https://localhost:8080/"
    },
    "id": "ECGhskYetQqP",
    "outputId": "8b457eae-6f63-44b5-c16d-23aae0ba6547"
   },
   "outputs": [
    {
     "data": {
      "text/plain": [
       "(1009, 5)"
      ]
     },
     "execution_count": 10,
     "metadata": {},
     "output_type": "execute_result"
    }
   ],
   "source": [
    "df.shape"
   ]
  },
  {
   "cell_type": "code",
   "execution_count": 34,
   "metadata": {
    "id": "pr01_7Est88W"
   },
   "outputs": [],
   "source": [
    "# drop rows with missing values or empty abstract/body\n",
    "df = df.dropna()\n",
    "df = df[df.abstract != \"\"]\n",
    "df = df[df.body != \"\"]"
   ]
  },
  {
   "cell_type": "code",
   "execution_count": 35,
   "metadata": {
    "colab": {
     "base_uri": "https://localhost:8080/"
    },
    "id": "7jm51bIjW6pt",
    "outputId": "da0ca1ce-28d0-4e4f-ccd0-488019469a13"
   },
   "outputs": [
    {
     "data": {
      "text/plain": [
       "(923, 5)"
      ]
     },
     "execution_count": 35,
     "metadata": {},
     "output_type": "execute_result"
    }
   ],
   "source": [
    "df.shape"
   ]
  },
  {
   "cell_type": "code",
   "execution_count": 36,
   "metadata": {
    "id": "ysV9MZ-0qBHd"
   },
   "outputs": [],
   "source": [
    "df.to_csv('scisumm.csv')"
   ]
  },
  {
   "cell_type": "markdown",
   "metadata": {
    "id": "XNXj3QNqyQrm"
   },
   "source": [
    "# EDA"
   ]
  },
  {
   "cell_type": "code",
   "execution_count": null,
   "metadata": {
    "colab": {
     "base_uri": "https://localhost:8080/",
     "height": 466
    },
    "id": "ySZAz6viyQBr",
    "outputId": "fb829b80-7bbf-4871-93ec-6bf2d10f00f0"
   },
   "outputs": [
    {
     "data": {
      "text/plain": [
       "<Axes: xlabel='variable', ylabel='value'>"
      ]
     },
     "execution_count": 17,
     "metadata": {},
     "output_type": "execute_result"
    },
    {
     "data": {
      "image/png": "[encoded data removed]",
      "text/plain": [
       "<Figure size 640x480 with 1 Axes>"
      ]
     },
     "metadata": {},
     "output_type": "display_data"
    }
   ],
   "source": [
    "# mean of length\n",
    "import seaborn as sns\n",
    "import matplotlib.pyplot as plt\n",
    "\n",
    "data_statistics = {\n",
    "    \"abstract\": [],\n",
    "    \"body\": [],\n",
    "    \"summary\": []\n",
    "}\n",
    "\n",
    "abstract_corpus = []\n",
    "body_corpus = []\n",
    "summary_corpus = []\n",
    "\n",
    "for index, row in df.iterrows():\n",
    "    data_statistics[\"abstract\"].append(len(row[\"abstract\"]))\n",
    "    data_statistics[\"body\"].append(len(row[\"body\"]))\n",
    "    data_statistics[\"summary\"].append(len(row[\"summary\"]))\n",
    "    abstract_corpus.append(row[\"abstract\"].lower())\n",
    "    body_corpus.append(row[\"body\"].lower())\n",
    "    summary_corpus.append(row[\"summary\"].lower())\n",
    "\n",
    "df_statistics = pd.DataFrame(data_statistics)\n",
    "sns.boxplot(x=\"variable\", y=\"value\", data=pd.melt(df_statistics))"
   ]
  },
  {
   "cell_type": "code",
   "execution_count": null,
   "metadata": {
    "colab": {
     "base_uri": "https://localhost:8080/"
    },
    "id": "-8bs1Kfa0BQL",
    "outputId": "fdc1c302-735d-4930-e479-b4dcdf3624e1"
   },
   "outputs": [
    {
     "name": "stdout",
     "output_type": "stream",
     "text": [
      "Average Abstract Length: 1184\n",
      "Average Body Length: 28019\n",
      "Average Golden Summary Length: 1038\n"
     ]
    }
   ],
   "source": [
    "def avg_length(text_list):\n",
    "    return round(sum(text_list)/len(text_list))\n",
    "\n",
    "print(\"Average Abstract Length: {}\".format(avg_length(data_statistics[\"abstract\"])))\n",
    "print(\"Average Body Length: {}\".format(avg_length(data_statistics[\"body\"])))\n",
    "print(\"Average Golden Summary Length: {}\".format(avg_length(data_statistics[\"summary\"])))"
   ]
  },
  {
   "cell_type": "code",
   "execution_count": null,
   "metadata": {
    "colab": {
     "base_uri": "https://localhost:8080/",
     "height": 853
    },
    "id": "YPg5CcIi0XUu",
    "outputId": "63ba1dbc-385c-482f-f093-b43dbd5d2ff9"
   },
   "outputs": [
    {
     "data": {
      "image/png": "[encoded data removed]",
      "text/plain": [
       "<Figure size 800x1000 with 3 Axes>"
      ]
     },
     "metadata": {},
     "output_type": "display_data"
    }
   ],
   "source": [
    "# histogram \n",
    "fig, axs = plt.subplots(nrows=3, ncols=1, figsize=(8, 10))\n",
    "axs[0].hist(df[\"abstract\"].str.len())\n",
    "axs[1].hist(df[\"body\"].str.len())\n",
    "axs[2].hist(df[\"summary\"].str.len())\n",
    "axs[0].set_title('Histogram for Length of Abstract')\n",
    "axs[1].set_title('Histogram for Length of Body')\n",
    "axs[2].set_title('Histogram for Length of Summary')\n",
    "plt.subplots_adjust(hspace=0.4)\n",
    "plt.show()"
   ]
  },
  {
   "cell_type": "code",
   "execution_count": null,
   "metadata": {
    "colab": {
     "base_uri": "https://localhost:8080/",
     "height": 300
    },
    "id": "btTlIPY92gKY",
    "outputId": "7eb364f6-f146-4b25-cb9a-8d301431327b"
   },
   "outputs": [
    {
     "data": {
      "text/html": [
       "\n",
       "  <div id=\"df-9501183c-236e-45c5-8725-ca3443b76e2c\">\n",
       "    <div class=\"colab-df-container\">\n",
       "      <div>\n",
       "<style scoped>\n",
       "    .dataframe tbody tr th:only-of-type {\n",
       "        vertical-align: middle;\n",
       "    }\n",
       "\n",
       "    .dataframe tbody tr th {\n",
       "        vertical-align: top;\n",
       "    }\n",
       "\n",
       "    .dataframe thead th {\n",
       "        text-align: right;\n",
       "    }\n",
       "</style>\n",
       "<table border=\"1\" class=\"dataframe\">\n",
       "  <thead>\n",
       "    <tr style=\"text-align: right;\">\n",
       "      <th></th>\n",
       "      <th>abstract</th>\n",
       "    </tr>\n",
       "  </thead>\n",
       "  <tbody>\n",
       "    <tr>\n",
       "      <th>count</th>\n",
       "      <td>924.000000</td>\n",
       "    </tr>\n",
       "    <tr>\n",
       "      <th>mean</th>\n",
       "      <td>1183.709957</td>\n",
       "    </tr>\n",
       "    <tr>\n",
       "      <th>std</th>\n",
       "      <td>2791.180703</td>\n",
       "    </tr>\n",
       "    <tr>\n",
       "      <th>min</th>\n",
       "      <td>79.000000</td>\n",
       "    </tr>\n",
       "    <tr>\n",
       "      <th>25%</th>\n",
       "      <td>524.000000</td>\n",
       "    </tr>\n",
       "    <tr>\n",
       "      <th>50%</th>\n",
       "      <td>685.500000</td>\n",
       "    </tr>\n",
       "    <tr>\n",
       "      <th>75%</th>\n",
       "      <td>892.000000</td>\n",
       "    </tr>\n",
       "    <tr>\n",
       "      <th>max</th>\n",
       "      <td>38470.000000</td>\n",
       "    </tr>\n",
       "  </tbody>\n",
       "</table>\n",
       "</div>\n",
       "      <button class=\"colab-df-convert\" onclick=\"convertToInteractive('df-9501183c-236e-45c5-8725-ca3443b76e2c')\"\n",
       "              title=\"Convert this dataframe to an interactive table.\"\n",
       "              style=\"display:none;\">\n",
       "        \n",
       "  <svg xmlns=\"http://www.w3.org/2000/svg\" height=\"24px\"viewBox=\"0 0 24 24\"\n",
       "       width=\"24px\">\n",
       "    <path d=\"M0 0h24v24H0V0z\" fill=\"none\"/>\n",
       "    <path d=\"M18.56 5.44l.94 2.06.94-2.06 2.06-.94-2.06-.94-.94-2.06-.94 2.06-2.06.94zm-11 1L8.5 8.5l.94-2.06 2.06-.94-2.06-.94L8.5 2.5l-.94 2.06-2.06.94zm10 10l.94 2.06.94-2.06 2.06-.94-2.06-.94-.94-2.06-.94 2.06-2.06.94z\"/><path d=\"M17.41 7.96l-1.37-1.37c-.4-.4-.92-.59-1.43-.59-.52 0-1.04.2-1.43.59L10.3 9.45l-7.72 7.72c-.78.78-.78 2.05 0 2.83L4 21.41c.39.39.9.59 1.41.59.51 0 1.02-.2 1.41-.59l7.78-7.78 2.81-2.81c.8-.78.8-2.07 0-2.86zM5.41 20L4 18.59l7.72-7.72 1.47 1.35L5.41 20z\"/>\n",
       "  </svg>\n",
       "      </button>\n",
       "      \n",
       "  <style>\n",
       "    .colab-df-container {\n",
       "      display:flex;\n",
       "      flex-wrap:wrap;\n",
       "      gap: 12px;\n",
       "    }\n",
       "\n",
       "    .colab-df-convert {\n",
       "      background-color: #E8F0FE;\n",
       "      border: none;\n",
       "      border-radius: 50%;\n",
       "      cursor: pointer;\n",
       "      display: none;\n",
       "      fill: #1967D2;\n",
       "      height: 32px;\n",
       "      padding: 0 0 0 0;\n",
       "      width: 32px;\n",
       "    }\n",
       "\n",
       "    .colab-df-convert:hover {\n",
       "      background-color: #E2EBFA;\n",
       "      box-shadow: 0px 1px 2px rgba(60, 64, 67, 0.3), 0px 1px 3px 1px rgba(60, 64, 67, 0.15);\n",
       "      fill: #174EA6;\n",
       "    }\n",
       "\n",
       "    [theme=dark] .colab-df-convert {\n",
       "      background-color: #3B4455;\n",
       "      fill: #D2E3FC;\n",
       "    }\n",
       "\n",
       "    [theme=dark] .colab-df-convert:hover {\n",
       "      background-color: #434B5C;\n",
       "      box-shadow: 0px 1px 3px 1px rgba(0, 0, 0, 0.15);\n",
       "      filter: drop-shadow(0px 1px 2px rgba(0, 0, 0, 0.3));\n",
       "      fill: #FFFFFF;\n",
       "    }\n",
       "  </style>\n",
       "\n",
       "      <script>\n",
       "        const buttonEl =\n",
       "          document.querySelector('#df-9501183c-236e-45c5-8725-ca3443b76e2c button.colab-df-convert');\n",
       "        buttonEl.style.display =\n",
       "          google.colab.kernel.accessAllowed ? 'block' : 'none';\n",
       "\n",
       "        async function convertToInteractive(key) {\n",
       "          const element = document.querySelector('#df-9501183c-236e-45c5-8725-ca3443b76e2c');\n",
       "          const dataTable =\n",
       "            await google.colab.kernel.invokeFunction('convertToInteractive',\n",
       "                                                     [key], {});\n",
       "          if (!dataTable) return;\n",
       "\n",
       "          const docLinkHtml = 'Like what you see? Visit the ' +\n",
       "            '<a target=\"_blank\" href=https://colab.research.google.com/notebooks/data_table.ipynb>data table notebook</a>'\n",
       "            + ' to learn more about interactive tables.';\n",
       "          element.innerHTML = '';\n",
       "          dataTable['output_type'] = 'display_data';\n",
       "          await google.colab.output.renderOutput(dataTable, element);\n",
       "          const docLink = document.createElement('div');\n",
       "          docLink.innerHTML = docLinkHtml;\n",
       "          element.appendChild(docLink);\n",
       "        }\n",
       "      </script>\n",
       "    </div>\n",
       "  </div>\n",
       "  "
      ],
      "text/plain": [
       "           abstract\n",
       "count    924.000000\n",
       "mean    1183.709957\n",
       "std     2791.180703\n",
       "min       79.000000\n",
       "25%      524.000000\n",
       "50%      685.500000\n",
       "75%      892.000000\n",
       "max    38470.000000"
      ]
     },
     "execution_count": 21,
     "metadata": {},
     "output_type": "execute_result"
    }
   ],
   "source": [
    "(pd.DataFrame(df[\"abstract\"].str.len())).describe()"
   ]
  },
  {
   "cell_type": "code",
   "execution_count": null,
   "metadata": {
    "colab": {
     "base_uri": "https://localhost:8080/",
     "height": 300
    },
    "id": "h91_7RtZ2qyD",
    "outputId": "05520ebc-1d6d-4ec1-f119-fb863a69591e"
   },
   "outputs": [
    {
     "data": {
      "text/html": [
       "\n",
       "  <div id=\"df-f1455b94-c5d4-4905-aec1-4972c4e3facc\">\n",
       "    <div class=\"colab-df-container\">\n",
       "      <div>\n",
       "<style scoped>\n",
       "    .dataframe tbody tr th:only-of-type {\n",
       "        vertical-align: middle;\n",
       "    }\n",
       "\n",
       "    .dataframe tbody tr th {\n",
       "        vertical-align: top;\n",
       "    }\n",
       "\n",
       "    .dataframe thead th {\n",
       "        text-align: right;\n",
       "    }\n",
       "</style>\n",
       "<table border=\"1\" class=\"dataframe\">\n",
       "  <thead>\n",
       "    <tr style=\"text-align: right;\">\n",
       "      <th></th>\n",
       "      <th>body</th>\n",
       "    </tr>\n",
       "  </thead>\n",
       "  <tbody>\n",
       "    <tr>\n",
       "      <th>count</th>\n",
       "      <td>924.000000</td>\n",
       "    </tr>\n",
       "    <tr>\n",
       "      <th>mean</th>\n",
       "      <td>28018.755411</td>\n",
       "    </tr>\n",
       "    <tr>\n",
       "      <th>std</th>\n",
       "      <td>16925.680555</td>\n",
       "    </tr>\n",
       "    <tr>\n",
       "      <th>min</th>\n",
       "      <td>0.000000</td>\n",
       "    </tr>\n",
       "    <tr>\n",
       "      <th>25%</th>\n",
       "      <td>20683.250000</td>\n",
       "    </tr>\n",
       "    <tr>\n",
       "      <th>50%</th>\n",
       "      <td>24483.500000</td>\n",
       "    </tr>\n",
       "    <tr>\n",
       "      <th>75%</th>\n",
       "      <td>29145.750000</td>\n",
       "    </tr>\n",
       "    <tr>\n",
       "      <th>max</th>\n",
       "      <td>146332.000000</td>\n",
       "    </tr>\n",
       "  </tbody>\n",
       "</table>\n",
       "</div>\n",
       "      <button class=\"colab-df-convert\" onclick=\"convertToInteractive('df-f1455b94-c5d4-4905-aec1-4972c4e3facc')\"\n",
       "              title=\"Convert this dataframe to an interactive table.\"\n",
       "              style=\"display:none;\">\n",
       "        \n",
       "  <svg xmlns=\"http://www.w3.org/2000/svg\" height=\"24px\"viewBox=\"0 0 24 24\"\n",
       "       width=\"24px\">\n",
       "    <path d=\"M0 0h24v24H0V0z\" fill=\"none\"/>\n",
       "    <path d=\"M18.56 5.44l.94 2.06.94-2.06 2.06-.94-2.06-.94-.94-2.06-.94 2.06-2.06.94zm-11 1L8.5 8.5l.94-2.06 2.06-.94-2.06-.94L8.5 2.5l-.94 2.06-2.06.94zm10 10l.94 2.06.94-2.06 2.06-.94-2.06-.94-.94-2.06-.94 2.06-2.06.94z\"/><path d=\"M17.41 7.96l-1.37-1.37c-.4-.4-.92-.59-1.43-.59-.52 0-1.04.2-1.43.59L10.3 9.45l-7.72 7.72c-.78.78-.78 2.05 0 2.83L4 21.41c.39.39.9.59 1.41.59.51 0 1.02-.2 1.41-.59l7.78-7.78 2.81-2.81c.8-.78.8-2.07 0-2.86zM5.41 20L4 18.59l7.72-7.72 1.47 1.35L5.41 20z\"/>\n",
       "  </svg>\n",
       "      </button>\n",
       "      \n",
       "  <style>\n",
       "    .colab-df-container {\n",
       "      display:flex;\n",
       "      flex-wrap:wrap;\n",
       "      gap: 12px;\n",
       "    }\n",
       "\n",
       "    .colab-df-convert {\n",
       "      background-color: #E8F0FE;\n",
       "      border: none;\n",
       "      border-radius: 50%;\n",
       "      cursor: pointer;\n",
       "      display: none;\n",
       "      fill: #1967D2;\n",
       "      height: 32px;\n",
       "      padding: 0 0 0 0;\n",
       "      width: 32px;\n",
       "    }\n",
       "\n",
       "    .colab-df-convert:hover {\n",
       "      background-color: #E2EBFA;\n",
       "      box-shadow: 0px 1px 2px rgba(60, 64, 67, 0.3), 0px 1px 3px 1px rgba(60, 64, 67, 0.15);\n",
       "      fill: #174EA6;\n",
       "    }\n",
       "\n",
       "    [theme=dark] .colab-df-convert {\n",
       "      background-color: #3B4455;\n",
       "      fill: #D2E3FC;\n",
       "    }\n",
       "\n",
       "    [theme=dark] .colab-df-convert:hover {\n",
       "      background-color: #434B5C;\n",
       "      box-shadow: 0px 1px 3px 1px rgba(0, 0, 0, 0.15);\n",
       "      filter: drop-shadow(0px 1px 2px rgba(0, 0, 0, 0.3));\n",
       "      fill: #FFFFFF;\n",
       "    }\n",
       "  </style>\n",
       "\n",
       "      <script>\n",
       "        const buttonEl =\n",
       "          document.querySelector('#df-f1455b94-c5d4-4905-aec1-4972c4e3facc button.colab-df-convert');\n",
       "        buttonEl.style.display =\n",
       "          google.colab.kernel.accessAllowed ? 'block' : 'none';\n",
       "\n",
       "        async function convertToInteractive(key) {\n",
       "          const element = document.querySelector('#df-f1455b94-c5d4-4905-aec1-4972c4e3facc');\n",
       "          const dataTable =\n",
       "            await google.colab.kernel.invokeFunction('convertToInteractive',\n",
       "                                                     [key], {});\n",
       "          if (!dataTable) return;\n",
       "\n",
       "          const docLinkHtml = 'Like what you see? Visit the ' +\n",
       "            '<a target=\"_blank\" href=https://colab.research.google.com/notebooks/data_table.ipynb>data table notebook</a>'\n",
       "            + ' to learn more about interactive tables.';\n",
       "          element.innerHTML = '';\n",
       "          dataTable['output_type'] = 'display_data';\n",
       "          await google.colab.output.renderOutput(dataTable, element);\n",
       "          const docLink = document.createElement('div');\n",
       "          docLink.innerHTML = docLinkHtml;\n",
       "          element.appendChild(docLink);\n",
       "        }\n",
       "      </script>\n",
       "    </div>\n",
       "  </div>\n",
       "  "
      ],
      "text/plain": [
       "                body\n",
       "count     924.000000\n",
       "mean    28018.755411\n",
       "std     16925.680555\n",
       "min         0.000000\n",
       "25%     20683.250000\n",
       "50%     24483.500000\n",
       "75%     29145.750000\n",
       "max    146332.000000"
      ]
     },
     "execution_count": 22,
     "metadata": {},
     "output_type": "execute_result"
    }
   ],
   "source": [
    "(pd.DataFrame(df[\"body\"].str.len())).describe()"
   ]
  },
  {
   "cell_type": "code",
   "execution_count": null,
   "metadata": {
    "colab": {
     "base_uri": "https://localhost:8080/",
     "height": 300
    },
    "id": "8O18b3fO2sc7",
    "outputId": "38a0ad98-0fd5-46fe-d4d9-68345b16ac73"
   },
   "outputs": [
    {
     "data": {
      "text/html": [
       "\n",
       "  <div id=\"df-08633b7f-e765-4c40-b140-8a8bdb9ecb2b\">\n",
       "    <div class=\"colab-df-container\">\n",
       "      <div>\n",
       "<style scoped>\n",
       "    .dataframe tbody tr th:only-of-type {\n",
       "        vertical-align: middle;\n",
       "    }\n",
       "\n",
       "    .dataframe tbody tr th {\n",
       "        vertical-align: top;\n",
       "    }\n",
       "\n",
       "    .dataframe thead th {\n",
       "        text-align: right;\n",
       "    }\n",
       "</style>\n",
       "<table border=\"1\" class=\"dataframe\">\n",
       "  <thead>\n",
       "    <tr style=\"text-align: right;\">\n",
       "      <th></th>\n",
       "      <th>summary</th>\n",
       "    </tr>\n",
       "  </thead>\n",
       "  <tbody>\n",
       "    <tr>\n",
       "      <th>count</th>\n",
       "      <td>924.000000</td>\n",
       "    </tr>\n",
       "    <tr>\n",
       "      <th>mean</th>\n",
       "      <td>1037.645022</td>\n",
       "    </tr>\n",
       "    <tr>\n",
       "      <th>std</th>\n",
       "      <td>336.586696</td>\n",
       "    </tr>\n",
       "    <tr>\n",
       "      <th>min</th>\n",
       "      <td>154.000000</td>\n",
       "    </tr>\n",
       "    <tr>\n",
       "      <th>25%</th>\n",
       "      <td>805.000000</td>\n",
       "    </tr>\n",
       "    <tr>\n",
       "      <th>50%</th>\n",
       "      <td>1005.000000</td>\n",
       "    </tr>\n",
       "    <tr>\n",
       "      <th>75%</th>\n",
       "      <td>1230.500000</td>\n",
       "    </tr>\n",
       "    <tr>\n",
       "      <th>max</th>\n",
       "      <td>2958.000000</td>\n",
       "    </tr>\n",
       "  </tbody>\n",
       "</table>\n",
       "</div>\n",
       "      <button class=\"colab-df-convert\" onclick=\"convertToInteractive('df-08633b7f-e765-4c40-b140-8a8bdb9ecb2b')\"\n",
       "              title=\"Convert this dataframe to an interactive table.\"\n",
       "              style=\"display:none;\">\n",
       "        \n",
       "  <svg xmlns=\"http://www.w3.org/2000/svg\" height=\"24px\"viewBox=\"0 0 24 24\"\n",
       "       width=\"24px\">\n",
       "    <path d=\"M0 0h24v24H0V0z\" fill=\"none\"/>\n",
       "    <path d=\"M18.56 5.44l.94 2.06.94-2.06 2.06-.94-2.06-.94-.94-2.06-.94 2.06-2.06.94zm-11 1L8.5 8.5l.94-2.06 2.06-.94-2.06-.94L8.5 2.5l-.94 2.06-2.06.94zm10 10l.94 2.06.94-2.06 2.06-.94-2.06-.94-.94-2.06-.94 2.06-2.06.94z\"/><path d=\"M17.41 7.96l-1.37-1.37c-.4-.4-.92-.59-1.43-.59-.52 0-1.04.2-1.43.59L10.3 9.45l-7.72 7.72c-.78.78-.78 2.05 0 2.83L4 21.41c.39.39.9.59 1.41.59.51 0 1.02-.2 1.41-.59l7.78-7.78 2.81-2.81c.8-.78.8-2.07 0-2.86zM5.41 20L4 18.59l7.72-7.72 1.47 1.35L5.41 20z\"/>\n",
       "  </svg>\n",
       "      </button>\n",
       "      \n",
       "  <style>\n",
       "    .colab-df-container {\n",
       "      display:flex;\n",
       "      flex-wrap:wrap;\n",
       "      gap: 12px;\n",
       "    }\n",
       "\n",
       "    .colab-df-convert {\n",
       "      background-color: #E8F0FE;\n",
       "      border: none;\n",
       "      border-radius: 50%;\n",
       "      cursor: pointer;\n",
       "      display: none;\n",
       "      fill: #1967D2;\n",
       "      height: 32px;\n",
       "      padding: 0 0 0 0;\n",
       "      width: 32px;\n",
       "    }\n",
       "\n",
       "    .colab-df-convert:hover {\n",
       "      background-color: #E2EBFA;\n",
       "      box-shadow: 0px 1px 2px rgba(60, 64, 67, 0.3), 0px 1px 3px 1px rgba(60, 64, 67, 0.15);\n",
       "      fill: #174EA6;\n",
       "    }\n",
       "\n",
       "    [theme=dark] .colab-df-convert {\n",
       "      background-color: #3B4455;\n",
       "      fill: #D2E3FC;\n",
       "    }\n",
       "\n",
       "    [theme=dark] .colab-df-convert:hover {\n",
       "      background-color: #434B5C;\n",
       "      box-shadow: 0px 1px 3px 1px rgba(0, 0, 0, 0.15);\n",
       "      filter: drop-shadow(0px 1px 2px rgba(0, 0, 0, 0.3));\n",
       "      fill: #FFFFFF;\n",
       "    }\n",
       "  </style>\n",
       "\n",
       "      <script>\n",
       "        const buttonEl =\n",
       "          document.querySelector('#df-08633b7f-e765-4c40-b140-8a8bdb9ecb2b button.colab-df-convert');\n",
       "        buttonEl.style.display =\n",
       "          google.colab.kernel.accessAllowed ? 'block' : 'none';\n",
       "\n",
       "        async function convertToInteractive(key) {\n",
       "          const element = document.querySelector('#df-08633b7f-e765-4c40-b140-8a8bdb9ecb2b');\n",
       "          const dataTable =\n",
       "            await google.colab.kernel.invokeFunction('convertToInteractive',\n",
       "                                                     [key], {});\n",
       "          if (!dataTable) return;\n",
       "\n",
       "          const docLinkHtml = 'Like what you see? Visit the ' +\n",
       "            '<a target=\"_blank\" href=https://colab.research.google.com/notebooks/data_table.ipynb>data table notebook</a>'\n",
       "            + ' to learn more about interactive tables.';\n",
       "          element.innerHTML = '';\n",
       "          dataTable['output_type'] = 'display_data';\n",
       "          await google.colab.output.renderOutput(dataTable, element);\n",
       "          const docLink = document.createElement('div');\n",
       "          docLink.innerHTML = docLinkHtml;\n",
       "          element.appendChild(docLink);\n",
       "        }\n",
       "      </script>\n",
       "    </div>\n",
       "  </div>\n",
       "  "
      ],
      "text/plain": [
       "           summary\n",
       "count   924.000000\n",
       "mean   1037.645022\n",
       "std     336.586696\n",
       "min     154.000000\n",
       "25%     805.000000\n",
       "50%    1005.000000\n",
       "75%    1230.500000\n",
       "max    2958.000000"
      ]
     },
     "execution_count": 23,
     "metadata": {},
     "output_type": "execute_result"
    }
   ],
   "source": [
    "(pd.DataFrame(df[\"summary\"].str.len())).describe()"
   ]
  },
  {
   "cell_type": "code",
   "execution_count": null,
   "metadata": {
    "colab": {
     "base_uri": "https://localhost:8080/"
    },
    "id": "f0l__eM74E4Z",
    "outputId": "1f27b877-8ff0-4810-ce3b-cab7399b3cfe"
   },
   "outputs": [
    {
     "name": "stderr",
     "output_type": "stream",
     "text": [
      "[nltk_data] Downloading package stopwords to /root/nltk_data...\n",
      "[nltk_data]   Unzipping corpora/stopwords.zip.\n"
     ]
    },
    {
     "data": {
      "text/plain": [
       "True"
      ]
     },
     "execution_count": 25,
     "metadata": {},
     "output_type": "execute_result"
    }
   ],
   "source": [
    "import nltk\n",
    "nltk.download('stopwords')"
   ]
  },
  {
   "cell_type": "code",
   "execution_count": null,
   "metadata": {
    "colab": {
     "base_uri": "https://localhost:8080/",
     "height": 449
    },
    "id": "af8EUPWM2w2r",
    "outputId": "9f385734-492e-4d93-9103-ac57fd99a072"
   },
   "outputs": [
    {
     "data": {
      "image/png": "[encoded data removed]",
      "text/plain": [
       "<Figure size 640x480 with 1 Axes>"
      ]
     },
     "metadata": {},
     "output_type": "display_data"
    }
   ],
   "source": [
    "# find most common words in abstracts\n",
    "from collections import defaultdict, Counter\n",
    "from nltk.corpus import stopwords\n",
    "\n",
    "#create a set of english stopwords\n",
    "stop_words = set(stopwords.words('english')) \n",
    "\n",
    "abstract_words = re.findall(r\"[\\w']+\", \"\\n\".join(abstract_corpus))\n",
    "counter = Counter(abstract_words)\n",
    "words_most = counter.most_common()\n",
    "x, y = [], []\n",
    "for word,count in words_most[:50]: # top 50 common words\n",
    "    if (word not in stop_words):\n",
    "        x.append(word)\n",
    "        y.append(count)\n",
    "\n",
    "sns.barplot(x=y,y=x)\n",
    "plt.xlabel('Occurences')\n",
    "plt.ylabel('Word')\n",
    "plt.show()"
   ]
  },
  {
   "cell_type": "markdown",
   "metadata": {
    "id": "hVbfmmXQXDhZ"
   },
   "source": [
    "# Pre-processing"
   ]
  },
  {
   "cell_type": "code",
   "execution_count": 2,
   "metadata": {
    "colab": {
     "base_uri": "https://localhost:8080/",
     "height": 617
    },
    "id": "zXJBWHtrIqvh",
    "outputId": "8e81a67d-14f8-4b8d-fcc9-348d6935d470"
   },
   "outputs": [
    {
     "data": {
      "text/html": [
       "<div>\n",
       "<style scoped>\n",
       "    .dataframe tbody tr th:only-of-type {\n",
       "        vertical-align: middle;\n",
       "    }\n",
       "\n",
       "    .dataframe tbody tr th {\n",
       "        vertical-align: top;\n",
       "    }\n",
       "\n",
       "    .dataframe thead th {\n",
       "        text-align: right;\n",
       "    }\n",
       "</style>\n",
       "<table border=\"1\" class=\"dataframe\">\n",
       "  <thead>\n",
       "    <tr style=\"text-align: right;\">\n",
       "      <th></th>\n",
       "      <th>abstract</th>\n",
       "      <th>body</th>\n",
       "      <th>citations</th>\n",
       "      <th>filepath</th>\n",
       "      <th>summary</th>\n",
       "    </tr>\n",
       "  </thead>\n",
       "  <tbody>\n",
       "    <tr>\n",
       "      <th>0</th>\n",
       "      <td>Broad-coverage lexical resources such as WordN...</td>\n",
       "      <td>Broad-coverage lexical resources such as WordN...</td>\n",
       "      <td>['Different measures have been proposed, which...</td>\n",
       "      <td>./nlp_data/scisummnet_release1.1__20190413/top...</td>\n",
       "      <td>Concept Discovery From Text\\nBroad-coverage le...</td>\n",
       "    </tr>\n",
       "    <tr>\n",
       "      <th>1</th>\n",
       "      <td>algebraic path problem (shortest paths; matrix...</td>\n",
       "      <td>Rational relations on strings have become wide...</td>\n",
       "      <td>['The calculation of expected counts can be fo...</td>\n",
       "      <td>./nlp_data/scisummnet_release1.1__20190413/top...</td>\n",
       "      <td>Parameter Estimation For Probabilistic Finite-...</td>\n",
       "    </tr>\n",
       "    <tr>\n",
       "      <th>2</th>\n",
       "      <td>This paper investigates why the HMMs es timate...</td>\n",
       "      <td>It is well known that Expectation-Maximization...</td>\n",
       "      <td>['[vbhmm]: Bayesian HMM with variational Bayes...</td>\n",
       "      <td>./nlp_data/scisummnet_release1.1__20190413/top...</td>\n",
       "      <td>Why Doesn't EM Find Good HMM POS-Taggers?\\nThi...</td>\n",
       "    </tr>\n",
       "    <tr>\n",
       "      <th>3</th>\n",
       "      <td>Identifying sentiments (the affective parts of...</td>\n",
       "      <td>What is an opinion?\\nThe many opinions on opin...</td>\n",
       "      <td>['This idea is similar to that of (Kim and Hov...</td>\n",
       "      <td>./nlp_data/scisummnet_release1.1__20190413/top...</td>\n",
       "      <td>Determining The Sentiment Of Opinions\\nIdentif...</td>\n",
       "    </tr>\n",
       "    <tr>\n",
       "      <th>4</th>\n",
       "      <td>We investigate generalizations of the allsubtr...</td>\n",
       "      <td>The problem of bootstrapping syntactic structu...</td>\n",
       "      <td>['While Klein and Manning\\'s approach may be d...</td>\n",
       "      <td>./nlp_data/scisummnet_release1.1__20190413/top...</td>\n",
       "      <td>An All-Subtrees Approach To Unsupervised Parsi...</td>\n",
       "    </tr>\n",
       "  </tbody>\n",
       "</table>\n",
       "</div>"
      ],
      "text/plain": [
       "                                            abstract  \\\n",
       "0  Broad-coverage lexical resources such as WordN...   \n",
       "1  algebraic path problem (shortest paths; matrix...   \n",
       "2  This paper investigates why the HMMs es timate...   \n",
       "3  Identifying sentiments (the affective parts of...   \n",
       "4  We investigate generalizations of the allsubtr...   \n",
       "\n",
       "                                                body  \\\n",
       "0  Broad-coverage lexical resources such as WordN...   \n",
       "1  Rational relations on strings have become wide...   \n",
       "2  It is well known that Expectation-Maximization...   \n",
       "3  What is an opinion?\\nThe many opinions on opin...   \n",
       "4  The problem of bootstrapping syntactic structu...   \n",
       "\n",
       "                                           citations  \\\n",
       "0  ['Different measures have been proposed, which...   \n",
       "1  ['The calculation of expected counts can be fo...   \n",
       "2  ['[vbhmm]: Bayesian HMM with variational Bayes...   \n",
       "3  ['This idea is similar to that of (Kim and Hov...   \n",
       "4  ['While Klein and Manning\\'s approach may be d...   \n",
       "\n",
       "                                            filepath  \\\n",
       "0  ./nlp_data/scisummnet_release1.1__20190413/top...   \n",
       "1  ./nlp_data/scisummnet_release1.1__20190413/top...   \n",
       "2  ./nlp_data/scisummnet_release1.1__20190413/top...   \n",
       "3  ./nlp_data/scisummnet_release1.1__20190413/top...   \n",
       "4  ./nlp_data/scisummnet_release1.1__20190413/top...   \n",
       "\n",
       "                                             summary  \n",
       "0  Concept Discovery From Text\\nBroad-coverage le...  \n",
       "1  Parameter Estimation For Probabilistic Finite-...  \n",
       "2  Why Doesn't EM Find Good HMM POS-Taggers?\\nThi...  \n",
       "3  Determining The Sentiment Of Opinions\\nIdentif...  \n",
       "4  An All-Subtrees Approach To Unsupervised Parsi...  "
      ]
     },
     "execution_count": 2,
     "metadata": {},
     "output_type": "execute_result"
    }
   ],
   "source": [
    "df = pd.read_csv(\"./scisumm.csv\", index_col=0)\n",
    "df = df.reset_index(drop=True)\n",
    "df.head()"
   ]
  },
  {
   "cell_type": "code",
   "execution_count": 3,
   "metadata": {
    "colab": {
     "base_uri": "https://localhost:8080/"
    },
    "id": "6ama_LfsduO2",
    "outputId": "24630f7a-6129-4e95-9a8c-10dfbe56dece"
   },
   "outputs": [
    {
     "data": {
      "text/plain": [
       "(923, 5)"
      ]
     },
     "execution_count": 3,
     "metadata": {},
     "output_type": "execute_result"
    }
   ],
   "source": [
    "df.shape"
   ]
  },
  {
   "cell_type": "code",
   "execution_count": 39,
   "metadata": {
    "id": "yTaYOovoXFdW"
   },
   "outputs": [],
   "source": [
    "df_clean = df.copy()"
   ]
  },
  {
   "cell_type": "code",
   "execution_count": 42,
   "metadata": {
    "colab": {
     "base_uri": "https://localhost:8080/"
    },
    "id": "bsw-CvUTdGJ5",
    "outputId": "42ecd0e4-96c4-465f-e565-856dad7e3119"
   },
   "outputs": [
    {
     "name": "stdout",
     "output_type": "stream",
     "text": [
      "object\n"
     ]
    }
   ],
   "source": [
    "df_clean['body'] = df_clean['body'].astype(str)\n",
    "print(df_clean['body'].dtype)"
   ]
  },
  {
   "cell_type": "code",
   "execution_count": 56,
   "metadata": {
    "id": "UfIhWAztbAr-"
   },
   "outputs": [],
   "source": [
    "import re\n",
    "\n",
    "# remove citations from the input text\n",
    "cite_pattern = r\"\\(([\\w\\s]+(?:et al\\.)?(?:,\\s*[\\w\\s]+)*),?\\s*\\d{4}\\)\"\n",
    "df_clean['body'] = df_clean['body'].apply(lambda x: re.sub(cite_pattern, '', x))\n",
    "\n",
    "# remove texts enclosed in brackets\n",
    "bracket_pattern = r\"\\(.*?\\)\"\n",
    "df_clean['body'] = df_clean['body'].apply(lambda x: re.sub(bracket_pattern, '', x))\n",
    "\n",
    "# remove unnecessary characters and symbols\n",
    "df_clean['body'] = df_clean['body'].str.replace('[^a-zA-Z0-9\\s]+', '')\n",
    "\n",
    "# remove all \\n and extra whitespaces\n",
    "df_clean['body'] = df_clean['body'].apply(lambda x: x.replace('\\n', ' ').strip())"
   ]
  },
  {
   "cell_type": "code",
   "execution_count": 74,
   "metadata": {
    "id": "n-mzknGyafN4"
   },
   "outputs": [],
   "source": [
    "df_clean['abstract'] = df_clean['abstract'].apply(lambda x: x.replace('\\n', ' ').strip())\n",
    "df_clean['summary'] = df_clean['summary'].apply(lambda x: x.replace('\\n', ' ').strip())"
   ]
  },
  {
   "cell_type": "code",
   "execution_count": 78,
   "metadata": {
    "id": "3uayQB-zo3y-"
   },
   "outputs": [],
   "source": [
    "df_clean.to_csv('scisumm_clean.csv')"
   ]
  },
  {
   "cell_type": "markdown",
   "metadata": {
    "id": "2meWuqi9j94r"
   },
   "source": [
    "# Model\n"
   ]
  },
  {
   "cell_type": "code",
   "execution_count": 15,
   "metadata": {
    "id": "k9A3L3MxpGNk"
   },
   "outputs": [],
   "source": [
    "df_clean = pd.read_csv(\"./scisumm_clean.csv\", index_col=0)"
   ]
  },
  {
   "cell_type": "code",
   "execution_count": 3,
   "metadata": {
    "colab": {
     "base_uri": "https://localhost:8080/",
     "height": 652
    },
    "id": "Mw0QbDxJ5oAk",
    "outputId": "333747e8-02a2-4883-884e-eedb03a89959"
   },
   "outputs": [
    {
     "data": {
      "text/html": [
       "<div>\n",
       "<style scoped>\n",
       "    .dataframe tbody tr th:only-of-type {\n",
       "        vertical-align: middle;\n",
       "    }\n",
       "\n",
       "    .dataframe tbody tr th {\n",
       "        vertical-align: top;\n",
       "    }\n",
       "\n",
       "    .dataframe thead th {\n",
       "        text-align: right;\n",
       "    }\n",
       "</style>\n",
       "<table border=\"1\" class=\"dataframe\">\n",
       "  <thead>\n",
       "    <tr style=\"text-align: right;\">\n",
       "      <th></th>\n",
       "      <th>abstract</th>\n",
       "      <th>body</th>\n",
       "      <th>citations</th>\n",
       "      <th>filepath</th>\n",
       "      <th>summary</th>\n",
       "    </tr>\n",
       "  </thead>\n",
       "  <tbody>\n",
       "    <tr>\n",
       "      <th>0</th>\n",
       "      <td>Broad-coverage lexical resources such as WordN...</td>\n",
       "      <td>Broadcoverage lexical resources such as WordNe...</td>\n",
       "      <td>['Different measures have been proposed, which...</td>\n",
       "      <td>./nlp_data/scisummnet_release1.1__20190413/top...</td>\n",
       "      <td>Concept Discovery From Text Broad-coverage lex...</td>\n",
       "    </tr>\n",
       "    <tr>\n",
       "      <th>1</th>\n",
       "      <td>algebraic path problem (shortest paths; matrix...</td>\n",
       "      <td>Rational relations on strings have become wide...</td>\n",
       "      <td>['The calculation of expected counts can be fo...</td>\n",
       "      <td>./nlp_data/scisummnet_release1.1__20190413/top...</td>\n",
       "      <td>Parameter Estimation For Probabilistic Finite-...</td>\n",
       "    </tr>\n",
       "    <tr>\n",
       "      <th>2</th>\n",
       "      <td>This paper investigates why the HMMs es timate...</td>\n",
       "      <td>It is well known that ExpectationMaximization ...</td>\n",
       "      <td>['[vbhmm]: Bayesian HMM with variational Bayes...</td>\n",
       "      <td>./nlp_data/scisummnet_release1.1__20190413/top...</td>\n",
       "      <td>Why Doesn't EM Find Good HMM POS-Taggers? This...</td>\n",
       "    </tr>\n",
       "    <tr>\n",
       "      <th>3</th>\n",
       "      <td>Identifying sentiments (the affective parts of...</td>\n",
       "      <td>What is an opinion The many opinions on opinio...</td>\n",
       "      <td>['This idea is similar to that of (Kim and Hov...</td>\n",
       "      <td>./nlp_data/scisummnet_release1.1__20190413/top...</td>\n",
       "      <td>Determining The Sentiment Of Opinions Identify...</td>\n",
       "    </tr>\n",
       "    <tr>\n",
       "      <th>4</th>\n",
       "      <td>We investigate generalizations of the allsubtr...</td>\n",
       "      <td>The problem of bootstrapping syntactic structu...</td>\n",
       "      <td>['While Klein and Manning\\'s approach may be d...</td>\n",
       "      <td>./nlp_data/scisummnet_release1.1__20190413/top...</td>\n",
       "      <td>An All-Subtrees Approach To Unsupervised Parsi...</td>\n",
       "    </tr>\n",
       "  </tbody>\n",
       "</table>\n",
       "</div>"
      ],
      "text/plain": [
       "                                            abstract  \\\n",
       "0  Broad-coverage lexical resources such as WordN...   \n",
       "1  algebraic path problem (shortest paths; matrix...   \n",
       "2  This paper investigates why the HMMs es timate...   \n",
       "3  Identifying sentiments (the affective parts of...   \n",
       "4  We investigate generalizations of the allsubtr...   \n",
       "\n",
       "                                                body  \\\n",
       "0  Broadcoverage lexical resources such as WordNe...   \n",
       "1  Rational relations on strings have become wide...   \n",
       "2  It is well known that ExpectationMaximization ...   \n",
       "3  What is an opinion The many opinions on opinio...   \n",
       "4  The problem of bootstrapping syntactic structu...   \n",
       "\n",
       "                                           citations  \\\n",
       "0  ['Different measures have been proposed, which...   \n",
       "1  ['The calculation of expected counts can be fo...   \n",
       "2  ['[vbhmm]: Bayesian HMM with variational Bayes...   \n",
       "3  ['This idea is similar to that of (Kim and Hov...   \n",
       "4  ['While Klein and Manning\\'s approach may be d...   \n",
       "\n",
       "                                            filepath  \\\n",
       "0  ./nlp_data/scisummnet_release1.1__20190413/top...   \n",
       "1  ./nlp_data/scisummnet_release1.1__20190413/top...   \n",
       "2  ./nlp_data/scisummnet_release1.1__20190413/top...   \n",
       "3  ./nlp_data/scisummnet_release1.1__20190413/top...   \n",
       "4  ./nlp_data/scisummnet_release1.1__20190413/top...   \n",
       "\n",
       "                                             summary  \n",
       "0  Concept Discovery From Text Broad-coverage lex...  \n",
       "1  Parameter Estimation For Probabilistic Finite-...  \n",
       "2  Why Doesn't EM Find Good HMM POS-Taggers? This...  \n",
       "3  Determining The Sentiment Of Opinions Identify...  \n",
       "4  An All-Subtrees Approach To Unsupervised Parsi...  "
      ]
     },
     "execution_count": 3,
     "metadata": {},
     "output_type": "execute_result"
    }
   ],
   "source": [
    "df_clean.head()"
   ]
  },
  {
   "cell_type": "code",
   "execution_count": 16,
   "metadata": {
    "colab": {
     "base_uri": "https://localhost:8080/"
    },
    "id": "GtKTl7_O5qYZ",
    "outputId": "a9775d1a-75fb-407d-954c-b5bca1ef9d8c"
   },
   "outputs": [
    {
     "data": {
      "text/plain": [
       "(923, 5)"
      ]
     },
     "execution_count": 16,
     "metadata": {},
     "output_type": "execute_result"
    }
   ],
   "source": [
    "df_clean.shape"
   ]
  },
  {
   "cell_type": "code",
   "execution_count": 2,
   "metadata": {
    "id": "z7ZZObKvkwWq"
   },
   "outputs": [
    {
     "name": "stderr",
     "output_type": "stream",
     "text": [
      "2023-04-21 02:44:25.169696: I tensorflow/core/platform/cpu_feature_guard.cc:182] This TensorFlow binary is optimized to use available CPU instructions in performance-critical operations.\n",
      "To enable the following instructions: AVX2 AVX512F FMA, in other operations, rebuild TensorFlow with the appropriate compiler flags.\n",
      "2023-04-21 02:44:26.301699: W tensorflow/compiler/tf2tensorrt/utils/py_utils.cc:38] TF-TRT Warning: Could not find TensorRT\n"
     ]
    }
   ],
   "source": [
    "import torch\n",
    "from transformers import T5TokenizerFast, T5ForConditionalGeneration\n",
    "from transformers import Trainer, TrainingArguments\n",
    "from transformers import LongformerTokenizerFast, EncoderDecoderModel"
   ]
  },
  {
   "cell_type": "markdown",
   "metadata": {
    "id": "JtykJ3twlSzX"
   },
   "source": [
    "## Split Dataset"
   ]
  },
  {
   "cell_type": "code",
   "execution_count": 5,
   "metadata": {
    "id": "Vv900vpZlNuw"
   },
   "outputs": [],
   "source": [
    "# Train Test Split\n",
    "from sklearn.model_selection import train_test_split\n",
    "\n",
    "# split the data in 80:10:10 for train:valid:test dataset\n",
    "# in_df = df_clean.sample(len(df_clean), random_state=630)\n",
    "in_df = df.sample(len(df), random_state=630)\n",
    "train_df, rem_df = train_test_split(in_df, train_size=0.8)\n",
    "val_df, test_df = train_test_split(rem_df, test_size=0.5)\n",
    "\n",
    "train_inputs = list(train_df['body'])\n",
    "test_inputs = list(test_df['body'])\n",
    "val_inputs = list(val_df['body'])\n",
    "# val_input = [str(i) for i in val_df['body'].values]\n",
    "\n",
    "train_targets = list(train_df['summary'])\n",
    "test_targets = list(test_df['summary'])\n",
    "val_targets = list(val_df['summary'])"
   ]
  },
  {
   "cell_type": "code",
   "execution_count": 20,
   "metadata": {},
   "outputs": [],
   "source": [
    "def compute_rouge(rouge_scores):\n",
    "    rouge_1_precision = np.mean([score['rouge-1']['p'] for score in rouge_scores])\n",
    "    rouge_1_recall = np.mean([score['rouge-1']['r'] for score in rouge_scores])\n",
    "    rouge_1_f1 = np.mean([score['rouge-1']['f'] for score in rouge_scores])\n",
    "    \n",
    "    rouge_2_precision = np.mean([score['rouge-2']['p'] for score in rouge_scores])\n",
    "    rouge_2_recall = np.mean([score['rouge-2']['r'] for score in rouge_scores])\n",
    "    rouge_2_f1 = np.mean([score['rouge-2']['f'] for score in rouge_scores])\n",
    "    \n",
    "    rouge_l_precision = np.mean([score['rouge-l']['p'] for score in rouge_scores])\n",
    "    rouge_l_recall = np.mean([score['rouge-l']['r'] for score in rouge_scores])\n",
    "    rouge_l_f1 = np.mean([score['rouge-l']['f'] for score in rouge_scores])\n",
    "    \n",
    "    return rouge_1_precision, rouge_1_recall, rouge_1_f1, rouge_2_precision, rouge_2_recall, rouge_2_f1, rouge_l_precision, rouge_l_recall, rouge_l_f1"
   ]
  },
  {
   "cell_type": "code",
   "execution_count": 12,
   "metadata": {},
   "outputs": [],
   "source": [
    "def generate_summaries(model, dataset, tokenizer):\n",
    "    summaries = []\n",
    "    model.eval()\n",
    "\n",
    "    for item in dataset:\n",
    "        with torch.no_grad():\n",
    "            input_ids = item[\"input_ids\"].unsqueeze(0).to(model.device)\n",
    "            attention_mask = item[\"attention_mask\"].unsqueeze(0).to(model.device)\n",
    "            output = model.generate(input_ids, attention_mask=attention_mask)\n",
    "            summary = tokenizer.decode(output[0], skip_special_tokens=True)\n",
    "            summaries.append(summary)\n",
    "\n",
    "    return summaries"
   ]
  },
  {
   "cell_type": "markdown",
   "metadata": {
    "id": "2ofMvqNJkT8x"
   },
   "source": [
    "## T5-small"
   ]
  },
  {
   "cell_type": "code",
   "execution_count": 8,
   "metadata": {
    "colab": {
     "base_uri": "https://localhost:8080/"
    },
    "id": "QTGCVQ5DkTmE",
    "outputId": "b449c122-2cda-4dd7-f571-a2fa75b1c95d"
   },
   "outputs": [
    {
     "name": "stderr",
     "output_type": "stream",
     "text": [
      "/home/wutongg/miniconda3/envs/si630/lib/python3.11/site-packages/transformers/models/t5/tokenization_t5_fast.py:155: FutureWarning: This tokenizer was incorrectly instantiated with a model max length of 512 which will be corrected in Transformers v5.\n",
      "For now, this behavior is kept to avoid breaking backwards compatibility when padding/encoding with `truncation is True`.\n",
      "- Be aware that you SHOULD NOT rely on t5-small automatically truncating your input to 512 when padding/encoding.\n",
      "- If you want to encode/pad to sequences longer than 512 you can either instantiate this tokenizer with `model_max_length` or pass `max_length` when encoding/padding.\n",
      "- To avoid this warning, please instantiate this tokenizer with `model_max_length` set to your preferred value.\n",
      "  warnings.warn(\n"
     ]
    }
   ],
   "source": [
    "model_name = 't5-small'\n",
    "tokenizer = T5TokenizerFast.from_pretrained(model_name)\n",
    "model = T5ForConditionalGeneration.from_pretrained(model_name)\n",
    "    \n",
    "# Tokenize and encode dataset\n",
    "train_inputs_encodings = tokenizer(train_inputs, padding=True, truncation=True, max_length=512, return_tensors='pt')\n",
    "train_targets_encodings = tokenizer(train_targets, padding=True, truncation=True, max_length=512, return_tensors='pt')\n",
    "val_inputs_encodings = tokenizer(val_inputs, padding=True, truncation=True, max_length=512, return_tensors='pt')\n",
    "val_targets_encodings = tokenizer(val_targets, padding=True, truncation=True, max_length=512, return_tensors='pt')\n",
    "test_inputs_encodings = tokenizer(test_inputs, padding=True, truncation=True, max_length=512, return_tensors='pt')\n",
    "test_targets_encodings = tokenizer(test_targets, padding=True, truncation=True, max_length=512, return_tensors='pt')\n",
    "\n",
    "class PrepareDataset(torch.utils.data.Dataset):\n",
    "    def __init__(self, encodings, decodings):\n",
    "        self.encodings = encodings\n",
    "        self.decodings = decodings\n",
    "\n",
    "    def __getitem__(self, idx):\n",
    "        item = {key: torch.tensor(val[idx]) for key, val in self.encodings.items()}\n",
    "        item['labels'] = torch.tensor(self.decodings['input_ids'][idx])\n",
    "        item['decoder_attention_mask'] = torch.tensor(self.decodings['attention_mask'][idx])\n",
    "        return item\n",
    "\n",
    "    def __len__(self):\n",
    "        return len(self.encodings['input_ids'])\n",
    "\n",
    "train_dataset = PrepareDataset(train_inputs_encodings, train_targets_encodings)\n",
    "val_dataset = PrepareDataset(val_inputs_encodings, val_targets_encodings)\n",
    "test_dataset = PrepareDataset(test_inputs_encodings, test_targets_encodings)"
   ]
  },
  {
   "cell_type": "markdown",
   "metadata": {
    "id": "SqVQiyec0Ucs"
   },
   "source": [
    "### Fine-tuned"
   ]
  },
  {
   "cell_type": "code",
   "execution_count": 8,
   "metadata": {
    "id": "7kq5-3W93W5J"
   },
   "outputs": [],
   "source": [
    "# Define the evaluation function with Rouge metrics\n",
    "def compute_metrics(pred):\n",
    "    targets = pred.label_ids\n",
    "    preds = pred.predictions\n",
    "    if isinstance(preds, tuple):\n",
    "        preds = preds[0]\n",
    "    scorer = rouge_scorer.RougeScorer(['rouge1', 'rouge2', 'rougeL'], use_stemmer=True)\n",
    "    rouge1_scores = []\n",
    "    rouge2_scores = []\n",
    "    rougel_scores = []\n",
    "\n",
    "    for batch_idx in range(len(targets)): # 92 batches with 466 predictions\n",
    "        batch_rouge1_scores = []\n",
    "        batch_rouge2_scores = []\n",
    "        batch_rougel_scores = []\n",
    "        for pred_idx in range(len(targets[batch_idx])):\n",
    "            target = tokenizer.decode(targets[batch_idx][pred_idx], skip_special_tokens=True)\n",
    "            sequence_ids = (preds[batch_idx][pred_idx]).reshape((1, -1))\n",
    "            # np.save('my_array.npy', sequence_ids)\n",
    "            # sequence_ids_list = sequence_ids.tolist()\n",
    "            # print(type(sequence_ids))\n",
    "            # print(sequence_ids.shape)\n",
    "            pred = tokenizer.batch_decode(np.abs(sequence_ids.astype(int)), skip_special_tokens=True)\n",
    "            # print(pred)\n",
    "            scores = scorer.score(target, \"\".join(pred))\n",
    "            batch_rouge1_scores.append(scores['rouge1'].fmeasure)\n",
    "            batch_rouge2_scores.append(scores['rouge2'].fmeasure)\n",
    "            batch_rougel_scores.append(scores['rougeL'].fmeasure)\n",
    "        rouge1_scores.append(sum(batch_rouge1_scores) / len(batch_rouge1_scores))\n",
    "        rouge2_scores.append(sum(batch_rouge2_scores) / len(batch_rouge2_scores))\n",
    "        rougel_scores.append(sum(batch_rougel_scores) / len(batch_rougel_scores))\n",
    "    rouge1_score = sum(rouge1_scores) / len(rouge1_scores)\n",
    "    rouge2_score = sum(rouge2_scores) / len(rouge2_scores)\n",
    "    rougel_score = sum(rougel_scores) / len(rougel_scores)\n",
    "    return {'rouge1': rouge1_score, 'rouge2': rouge2_score, 'rougeL': rougel_score}"
   ]
  },
  {
   "cell_type": "code",
   "execution_count": 12,
   "metadata": {
    "colab": {
     "base_uri": "https://localhost:8080/",
     "height": 286
    },
    "id": "8QZGug9X1LCE",
    "outputId": "aa7ad173-9b44-4fd9-97b3-961d79f9c704"
   },
   "outputs": [
    {
     "name": "stderr",
     "output_type": "stream",
     "text": [
      "/home/wutongg/miniconda3/envs/si630/lib/python3.11/site-packages/transformers/optimization.py:391: FutureWarning: This implementation of AdamW is deprecated and will be removed in a future version. Use the PyTorch implementation torch.optim.AdamW instead, or set `no_deprecation_warning=True` to disable this warning\n",
      "  warnings.warn(\n",
      "/tmp/ipykernel_475737/3811750581.py:19: UserWarning: To copy construct from a tensor, it is recommended to use sourceTensor.clone().detach() or sourceTensor.clone().detach().requires_grad_(True), rather than torch.tensor(sourceTensor).\n",
      "  item = {key: torch.tensor(val[idx]) for key, val in self.encodings.items()}\n",
      "/tmp/ipykernel_475737/3811750581.py:20: UserWarning: To copy construct from a tensor, it is recommended to use sourceTensor.clone().detach() or sourceTensor.clone().detach().requires_grad_(True), rather than torch.tensor(sourceTensor).\n",
      "  item['labels'] = torch.tensor(self.decodings['input_ids'][idx])\n",
      "/tmp/ipykernel_475737/3811750581.py:21: UserWarning: To copy construct from a tensor, it is recommended to use sourceTensor.clone().detach() or sourceTensor.clone().detach().requires_grad_(True), rather than torch.tensor(sourceTensor).\n",
      "  item['decoder_attention_mask'] = torch.tensor(self.decodings['attention_mask'][idx])\n"
     ]
    },
    {
     "data": {
      "text/html": [
       "\n",
       "    <div>\n",
       "      \n",
       "      <progress value='925' max='925' style='width:300px; height:20px; vertical-align: middle;'></progress>\n",
       "      [925/925 02:09, Epoch 5/5]\n",
       "    </div>\n",
       "    <table border=\"1\" class=\"dataframe\">\n",
       "  <thead>\n",
       " <tr style=\"text-align: left;\">\n",
       "      <th>Epoch</th>\n",
       "      <th>Training Loss</th>\n",
       "      <th>Validation Loss</th>\n",
       "    </tr>\n",
       "  </thead>\n",
       "  <tbody>\n",
       "    <tr>\n",
       "      <td>1</td>\n",
       "      <td>6.851900</td>\n",
       "      <td>1.912566</td>\n",
       "    </tr>\n",
       "    <tr>\n",
       "      <td>2</td>\n",
       "      <td>1.508600</td>\n",
       "      <td>1.847081</td>\n",
       "    </tr>\n",
       "    <tr>\n",
       "      <td>3</td>\n",
       "      <td>1.408700</td>\n",
       "      <td>1.816899</td>\n",
       "    </tr>\n",
       "    <tr>\n",
       "      <td>4</td>\n",
       "      <td>1.366000</td>\n",
       "      <td>1.805662</td>\n",
       "    </tr>\n",
       "    <tr>\n",
       "      <td>5</td>\n",
       "      <td>1.411300</td>\n",
       "      <td>1.802363</td>\n",
       "    </tr>\n",
       "  </tbody>\n",
       "</table><p>"
      ],
      "text/plain": [
       "<IPython.core.display.HTML object>"
      ]
     },
     "metadata": {},
     "output_type": "display_data"
    },
    {
     "name": "stderr",
     "output_type": "stream",
     "text": [
      "/tmp/ipykernel_475737/3811750581.py:19: UserWarning: To copy construct from a tensor, it is recommended to use sourceTensor.clone().detach() or sourceTensor.clone().detach().requires_grad_(True), rather than torch.tensor(sourceTensor).\n",
      "  item = {key: torch.tensor(val[idx]) for key, val in self.encodings.items()}\n",
      "/tmp/ipykernel_475737/3811750581.py:20: UserWarning: To copy construct from a tensor, it is recommended to use sourceTensor.clone().detach() or sourceTensor.clone().detach().requires_grad_(True), rather than torch.tensor(sourceTensor).\n",
      "  item['labels'] = torch.tensor(self.decodings['input_ids'][idx])\n",
      "/tmp/ipykernel_475737/3811750581.py:21: UserWarning: To copy construct from a tensor, it is recommended to use sourceTensor.clone().detach() or sourceTensor.clone().detach().requires_grad_(True), rather than torch.tensor(sourceTensor).\n",
      "  item['decoder_attention_mask'] = torch.tensor(self.decodings['attention_mask'][idx])\n",
      "/tmp/ipykernel_475737/3811750581.py:19: UserWarning: To copy construct from a tensor, it is recommended to use sourceTensor.clone().detach() or sourceTensor.clone().detach().requires_grad_(True), rather than torch.tensor(sourceTensor).\n",
      "  item = {key: torch.tensor(val[idx]) for key, val in self.encodings.items()}\n",
      "/tmp/ipykernel_475737/3811750581.py:20: UserWarning: To copy construct from a tensor, it is recommended to use sourceTensor.clone().detach() or sourceTensor.clone().detach().requires_grad_(True), rather than torch.tensor(sourceTensor).\n",
      "  item['labels'] = torch.tensor(self.decodings['input_ids'][idx])\n",
      "/tmp/ipykernel_475737/3811750581.py:21: UserWarning: To copy construct from a tensor, it is recommended to use sourceTensor.clone().detach() or sourceTensor.clone().detach().requires_grad_(True), rather than torch.tensor(sourceTensor).\n",
      "  item['decoder_attention_mask'] = torch.tensor(self.decodings['attention_mask'][idx])\n",
      "/tmp/ipykernel_475737/3811750581.py:19: UserWarning: To copy construct from a tensor, it is recommended to use sourceTensor.clone().detach() or sourceTensor.clone().detach().requires_grad_(True), rather than torch.tensor(sourceTensor).\n",
      "  item = {key: torch.tensor(val[idx]) for key, val in self.encodings.items()}\n",
      "/tmp/ipykernel_475737/3811750581.py:20: UserWarning: To copy construct from a tensor, it is recommended to use sourceTensor.clone().detach() or sourceTensor.clone().detach().requires_grad_(True), rather than torch.tensor(sourceTensor).\n",
      "  item['labels'] = torch.tensor(self.decodings['input_ids'][idx])\n",
      "/tmp/ipykernel_475737/3811750581.py:21: UserWarning: To copy construct from a tensor, it is recommended to use sourceTensor.clone().detach() or sourceTensor.clone().detach().requires_grad_(True), rather than torch.tensor(sourceTensor).\n",
      "  item['decoder_attention_mask'] = torch.tensor(self.decodings['attention_mask'][idx])\n",
      "/tmp/ipykernel_475737/3811750581.py:19: UserWarning: To copy construct from a tensor, it is recommended to use sourceTensor.clone().detach() or sourceTensor.clone().detach().requires_grad_(True), rather than torch.tensor(sourceTensor).\n",
      "  item = {key: torch.tensor(val[idx]) for key, val in self.encodings.items()}\n",
      "/tmp/ipykernel_475737/3811750581.py:20: UserWarning: To copy construct from a tensor, it is recommended to use sourceTensor.clone().detach() or sourceTensor.clone().detach().requires_grad_(True), rather than torch.tensor(sourceTensor).\n",
      "  item['labels'] = torch.tensor(self.decodings['input_ids'][idx])\n",
      "/tmp/ipykernel_475737/3811750581.py:21: UserWarning: To copy construct from a tensor, it is recommended to use sourceTensor.clone().detach() or sourceTensor.clone().detach().requires_grad_(True), rather than torch.tensor(sourceTensor).\n",
      "  item['decoder_attention_mask'] = torch.tensor(self.decodings['attention_mask'][idx])\n"
     ]
    }
   ],
   "source": [
    "# Fine-tune T5 model\n",
    "training_args = TrainingArguments(\n",
    "    output_dir='./results',\n",
    "    evaluation_strategy='epoch',\n",
    "    num_train_epochs=5,\n",
    "    per_device_train_batch_size=4,\n",
    "    per_device_eval_batch_size=4,\n",
    "    warmup_steps=100,\n",
    "    weight_decay=1e-4,\n",
    "    logging_dir='./logs',\n",
    "    save_strategy='epoch',\n",
    "    logging_steps=100,\n",
    "    load_best_model_at_end=True\n",
    ")\n",
    "trainer = Trainer(\n",
    "    model=model,\n",
    "    args=training_args,\n",
    "    train_dataset=train_dataset,\n",
    "    eval_dataset=val_dataset,   \n",
    "    # compute_metrics=compute_metrics\n",
    ")\n",
    "\n",
    "trainer.train()\n",
    "trainer.save_model()"
   ]
  },
  {
   "cell_type": "code",
   "execution_count": 13,
   "metadata": {},
   "outputs": [
    {
     "name": "stderr",
     "output_type": "stream",
     "text": [
      "/tmp/ipykernel_475737/3811750581.py:19: UserWarning: To copy construct from a tensor, it is recommended to use sourceTensor.clone().detach() or sourceTensor.clone().detach().requires_grad_(True), rather than torch.tensor(sourceTensor).\n",
      "  item = {key: torch.tensor(val[idx]) for key, val in self.encodings.items()}\n",
      "/tmp/ipykernel_475737/3811750581.py:20: UserWarning: To copy construct from a tensor, it is recommended to use sourceTensor.clone().detach() or sourceTensor.clone().detach().requires_grad_(True), rather than torch.tensor(sourceTensor).\n",
      "  item['labels'] = torch.tensor(self.decodings['input_ids'][idx])\n",
      "/tmp/ipykernel_475737/3811750581.py:21: UserWarning: To copy construct from a tensor, it is recommended to use sourceTensor.clone().detach() or sourceTensor.clone().detach().requires_grad_(True), rather than torch.tensor(sourceTensor).\n",
      "  item['decoder_attention_mask'] = torch.tensor(self.decodings['attention_mask'][idx])\n",
      "/home/wutongg/miniconda3/envs/si630/lib/python3.11/site-packages/transformers/generation/utils.py:1288: UserWarning: Using `max_length`'s default (20) to control the generation length. This behaviour is deprecated and will be removed from the config in v5 of Transformers -- we recommend using `max_new_tokens` to control the maximum length of the generation.\n",
      "  warnings.warn(\n"
     ]
    }
   ],
   "source": [
    "test_summaries = generate_summaries(model, test_dataset, tokenizer)"
   ]
  },
  {
   "cell_type": "code",
   "execution_count": 14,
   "metadata": {},
   "outputs": [
    {
     "name": "stdout",
     "output_type": "stream",
     "text": [
      "ROUGE-1 Precision: 0.0738, Recall: 0.5628, F1: 0.1291\n",
      "ROUGE-2 Precision: 0.0204, Recall: 0.2204, F1: 0.0370\n",
      "ROUGE-L Precision: 0.0698, Recall: 0.5344, F1: 0.1222\n"
     ]
    }
   ],
   "source": [
    "from rouge import Rouge\n",
    "\n",
    "rouge_scores = []\n",
    "rouge = Rouge()\n",
    "\n",
    "for gen_summary, ref_summary in zip(test_summaries, test_df['summary']):\n",
    "    scores = rouge.get_scores(ref_summary, gen_summary)[0]\n",
    "    rouge_scores.append(scores)\n",
    "\n",
    "rouge_1_precision, rouge_1_recall, rouge_1_f1, rouge_2_precision, rouge_2_recall, rouge_2_f1, rouge_l_precision, rouge_l_recall, rouge_l_f1 = compute_rouge(rouge_scores)\n",
    "\n",
    "print(f\"ROUGE-1 Precision: {rouge_1_precision:.4f}, Recall: {rouge_1_recall:.4f}, F1: {rouge_1_f1:.4f}\")\n",
    "print(f\"ROUGE-2 Precision: {rouge_2_precision:.4f}, Recall: {rouge_2_recall:.4f}, F1: {rouge_2_f1:.4f}\")\n",
    "print(f\"ROUGE-L Precision: {rouge_l_precision:.4f}, Recall: {rouge_l_recall:.4f}, F1: {rouge_l_f1:.4f}\")"
   ]
  },
  {
   "cell_type": "markdown",
   "metadata": {
    "id": "ctN1vSE90NQO"
   },
   "source": [
    "### No tuning"
   ]
  },
  {
   "cell_type": "code",
   "execution_count": 11,
   "metadata": {},
   "outputs": [
    {
     "name": "stdout",
     "output_type": "stream",
     "text": [
      "ROUGE-1 Precision: 0.3920, Recall: 0.1354, F1: 0.1956\n",
      "ROUGE-2 Precision: 0.1315, Recall: 0.0351, F1: 0.0535\n",
      "ROUGE-L Precision: 0.3658, Recall: 0.1254, F1: 0.1814\n"
     ]
    }
   ],
   "source": [
    "rouge = Rouge()\n",
    "rouge_scores = []\n",
    "\n",
    "for i, row in test_df.iterrows():\n",
    "    body = row['body']\n",
    "    summary = row['summary']\n",
    "\n",
    "    # Encode the input text\n",
    "    input_ids = tokenizer.encode(body, max_length=512, padding='max_length', truncation=True, return_tensors='pt')\n",
    "\n",
    "    # Generate the summary using the T5 model\n",
    "    summary_ids = model.generate(input_ids, max_length=150, num_beams=2, early_stopping=True)\n",
    "    predicted_summary = tokenizer.decode(summary_ids[0], skip_special_tokens=True)\n",
    "    score = rouge.get_scores(predicted_summary, summary, avg=True)\n",
    "    rouge_scores.append(score)\n",
    "\n",
    "rouge_1_precision, rouge_1_recall, rouge_1_f1, rouge_2_precision, rouge_2_recall, rouge_2_f1, rouge_l_precision, rouge_l_recall, rouge_l_f1 = compute_rouge(rouge_scores)\n",
    "\n",
    "print(f\"ROUGE-1 Precision: {rouge_1_precision:.4f}, Recall: {rouge_1_recall:.4f}, F1: {rouge_1_f1:.4f}\")\n",
    "print(f\"ROUGE-2 Precision: {rouge_2_precision:.4f}, Recall: {rouge_2_recall:.4f}, F1: {rouge_2_f1:.4f}\")\n",
    "print(f\"ROUGE-L Precision: {rouge_l_precision:.4f}, Recall: {rouge_l_recall:.4f}, F1: {rouge_l_f1:.4f}\")"
   ]
  },
  {
   "cell_type": "markdown",
   "metadata": {
    "id": "CjtwBDsryB-y"
   },
   "source": [
    "## T5+extractive\n",
    "### n=20"
   ]
  },
  {
   "cell_type": "code",
   "execution_count": 3,
   "metadata": {
    "id": "ePnPIBj2yEVg"
   },
   "outputs": [],
   "source": [
    "train_df_ex = pd.read_csv(\"./train_df.csv\", index_col=0)\n",
    "val_df_ex = pd.read_csv(\"./val_df.csv\", index_col=0)\n",
    "test_df_ex = pd.read_csv(\"./test_df.csv\", index_col=0)"
   ]
  },
  {
   "cell_type": "code",
   "execution_count": 4,
   "metadata": {
    "id": "njaTl0xLysL1"
   },
   "outputs": [
    {
     "data": {
      "text/html": [
       "<div>\n",
       "<style scoped>\n",
       "    .dataframe tbody tr th:only-of-type {\n",
       "        vertical-align: middle;\n",
       "    }\n",
       "\n",
       "    .dataframe tbody tr th {\n",
       "        vertical-align: top;\n",
       "    }\n",
       "\n",
       "    .dataframe thead th {\n",
       "        text-align: right;\n",
       "    }\n",
       "</style>\n",
       "<table border=\"1\" class=\"dataframe\">\n",
       "  <thead>\n",
       "    <tr style=\"text-align: right;\">\n",
       "      <th></th>\n",
       "      <th>Unnamed: 0</th>\n",
       "      <th>abstract</th>\n",
       "      <th>body</th>\n",
       "      <th>citations</th>\n",
       "      <th>filepath</th>\n",
       "      <th>summary</th>\n",
       "      <th>body_extractive</th>\n",
       "    </tr>\n",
       "  </thead>\n",
       "  <tbody>\n",
       "    <tr>\n",
       "      <th>234</th>\n",
       "      <td>264</td>\n",
       "      <td>Large-scale natural language generation requir...</td>\n",
       "      <td>A large-scale natural language generation (NLG...</td>\n",
       "      <td>['Some NLG techniques use sampling strategies ...</td>\n",
       "      <td>/home/xinye/nlp_data/scisummnet_release1.1__20...</td>\n",
       "      <td>Two-Level Many-Paths Generation\\nLarge-scale n...</td>\n",
       "      <td>The quality of an NLG system depends on the qu...</td>\n",
       "    </tr>\n",
       "    <tr>\n",
       "      <th>865</th>\n",
       "      <td>946</td>\n",
       "      <td>This paper compares a number of generative pro...</td>\n",
       "      <td>The currently best single-model statistical pa...</td>\n",
       "      <td>['These parsers are trained and evaluated usin...</td>\n",
       "      <td>/home/xinye/nlp_data/scisummnet_release1.1__20...</td>\n",
       "      <td>Generative Models For Statistical Parsing With...</td>\n",
       "      <td>CCG grammars are characterized by much larger ...</td>\n",
       "    </tr>\n",
       "    <tr>\n",
       "      <th>472</th>\n",
       "      <td>525</td>\n",
       "      <td>Most foreign names are transliterated into Chi...</td>\n",
       "      <td>In applications such as cross-lingual informat...</td>\n",
       "      <td>['(Li et al 2004) introduced the joint transli...</td>\n",
       "      <td>/home/xinye/nlp_data/scisummnet_release1.1__20...</td>\n",
       "      <td>A Joint Source-Channel Model For Machine Trans...</td>\n",
       "      <td>For writing foreign names in Chinese, translit...</td>\n",
       "    </tr>\n",
       "    <tr>\n",
       "      <th>160</th>\n",
       "      <td>183</td>\n",
       "      <td>Unsupervised learning of linguistic structure ...</td>\n",
       "      <td>Unsupervised learning of linguistic structure ...</td>\n",
       "      <td>['The application of MCMC techniques, includin...</td>\n",
       "      <td>/home/xinye/nlp_data/scisummnet_release1.1__20...</td>\n",
       "      <td>A fully Bayesian approach to unsupervised part...</td>\n",
       "      <td>First, integrating over parameter values leads...</td>\n",
       "    </tr>\n",
       "    <tr>\n",
       "      <th>79</th>\n",
       "      <td>91</td>\n",
       "      <td>By exploring the relationship between parsing ...</td>\n",
       "      <td>The aim of this paper is to explore the relati...</td>\n",
       "      <td>['such as Earley deduction, to coestruct a par...</td>\n",
       "      <td>/home/xinye/nlp_data/scisummnet_release1.1__20...</td>\n",
       "      <td>Parsing As Deduction\\nBy exploring the relatio...</td>\n",
       "      <td>This identification can then be generalized to...</td>\n",
       "    </tr>\n",
       "  </tbody>\n",
       "</table>\n",
       "</div>"
      ],
      "text/plain": [
       "     Unnamed: 0                                           abstract  \\\n",
       "234         264  Large-scale natural language generation requir...   \n",
       "865         946  This paper compares a number of generative pro...   \n",
       "472         525  Most foreign names are transliterated into Chi...   \n",
       "160         183  Unsupervised learning of linguistic structure ...   \n",
       "79           91  By exploring the relationship between parsing ...   \n",
       "\n",
       "                                                  body  \\\n",
       "234  A large-scale natural language generation (NLG...   \n",
       "865  The currently best single-model statistical pa...   \n",
       "472  In applications such as cross-lingual informat...   \n",
       "160  Unsupervised learning of linguistic structure ...   \n",
       "79   The aim of this paper is to explore the relati...   \n",
       "\n",
       "                                             citations  \\\n",
       "234  ['Some NLG techniques use sampling strategies ...   \n",
       "865  ['These parsers are trained and evaluated usin...   \n",
       "472  ['(Li et al 2004) introduced the joint transli...   \n",
       "160  ['The application of MCMC techniques, includin...   \n",
       "79   ['such as Earley deduction, to coestruct a par...   \n",
       "\n",
       "                                              filepath  \\\n",
       "234  /home/xinye/nlp_data/scisummnet_release1.1__20...   \n",
       "865  /home/xinye/nlp_data/scisummnet_release1.1__20...   \n",
       "472  /home/xinye/nlp_data/scisummnet_release1.1__20...   \n",
       "160  /home/xinye/nlp_data/scisummnet_release1.1__20...   \n",
       "79   /home/xinye/nlp_data/scisummnet_release1.1__20...   \n",
       "\n",
       "                                               summary  \\\n",
       "234  Two-Level Many-Paths Generation\\nLarge-scale n...   \n",
       "865  Generative Models For Statistical Parsing With...   \n",
       "472  A Joint Source-Channel Model For Machine Trans...   \n",
       "160  A fully Bayesian approach to unsupervised part...   \n",
       "79   Parsing As Deduction\\nBy exploring the relatio...   \n",
       "\n",
       "                                       body_extractive  \n",
       "234  The quality of an NLG system depends on the qu...  \n",
       "865  CCG grammars are characterized by much larger ...  \n",
       "472  For writing foreign names in Chinese, translit...  \n",
       "160  First, integrating over parameter values leads...  \n",
       "79   This identification can then be generalized to...  "
      ]
     },
     "execution_count": 4,
     "metadata": {},
     "output_type": "execute_result"
    }
   ],
   "source": [
    "train_df_ex.head()"
   ]
  },
  {
   "cell_type": "code",
   "execution_count": 5,
   "metadata": {},
   "outputs": [],
   "source": [
    "train_df_ex = train_df_ex.dropna()\n",
    "val_df_ex = val_df_ex.dropna()\n",
    "test_df_ex = test_df_ex.dropna()"
   ]
  },
  {
   "cell_type": "code",
   "execution_count": 6,
   "metadata": {},
   "outputs": [],
   "source": [
    "train_inputs = list(train_df_ex['body_extractive'])\n",
    "test_inputs = list(test_df_ex['body_extractive'])\n",
    "val_inputs = list(val_df_ex['body_extractive'])\n",
    "# val_input = [str(i) for i in val_df['body'].values]\n",
    "\n",
    "train_targets = list(train_df_ex['summary'])\n",
    "test_targets = list(test_df_ex['summary'])\n",
    "val_targets = list(val_df_ex['summary'])"
   ]
  },
  {
   "cell_type": "code",
   "execution_count": 7,
   "metadata": {
    "id": "d6d5OrZWy4LW"
   },
   "outputs": [
    {
     "name": "stderr",
     "output_type": "stream",
     "text": [
      "/home/wutongg/.local/lib/python3.9/site-packages/transformers/models/t5/tokenization_t5_fast.py:155: FutureWarning: This tokenizer was incorrectly instantiated with a model max length of 512 which will be corrected in Transformers v5.\n",
      "For now, this behavior is kept to avoid breaking backwards compatibility when padding/encoding with `truncation is True`.\n",
      "- Be aware that you SHOULD NOT rely on t5-small automatically truncating your input to 512 when padding/encoding.\n",
      "- If you want to encode/pad to sequences longer than 512 you can either instantiate this tokenizer with `model_max_length` or pass `max_length` when encoding/padding.\n",
      "- To avoid this warning, please instantiate this tokenizer with `model_max_length` set to your preferred value.\n",
      "  warnings.warn(\n"
     ]
    }
   ],
   "source": [
    "model_name = 't5-small'\n",
    "tokenizer = T5TokenizerFast.from_pretrained(model_name)\n",
    "model = T5ForConditionalGeneration.from_pretrained(model_name)\n",
    "\n",
    "train_inputs_encodings = tokenizer(train_inputs, padding=True, truncation=True, max_length=512, return_tensors='pt')\n",
    "train_targets_encodings = tokenizer(train_targets, padding=True, truncation=True, max_length=512, return_tensors='pt')\n",
    "val_inputs_encodings = tokenizer(val_inputs, padding=True, truncation=True, max_length=512, return_tensors='pt')\n",
    "val_targets_encodings = tokenizer(val_targets, padding=True, truncation=True, max_length=512, return_tensors='pt')\n",
    "test_inputs_encodings = tokenizer(test_inputs, padding=True, truncation=True, max_length=512, return_tensors='pt')\n",
    "test_targets_encodings = tokenizer(test_targets, padding=True, truncation=True, max_length=512, return_tensors='pt')\n",
    "\n",
    "class PrepareDataset(torch.utils.data.Dataset):\n",
    "    def __init__(self, encodings, decodings):\n",
    "        self.encodings = encodings\n",
    "        self.decodings = decodings\n",
    "\n",
    "    def __getitem__(self, idx):\n",
    "        item = {key: torch.tensor(val[idx]) for key, val in self.encodings.items()}\n",
    "        item['labels'] = torch.tensor(self.decodings['input_ids'][idx])\n",
    "        item['decoder_attention_mask'] = torch.tensor(self.decodings['attention_mask'][idx])\n",
    "        return item\n",
    "\n",
    "    def __len__(self):\n",
    "        return len(self.encodings['input_ids'])\n",
    "\n",
    "train_dataset = PrepareDataset(train_inputs_encodings, train_targets_encodings)\n",
    "val_dataset = PrepareDataset(val_inputs_encodings, val_targets_encodings)\n",
    "test_dataset = PrepareDataset(test_inputs_encodings, test_targets_encodings)\n",
    "\n",
    "# Define the evaluation function with Rouge metrics\n",
    "def compute_metrics(pred):\n",
    "    targets = pred.label_ids\n",
    "    preds = pred.predictions\n",
    "    if isinstance(preds, tuple):\n",
    "        preds = preds[0]\n",
    "    scorer = rouge_scorer.RougeScorer(['rouge1', 'rouge2', 'rougeL'], use_stemmer=True)\n",
    "    rouge1_scores = []\n",
    "    rouge2_scores = []\n",
    "    rougel_scores = []\n",
    "\n",
    "    for batch_idx in range(len(targets)): # 92 batches with 466 predictions\n",
    "        batch_rouge1_scores = []\n",
    "        batch_rouge2_scores = []\n",
    "        batch_rougel_scores = []\n",
    "        for pred_idx in range(len(targets[batch_idx])):\n",
    "            target = tokenizer.decode(targets[batch_idx][pred_idx], skip_special_tokens=True)\n",
    "            sequence_ids = (preds[batch_idx][pred_idx]).reshape((1, -1))\n",
    "            # np.save('my_array.npy', sequence_ids)\n",
    "            # sequence_ids_list = sequence_ids.tolist()\n",
    "            # print(type(sequence_ids))\n",
    "            # print(sequence_ids.shape)\n",
    "            pred = tokenizer.batch_decode(np.abs(sequence_ids.astype(int)), skip_special_tokens=True)\n",
    "            # print(pred)\n",
    "            scores = scorer.score(target, \"\".join(pred))\n",
    "            batch_rouge1_scores.append(scores['rouge1'].fmeasure)\n",
    "            batch_rouge2_scores.append(scores['rouge2'].fmeasure)\n",
    "            batch_rougel_scores.append(scores['rougeL'].fmeasure)\n",
    "        rouge1_scores.append(sum(batch_rouge1_scores) / len(batch_rouge1_scores))\n",
    "        rouge2_scores.append(sum(batch_rouge2_scores) / len(batch_rouge2_scores))\n",
    "        rougel_scores.append(sum(batch_rougel_scores) / len(batch_rougel_scores))\n",
    "    rouge1_score = sum(rouge1_scores) / len(rouge1_scores)\n",
    "    rouge2_score = sum(rouge2_scores) / len(rouge2_scores)\n",
    "    rougel_score = sum(rougel_scores) / len(rougel_scores)\n",
    "    return {'rouge1': rouge1_score, 'rouge2': rouge2_score, 'rougeL': rougel_score}"
   ]
  },
  {
   "cell_type": "code",
   "execution_count": 8,
   "metadata": {
    "id": "P42uEtYNy_lq"
   },
   "outputs": [
    {
     "name": "stderr",
     "output_type": "stream",
     "text": [
      "/home/wutongg/.local/lib/python3.9/site-packages/transformers/optimization.py:391: FutureWarning: This implementation of AdamW is deprecated and will be removed in a future version. Use the PyTorch implementation torch.optim.AdamW instead, or set `no_deprecation_warning=True` to disable this warning\n",
      "  warnings.warn(\n",
      "/tmp/ipykernel_445123/332034878.py:18: UserWarning: To copy construct from a tensor, it is recommended to use sourceTensor.clone().detach() or sourceTensor.clone().detach().requires_grad_(True), rather than torch.tensor(sourceTensor).\n",
      "  item = {key: torch.tensor(val[idx]) for key, val in self.encodings.items()}\n",
      "/tmp/ipykernel_445123/332034878.py:19: UserWarning: To copy construct from a tensor, it is recommended to use sourceTensor.clone().detach() or sourceTensor.clone().detach().requires_grad_(True), rather than torch.tensor(sourceTensor).\n",
      "  item['labels'] = torch.tensor(self.decodings['input_ids'][idx])\n",
      "/tmp/ipykernel_445123/332034878.py:20: UserWarning: To copy construct from a tensor, it is recommended to use sourceTensor.clone().detach() or sourceTensor.clone().detach().requires_grad_(True), rather than torch.tensor(sourceTensor).\n",
      "  item['decoder_attention_mask'] = torch.tensor(self.decodings['attention_mask'][idx])\n"
     ]
    },
    {
     "data": {
      "text/html": [
       "\n",
       "    <div>\n",
       "      \n",
       "      <progress value='3690' max='3690' style='width:300px; height:20px; vertical-align: middle;'></progress>\n",
       "      [3690/3690 03:54, Epoch 5/5]\n",
       "    </div>\n",
       "    <table border=\"1\" class=\"dataframe\">\n",
       "  <thead>\n",
       " <tr style=\"text-align: left;\">\n",
       "      <th>Epoch</th>\n",
       "      <th>Training Loss</th>\n",
       "      <th>Validation Loss</th>\n",
       "    </tr>\n",
       "  </thead>\n",
       "  <tbody>\n",
       "    <tr>\n",
       "      <td>1</td>\n",
       "      <td>1.504100</td>\n",
       "      <td>1.551666</td>\n",
       "    </tr>\n",
       "    <tr>\n",
       "      <td>2</td>\n",
       "      <td>1.505100</td>\n",
       "      <td>1.512209</td>\n",
       "    </tr>\n",
       "    <tr>\n",
       "      <td>3</td>\n",
       "      <td>1.469200</td>\n",
       "      <td>1.495713</td>\n",
       "    </tr>\n",
       "    <tr>\n",
       "      <td>4</td>\n",
       "      <td>1.471500</td>\n",
       "      <td>1.488386</td>\n",
       "    </tr>\n",
       "    <tr>\n",
       "      <td>5</td>\n",
       "      <td>1.358100</td>\n",
       "      <td>1.487324</td>\n",
       "    </tr>\n",
       "  </tbody>\n",
       "</table><p>"
      ],
      "text/plain": [
       "<IPython.core.display.HTML object>"
      ]
     },
     "metadata": {},
     "output_type": "display_data"
    },
    {
     "name": "stderr",
     "output_type": "stream",
     "text": [
      "/tmp/ipykernel_445123/332034878.py:18: UserWarning: To copy construct from a tensor, it is recommended to use sourceTensor.clone().detach() or sourceTensor.clone().detach().requires_grad_(True), rather than torch.tensor(sourceTensor).\n",
      "  item = {key: torch.tensor(val[idx]) for key, val in self.encodings.items()}\n",
      "/tmp/ipykernel_445123/332034878.py:19: UserWarning: To copy construct from a tensor, it is recommended to use sourceTensor.clone().detach() or sourceTensor.clone().detach().requires_grad_(True), rather than torch.tensor(sourceTensor).\n",
      "  item['labels'] = torch.tensor(self.decodings['input_ids'][idx])\n",
      "/tmp/ipykernel_445123/332034878.py:20: UserWarning: To copy construct from a tensor, it is recommended to use sourceTensor.clone().detach() or sourceTensor.clone().detach().requires_grad_(True), rather than torch.tensor(sourceTensor).\n",
      "  item['decoder_attention_mask'] = torch.tensor(self.decodings['attention_mask'][idx])\n",
      "/tmp/ipykernel_445123/332034878.py:18: UserWarning: To copy construct from a tensor, it is recommended to use sourceTensor.clone().detach() or sourceTensor.clone().detach().requires_grad_(True), rather than torch.tensor(sourceTensor).\n",
      "  item = {key: torch.tensor(val[idx]) for key, val in self.encodings.items()}\n",
      "/tmp/ipykernel_445123/332034878.py:19: UserWarning: To copy construct from a tensor, it is recommended to use sourceTensor.clone().detach() or sourceTensor.clone().detach().requires_grad_(True), rather than torch.tensor(sourceTensor).\n",
      "  item['labels'] = torch.tensor(self.decodings['input_ids'][idx])\n",
      "/tmp/ipykernel_445123/332034878.py:20: UserWarning: To copy construct from a tensor, it is recommended to use sourceTensor.clone().detach() or sourceTensor.clone().detach().requires_grad_(True), rather than torch.tensor(sourceTensor).\n",
      "  item['decoder_attention_mask'] = torch.tensor(self.decodings['attention_mask'][idx])\n",
      "/tmp/ipykernel_445123/332034878.py:18: UserWarning: To copy construct from a tensor, it is recommended to use sourceTensor.clone().detach() or sourceTensor.clone().detach().requires_grad_(True), rather than torch.tensor(sourceTensor).\n",
      "  item = {key: torch.tensor(val[idx]) for key, val in self.encodings.items()}\n",
      "/tmp/ipykernel_445123/332034878.py:19: UserWarning: To copy construct from a tensor, it is recommended to use sourceTensor.clone().detach() or sourceTensor.clone().detach().requires_grad_(True), rather than torch.tensor(sourceTensor).\n",
      "  item['labels'] = torch.tensor(self.decodings['input_ids'][idx])\n",
      "/tmp/ipykernel_445123/332034878.py:20: UserWarning: To copy construct from a tensor, it is recommended to use sourceTensor.clone().detach() or sourceTensor.clone().detach().requires_grad_(True), rather than torch.tensor(sourceTensor).\n",
      "  item['decoder_attention_mask'] = torch.tensor(self.decodings['attention_mask'][idx])\n",
      "/tmp/ipykernel_445123/332034878.py:18: UserWarning: To copy construct from a tensor, it is recommended to use sourceTensor.clone().detach() or sourceTensor.clone().detach().requires_grad_(True), rather than torch.tensor(sourceTensor).\n",
      "  item = {key: torch.tensor(val[idx]) for key, val in self.encodings.items()}\n",
      "/tmp/ipykernel_445123/332034878.py:19: UserWarning: To copy construct from a tensor, it is recommended to use sourceTensor.clone().detach() or sourceTensor.clone().detach().requires_grad_(True), rather than torch.tensor(sourceTensor).\n",
      "  item['labels'] = torch.tensor(self.decodings['input_ids'][idx])\n",
      "/tmp/ipykernel_445123/332034878.py:20: UserWarning: To copy construct from a tensor, it is recommended to use sourceTensor.clone().detach() or sourceTensor.clone().detach().requires_grad_(True), rather than torch.tensor(sourceTensor).\n",
      "  item['decoder_attention_mask'] = torch.tensor(self.decodings['attention_mask'][idx])\n"
     ]
    }
   ],
   "source": [
    "training_args = TrainingArguments(\n",
    "    output_dir='./results',\n",
    "    evaluation_strategy='epoch',\n",
    "    num_train_epochs=5,\n",
    "    per_device_train_batch_size=1,\n",
    "    per_device_eval_batch_size=1,\n",
    "    warmup_steps=100,\n",
    "    weight_decay=0.01,\n",
    "    logging_dir='./logs',\n",
    "    save_strategy='epoch',\n",
    "    logging_steps=100,\n",
    "    load_best_model_at_end=True\n",
    ")\n",
    "\n",
    "trainer = Trainer(\n",
    "    model=model,\n",
    "    args=training_args,\n",
    "    train_dataset=train_dataset,\n",
    "    eval_dataset=val_dataset,   \n",
    "    # compute_metrics=compute_metrics\n",
    ")\n",
    "\n",
    "trainer.train()\n",
    "trainer.save_model()"
   ]
  },
  {
   "cell_type": "code",
   "execution_count": 9,
   "metadata": {},
   "outputs": [
    {
     "name": "stderr",
     "output_type": "stream",
     "text": [
      "/tmp/ipykernel_445123/332034878.py:18: UserWarning: To copy construct from a tensor, it is recommended to use sourceTensor.clone().detach() or sourceTensor.clone().detach().requires_grad_(True), rather than torch.tensor(sourceTensor).\n",
      "  item = {key: torch.tensor(val[idx]) for key, val in self.encodings.items()}\n",
      "/tmp/ipykernel_445123/332034878.py:19: UserWarning: To copy construct from a tensor, it is recommended to use sourceTensor.clone().detach() or sourceTensor.clone().detach().requires_grad_(True), rather than torch.tensor(sourceTensor).\n",
      "  item['labels'] = torch.tensor(self.decodings['input_ids'][idx])\n",
      "/tmp/ipykernel_445123/332034878.py:20: UserWarning: To copy construct from a tensor, it is recommended to use sourceTensor.clone().detach() or sourceTensor.clone().detach().requires_grad_(True), rather than torch.tensor(sourceTensor).\n",
      "  item['decoder_attention_mask'] = torch.tensor(self.decodings['attention_mask'][idx])\n",
      "/home/wutongg/.local/lib/python3.9/site-packages/transformers/generation/utils.py:1313: UserWarning: Using `max_length`'s default (20) to control the generation length. This behaviour is deprecated and will be removed from the config in v5 of Transformers -- we recommend using `max_new_tokens` to control the maximum length of the generation.\n",
      "  warnings.warn(\n"
     ]
    }
   ],
   "source": [
    "test_summaries = generate_summaries(model, test_dataset, tokenizer)"
   ]
  },
  {
   "cell_type": "code",
   "execution_count": 14,
   "metadata": {},
   "outputs": [
    {
     "name": "stdout",
     "output_type": "stream",
     "text": [
      "ROUGE-1 Precision: 0.0613, Recall: 0.5086, F1: 0.1081\n",
      "ROUGE-2 Precision: 0.0129, Recall: 0.1510, F1: 0.0235\n",
      "ROUGE-L Precision: 0.0580, Recall: 0.4801, F1: 0.1023\n"
     ]
    }
   ],
   "source": [
    "rouge_scores = []\n",
    "rouge = Rouge()\n",
    "\n",
    "for gen_summary, ref_summary in zip(test_summaries, test_df_ex['summary']):\n",
    "    scores = rouge.get_scores(ref_summary, gen_summary)[0]\n",
    "    rouge_scores.append(scores)\n",
    "\n",
    "rouge_1_precision, rouge_1_recall, rouge_1_f1, rouge_2_precision, rouge_2_recall, rouge_2_f1, rouge_l_precision, rouge_l_recall, rouge_l_f1 = compute_rouge(rouge_scores)\n",
    "\n",
    "print(f\"ROUGE-1 Precision: {rouge_1_precision:.4f}, Recall: {rouge_1_recall:.4f}, F1: {rouge_1_f1:.4f}\")\n",
    "print(f\"ROUGE-2 Precision: {rouge_2_precision:.4f}, Recall: {rouge_2_recall:.4f}, F1: {rouge_2_f1:.4f}\")\n",
    "print(f\"ROUGE-L Precision: {rouge_l_precision:.4f}, Recall: {rouge_l_recall:.4f}, F1: {rouge_l_f1:.4f}\")"
   ]
  },
  {
   "cell_type": "markdown",
   "metadata": {
    "id": "JgnXuZmpmzZR"
   },
   "source": [
    "## LED - Longformer"
   ]
  },
  {
   "cell_type": "code",
   "execution_count": 7,
   "metadata": {
    "id": "ni44qyCeizS_"
   },
   "outputs": [],
   "source": [
    "from transformers import LEDForConditionalGeneration, LEDTokenizerFast\n",
    "\n",
    "model_name = 'allenai/led-base-16384'\n",
    "tokenizer = LEDTokenizerFast.from_pretrained(model_name) \n",
    "model = LEDForConditionalGeneration.from_pretrained(model_name)"
   ]
  },
  {
   "cell_type": "markdown",
   "metadata": {},
   "source": [
    "### LED+extractive"
   ]
  },
  {
   "cell_type": "code",
   "execution_count": 16,
   "metadata": {},
   "outputs": [],
   "source": [
    "train_inputs_encodings = tokenizer(train_inputs, padding=True, truncation=True, max_length=512, return_tensors='pt')\n",
    "train_targets_encodings = tokenizer(train_targets, padding=True, truncation=True, max_length=512, return_tensors='pt')\n",
    "val_inputs_encodings = tokenizer(val_inputs, padding=True, truncation=True, max_length=512, return_tensors='pt')\n",
    "val_targets_encodings = tokenizer(val_targets, padding=True, truncation=True, max_length=512, return_tensors='pt')\n",
    "test_inputs_encodings = tokenizer(test_inputs, padding=True, truncation=True, max_length=512, return_tensors='pt')\n",
    "test_targets_encodings = tokenizer(test_targets, padding=True, truncation=True, max_length=512, return_tensors='pt')\n",
    "\n",
    "class PrepareDataset(torch.utils.data.Dataset):\n",
    "    def __init__(self, encodings, decodings):\n",
    "        self.encodings = encodings\n",
    "        self.decodings = decodings\n",
    "\n",
    "    def __getitem__(self, idx):\n",
    "        item = {key: torch.tensor(val[idx]) for key, val in self.encodings.items()}\n",
    "        item['labels'] = torch.tensor(self.decodings['input_ids'][idx])\n",
    "        item['decoder_attention_mask'] = torch.tensor(self.decodings['attention_mask'][idx])\n",
    "        return item\n",
    "\n",
    "    def __len__(self):\n",
    "        return len(self.encodings['input_ids'])\n",
    "\n",
    "train_dataset = PrepareDataset(train_inputs_encodings, train_targets_encodings)\n",
    "val_dataset = PrepareDataset(val_inputs_encodings, val_targets_encodings)\n",
    "test_dataset = PrepareDataset(test_inputs_encodings, test_targets_encodings)"
   ]
  },
  {
   "cell_type": "code",
   "execution_count": 18,
   "metadata": {},
   "outputs": [
    {
     "name": "stderr",
     "output_type": "stream",
     "text": [
      "/tmp/ipykernel_483601/508937258.py:14: UserWarning: To copy construct from a tensor, it is recommended to use sourceTensor.clone().detach() or sourceTensor.clone().detach().requires_grad_(True), rather than torch.tensor(sourceTensor).\n",
      "  item = {key: torch.tensor(val[idx]) for key, val in self.encodings.items()}\n",
      "/tmp/ipykernel_483601/508937258.py:15: UserWarning: To copy construct from a tensor, it is recommended to use sourceTensor.clone().detach() or sourceTensor.clone().detach().requires_grad_(True), rather than torch.tensor(sourceTensor).\n",
      "  item['labels'] = torch.tensor(self.decodings['input_ids'][idx])\n",
      "/tmp/ipykernel_483601/508937258.py:16: UserWarning: To copy construct from a tensor, it is recommended to use sourceTensor.clone().detach() or sourceTensor.clone().detach().requires_grad_(True), rather than torch.tensor(sourceTensor).\n",
      "  item['decoder_attention_mask'] = torch.tensor(self.decodings['attention_mask'][idx])\n"
     ]
    },
    {
     "data": {
      "text/html": [
       "\n",
       "    <div>\n",
       "      \n",
       "      <progress value='2214' max='2214' style='width:300px; height:20px; vertical-align: middle;'></progress>\n",
       "      [2214/2214 06:38, Epoch 3/3]\n",
       "    </div>\n",
       "    <table border=\"1\" class=\"dataframe\">\n",
       "  <thead>\n",
       " <tr style=\"text-align: left;\">\n",
       "      <th>Epoch</th>\n",
       "      <th>Training Loss</th>\n",
       "      <th>Validation Loss</th>\n",
       "    </tr>\n",
       "  </thead>\n",
       "  <tbody>\n",
       "    <tr>\n",
       "      <td>1</td>\n",
       "      <td>1.084900</td>\n",
       "      <td>1.278121</td>\n",
       "    </tr>\n",
       "    <tr>\n",
       "      <td>2</td>\n",
       "      <td>0.905300</td>\n",
       "      <td>1.242675</td>\n",
       "    </tr>\n",
       "    <tr>\n",
       "      <td>3</td>\n",
       "      <td>1.048300</td>\n",
       "      <td>1.242003</td>\n",
       "    </tr>\n",
       "  </tbody>\n",
       "</table><p>"
      ],
      "text/plain": [
       "<IPython.core.display.HTML object>"
      ]
     },
     "metadata": {},
     "output_type": "display_data"
    },
    {
     "name": "stderr",
     "output_type": "stream",
     "text": [
      "/tmp/ipykernel_483601/508937258.py:14: UserWarning: To copy construct from a tensor, it is recommended to use sourceTensor.clone().detach() or sourceTensor.clone().detach().requires_grad_(True), rather than torch.tensor(sourceTensor).\n",
      "  item = {key: torch.tensor(val[idx]) for key, val in self.encodings.items()}\n",
      "/tmp/ipykernel_483601/508937258.py:15: UserWarning: To copy construct from a tensor, it is recommended to use sourceTensor.clone().detach() or sourceTensor.clone().detach().requires_grad_(True), rather than torch.tensor(sourceTensor).\n",
      "  item['labels'] = torch.tensor(self.decodings['input_ids'][idx])\n",
      "/tmp/ipykernel_483601/508937258.py:16: UserWarning: To copy construct from a tensor, it is recommended to use sourceTensor.clone().detach() or sourceTensor.clone().detach().requires_grad_(True), rather than torch.tensor(sourceTensor).\n",
      "  item['decoder_attention_mask'] = torch.tensor(self.decodings['attention_mask'][idx])\n",
      "/tmp/ipykernel_483601/508937258.py:14: UserWarning: To copy construct from a tensor, it is recommended to use sourceTensor.clone().detach() or sourceTensor.clone().detach().requires_grad_(True), rather than torch.tensor(sourceTensor).\n",
      "  item = {key: torch.tensor(val[idx]) for key, val in self.encodings.items()}\n",
      "/tmp/ipykernel_483601/508937258.py:15: UserWarning: To copy construct from a tensor, it is recommended to use sourceTensor.clone().detach() or sourceTensor.clone().detach().requires_grad_(True), rather than torch.tensor(sourceTensor).\n",
      "  item['labels'] = torch.tensor(self.decodings['input_ids'][idx])\n",
      "/tmp/ipykernel_483601/508937258.py:16: UserWarning: To copy construct from a tensor, it is recommended to use sourceTensor.clone().detach() or sourceTensor.clone().detach().requires_grad_(True), rather than torch.tensor(sourceTensor).\n",
      "  item['decoder_attention_mask'] = torch.tensor(self.decodings['attention_mask'][idx])\n",
      "/tmp/ipykernel_483601/508937258.py:14: UserWarning: To copy construct from a tensor, it is recommended to use sourceTensor.clone().detach() or sourceTensor.clone().detach().requires_grad_(True), rather than torch.tensor(sourceTensor).\n",
      "  item = {key: torch.tensor(val[idx]) for key, val in self.encodings.items()}\n",
      "/tmp/ipykernel_483601/508937258.py:15: UserWarning: To copy construct from a tensor, it is recommended to use sourceTensor.clone().detach() or sourceTensor.clone().detach().requires_grad_(True), rather than torch.tensor(sourceTensor).\n",
      "  item['labels'] = torch.tensor(self.decodings['input_ids'][idx])\n",
      "/tmp/ipykernel_483601/508937258.py:16: UserWarning: To copy construct from a tensor, it is recommended to use sourceTensor.clone().detach() or sourceTensor.clone().detach().requires_grad_(True), rather than torch.tensor(sourceTensor).\n",
      "  item['decoder_attention_mask'] = torch.tensor(self.decodings['attention_mask'][idx])\n",
      "/tmp/ipykernel_483601/508937258.py:14: UserWarning: To copy construct from a tensor, it is recommended to use sourceTensor.clone().detach() or sourceTensor.clone().detach().requires_grad_(True), rather than torch.tensor(sourceTensor).\n",
      "  item = {key: torch.tensor(val[idx]) for key, val in self.encodings.items()}\n",
      "/tmp/ipykernel_483601/508937258.py:15: UserWarning: To copy construct from a tensor, it is recommended to use sourceTensor.clone().detach() or sourceTensor.clone().detach().requires_grad_(True), rather than torch.tensor(sourceTensor).\n",
      "  item['labels'] = torch.tensor(self.decodings['input_ids'][idx])\n",
      "/tmp/ipykernel_483601/508937258.py:16: UserWarning: To copy construct from a tensor, it is recommended to use sourceTensor.clone().detach() or sourceTensor.clone().detach().requires_grad_(True), rather than torch.tensor(sourceTensor).\n",
      "  item['decoder_attention_mask'] = torch.tensor(self.decodings['attention_mask'][idx])\n"
     ]
    },
    {
     "data": {
      "text/plain": [
       "TrainOutput(global_step=2214, training_loss=1.28779417981731, metrics={'train_runtime': 399.1466, 'train_samples_per_second': 5.547, 'train_steps_per_second': 5.547, 'total_flos': 747281688035328.0, 'train_loss': 1.28779417981731, 'epoch': 3.0})"
      ]
     },
     "execution_count": 18,
     "metadata": {},
     "output_type": "execute_result"
    }
   ],
   "source": [
    "# Define training arguments\n",
    "training_args = TrainingArguments(\n",
    "    output_dir='./results',\n",
    "    evaluation_strategy = \"epoch\",\n",
    "    learning_rate=2e-5,\n",
    "    per_device_train_batch_size=1,\n",
    "    per_device_eval_batch_size=1,\n",
    "    num_train_epochs=3,\n",
    "    weight_decay=0.01,\n",
    "    push_to_hub=False,\n",
    "    logging_dir='./logs',\n",
    "    logging_steps=10,\n",
    ")\n",
    "\n",
    "# Define trainer\n",
    "trainer = Trainer(\n",
    "    model=model,\n",
    "    args=training_args,\n",
    "    train_dataset=train_dataset,\n",
    "    eval_dataset=val_dataset,   \n",
    "    # compute_metrics=compute_metrics\n",
    ")\n",
    "\n",
    "# Fine-tune the model\n",
    "trainer.train()"
   ]
  },
  {
   "cell_type": "code",
   "execution_count": 21,
   "metadata": {},
   "outputs": [
    {
     "name": "stderr",
     "output_type": "stream",
     "text": [
      "/tmp/ipykernel_483601/508937258.py:14: UserWarning: To copy construct from a tensor, it is recommended to use sourceTensor.clone().detach() or sourceTensor.clone().detach().requires_grad_(True), rather than torch.tensor(sourceTensor).\n",
      "  item = {key: torch.tensor(val[idx]) for key, val in self.encodings.items()}\n",
      "/tmp/ipykernel_483601/508937258.py:15: UserWarning: To copy construct from a tensor, it is recommended to use sourceTensor.clone().detach() or sourceTensor.clone().detach().requires_grad_(True), rather than torch.tensor(sourceTensor).\n",
      "  item['labels'] = torch.tensor(self.decodings['input_ids'][idx])\n",
      "/tmp/ipykernel_483601/508937258.py:16: UserWarning: To copy construct from a tensor, it is recommended to use sourceTensor.clone().detach() or sourceTensor.clone().detach().requires_grad_(True), rather than torch.tensor(sourceTensor).\n",
      "  item['decoder_attention_mask'] = torch.tensor(self.decodings['attention_mask'][idx])\n"
     ]
    },
    {
     "name": "stdout",
     "output_type": "stream",
     "text": [
      "ROUGE-1 Precision: 0.0565, Recall: 0.4666, F1: 0.1000\n",
      "ROUGE-2 Precision: 0.0151, Recall: 0.1715, F1: 0.0274\n",
      "ROUGE-L Precision: 0.0538, Recall: 0.4443, F1: 0.0952\n"
     ]
    }
   ],
   "source": [
    "test_summaries = generate_summaries(model, test_dataset, tokenizer)\n",
    "\n",
    "rouge_scores = []\n",
    "rouge = Rouge()\n",
    "\n",
    "for gen_summary, ref_summary in zip(test_summaries, test_df_ex['summary']):\n",
    "    scores = rouge.get_scores(ref_summary, gen_summary)[0]\n",
    "    rouge_scores.append(scores)\n",
    "\n",
    "rouge_1_precision, rouge_1_recall, rouge_1_f1, rouge_2_precision, rouge_2_recall, rouge_2_f1, rouge_l_precision, rouge_l_recall, rouge_l_f1 = compute_rouge(rouge_scores)\n",
    "\n",
    "print(f\"ROUGE-1 Precision: {rouge_1_precision:.4f}, Recall: {rouge_1_recall:.4f}, F1: {rouge_1_f1:.4f}\")\n",
    "print(f\"ROUGE-2 Precision: {rouge_2_precision:.4f}, Recall: {rouge_2_recall:.4f}, F1: {rouge_2_f1:.4f}\")\n",
    "print(f\"ROUGE-L Precision: {rouge_l_precision:.4f}, Recall: {rouge_l_recall:.4f}, F1: {rouge_l_f1:.4f}\")"
   ]
  },
  {
   "cell_type": "markdown",
   "metadata": {
    "id": "5Gb_8yKNqLlr"
   },
   "source": [
    "### No tuning"
   ]
  },
  {
   "cell_type": "code",
   "execution_count": 9,
   "metadata": {
    "id": "WVYAk27alP2Q"
   },
   "outputs": [
    {
     "name": "stderr",
     "output_type": "stream",
     "text": [
      "/home/wutongg/.local/lib/python3.9/site-packages/transformers/generation/utils.py:1313: UserWarning: Using `max_length`'s default (20) to control the generation length. This behaviour is deprecated and will be removed from the config in v5 of Transformers -- we recommend using `max_new_tokens` to control the maximum length of the generation.\n",
      "  warnings.warn(\n"
     ]
    },
    {
     "data": {
      "text/plain": [
       "{'rouge1': {'f': 0.0006304267919044219,\n",
       "  'p': 0.0003247107198005115,\n",
       "  'r': 0.010869476415315325},\n",
       " 'rouge2': {'f': 0.0005845668680734572,\n",
       "  'p': 0.00030043135621817365,\n",
       "  'r': 0.010869468798029152},\n",
       " 'rougeL': {'f': 0.0006304267919044219,\n",
       "  'p': 0.0003247107198005115,\n",
       "  'r': 0.010869476415315325}}"
      ]
     },
     "execution_count": 9,
     "metadata": {},
     "output_type": "execute_result"
    }
   ],
   "source": [
    "# Define a function to generate summaries using the LED model and tokenizer\n",
    "def generate_summary(input_text):\n",
    "    input_ids = tokenizer.encode(input_text, return_tensors='pt')\n",
    "    global_attention_mask = torch.zeros_like(input_ids)\n",
    "    global_attention_mask[:, 0] = 1\n",
    "\n",
    "    summary_ids = model.generate(input_ids, global_attention_mask=global_attention_mask,\n",
    "                                 num_beams=4)\n",
    "    summary = tokenizer.decode(summary_ids[0], skip_special_tokens=True, clean_up_tokenization_spaces=True)\n",
    "    return summary\n",
    "\n",
    "# Generate summaries for the test dataset\n",
    "df_led = test_df.copy()\n",
    "df_led['predicted_summary'] = test_df['body'].apply(generate_summary)\n",
    "\n",
    "# Calculate ROUGE scores using the rouge_scorer library\n",
    "scorer = rouge_scorer.RougeScorer(['rouge1','rouge2', 'rougeL'], use_stemmer=True)\n",
    "\n",
    "total_scores = {'rouge1': {'f': 0, 'p': 0, 'r': 0},\n",
    "                    'rouge2': {'f': 0, 'p': 0, 'r': 0},\n",
    "                    'rougeL': {'f': 0, 'p': 0, 'r': 0}}\n",
    "\n",
    "num_examples = len(df_led)\n",
    "for i in range(num_examples):\n",
    "    body = df_led.iloc[i]['body']\n",
    "    summary = df_led.iloc[i]['predicted_summary']\n",
    "    scores = scorer.score(summary, body)\n",
    "    for metric in scores.keys():\n",
    "        total_scores[metric]['f'] += scores[metric].fmeasure\n",
    "        total_scores[metric]['p'] += scores[metric].precision\n",
    "        total_scores[metric]['r'] += scores[metric].recall\n",
    "\n",
    "    # Calculate average scores\n",
    "    for metric in total_scores.keys():\n",
    "        total_scores[metric]['f'] /= num_examples\n",
    "        total_scores[metric]['p'] /= num_examples\n",
    "        total_scores[metric]['r'] /= num_examples\n",
    "\n",
    "total_scores"
   ]
  },
  {
   "cell_type": "markdown",
   "metadata": {
    "id": "1hGZAOPRqOHr"
   },
   "source": [
    "### Fine-tuned"
   ]
  },
  {
   "cell_type": "code",
   "execution_count": 10,
   "metadata": {
    "id": "868LDehcpVBp"
   },
   "outputs": [],
   "source": [
    "class MyDataset(torch.utils.data.Dataset):\n",
    "    def __init__(self, body_list, summary_list, tokenizer):\n",
    "        self.body_list = body_list\n",
    "        self.summary_list = summary_list\n",
    "        self.tokenizer = tokenizer\n",
    "\n",
    "    def __len__(self):\n",
    "        return len(self.body_list)\n",
    "\n",
    "    def __getitem__(self, idx):\n",
    "        body = self.body_list[idx]\n",
    "        summary = self.summary_list[idx]\n",
    "\n",
    "        encoding = self.tokenizer(body, max_length=1024, padding='max_length', truncation=True, return_tensors='pt')\n",
    "        summary_encoding = self.tokenizer(summary, max_length=256, padding='max_length', truncation=True, return_tensors='pt')\n",
    "\n",
    "        input_ids = encoding['input_ids'].squeeze()\n",
    "        attention_mask = encoding['attention_mask'].squeeze()\n",
    "        decoder_input_ids = summary_encoding['input_ids'].squeeze()\n",
    "        decoder_attention_mask = summary_encoding['attention_mask'].squeeze()\n",
    "        labels = decoder_input_ids.clone()\n",
    "\n",
    "        # Set the first token of the decoder input and labels to the summary start token\n",
    "        decoder_input_ids[0] = self.tokenizer.bos_token_id\n",
    "        labels[labels == self.tokenizer.pad_token_id] = -100\n",
    "\n",
    "        return input_ids, attention_mask, decoder_input_ids, decoder_attention_mask, labels\n",
    "\n",
    "# Define training and validation datasets\n",
    "train_dataset = MyDataset(train_inputs, train_targets, tokenizer)\n",
    "val_dataset = MyDataset(val_inputs, val_targets, tokenizer)\n",
    "test_dataset = MyDataset(test_inputs, test_targets, tokenizer)"
   ]
  },
  {
   "cell_type": "code",
   "execution_count": 13,
   "metadata": {
    "id": "V4fSwybJrmHG"
   },
   "outputs": [],
   "source": [
    "# do not use!!\n",
    "def compute_metrics(eval_preds):\n",
    "    preds, labels = eval_preds\n",
    "    decoded_preds = tokenizer.batch_decode(preds, skip_special_tokens=True)\n",
    "    decoded_labels = tokenizer.batch_decode(labels, skip_special_tokens=True)\n",
    "    rouge_scores = rouge.get_scores(decoded_preds, decoded_labels, avg=True)\n",
    "    return rouge_scores\n",
    "    "
   ]
  },
  {
   "cell_type": "code",
   "execution_count": 11,
   "metadata": {
    "id": "mcL5uSO9ri-W"
   },
   "outputs": [],
   "source": [
    "def compute_metrics(pred):\n",
    "    preds, targets = pred\n",
    "    if isinstance(preds, tuple):\n",
    "        preds = preds[0]\n",
    "    scorer = rouge_scorer.RougeScorer(['rouge1', 'rouge2', 'rougeL'], use_stemmer=True)\n",
    "    rouge1_scores = []\n",
    "    rouge2_scores = []\n",
    "    rougel_scores = []\n",
    "\n",
    "    for batch_idx in range(len(targets)): # 92 batches with 466 predictions\n",
    "        batch_rouge1_scores = []\n",
    "        batch_rouge2_scores = []\n",
    "        batch_rougel_scores = []\n",
    "        for pred_idx in range(len(targets[batch_idx])):\n",
    "            target = tokenizer.batch_decode(targets[batch_idx][pred_idx], skip_special_tokens=True)\n",
    "            sequence_ids = (preds[batch_idx][pred_idx]).reshape((1, -1))\n",
    "            # np.save('my_array.npy', sequence_ids)\n",
    "            # sequence_ids_list = sequence_ids.tolist()\n",
    "            # print(type(sequence_ids))\n",
    "            # print(sequence_ids.shape)\n",
    "            pred = tokenizer.batch_decode(np.abs(sequence_ids.astype(int)), skip_special_tokens=True)\n",
    "            # print(pred)\n",
    "            scores = scorer.score(target, \"\".join(pred))\n",
    "            batch_rouge1_scores.append(scores['rouge1'].fmeasure)\n",
    "            batch_rouge2_scores.append(scores['rouge2'].fmeasure)\n",
    "            batch_rougel_scores.append(scores['rougeL'].fmeasure)\n",
    "        rouge1_scores.append(sum(batch_rouge1_scores) / len(batch_rouge1_scores))\n",
    "        rouge2_scores.append(sum(batch_rouge2_scores) / len(batch_rouge2_scores))\n",
    "        rougel_scores.append(sum(batch_rougel_scores) / len(batch_rougel_scores))\n",
    "    rouge1_score = sum(rouge1_scores) / len(rouge1_scores)\n",
    "    rouge2_score = sum(rouge2_scores) / len(rouge2_scores)\n",
    "    rougel_score = sum(rougel_scores) / len(rougel_scores)\n",
    "    return {'rouge1': rouge1_score, 'rouge2': rouge2_score, 'rougeL': rougel_score}"
   ]
  },
  {
   "cell_type": "code",
   "execution_count": 14,
   "metadata": {
    "id": "mwJ9glU6rPUw"
   },
   "outputs": [
    {
     "name": "stderr",
     "output_type": "stream",
     "text": [
      "/home/wutongg/.local/lib/python3.9/site-packages/transformers/optimization.py:391: FutureWarning: This implementation of AdamW is deprecated and will be removed in a future version. Use the PyTorch implementation torch.optim.AdamW instead, or set `no_deprecation_warning=True` to disable this warning\n",
      "  warnings.warn(\n"
     ]
    },
    {
     "data": {
      "text/html": [
       "\n",
       "    <div>\n",
       "      \n",
       "      <progress value='739' max='2214' style='width:300px; height:20px; vertical-align: middle;'></progress>\n",
       "      [ 739/2214 02:10 < 04:20, 5.66 it/s, Epoch 1/3]\n",
       "    </div>\n",
       "    <table border=\"1\" class=\"dataframe\">\n",
       "  <thead>\n",
       " <tr style=\"text-align: left;\">\n",
       "      <th>Epoch</th>\n",
       "      <th>Training Loss</th>\n",
       "      <th>Validation Loss</th>\n",
       "    </tr>\n",
       "  </thead>\n",
       "  <tbody>\n",
       "  </tbody>\n",
       "</table><p>\n",
       "    <div>\n",
       "      \n",
       "      <progress value='39' max='92' style='width:300px; height:20px; vertical-align: middle;'></progress>\n",
       "      [39/92 00:02 < 00:03, 17.47 it/s]\n",
       "    </div>\n",
       "    "
      ],
      "text/plain": [
       "<IPython.core.display.HTML object>"
      ]
     },
     "metadata": {},
     "output_type": "display_data"
    },
    {
     "ename": "OutOfMemoryError",
     "evalue": "CUDA out of memory. Tried to allocate 1.92 GiB (GPU 0; 15.78 GiB total capacity; 9.60 GiB already allocated; 1.23 GiB free; 13.67 GiB reserved in total by PyTorch) If reserved memory is >> allocated memory try setting max_split_size_mb to avoid fragmentation.  See documentation for Memory Management and PYTORCH_CUDA_ALLOC_CONF",
     "output_type": "error",
     "traceback": [
      "\u001b[0;31m---------------------------------------------------------------------------\u001b[0m",
      "\u001b[0;31mOutOfMemoryError\u001b[0m                          Traceback (most recent call last)",
      "\u001b[0;32m/tmp/ipykernel_396196/1553244754.py\u001b[0m in \u001b[0;36m<module>\u001b[0;34m\u001b[0m\n\u001b[1;32m     29\u001b[0m \u001b[0;34m\u001b[0m\u001b[0m\n\u001b[1;32m     30\u001b[0m \u001b[0;31m# Fine-tune the model\u001b[0m\u001b[0;34m\u001b[0m\u001b[0;34m\u001b[0m\u001b[0m\n\u001b[0;32m---> 31\u001b[0;31m \u001b[0mtrainer\u001b[0m\u001b[0;34m.\u001b[0m\u001b[0mtrain\u001b[0m\u001b[0;34m(\u001b[0m\u001b[0;34m)\u001b[0m\u001b[0;34m\u001b[0m\u001b[0;34m\u001b[0m\u001b[0m\n\u001b[0m",
      "\u001b[0;32m~/.local/lib/python3.9/site-packages/transformers/trainer.py\u001b[0m in \u001b[0;36mtrain\u001b[0;34m(self, resume_from_checkpoint, trial, ignore_keys_for_eval, **kwargs)\u001b[0m\n\u001b[1;32m   1660\u001b[0m             \u001b[0mself\u001b[0m\u001b[0;34m.\u001b[0m\u001b[0m_inner_training_loop\u001b[0m\u001b[0;34m,\u001b[0m \u001b[0mself\u001b[0m\u001b[0;34m.\u001b[0m\u001b[0m_train_batch_size\u001b[0m\u001b[0;34m,\u001b[0m \u001b[0margs\u001b[0m\u001b[0;34m.\u001b[0m\u001b[0mauto_find_batch_size\u001b[0m\u001b[0;34m\u001b[0m\u001b[0;34m\u001b[0m\u001b[0m\n\u001b[1;32m   1661\u001b[0m         )\n\u001b[0;32m-> 1662\u001b[0;31m         return inner_training_loop(\n\u001b[0m\u001b[1;32m   1663\u001b[0m             \u001b[0margs\u001b[0m\u001b[0;34m=\u001b[0m\u001b[0margs\u001b[0m\u001b[0;34m,\u001b[0m\u001b[0;34m\u001b[0m\u001b[0;34m\u001b[0m\u001b[0m\n\u001b[1;32m   1664\u001b[0m             \u001b[0mresume_from_checkpoint\u001b[0m\u001b[0;34m=\u001b[0m\u001b[0mresume_from_checkpoint\u001b[0m\u001b[0;34m,\u001b[0m\u001b[0;34m\u001b[0m\u001b[0;34m\u001b[0m\u001b[0m\n",
      "\u001b[0;32m~/.local/lib/python3.9/site-packages/transformers/trainer.py\u001b[0m in \u001b[0;36m_inner_training_loop\u001b[0;34m(self, batch_size, args, resume_from_checkpoint, trial, ignore_keys_for_eval)\u001b[0m\n\u001b[1;32m   2019\u001b[0m \u001b[0;34m\u001b[0m\u001b[0m\n\u001b[1;32m   2020\u001b[0m             \u001b[0mself\u001b[0m\u001b[0;34m.\u001b[0m\u001b[0mcontrol\u001b[0m \u001b[0;34m=\u001b[0m \u001b[0mself\u001b[0m\u001b[0;34m.\u001b[0m\u001b[0mcallback_handler\u001b[0m\u001b[0;34m.\u001b[0m\u001b[0mon_epoch_end\u001b[0m\u001b[0;34m(\u001b[0m\u001b[0margs\u001b[0m\u001b[0;34m,\u001b[0m \u001b[0mself\u001b[0m\u001b[0;34m.\u001b[0m\u001b[0mstate\u001b[0m\u001b[0;34m,\u001b[0m \u001b[0mself\u001b[0m\u001b[0;34m.\u001b[0m\u001b[0mcontrol\u001b[0m\u001b[0;34m)\u001b[0m\u001b[0;34m\u001b[0m\u001b[0;34m\u001b[0m\u001b[0m\n\u001b[0;32m-> 2021\u001b[0;31m             \u001b[0mself\u001b[0m\u001b[0;34m.\u001b[0m\u001b[0m_maybe_log_save_evaluate\u001b[0m\u001b[0;34m(\u001b[0m\u001b[0mtr_loss\u001b[0m\u001b[0;34m,\u001b[0m \u001b[0mmodel\u001b[0m\u001b[0;34m,\u001b[0m \u001b[0mtrial\u001b[0m\u001b[0;34m,\u001b[0m \u001b[0mepoch\u001b[0m\u001b[0;34m,\u001b[0m \u001b[0mignore_keys_for_eval\u001b[0m\u001b[0;34m)\u001b[0m\u001b[0;34m\u001b[0m\u001b[0;34m\u001b[0m\u001b[0m\n\u001b[0m\u001b[1;32m   2022\u001b[0m \u001b[0;34m\u001b[0m\u001b[0m\n\u001b[1;32m   2023\u001b[0m             \u001b[0;32mif\u001b[0m \u001b[0mDebugOption\u001b[0m\u001b[0;34m.\u001b[0m\u001b[0mTPU_METRICS_DEBUG\u001b[0m \u001b[0;32min\u001b[0m \u001b[0mself\u001b[0m\u001b[0;34m.\u001b[0m\u001b[0margs\u001b[0m\u001b[0;34m.\u001b[0m\u001b[0mdebug\u001b[0m\u001b[0;34m:\u001b[0m\u001b[0;34m\u001b[0m\u001b[0;34m\u001b[0m\u001b[0m\n",
      "\u001b[0;32m~/.local/lib/python3.9/site-packages/transformers/trainer.py\u001b[0m in \u001b[0;36m_maybe_log_save_evaluate\u001b[0;34m(self, tr_loss, model, trial, epoch, ignore_keys_for_eval)\u001b[0m\n\u001b[1;32m   2285\u001b[0m                     \u001b[0mmetrics\u001b[0m\u001b[0;34m.\u001b[0m\u001b[0mupdate\u001b[0m\u001b[0;34m(\u001b[0m\u001b[0mdataset_metrics\u001b[0m\u001b[0;34m)\u001b[0m\u001b[0;34m\u001b[0m\u001b[0;34m\u001b[0m\u001b[0m\n\u001b[1;32m   2286\u001b[0m             \u001b[0;32melse\u001b[0m\u001b[0;34m:\u001b[0m\u001b[0;34m\u001b[0m\u001b[0;34m\u001b[0m\u001b[0m\n\u001b[0;32m-> 2287\u001b[0;31m                 \u001b[0mmetrics\u001b[0m \u001b[0;34m=\u001b[0m \u001b[0mself\u001b[0m\u001b[0;34m.\u001b[0m\u001b[0mevaluate\u001b[0m\u001b[0;34m(\u001b[0m\u001b[0mignore_keys\u001b[0m\u001b[0;34m=\u001b[0m\u001b[0mignore_keys_for_eval\u001b[0m\u001b[0;34m)\u001b[0m\u001b[0;34m\u001b[0m\u001b[0;34m\u001b[0m\u001b[0m\n\u001b[0m\u001b[1;32m   2288\u001b[0m             \u001b[0mself\u001b[0m\u001b[0;34m.\u001b[0m\u001b[0m_report_to_hp_search\u001b[0m\u001b[0;34m(\u001b[0m\u001b[0mtrial\u001b[0m\u001b[0;34m,\u001b[0m \u001b[0mself\u001b[0m\u001b[0;34m.\u001b[0m\u001b[0mstate\u001b[0m\u001b[0;34m.\u001b[0m\u001b[0mglobal_step\u001b[0m\u001b[0;34m,\u001b[0m \u001b[0mmetrics\u001b[0m\u001b[0;34m)\u001b[0m\u001b[0;34m\u001b[0m\u001b[0;34m\u001b[0m\u001b[0m\n\u001b[1;32m   2289\u001b[0m \u001b[0;34m\u001b[0m\u001b[0m\n",
      "\u001b[0;32m~/.local/lib/python3.9/site-packages/transformers/trainer.py\u001b[0m in \u001b[0;36mevaluate\u001b[0;34m(self, eval_dataset, ignore_keys, metric_key_prefix)\u001b[0m\n\u001b[1;32m   2991\u001b[0m \u001b[0;34m\u001b[0m\u001b[0m\n\u001b[1;32m   2992\u001b[0m         \u001b[0meval_loop\u001b[0m \u001b[0;34m=\u001b[0m \u001b[0mself\u001b[0m\u001b[0;34m.\u001b[0m\u001b[0mprediction_loop\u001b[0m \u001b[0;32mif\u001b[0m \u001b[0mself\u001b[0m\u001b[0;34m.\u001b[0m\u001b[0margs\u001b[0m\u001b[0;34m.\u001b[0m\u001b[0muse_legacy_prediction_loop\u001b[0m \u001b[0;32melse\u001b[0m \u001b[0mself\u001b[0m\u001b[0;34m.\u001b[0m\u001b[0mevaluation_loop\u001b[0m\u001b[0;34m\u001b[0m\u001b[0;34m\u001b[0m\u001b[0m\n\u001b[0;32m-> 2993\u001b[0;31m         output = eval_loop(\n\u001b[0m\u001b[1;32m   2994\u001b[0m             \u001b[0meval_dataloader\u001b[0m\u001b[0;34m,\u001b[0m\u001b[0;34m\u001b[0m\u001b[0;34m\u001b[0m\u001b[0m\n\u001b[1;32m   2995\u001b[0m             \u001b[0mdescription\u001b[0m\u001b[0;34m=\u001b[0m\u001b[0;34m\"Evaluation\"\u001b[0m\u001b[0;34m,\u001b[0m\u001b[0;34m\u001b[0m\u001b[0;34m\u001b[0m\u001b[0m\n",
      "\u001b[0;32m~/.local/lib/python3.9/site-packages/transformers/trainer.py\u001b[0m in \u001b[0;36mevaluation_loop\u001b[0;34m(self, dataloader, description, prediction_loss_only, ignore_keys, metric_key_prefix)\u001b[0m\n\u001b[1;32m   3199\u001b[0m                 \u001b[0;32mif\u001b[0m \u001b[0mself\u001b[0m\u001b[0;34m.\u001b[0m\u001b[0mpreprocess_logits_for_metrics\u001b[0m \u001b[0;32mis\u001b[0m \u001b[0;32mnot\u001b[0m \u001b[0;32mNone\u001b[0m\u001b[0;34m:\u001b[0m\u001b[0;34m\u001b[0m\u001b[0;34m\u001b[0m\u001b[0m\n\u001b[1;32m   3200\u001b[0m                     \u001b[0mlogits\u001b[0m \u001b[0;34m=\u001b[0m \u001b[0mself\u001b[0m\u001b[0;34m.\u001b[0m\u001b[0mpreprocess_logits_for_metrics\u001b[0m\u001b[0;34m(\u001b[0m\u001b[0mlogits\u001b[0m\u001b[0;34m,\u001b[0m \u001b[0mlabels\u001b[0m\u001b[0;34m)\u001b[0m\u001b[0;34m\u001b[0m\u001b[0;34m\u001b[0m\u001b[0m\n\u001b[0;32m-> 3201\u001b[0;31m                 \u001b[0mpreds_host\u001b[0m \u001b[0;34m=\u001b[0m \u001b[0mlogits\u001b[0m \u001b[0;32mif\u001b[0m \u001b[0mpreds_host\u001b[0m \u001b[0;32mis\u001b[0m \u001b[0;32mNone\u001b[0m \u001b[0;32melse\u001b[0m \u001b[0mnested_concat\u001b[0m\u001b[0;34m(\u001b[0m\u001b[0mpreds_host\u001b[0m\u001b[0;34m,\u001b[0m \u001b[0mlogits\u001b[0m\u001b[0;34m,\u001b[0m \u001b[0mpadding_index\u001b[0m\u001b[0;34m=\u001b[0m\u001b[0;34m-\u001b[0m\u001b[0;36m100\u001b[0m\u001b[0;34m)\u001b[0m\u001b[0;34m\u001b[0m\u001b[0;34m\u001b[0m\u001b[0m\n\u001b[0m\u001b[1;32m   3202\u001b[0m             \u001b[0mself\u001b[0m\u001b[0;34m.\u001b[0m\u001b[0mcontrol\u001b[0m \u001b[0;34m=\u001b[0m \u001b[0mself\u001b[0m\u001b[0;34m.\u001b[0m\u001b[0mcallback_handler\u001b[0m\u001b[0;34m.\u001b[0m\u001b[0mon_prediction_step\u001b[0m\u001b[0;34m(\u001b[0m\u001b[0margs\u001b[0m\u001b[0;34m,\u001b[0m \u001b[0mself\u001b[0m\u001b[0;34m.\u001b[0m\u001b[0mstate\u001b[0m\u001b[0;34m,\u001b[0m \u001b[0mself\u001b[0m\u001b[0;34m.\u001b[0m\u001b[0mcontrol\u001b[0m\u001b[0;34m)\u001b[0m\u001b[0;34m\u001b[0m\u001b[0;34m\u001b[0m\u001b[0m\n\u001b[1;32m   3203\u001b[0m \u001b[0;34m\u001b[0m\u001b[0m\n",
      "\u001b[0;32m~/.local/lib/python3.9/site-packages/transformers/trainer_pt_utils.py\u001b[0m in \u001b[0;36mnested_concat\u001b[0;34m(tensors, new_tensors, padding_index)\u001b[0m\n\u001b[1;32m    112\u001b[0m     ), f\"Expected `tensors` and `new_tensors` to have the same type but found {type(tensors)} and {type(new_tensors)}.\"\n\u001b[1;32m    113\u001b[0m     \u001b[0;32mif\u001b[0m \u001b[0misinstance\u001b[0m\u001b[0;34m(\u001b[0m\u001b[0mtensors\u001b[0m\u001b[0;34m,\u001b[0m \u001b[0;34m(\u001b[0m\u001b[0mlist\u001b[0m\u001b[0;34m,\u001b[0m \u001b[0mtuple\u001b[0m\u001b[0;34m)\u001b[0m\u001b[0;34m)\u001b[0m\u001b[0;34m:\u001b[0m\u001b[0;34m\u001b[0m\u001b[0;34m\u001b[0m\u001b[0m\n\u001b[0;32m--> 114\u001b[0;31m         \u001b[0;32mreturn\u001b[0m \u001b[0mtype\u001b[0m\u001b[0;34m(\u001b[0m\u001b[0mtensors\u001b[0m\u001b[0;34m)\u001b[0m\u001b[0;34m(\u001b[0m\u001b[0mnested_concat\u001b[0m\u001b[0;34m(\u001b[0m\u001b[0mt\u001b[0m\u001b[0;34m,\u001b[0m \u001b[0mn\u001b[0m\u001b[0;34m,\u001b[0m \u001b[0mpadding_index\u001b[0m\u001b[0;34m=\u001b[0m\u001b[0mpadding_index\u001b[0m\u001b[0;34m)\u001b[0m \u001b[0;32mfor\u001b[0m \u001b[0mt\u001b[0m\u001b[0;34m,\u001b[0m \u001b[0mn\u001b[0m \u001b[0;32min\u001b[0m \u001b[0mzip\u001b[0m\u001b[0;34m(\u001b[0m\u001b[0mtensors\u001b[0m\u001b[0;34m,\u001b[0m \u001b[0mnew_tensors\u001b[0m\u001b[0;34m)\u001b[0m\u001b[0;34m)\u001b[0m\u001b[0;34m\u001b[0m\u001b[0;34m\u001b[0m\u001b[0m\n\u001b[0m\u001b[1;32m    115\u001b[0m     \u001b[0;32melif\u001b[0m \u001b[0misinstance\u001b[0m\u001b[0;34m(\u001b[0m\u001b[0mtensors\u001b[0m\u001b[0;34m,\u001b[0m \u001b[0mtorch\u001b[0m\u001b[0;34m.\u001b[0m\u001b[0mTensor\u001b[0m\u001b[0;34m)\u001b[0m\u001b[0;34m:\u001b[0m\u001b[0;34m\u001b[0m\u001b[0;34m\u001b[0m\u001b[0m\n\u001b[1;32m    116\u001b[0m         \u001b[0;32mreturn\u001b[0m \u001b[0mtorch_pad_and_concatenate\u001b[0m\u001b[0;34m(\u001b[0m\u001b[0mtensors\u001b[0m\u001b[0;34m,\u001b[0m \u001b[0mnew_tensors\u001b[0m\u001b[0;34m,\u001b[0m \u001b[0mpadding_index\u001b[0m\u001b[0;34m=\u001b[0m\u001b[0mpadding_index\u001b[0m\u001b[0;34m)\u001b[0m\u001b[0;34m\u001b[0m\u001b[0;34m\u001b[0m\u001b[0m\n",
      "\u001b[0;32m~/.local/lib/python3.9/site-packages/transformers/trainer_pt_utils.py\u001b[0m in \u001b[0;36m<genexpr>\u001b[0;34m(.0)\u001b[0m\n\u001b[1;32m    112\u001b[0m     ), f\"Expected `tensors` and `new_tensors` to have the same type but found {type(tensors)} and {type(new_tensors)}.\"\n\u001b[1;32m    113\u001b[0m     \u001b[0;32mif\u001b[0m \u001b[0misinstance\u001b[0m\u001b[0;34m(\u001b[0m\u001b[0mtensors\u001b[0m\u001b[0;34m,\u001b[0m \u001b[0;34m(\u001b[0m\u001b[0mlist\u001b[0m\u001b[0;34m,\u001b[0m \u001b[0mtuple\u001b[0m\u001b[0;34m)\u001b[0m\u001b[0;34m)\u001b[0m\u001b[0;34m:\u001b[0m\u001b[0;34m\u001b[0m\u001b[0;34m\u001b[0m\u001b[0m\n\u001b[0;32m--> 114\u001b[0;31m         \u001b[0;32mreturn\u001b[0m \u001b[0mtype\u001b[0m\u001b[0;34m(\u001b[0m\u001b[0mtensors\u001b[0m\u001b[0;34m)\u001b[0m\u001b[0;34m(\u001b[0m\u001b[0mnested_concat\u001b[0m\u001b[0;34m(\u001b[0m\u001b[0mt\u001b[0m\u001b[0;34m,\u001b[0m \u001b[0mn\u001b[0m\u001b[0;34m,\u001b[0m \u001b[0mpadding_index\u001b[0m\u001b[0;34m=\u001b[0m\u001b[0mpadding_index\u001b[0m\u001b[0;34m)\u001b[0m \u001b[0;32mfor\u001b[0m \u001b[0mt\u001b[0m\u001b[0;34m,\u001b[0m \u001b[0mn\u001b[0m \u001b[0;32min\u001b[0m \u001b[0mzip\u001b[0m\u001b[0;34m(\u001b[0m\u001b[0mtensors\u001b[0m\u001b[0;34m,\u001b[0m \u001b[0mnew_tensors\u001b[0m\u001b[0;34m)\u001b[0m\u001b[0;34m)\u001b[0m\u001b[0;34m\u001b[0m\u001b[0;34m\u001b[0m\u001b[0m\n\u001b[0m\u001b[1;32m    115\u001b[0m     \u001b[0;32melif\u001b[0m \u001b[0misinstance\u001b[0m\u001b[0;34m(\u001b[0m\u001b[0mtensors\u001b[0m\u001b[0;34m,\u001b[0m \u001b[0mtorch\u001b[0m\u001b[0;34m.\u001b[0m\u001b[0mTensor\u001b[0m\u001b[0;34m)\u001b[0m\u001b[0;34m:\u001b[0m\u001b[0;34m\u001b[0m\u001b[0;34m\u001b[0m\u001b[0m\n\u001b[1;32m    116\u001b[0m         \u001b[0;32mreturn\u001b[0m \u001b[0mtorch_pad_and_concatenate\u001b[0m\u001b[0;34m(\u001b[0m\u001b[0mtensors\u001b[0m\u001b[0;34m,\u001b[0m \u001b[0mnew_tensors\u001b[0m\u001b[0;34m,\u001b[0m \u001b[0mpadding_index\u001b[0m\u001b[0;34m=\u001b[0m\u001b[0mpadding_index\u001b[0m\u001b[0;34m)\u001b[0m\u001b[0;34m\u001b[0m\u001b[0;34m\u001b[0m\u001b[0m\n",
      "\u001b[0;32m~/.local/lib/python3.9/site-packages/transformers/trainer_pt_utils.py\u001b[0m in \u001b[0;36mnested_concat\u001b[0;34m(tensors, new_tensors, padding_index)\u001b[0m\n\u001b[1;32m    114\u001b[0m         \u001b[0;32mreturn\u001b[0m \u001b[0mtype\u001b[0m\u001b[0;34m(\u001b[0m\u001b[0mtensors\u001b[0m\u001b[0;34m)\u001b[0m\u001b[0;34m(\u001b[0m\u001b[0mnested_concat\u001b[0m\u001b[0;34m(\u001b[0m\u001b[0mt\u001b[0m\u001b[0;34m,\u001b[0m \u001b[0mn\u001b[0m\u001b[0;34m,\u001b[0m \u001b[0mpadding_index\u001b[0m\u001b[0;34m=\u001b[0m\u001b[0mpadding_index\u001b[0m\u001b[0;34m)\u001b[0m \u001b[0;32mfor\u001b[0m \u001b[0mt\u001b[0m\u001b[0;34m,\u001b[0m \u001b[0mn\u001b[0m \u001b[0;32min\u001b[0m \u001b[0mzip\u001b[0m\u001b[0;34m(\u001b[0m\u001b[0mtensors\u001b[0m\u001b[0;34m,\u001b[0m \u001b[0mnew_tensors\u001b[0m\u001b[0;34m)\u001b[0m\u001b[0;34m)\u001b[0m\u001b[0;34m\u001b[0m\u001b[0;34m\u001b[0m\u001b[0m\n\u001b[1;32m    115\u001b[0m     \u001b[0;32melif\u001b[0m \u001b[0misinstance\u001b[0m\u001b[0;34m(\u001b[0m\u001b[0mtensors\u001b[0m\u001b[0;34m,\u001b[0m \u001b[0mtorch\u001b[0m\u001b[0;34m.\u001b[0m\u001b[0mTensor\u001b[0m\u001b[0;34m)\u001b[0m\u001b[0;34m:\u001b[0m\u001b[0;34m\u001b[0m\u001b[0;34m\u001b[0m\u001b[0m\n\u001b[0;32m--> 116\u001b[0;31m         \u001b[0;32mreturn\u001b[0m \u001b[0mtorch_pad_and_concatenate\u001b[0m\u001b[0;34m(\u001b[0m\u001b[0mtensors\u001b[0m\u001b[0;34m,\u001b[0m \u001b[0mnew_tensors\u001b[0m\u001b[0;34m,\u001b[0m \u001b[0mpadding_index\u001b[0m\u001b[0;34m=\u001b[0m\u001b[0mpadding_index\u001b[0m\u001b[0;34m)\u001b[0m\u001b[0;34m\u001b[0m\u001b[0;34m\u001b[0m\u001b[0m\n\u001b[0m\u001b[1;32m    117\u001b[0m     \u001b[0;32melif\u001b[0m \u001b[0misinstance\u001b[0m\u001b[0;34m(\u001b[0m\u001b[0mtensors\u001b[0m\u001b[0;34m,\u001b[0m \u001b[0mMapping\u001b[0m\u001b[0;34m)\u001b[0m\u001b[0;34m:\u001b[0m\u001b[0;34m\u001b[0m\u001b[0;34m\u001b[0m\u001b[0m\n\u001b[1;32m    118\u001b[0m         return type(tensors)(\n",
      "\u001b[0;32m~/.local/lib/python3.9/site-packages/transformers/trainer_pt_utils.py\u001b[0m in \u001b[0;36mtorch_pad_and_concatenate\u001b[0;34m(tensor1, tensor2, padding_index)\u001b[0m\n\u001b[1;32m     73\u001b[0m \u001b[0;34m\u001b[0m\u001b[0m\n\u001b[1;32m     74\u001b[0m     \u001b[0;32mif\u001b[0m \u001b[0mlen\u001b[0m\u001b[0;34m(\u001b[0m\u001b[0mtensor1\u001b[0m\u001b[0;34m.\u001b[0m\u001b[0mshape\u001b[0m\u001b[0;34m)\u001b[0m \u001b[0;34m==\u001b[0m \u001b[0;36m1\u001b[0m \u001b[0;32mor\u001b[0m \u001b[0mtensor1\u001b[0m\u001b[0;34m.\u001b[0m\u001b[0mshape\u001b[0m\u001b[0;34m[\u001b[0m\u001b[0;36m1\u001b[0m\u001b[0;34m]\u001b[0m \u001b[0;34m==\u001b[0m \u001b[0mtensor2\u001b[0m\u001b[0;34m.\u001b[0m\u001b[0mshape\u001b[0m\u001b[0;34m[\u001b[0m\u001b[0;36m1\u001b[0m\u001b[0;34m]\u001b[0m\u001b[0;34m:\u001b[0m\u001b[0;34m\u001b[0m\u001b[0;34m\u001b[0m\u001b[0m\n\u001b[0;32m---> 75\u001b[0;31m         \u001b[0;32mreturn\u001b[0m \u001b[0mtorch\u001b[0m\u001b[0;34m.\u001b[0m\u001b[0mcat\u001b[0m\u001b[0;34m(\u001b[0m\u001b[0;34m(\u001b[0m\u001b[0mtensor1\u001b[0m\u001b[0;34m,\u001b[0m \u001b[0mtensor2\u001b[0m\u001b[0;34m)\u001b[0m\u001b[0;34m,\u001b[0m \u001b[0mdim\u001b[0m\u001b[0;34m=\u001b[0m\u001b[0;36m0\u001b[0m\u001b[0;34m)\u001b[0m\u001b[0;34m\u001b[0m\u001b[0;34m\u001b[0m\u001b[0m\n\u001b[0m\u001b[1;32m     76\u001b[0m \u001b[0;34m\u001b[0m\u001b[0m\n\u001b[1;32m     77\u001b[0m     \u001b[0;31m# Let's figure out the new shape\u001b[0m\u001b[0;34m\u001b[0m\u001b[0;34m\u001b[0m\u001b[0m\n",
      "\u001b[0;31mOutOfMemoryError\u001b[0m: CUDA out of memory. Tried to allocate 1.92 GiB (GPU 0; 15.78 GiB total capacity; 9.60 GiB already allocated; 1.23 GiB free; 13.67 GiB reserved in total by PyTorch) If reserved memory is >> allocated memory try setting max_split_size_mb to avoid fragmentation.  See documentation for Memory Management and PYTORCH_CUDA_ALLOC_CONF"
     ]
    }
   ],
   "source": [
    "# Define training arguments\n",
    "training_args = TrainingArguments(\n",
    "    output_dir='./results',\n",
    "    evaluation_strategy = \"epoch\",\n",
    "    learning_rate=2e-5,\n",
    "    per_device_train_batch_size=1,\n",
    "    per_device_eval_batch_size=1,\n",
    "    num_train_epochs=3,\n",
    "    weight_decay=0.01,\n",
    "    push_to_hub=False,\n",
    "    logging_dir='./logs',\n",
    "    logging_steps=10,\n",
    ")\n",
    "\n",
    "# Define trainer\n",
    "trainer = Trainer(\n",
    "    model=model,\n",
    "    args=training_args,\n",
    "    train_dataset=train_dataset,\n",
    "    eval_dataset=val_dataset,\n",
    "    data_collator=lambda data: {'input_ids': torch.stack([f[0] for f in data]),\n",
    "                                'attention_mask': torch.stack([f[1] for f in data]),\n",
    "                                'decoder_input_ids': torch.stack([f[2] for f in data]),\n",
    "                                'decoder_attention_mask': torch.stack([f[3] for f in data]),\n",
    "                                'labels': torch.stack([f[4] for f in data])},\n",
    "    tokenizer=tokenizer,\n",
    "    compute_metrics=compute_metrics\n",
    ")\n",
    "\n",
    "# Fine-tune the model\n",
    "trainer.train()"
   ]
  },
  {
   "cell_type": "code",
   "execution_count": null,
   "metadata": {
    "id": "uWwyl6lXr8Sg"
   },
   "outputs": [],
   "source": [
    "def compute_rouge(rouge_scores):\n",
    "    rouge_1_precision = np.mean([score['rouge-1']['p'] for score in rouge_scores])\n",
    "    rouge_1_recall = np.mean([score['rouge-1']['r'] for score in rouge_scores])\n",
    "    rouge_1_f1 = np.mean([score['rouge-1']['f'] for score in rouge_scores])\n",
    "    \n",
    "    rouge_2_precision = np.mean([score['rouge-2']['p'] for score in rouge_scores])\n",
    "    rouge_2_recall = np.mean([score['rouge-2']['r'] for score in rouge_scores])\n",
    "    rouge_2_f1 = np.mean([score['rouge-2']['f'] for score in rouge_scores])\n",
    "    \n",
    "    rouge_l_precision = np.mean([score['rouge-l']['p'] for score in rouge_scores])\n",
    "    rouge_l_recall = np.mean([score['rouge-l']['r'] for score in rouge_scores])\n",
    "    rouge_l_f1 = np.mean([score['rouge-l']['f'] for score in rouge_scores])\n",
    "    \n",
    "    return rouge_1_precision, rouge_1_recall, rouge_1_f1, rouge_2_precision, rouge_2_recall, rouge_2_f1, rouge_l_precision, rouge_l_recall, rouge_l_f1\n",
    "\n",
    "test_pred = trainer.predict(test_dataset)\n",
    "decoded_preds = [tokenizer.decode(pred, skip_special_tokens=True) for pred in test_pred.predictions]\n",
    "references = [example['summary'] for example in test_dataset]\n",
    "\n",
    "rouge_scores = scorer.score(decoded_preds, references)\n",
    "rouge_1_precision, rouge_1_recall, rouge_1_f1, rouge_2_precision, rouge_2_recall, rouge_2_f1, rouge_l_precision, rouge_l_recall, rouge_l_f1 = compute_rouge(rouge_scores)\n",
    "\n",
    "print(f\"ROUGE-1 Precision: {rouge_1_precision:.4f}, Recall: {rouge_1_recall:.4f}, F1: {rouge_1_f1:.4f}\")\n",
    "print(f\"ROUGE-2 Precision: {rouge_2_precision:.4f}, Recall: {rouge_2_recall:.4f}, F1: {rouge_2_f1:.4f}\")\n",
    "print(f\"ROUGE-L Precision: {rouge_l_precision:.4f}, Recall: {rouge_l_recall:.4f}, F1: {rouge_l_f1:.4f}\")"
   ]
  },
  {
   "cell_type": "markdown",
   "metadata": {
    "id": "XE0b6xWdmkQe"
   },
   "source": []
  },
  {
   "cell_type": "markdown",
   "metadata": {
    "id": "DjyKXvuoktFb"
   },
   "source": [
    "#  Pegasus model \n",
    "The Pegasus model was proposed in [PEGASUS][1]: Pre-training with Extracted Gap-sentences for Abstractive Summarization by Jingqing Zhang, Yao Zhao, Mohammad Saleh and Peter J. Liu on Dec 18, 2019.  \n",
    "\n",
    "Pegasus’ pretraining task is intentionally similar to summarization: important sentences are removed/masked from an input document and are generated together as one output sequence from the remaining sentences, similar to an extractive summary.\n",
    "\n",
    "[1]: https://huggingface.co/docs/transformers/model_doc/pegasus"
   ]
  },
  {
   "cell_type": "code",
   "execution_count": 22,
   "metadata": {
    "colab": {
     "base_uri": "https://localhost:8080/",
     "height": 209,
     "referenced_widgets": [
      "47485d97028944e1940120d1f192313e",
      "5834a8668ba549a7bcb0f8045417a195",
      "59a21c26703341df8dce87d4d3249b0d",
      "9be526babb2e4f4897c6ce7b2de4883e",
      "d5e7448ef4af468cbe59e2ca8651f453",
      "793f6596ff654828b6fdaac283222e8c",
      "5cc461850afb41d8bc9a93a2c32eee2b",
      "e7390851b75c45d1b1c4be061d7083da",
      "a7d40422e69e461aa80484757967c7a6",
      "497f116bfa634485ae7c10405d6ca94d",
      "6e65996d7c2441ba9401e70ac08e8a77",
      "a6cab4f710ed4f72b167673e1bc29be4",
      "c89af36d1fb34074aeec52c80f8ae3a6",
      "281391602b474d84a1ea3efd6beb018d",
      "5f815d1c65914f7497804912eedf41bf",
      "b4f43d802bf34631ad91858a2572b890",
      "40882975dbd244899b0557fc05fb3b56",
      "81ad3e87a0124c92904ad969a33fbfef",
      "70da8db814dd44a8a5ac9ede6cff85ab",
      "d8799b2adeff4ae2a8b34357618ffa16",
      "f5414025a0784249aa3fc6a66bae430f",
      "ff78ad829d794b8aade83e721aae3fc9",
      "08981308cc134cd6a85b4d0397a43444",
      "28b56545c7c34a57aad5fab8475d4683",
      "80f643ae90a849a8aab02c34a4918a8a",
      "8e40ae81925e47798902a848a28d53af",
      "3880c4c9291149f19585f52d3ae15914",
      "b299608a16d945b9860fae856c7cd1bd",
      "8c279c4bf4f74338be11d29bab0e90d6",
      "e829523a5d4e4b34a2ddceb449179f3e",
      "fbbaae08a4124c74874e6be91285317b",
      "2188d2ee43354d628c6d7e1b34304b92",
      "7b3da72c486b415797efade827d583c4",
      "7ee2e9ee35e34565a8415a6c09a5ccdd",
      "98f91b5ab846495bbfea7c57b81e1964",
      "64c81d8ae9a74755a33455a77667a5a8",
      "4fdded31c12440b199fa6f0721756fdd",
      "c625f9d476c34497936d7bff567ec5b6",
      "2634f5454d7449429ea4a6c8ddcc5009",
      "df6ec905e310453099ff46aa16ff2849",
      "62b963d052dd4122bf12f2a80e3749ba",
      "af72b147ab3d4bd0afcf62696d131cf5",
      "5666f51ca8244620ac4f0c5c65782ed2",
      "d95e99e30b9b479096f71174b4ec37e1",
      "116aa5e0d1f748bca54ac5bc784b9583",
      "0d33e32c6cc246759784a1bd17e643d8",
      "c90b5eab7d164560859ad3ba5a8e6f80",
      "6ace1935f36740b5b39918722bec96da",
      "3cc2b1c160a942a6ad2188e5d484b978",
      "8270bf36950148d68690b5bc56e26af8",
      "d566e46a33f848009bb4b4a022a1b49e",
      "49bb572f3fcf4d4fa08f654c0558574d",
      "bcf7600b9dba49c0802d0e88d5e8c8fd",
      "57110cc86f4741fc899962065b4619ad",
      "1ab7b0e5e2a34fb3a47e43f894032bea",
      "ae84768e264e46edabf5c55f1a5e71de",
      "699efc49e4d2483db9d249018202b97f",
      "778ee3e2bb084dff9277e912c17d6ba4",
      "8c0b20de088a40cbbe87a11fdb1530ea",
      "f2d18956101b4abd977b9905c7ed70ce",
      "c137033754e241e988668b067a47891d",
      "0672aec6b7734d2f8193d7a6aafabfca",
      "962dd44d23da4c1a95076c20283713a8",
      "14173ff7a03c4b41a8abf150659b6f2d",
      "1a3edd3e83b64a30860502582dab667a",
      "22482c7f4dba4351936c13d321827a64"
     ]
    },
    "id": "YKxJZjdHlZzo",
    "outputId": "90ecf90f-299f-4d0b-f480-993c3b340d9c"
   },
   "outputs": [],
   "source": [
    "from transformers import PegasusForConditionalGeneration, PegasusTokenizer\n",
    "\n",
    "model_name = 'google/pegasus-arxiv'\n",
    "tokenizer = PegasusTokenizer.from_pretrained(model_name)\n",
    "model = PegasusForConditionalGeneration.from_pretrained(model_name)"
   ]
  },
  {
   "cell_type": "code",
   "execution_count": null,
   "metadata": {
    "id": "cr8ZS3qe-mDZ"
   },
   "outputs": [],
   "source": [
    "# df.reset_index(drop=True, inplace=True)"
   ]
  },
  {
   "cell_type": "code",
   "execution_count": null,
   "metadata": {
    "colab": {
     "base_uri": "https://localhost:8080/"
    },
    "id": "n8cFXkMInWCo",
    "outputId": "6bb81f75-0a93-4018-ce0c-7a8d4c399c92"
   },
   "outputs": [
    {
     "name": "stderr",
     "output_type": "stream",
     "text": [
      "Truncation was not explicitly activated but `max_length` is provided a specific value, please use `truncation=True` to explicitly truncate examples to max length. Defaulting to 'longest_first' truncation strategy. If you encode pairs of sequences (GLUE-style) with the tokenizer you can select this strategy more precisely by providing a specific strategy to `truncation`.\n",
      "/usr/local/lib/python3.9/dist-packages/transformers/generation/utils.py:1313: UserWarning: Using `max_length`'s default (256) to control the generation length. This behaviour is deprecated and will be removed from the config in v5 of Transformers -- we recommend using `max_new_tokens` to control the maximum length of the generation.\n",
      "  warnings.warn(\n"
     ]
    },
    {
     "name": "stdout",
     "output_type": "stream",
     "text": [
      "['clustering algorithms are very useful in many applications . <n> however , clustering algorithms can be very difficult to implement in practice . <n> we propose a new method of clustering that is based on the following three ideas . <n> first , we introduce a new clustering algorithm that is based on the following three ideas . <n> first , we introduce a new method of clustering that is based on the following three ideas . <n> second , we introduce a new method of clustering that is based on the following three ideas . <n> third , we introduce a new method of clustering that is based on the following three ideas . <n> fourth , we introduce a new method of clustering that is based on the following three ideas . <n> fifth , we introduce a new method of clustering that is based on the following three ideas . <n> sixth , we introduce a new method of clustering that is based on the following three ideas . <n> seventh , we introduce a new method of clustering that is based on the following three ideas . <n> eighth , we introduce a new method of clustering that is based on the following three ideas . <n> ninth , we introduce a new method of']\n"
     ]
    }
   ],
   "source": [
    "# sample with no fine-tunning\n",
    "sample_input = df.body[0]\n",
    "inputs = tokenizer([sample_input], max_length=1024, return_tensors='pt')\n",
    "\n",
    "# batch = tokenizer(sample_input, truncation=True, padding='longest', return_tensors=\"pt\").to(torch_device)\n",
    "summary_ids = model.generate(inputs['input_ids']) # generate summary\n",
    "sample_output = [tokenizer.decode(g, skip_special_tokens=True, clean_up_tokenization_spaces=False) for g in summary_ids]\n",
    "print(sample_output)"
   ]
  },
  {
   "cell_type": "code",
   "execution_count": null,
   "metadata": {
    "colab": {
     "base_uri": "https://localhost:8080/"
    },
    "id": "zJYS7urgo-uP",
    "outputId": "971a5829-2bbd-49d9-fd24-46a74ae3f7ae"
   },
   "outputs": [
    {
     "name": "stdout",
     "output_type": "stream",
     "text": [
      "{'rouge1': Score(precision=0.6887755102040817, recall=0.033657442034405384, fmeasure=0.06417874970287615), 'rouge2': Score(precision=0.1794871794871795, recall=0.008728179551122194, fmeasure=0.01664684898929845), 'rougeL': Score(precision=0.5102040816326531, recall=0.024931438544003988, fmeasure=0.047539814594723076), 'rougeLsum': Score(precision=0.6785714285714286, recall=0.03315881326352531, fmeasure=0.06322795341098171)}\n"
     ]
    }
   ],
   "source": [
    "# evaluation \n",
    "scorer = rouge_scorer.RougeScorer(['rouge1','rouge2', 'rougeL','rougeLsum'], use_stemmer=True)\n",
    "scores = scorer.score(str(sample_input),\n",
    "                      str(sample_output))\n",
    "print(scores)"
   ]
  },
  {
   "cell_type": "markdown",
   "metadata": {},
   "source": [
    "### + extractive"
   ]
  },
  {
   "cell_type": "code",
   "execution_count": 23,
   "metadata": {},
   "outputs": [],
   "source": [
    "train_inputs_encodings = tokenizer(train_inputs, padding=True, truncation=True, max_length=1024, return_tensors='pt')\n",
    "train_targets_encodings = tokenizer(train_targets, padding=True, truncation=True, max_length=1024, return_tensors='pt')\n",
    "val_inputs_encodings = tokenizer(val_inputs, padding=True, truncation=True, max_length=1024, return_tensors='pt')\n",
    "val_targets_encodings = tokenizer(val_targets, padding=True, truncation=True, max_length=1024, return_tensors='pt')\n",
    "test_inputs_encodings = tokenizer(test_inputs, padding=True, truncation=True, max_length=1024, return_tensors='pt')\n",
    "test_targets_encodings = tokenizer(test_targets, padding=True, truncation=True, max_length=1024, return_tensors='pt')\n",
    "\n",
    "class PrepareDataset(torch.utils.data.Dataset):\n",
    "    def __init__(self, encodings, decodings):\n",
    "        self.encodings = encodings\n",
    "        self.decodings = decodings\n",
    "\n",
    "    def __getitem__(self, idx):\n",
    "        item = {key: torch.tensor(val[idx]) for key, val in self.encodings.items()}\n",
    "        item['labels'] = torch.tensor(self.decodings['input_ids'][idx])\n",
    "        item['decoder_attention_mask'] = torch.tensor(self.decodings['attention_mask'][idx])\n",
    "        return item\n",
    "\n",
    "    def __len__(self):\n",
    "        return len(self.encodings['input_ids'])\n",
    "\n",
    "train_dataset = PrepareDataset(train_inputs_encodings, train_targets_encodings)\n",
    "val_dataset = PrepareDataset(val_inputs_encodings, val_targets_encodings)\n",
    "test_dataset = PrepareDataset(test_inputs_encodings, test_targets_encodings)"
   ]
  },
  {
   "cell_type": "code",
   "execution_count": null,
   "metadata": {},
   "outputs": [
    {
     "name": "stderr",
     "output_type": "stream",
     "text": [
      "/home/wutongg/miniconda3/envs/si630/lib/python3.11/site-packages/transformers/optimization.py:391: FutureWarning: This implementation of AdamW is deprecated and will be removed in a future version. Use the PyTorch implementation torch.optim.AdamW instead, or set `no_deprecation_warning=True` to disable this warning\n",
      "  warnings.warn(\n",
      "/tmp/ipykernel_483601/3139471347.py:14: UserWarning: To copy construct from a tensor, it is recommended to use sourceTensor.clone().detach() or sourceTensor.clone().detach().requires_grad_(True), rather than torch.tensor(sourceTensor).\n",
      "  item = {key: torch.tensor(val[idx]) for key, val in self.encodings.items()}\n",
      "/tmp/ipykernel_483601/3139471347.py:15: UserWarning: To copy construct from a tensor, it is recommended to use sourceTensor.clone().detach() or sourceTensor.clone().detach().requires_grad_(True), rather than torch.tensor(sourceTensor).\n",
      "  item['labels'] = torch.tensor(self.decodings['input_ids'][idx])\n",
      "/tmp/ipykernel_483601/3139471347.py:16: UserWarning: To copy construct from a tensor, it is recommended to use sourceTensor.clone().detach() or sourceTensor.clone().detach().requires_grad_(True), rather than torch.tensor(sourceTensor).\n",
      "  item['decoder_attention_mask'] = torch.tensor(self.decodings['attention_mask'][idx])\n"
     ]
    },
    {
     "data": {
      "text/html": [
       "\n",
       "    <div>\n",
       "      \n",
       "      <progress value='1477' max='2214' style='width:300px; height:20px; vertical-align: middle;'></progress>\n",
       "      [1477/2214 10:49 < 05:24, 2.27 it/s, Epoch 2/3]\n",
       "    </div>\n",
       "    <table border=\"1\" class=\"dataframe\">\n",
       "  <thead>\n",
       " <tr style=\"text-align: left;\">\n",
       "      <th>Epoch</th>\n",
       "      <th>Training Loss</th>\n",
       "      <th>Validation Loss</th>\n",
       "    </tr>\n",
       "  </thead>\n",
       "  <tbody>\n",
       "    <tr>\n",
       "      <td>1</td>\n",
       "      <td>2.026100</td>\n",
       "      <td>2.560662</td>\n",
       "    </tr>\n",
       "  </tbody>\n",
       "</table><p>\n",
       "    <div>\n",
       "      \n",
       "      <progress value='72' max='92' style='width:300px; height:20px; vertical-align: middle;'></progress>\n",
       "      [72/92 00:04 < 00:01, 15.42 it/s]\n",
       "    </div>\n",
       "    "
      ],
      "text/plain": [
       "<IPython.core.display.HTML object>"
      ]
     },
     "metadata": {},
     "output_type": "display_data"
    },
    {
     "name": "stderr",
     "output_type": "stream",
     "text": [
      "/tmp/ipykernel_483601/3139471347.py:14: UserWarning: To copy construct from a tensor, it is recommended to use sourceTensor.clone().detach() or sourceTensor.clone().detach().requires_grad_(True), rather than torch.tensor(sourceTensor).\n",
      "  item = {key: torch.tensor(val[idx]) for key, val in self.encodings.items()}\n",
      "/tmp/ipykernel_483601/3139471347.py:15: UserWarning: To copy construct from a tensor, it is recommended to use sourceTensor.clone().detach() or sourceTensor.clone().detach().requires_grad_(True), rather than torch.tensor(sourceTensor).\n",
      "  item['labels'] = torch.tensor(self.decodings['input_ids'][idx])\n",
      "/tmp/ipykernel_483601/3139471347.py:16: UserWarning: To copy construct from a tensor, it is recommended to use sourceTensor.clone().detach() or sourceTensor.clone().detach().requires_grad_(True), rather than torch.tensor(sourceTensor).\n",
      "  item['decoder_attention_mask'] = torch.tensor(self.decodings['attention_mask'][idx])\n",
      "/tmp/ipykernel_483601/3139471347.py:14: UserWarning: To copy construct from a tensor, it is recommended to use sourceTensor.clone().detach() or sourceTensor.clone().detach().requires_grad_(True), rather than torch.tensor(sourceTensor).\n",
      "  item = {key: torch.tensor(val[idx]) for key, val in self.encodings.items()}\n",
      "/tmp/ipykernel_483601/3139471347.py:15: UserWarning: To copy construct from a tensor, it is recommended to use sourceTensor.clone().detach() or sourceTensor.clone().detach().requires_grad_(True), rather than torch.tensor(sourceTensor).\n",
      "  item['labels'] = torch.tensor(self.decodings['input_ids'][idx])\n",
      "/tmp/ipykernel_483601/3139471347.py:16: UserWarning: To copy construct from a tensor, it is recommended to use sourceTensor.clone().detach() or sourceTensor.clone().detach().requires_grad_(True), rather than torch.tensor(sourceTensor).\n",
      "  item['decoder_attention_mask'] = torch.tensor(self.decodings['attention_mask'][idx])\n"
     ]
    }
   ],
   "source": [
    "from transformers import Seq2SeqTrainer, Seq2SeqTrainingArguments\n",
    "\n",
    "# Define training arguments\n",
    "training_args = Seq2SeqTrainingArguments(\n",
    "    output_dir='./results',\n",
    "    evaluation_strategy = \"epoch\",\n",
    "    learning_rate=2e-5,\n",
    "    per_device_train_batch_size=1,\n",
    "    per_device_eval_batch_size=1,\n",
    "    num_train_epochs=3,\n",
    "    weight_decay=0.01,\n",
    "    push_to_hub=False,\n",
    "    logging_dir='./logs',\n",
    "    logging_steps=10,\n",
    ")\n",
    "\n",
    "# Define trainer\n",
    "trainer = Seq2SeqTrainer(\n",
    "    model=model,\n",
    "    args=training_args,\n",
    "    train_dataset=train_dataset,\n",
    "    eval_dataset=val_dataset,   \n",
    "    # compute_metrics=compute_metrics\n",
    ")\n",
    "\n",
    "# Fine-tune the model\n",
    "trainer.train()"
   ]
  },
  {
   "cell_type": "code",
   "execution_count": null,
   "metadata": {},
   "outputs": [],
   "source": [
    "test_summaries = generate_summaries(model, test_dataset, tokenizer)\n",
    "\n",
    "rouge_scores = []\n",
    "rouge = Rouge()\n",
    "\n",
    "for gen_summary, ref_summary in zip(test_summaries, test_df_ex['summary']):\n",
    "    scores = rouge.get_scores(ref_summary, gen_summary)[0]\n",
    "    rouge_scores.append(scores)\n",
    "\n",
    "rouge_1_precision, rouge_1_recall, rouge_1_f1, rouge_2_precision, rouge_2_recall, rouge_2_f1, rouge_l_precision, rouge_l_recall, rouge_l_f1 = compute_rouge(rouge_scores)\n",
    "\n",
    "print(f\"ROUGE-1 Precision: {rouge_1_precision:.4f}, Recall: {rouge_1_recall:.4f}, F1: {rouge_1_f1:.4f}\")\n",
    "print(f\"ROUGE-2 Precision: {rouge_2_precision:.4f}, Recall: {rouge_2_recall:.4f}, F1: {rouge_2_f1:.4f}\")\n",
    "print(f\"ROUGE-L Precision: {rouge_l_precision:.4f}, Recall: {rouge_l_recall:.4f}, F1: {rouge_l_f1:.4f}\")"
   ]
  },
  {
   "cell_type": "markdown",
   "metadata": {
    "id": "QsffmlyFFJpt"
   },
   "source": [
    "## no fine-tuning"
   ]
  },
  {
   "cell_type": "code",
   "execution_count": null,
   "metadata": {
    "colab": {
     "base_uri": "https://localhost:8080/"
    },
    "id": "uJe5TAAGF59K",
    "outputId": "445ee7c2-07a3-4c93-df66-b02f0368db4d"
   },
   "outputs": [
    {
     "name": "stderr",
     "output_type": "stream",
     "text": [
      "/usr/local/lib/python3.9/dist-packages/transformers/generation/utils.py:1313: UserWarning: Using `max_length`'s default (256) to control the generation length. This behaviour is deprecated and will be removed from the config in v5 of Transformers -- we recommend using `max_new_tokens` to control the maximum length of the generation.\n",
      "  warnings.warn(\n"
     ]
    },
    {
     "name": "stdout",
     "output_type": "stream",
     "text": [
      "0 93.22328758239746\n",
      "5 407.43830132484436\n",
      "10 518.4614355564117\n",
      "15 502.78300642967224\n",
      "20 505.95834970474243\n",
      "25 494.67452239990234\n",
      "30 412.37764596939087\n",
      "35 439.5516777038574\n",
      "40 438.95188784599304\n",
      "45 417.3843493461609\n",
      "50 341.30504417419434\n",
      "55 455.127712726593\n",
      "60 488.33151388168335\n",
      "65 436.7699911594391\n",
      "70 479.19603204727173\n",
      "75 386.82446455955505\n",
      "80 425.9591796398163\n",
      "85 443.85605216026306\n",
      "90 405.88919711112976\n"
     ]
    }
   ],
   "source": [
    "# evaluation metric \n",
    "scorer = rouge_scorer.RougeScorer(['rouge1','rouge2', 'rougeL'], use_stemmer=True)\n",
    "\n",
    "# create empry lists to store rouge scores\n",
    "r1_precision = []\n",
    "r2_precision = []\n",
    "rL_precision = []\n",
    "r1_recall = []\n",
    "r2_recall = []\n",
    "rL_recall = []\n",
    "r1_fmeasure = []\n",
    "r2_fmeasure = []\n",
    "rL_fmeasure = []\n",
    "\n",
    "test_model_decode = []\n",
    "\n",
    "start = time.time()\n",
    "# loop over test set\n",
    "for sample_id in range(len(test_targets)):\n",
    "    \n",
    "    # get input (body)\n",
    "    sample_input = test_targets[sample_id]\n",
    "    \n",
    "    # tokenize it\n",
    "    inputs = tokenizer([sample_input], max_length=1024, return_tensors='pt', truncation=True, padding=True)\n",
    "\n",
    "    # generate Summary\n",
    "    summary_ids = model.generate(inputs['input_ids'])\n",
    "    \n",
    "    # decode summary\n",
    "    sample_output = [tokenizer.decode(g, skip_special_tokens=True, clean_up_tokenization_spaces=False) for g in summary_ids]\n",
    "    \n",
    "    # store summary\n",
    "    test_model_decode = test_model_decode + sample_output\n",
    "    \n",
    "    # get reference (gold) summary \n",
    "    sample_reference = test_targets[sample_id]\n",
    "    \n",
    "    #calculate rouge score\n",
    "    scores = scorer.score(str(sample_reference), str(sample_output))\n",
    "    \n",
    "    r1_precision.append(scores['rouge1'][0])\n",
    "    r1_recall.append(scores['rouge1'][1])\n",
    "    r1_fmeasure.append(scores['rouge1'][2])\n",
    "    \n",
    "    r2_precision.append(scores['rouge2'][0])\n",
    "    r2_recall.append(scores['rouge2'][1])\n",
    "    r2_fmeasure.append(scores['rouge2'][2])\n",
    "    \n",
    "    rL_precision.append(scores['rougeL'][0])\n",
    "    rL_recall.append(scores['rougeL'][1])\n",
    "    rL_fmeasure.append(scores['rougeL'][2])\n",
    "    \n",
    "    if sample_id % 5 == 0:\n",
    "        print(sample_id, time.time() - start)\n",
    "        start = time.time()\n",
    "    "
   ]
  },
  {
   "cell_type": "code",
   "execution_count": null,
   "metadata": {
    "colab": {
     "base_uri": "https://localhost:8080/"
    },
    "id": "1ty7aEOKLkKV",
    "outputId": "136318ba-6a87-4a8c-ca5c-043dd0f2e612"
   },
   "outputs": [
    {
     "name": "stdout",
     "output_type": "stream",
     "text": [
      "                 R1        R2        RL\n",
      "precision  0.488838  0.270536  0.383443\n",
      "recall     0.384205  0.187928  0.296788\n",
      "fmeasure   0.395668  0.203260  0.306666\n"
     ]
    }
   ],
   "source": [
    "# evaluation\n",
    "import statistics as stats\n",
    "\n",
    "all_socores = {'R1': [stats.mean(r1_precision), stats.mean(r1_recall), stats.mean(r1_fmeasure)],\n",
    "        'R2': [stats.mean(r2_precision), stats.mean(r2_recall), stats.mean(r2_fmeasure)],\n",
    "        'RL': [stats.mean(rL_precision), stats.mean(rL_recall), stats.mean(rL_fmeasure)]      \n",
    "        }\n",
    "\n",
    "all_socores_df = pd.DataFrame(all_socores, columns = ['R1', 'R2', 'RL'], index=['precision','recall','fmeasure'])\n",
    "print(all_socores_df) "
   ]
  },
  {
   "cell_type": "code",
   "execution_count": 16,
   "metadata": {},
   "outputs": [
    {
     "name": "stderr",
     "output_type": "stream",
     "text": [
      "/home/wutongg/.local/lib/python3.9/site-packages/transformers/generation/utils.py:1313: UserWarning: Using `max_length`'s default (256) to control the generation length. This behaviour is deprecated and will be removed from the config in v5 of Transformers -- we recommend using `max_new_tokens` to control the maximum length of the generation.\n",
      "  warnings.warn(\n"
     ]
    },
    {
     "name": "stdout",
     "output_type": "stream",
     "text": [
      "0 29.385807752609253\n",
      "5 135.6466555595398\n",
      "10 135.91139698028564\n",
      "15 135.2344410419464\n",
      "20 139.91705107688904\n",
      "25 127.55486559867859\n",
      "30 123.46502590179443\n",
      "35 110.54277801513672\n",
      "40 132.8398003578186\n",
      "45 132.29590392112732\n",
      "50 119.17572593688965\n",
      "55 133.5577335357666\n",
      "60 117.54130554199219\n",
      "65 135.9257926940918\n",
      "70 124.48632836341858\n",
      "75 131.5460810661316\n",
      "80 133.25431847572327\n",
      "85 131.2294237613678\n",
      "90 130.92306423187256\n"
     ]
    }
   ],
   "source": [
    "# evaluation metric \n",
    "scorer = rouge_scorer.RougeScorer(['rouge1','rouge2', 'rougeL'], use_stemmer=True)\n",
    "\n",
    "# create empry lists to store rouge scores\n",
    "r1_precision = []\n",
    "r2_precision = []\n",
    "rL_precision = []\n",
    "r1_recall = []\n",
    "r2_recall = []\n",
    "rL_recall = []\n",
    "r1_fmeasure = []\n",
    "r2_fmeasure = []\n",
    "rL_fmeasure = []\n",
    "\n",
    "test_model_decode = []\n",
    "\n",
    "start = time.time()\n",
    "# loop over test set\n",
    "for sample_id in range(len(test_inputs)):\n",
    "    \n",
    "    # get input (body)\n",
    "    sample_input = test_inputs[sample_id]\n",
    "    \n",
    "    # tokenize it\n",
    "    inputs = tokenizer([sample_input], max_length=1024, return_tensors='pt', truncation=True, padding=True)\n",
    "\n",
    "    # generate Summary\n",
    "    summary_ids = model.generate(inputs['input_ids'])\n",
    "    \n",
    "    # decode summary\n",
    "    sample_output = [tokenizer.decode(g, skip_special_tokens=True, clean_up_tokenization_spaces=False) for g in summary_ids]\n",
    "    \n",
    "    # store summary\n",
    "    test_model_decode = test_model_decode + sample_output\n",
    "    \n",
    "    # get reference (gold) summary \n",
    "    sample_reference = test_inputs[sample_id]\n",
    "    \n",
    "    #calculate rouge score\n",
    "    scores = scorer.score(str(sample_reference), str(sample_output))\n",
    "    \n",
    "    r1_precision.append(scores['rouge1'][0])\n",
    "    r1_recall.append(scores['rouge1'][1])\n",
    "    r1_fmeasure.append(scores['rouge1'][2])\n",
    "    \n",
    "    r2_precision.append(scores['rouge2'][0])\n",
    "    r2_recall.append(scores['rouge2'][1])\n",
    "    r2_fmeasure.append(scores['rouge2'][2])\n",
    "    \n",
    "    rL_precision.append(scores['rougeL'][0])\n",
    "    rL_recall.append(scores['rougeL'][1])\n",
    "    rL_fmeasure.append(scores['rougeL'][2])\n",
    "    \n",
    "    if sample_id % 5 == 0:\n",
    "        print(sample_id, time.time() - start)\n",
    "        start = time.time()\n",
    "    "
   ]
  },
  {
   "cell_type": "code",
   "execution_count": 17,
   "metadata": {},
   "outputs": [
    {
     "name": "stdout",
     "output_type": "stream",
     "text": [
      "                 R1        R2        RL\n",
      "precision  0.789131  0.340816  0.588384\n",
      "recall     0.048242  0.018345  0.034336\n",
      "fmeasure   0.086069  0.032800  0.061458\n"
     ]
    }
   ],
   "source": [
    "# evaluation\n",
    "import statistics as stats\n",
    "\n",
    "all_socores = {'R1': [stats.mean(r1_precision), stats.mean(r1_recall), stats.mean(r1_fmeasure)],\n",
    "        'R2': [stats.mean(r2_precision), stats.mean(r2_recall), stats.mean(r2_fmeasure)],\n",
    "        'RL': [stats.mean(rL_precision), stats.mean(rL_recall), stats.mean(rL_fmeasure)]      \n",
    "        }\n",
    "\n",
    "all_socores_df = pd.DataFrame(all_socores, columns = ['R1', 'R2', 'RL'], index=['precision','recall','fmeasure'])\n",
    "print(all_socores_df) "
   ]
  },
  {
   "cell_type": "markdown",
   "metadata": {
    "id": "sdQLIUT7Mebz"
   },
   "source": [
    "## Fine-tuned"
   ]
  },
  {
   "cell_type": "code",
   "execution_count": null,
   "metadata": {
    "colab": {
     "base_uri": "https://localhost:8080/",
     "height": 104,
     "referenced_widgets": [
      "0b4d2ded66d541e2b1264ea57a50d0d4",
      "3fee2fd4f86049858ba5ac47411d426c",
      "997c87c487584b2d848df524be28bb56",
      "59d926283b0546599e836c6bc67c65c1",
      "b55e567378094857bf7aa3bceab37efc",
      "b250fbea8c6b4562965009135865e967",
      "c2ed5871374346209a3f77fc54c8fde5",
      "2c0313f2fdbf41daae45a2e80f8f9106",
      "53a6ce9932d645edb8e1e411ad60b3eb",
      "408e4dd936c445c386f091803c790c91",
      "fe51b9bfb4524b54981d2e6c503a5f99"
     ]
    },
    "id": "lRVK7WdXMyV8",
    "outputId": "6eaf443a-a97d-4542-f917-a3c3713ad5ca"
   },
   "outputs": [
    {
     "name": "stderr",
     "output_type": "stream",
     "text": [
      "<ipython-input-7-dd84b58ff974>:3: FutureWarning: load_metric is deprecated and will be removed in the next major version of datasets. Use 'evaluate.load' instead, from the new library 🤗 Evaluate: https://huggingface.co/docs/evaluate\n",
      "  metric = load_metric(\"rouge\")\n"
     ]
    },
    {
     "data": {
      "application/vnd.jupyter.widget-view+json": {
       "model_id": "0b4d2ded66d541e2b1264ea57a50d0d4",
       "version_major": 2,
       "version_minor": 0
      },
      "text/plain": [
       "Downloading builder script:   0%|          | 0.00/2.17k [00:00<?, ?B/s]"
      ]
     },
     "metadata": {},
     "output_type": "display_data"
    }
   ],
   "source": [
    "# Metric\n",
    "from datasets import load_dataset, load_metric\n",
    "metric = load_metric(\"rouge\")\n",
    "\n",
    "def postprocess_text(preds, labels):\n",
    "    preds = [pred.strip() for pred in preds]\n",
    "    labels = [label.strip() for label in labels]\n",
    "\n",
    "    # rougeLSum expects newline after each sentence\n",
    "    preds = [\"\\n\".join(nltk.sent_tokenize(pred)) for pred in preds]\n",
    "    labels = [\"\\n\".join(nltk.sent_tokenize(label)) for label in labels]\n",
    "\n",
    "    return preds, labels\n",
    "\n",
    "def compute_metrics(eval_preds):\n",
    "    preds, labels = eval_preds\n",
    "    if isinstance(preds, tuple):\n",
    "        preds = preds[0]\n",
    "    decoded_preds = tokenizer.batch_decode(preds, skip_special_tokens=True)\n",
    "\n",
    "    # Ignore pad token for loss: Replace -100 in the labels as we can't decode them.\n",
    "    #     if data_args.ignore_pad_token_for_loss:\n",
    "    labels = np.where(labels != -100, labels, tokenizer.pad_token_id)\n",
    "    decoded_labels = tokenizer.batch_decode(labels, skip_special_tokens=True)\n",
    "\n",
    "    # Some simple post-processing\n",
    "    decoded_preds, decoded_labels = postprocess_text(decoded_preds, decoded_labels)\n",
    "\n",
    "    result = metric.compute(predictions=decoded_preds, references=decoded_labels, use_stemmer=True)\n",
    "    # Extract a few results from ROUGE\n",
    "    result = {key: value.mid.fmeasure * 100 for key, value in result.items()}\n",
    "\n",
    "    prediction_lens = [np.count_nonzero(pred != tokenizer.pad_token_id) for pred in preds]\n",
    "    result[\"gen_len\"] = np.mean(prediction_lens)\n",
    "    result = {k: round(v, 4) for k, v in result.items()}\n",
    "    return result"
   ]
  },
  {
   "cell_type": "code",
   "execution_count": null,
   "metadata": {
    "id": "yTeShPVWBCzQ"
   },
   "outputs": [],
   "source": [
    "train_encodings = tokenizer(train_texts, truncation=True, padding=True)"
   ]
  },
  {
   "cell_type": "code",
   "execution_count": null,
   "metadata": {
    "id": "TxfIwCQfDR_3"
   },
   "outputs": [],
   "source": [
    "val_encodings = tokenizer(val_texts, truncation=True, padding=True)"
   ]
  },
  {
   "cell_type": "code",
   "execution_count": null,
   "metadata": {
    "id": "RrP1Av9FDT4k"
   },
   "outputs": [],
   "source": [
    "test_encodings = tokenizer(test_texts, truncation=True, padding=True)"
   ]
  },
  {
   "cell_type": "code",
   "execution_count": null,
   "metadata": {
    "id": "8tzd6Zg19IxI"
   },
   "outputs": [],
   "source": [
    "train_decodings = tokenizer(train_decode, truncation=True, padding=True)\n",
    "val_decodings = tokenizer(val_decode, truncation=True, padding=True)\n",
    "test_decodings = tokenizer(test_decode, truncation=True, padding=True)\n",
    "\n",
    "class ourDataset(torch.utils.data.Dataset):\n",
    "    def __init__(self, encodings, decodings):\n",
    "        self.encodings = encodings\n",
    "        self.decodings = decodings\n",
    "\n",
    "    def __getitem__(self, idx):\n",
    "        item = {key: torch.tensor(val[idx]) for key, val in self.encodings.items()}\n",
    "        item['labels'] = torch.tensor(self.decodings['input_ids'][idx])  # torch.tensor(self.labels[idx])\n",
    "#         print(item)\n",
    "        return item\n",
    "\n",
    "    def __len__(self):\n",
    "        return len(self.encodings)\n",
    "\n",
    "train_dataset = ourDataset(train_encodings, train_decodings)\n",
    "val_dataset = ourDataset(val_encodings, val_decodings)\n",
    "test_dataset = ourDataset(test_encodings, test_decodings)"
   ]
  },
  {
   "cell_type": "code",
   "execution_count": null,
   "metadata": {
    "colab": {
     "base_uri": "https://localhost:8080/",
     "height": 436
    },
    "id": "2tU-Q0scxDsT",
    "outputId": "4a6ce09b-f869-496d-f74b-9464a202416f"
   },
   "outputs": [
    {
     "name": "stderr",
     "output_type": "stream",
     "text": [
      "/usr/local/lib/python3.9/dist-packages/transformers/optimization.py:391: FutureWarning: This implementation of AdamW is deprecated and will be removed in a future version. Use the PyTorch implementation torch.optim.AdamW instead, or set `no_deprecation_warning=True` to disable this warning\n",
      "  warnings.warn(\n"
     ]
    },
    {
     "ename": "OutOfMemoryError",
     "evalue": "ignored",
     "output_type": "error",
     "traceback": [
      "\u001b[0;31m---------------------------------------------------------------------------\u001b[0m",
      "\u001b[0;31mOutOfMemoryError\u001b[0m                          Traceback (most recent call last)",
      "\u001b[0;32m<ipython-input-32-1da6e01f3334>\u001b[0m in \u001b[0;36m<cell line: 36>\u001b[0;34m()\u001b[0m\n\u001b[1;32m     34\u001b[0m )\n\u001b[1;32m     35\u001b[0m \u001b[0;34m\u001b[0m\u001b[0m\n\u001b[0;32m---> 36\u001b[0;31m \u001b[0mtrainer\u001b[0m\u001b[0;34m.\u001b[0m\u001b[0mtrain\u001b[0m\u001b[0;34m(\u001b[0m\u001b[0;34m)\u001b[0m\u001b[0;34m\u001b[0m\u001b[0;34m\u001b[0m\u001b[0m\n\u001b[0m",
      "\u001b[0;32m/usr/local/lib/python3.9/dist-packages/transformers/trainer.py\u001b[0m in \u001b[0;36mtrain\u001b[0;34m(self, resume_from_checkpoint, trial, ignore_keys_for_eval, **kwargs)\u001b[0m\n\u001b[1;32m   1660\u001b[0m             \u001b[0mself\u001b[0m\u001b[0;34m.\u001b[0m\u001b[0m_inner_training_loop\u001b[0m\u001b[0;34m,\u001b[0m \u001b[0mself\u001b[0m\u001b[0;34m.\u001b[0m\u001b[0m_train_batch_size\u001b[0m\u001b[0;34m,\u001b[0m \u001b[0margs\u001b[0m\u001b[0;34m.\u001b[0m\u001b[0mauto_find_batch_size\u001b[0m\u001b[0;34m\u001b[0m\u001b[0;34m\u001b[0m\u001b[0m\n\u001b[1;32m   1661\u001b[0m         )\n\u001b[0;32m-> 1662\u001b[0;31m         return inner_training_loop(\n\u001b[0m\u001b[1;32m   1663\u001b[0m             \u001b[0margs\u001b[0m\u001b[0;34m=\u001b[0m\u001b[0margs\u001b[0m\u001b[0;34m,\u001b[0m\u001b[0;34m\u001b[0m\u001b[0;34m\u001b[0m\u001b[0m\n\u001b[1;32m   1664\u001b[0m             \u001b[0mresume_from_checkpoint\u001b[0m\u001b[0;34m=\u001b[0m\u001b[0mresume_from_checkpoint\u001b[0m\u001b[0;34m,\u001b[0m\u001b[0;34m\u001b[0m\u001b[0;34m\u001b[0m\u001b[0m\n",
      "\u001b[0;32m/usr/local/lib/python3.9/dist-packages/transformers/trainer.py\u001b[0m in \u001b[0;36m_inner_training_loop\u001b[0;34m(self, batch_size, args, resume_from_checkpoint, trial, ignore_keys_for_eval)\u001b[0m\n\u001b[1;32m   1927\u001b[0m                         \u001b[0mtr_loss_step\u001b[0m \u001b[0;34m=\u001b[0m \u001b[0mself\u001b[0m\u001b[0;34m.\u001b[0m\u001b[0mtraining_step\u001b[0m\u001b[0;34m(\u001b[0m\u001b[0mmodel\u001b[0m\u001b[0;34m,\u001b[0m \u001b[0minputs\u001b[0m\u001b[0;34m)\u001b[0m\u001b[0;34m\u001b[0m\u001b[0;34m\u001b[0m\u001b[0m\n\u001b[1;32m   1928\u001b[0m                 \u001b[0;32melse\u001b[0m\u001b[0;34m:\u001b[0m\u001b[0;34m\u001b[0m\u001b[0;34m\u001b[0m\u001b[0m\n\u001b[0;32m-> 1929\u001b[0;31m                     \u001b[0mtr_loss_step\u001b[0m \u001b[0;34m=\u001b[0m \u001b[0mself\u001b[0m\u001b[0;34m.\u001b[0m\u001b[0mtraining_step\u001b[0m\u001b[0;34m(\u001b[0m\u001b[0mmodel\u001b[0m\u001b[0;34m,\u001b[0m \u001b[0minputs\u001b[0m\u001b[0;34m)\u001b[0m\u001b[0;34m\u001b[0m\u001b[0;34m\u001b[0m\u001b[0m\n\u001b[0m\u001b[1;32m   1930\u001b[0m \u001b[0;34m\u001b[0m\u001b[0m\n\u001b[1;32m   1931\u001b[0m                 if (\n",
      "\u001b[0;32m/usr/local/lib/python3.9/dist-packages/transformers/trainer.py\u001b[0m in \u001b[0;36mtraining_step\u001b[0;34m(self, model, inputs)\u001b[0m\n\u001b[1;32m   2697\u001b[0m \u001b[0;34m\u001b[0m\u001b[0m\n\u001b[1;32m   2698\u001b[0m         \u001b[0;32mwith\u001b[0m \u001b[0mself\u001b[0m\u001b[0;34m.\u001b[0m\u001b[0mcompute_loss_context_manager\u001b[0m\u001b[0;34m(\u001b[0m\u001b[0;34m)\u001b[0m\u001b[0;34m:\u001b[0m\u001b[0;34m\u001b[0m\u001b[0;34m\u001b[0m\u001b[0m\n\u001b[0;32m-> 2699\u001b[0;31m             \u001b[0mloss\u001b[0m \u001b[0;34m=\u001b[0m \u001b[0mself\u001b[0m\u001b[0;34m.\u001b[0m\u001b[0mcompute_loss\u001b[0m\u001b[0;34m(\u001b[0m\u001b[0mmodel\u001b[0m\u001b[0;34m,\u001b[0m \u001b[0minputs\u001b[0m\u001b[0;34m)\u001b[0m\u001b[0;34m\u001b[0m\u001b[0;34m\u001b[0m\u001b[0m\n\u001b[0m\u001b[1;32m   2700\u001b[0m \u001b[0;34m\u001b[0m\u001b[0m\n\u001b[1;32m   2701\u001b[0m         \u001b[0;32mif\u001b[0m \u001b[0mself\u001b[0m\u001b[0;34m.\u001b[0m\u001b[0margs\u001b[0m\u001b[0;34m.\u001b[0m\u001b[0mn_gpu\u001b[0m \u001b[0;34m>\u001b[0m \u001b[0;36m1\u001b[0m\u001b[0;34m:\u001b[0m\u001b[0;34m\u001b[0m\u001b[0;34m\u001b[0m\u001b[0m\n",
      "\u001b[0;32m/usr/local/lib/python3.9/dist-packages/transformers/trainer.py\u001b[0m in \u001b[0;36mcompute_loss\u001b[0;34m(self, model, inputs, return_outputs)\u001b[0m\n\u001b[1;32m   2729\u001b[0m         \u001b[0;32melse\u001b[0m\u001b[0;34m:\u001b[0m\u001b[0;34m\u001b[0m\u001b[0;34m\u001b[0m\u001b[0m\n\u001b[1;32m   2730\u001b[0m             \u001b[0mlabels\u001b[0m \u001b[0;34m=\u001b[0m \u001b[0;32mNone\u001b[0m\u001b[0;34m\u001b[0m\u001b[0;34m\u001b[0m\u001b[0m\n\u001b[0;32m-> 2731\u001b[0;31m         \u001b[0moutputs\u001b[0m \u001b[0;34m=\u001b[0m \u001b[0mmodel\u001b[0m\u001b[0;34m(\u001b[0m\u001b[0;34m**\u001b[0m\u001b[0minputs\u001b[0m\u001b[0;34m)\u001b[0m\u001b[0;34m\u001b[0m\u001b[0;34m\u001b[0m\u001b[0m\n\u001b[0m\u001b[1;32m   2732\u001b[0m         \u001b[0;31m# Save past state if it exists\u001b[0m\u001b[0;34m\u001b[0m\u001b[0;34m\u001b[0m\u001b[0m\n\u001b[1;32m   2733\u001b[0m         \u001b[0;31m# TODO: this needs to be fixed and made cleaner later.\u001b[0m\u001b[0;34m\u001b[0m\u001b[0;34m\u001b[0m\u001b[0m\n",
      "\u001b[0;32m/usr/local/lib/python3.9/dist-packages/torch/nn/modules/module.py\u001b[0m in \u001b[0;36m_call_impl\u001b[0;34m(self, *args, **kwargs)\u001b[0m\n\u001b[1;32m   1499\u001b[0m                 \u001b[0;32mor\u001b[0m \u001b[0m_global_backward_pre_hooks\u001b[0m \u001b[0;32mor\u001b[0m \u001b[0m_global_backward_hooks\u001b[0m\u001b[0;34m\u001b[0m\u001b[0;34m\u001b[0m\u001b[0m\n\u001b[1;32m   1500\u001b[0m                 or _global_forward_hooks or _global_forward_pre_hooks):\n\u001b[0;32m-> 1501\u001b[0;31m             \u001b[0;32mreturn\u001b[0m \u001b[0mforward_call\u001b[0m\u001b[0;34m(\u001b[0m\u001b[0;34m*\u001b[0m\u001b[0margs\u001b[0m\u001b[0;34m,\u001b[0m \u001b[0;34m**\u001b[0m\u001b[0mkwargs\u001b[0m\u001b[0;34m)\u001b[0m\u001b[0;34m\u001b[0m\u001b[0;34m\u001b[0m\u001b[0m\n\u001b[0m\u001b[1;32m   1502\u001b[0m         \u001b[0;31m# Do not call functions when jit is used\u001b[0m\u001b[0;34m\u001b[0m\u001b[0;34m\u001b[0m\u001b[0m\n\u001b[1;32m   1503\u001b[0m         \u001b[0mfull_backward_hooks\u001b[0m\u001b[0;34m,\u001b[0m \u001b[0mnon_full_backward_hooks\u001b[0m \u001b[0;34m=\u001b[0m \u001b[0;34m[\u001b[0m\u001b[0;34m]\u001b[0m\u001b[0;34m,\u001b[0m \u001b[0;34m[\u001b[0m\u001b[0;34m]\u001b[0m\u001b[0;34m\u001b[0m\u001b[0;34m\u001b[0m\u001b[0m\n",
      "\u001b[0;32m/usr/local/lib/python3.9/dist-packages/transformers/models/pegasus/modeling_pegasus.py\u001b[0m in \u001b[0;36mforward\u001b[0;34m(self, input_ids, attention_mask, decoder_input_ids, decoder_attention_mask, head_mask, decoder_head_mask, cross_attn_head_mask, encoder_outputs, past_key_values, inputs_embeds, decoder_inputs_embeds, labels, use_cache, output_attentions, output_hidden_states, return_dict)\u001b[0m\n\u001b[1;32m   1414\u001b[0m                 )\n\u001b[1;32m   1415\u001b[0m \u001b[0;34m\u001b[0m\u001b[0m\n\u001b[0;32m-> 1416\u001b[0;31m         outputs = self.model(\n\u001b[0m\u001b[1;32m   1417\u001b[0m             \u001b[0minput_ids\u001b[0m\u001b[0;34m,\u001b[0m\u001b[0;34m\u001b[0m\u001b[0;34m\u001b[0m\u001b[0m\n\u001b[1;32m   1418\u001b[0m             \u001b[0mattention_mask\u001b[0m\u001b[0;34m=\u001b[0m\u001b[0mattention_mask\u001b[0m\u001b[0;34m,\u001b[0m\u001b[0;34m\u001b[0m\u001b[0;34m\u001b[0m\u001b[0m\n",
      "\u001b[0;32m/usr/local/lib/python3.9/dist-packages/torch/nn/modules/module.py\u001b[0m in \u001b[0;36m_call_impl\u001b[0;34m(self, *args, **kwargs)\u001b[0m\n\u001b[1;32m   1499\u001b[0m                 \u001b[0;32mor\u001b[0m \u001b[0m_global_backward_pre_hooks\u001b[0m \u001b[0;32mor\u001b[0m \u001b[0m_global_backward_hooks\u001b[0m\u001b[0;34m\u001b[0m\u001b[0;34m\u001b[0m\u001b[0m\n\u001b[1;32m   1500\u001b[0m                 or _global_forward_hooks or _global_forward_pre_hooks):\n\u001b[0;32m-> 1501\u001b[0;31m             \u001b[0;32mreturn\u001b[0m \u001b[0mforward_call\u001b[0m\u001b[0;34m(\u001b[0m\u001b[0;34m*\u001b[0m\u001b[0margs\u001b[0m\u001b[0;34m,\u001b[0m \u001b[0;34m**\u001b[0m\u001b[0mkwargs\u001b[0m\u001b[0;34m)\u001b[0m\u001b[0;34m\u001b[0m\u001b[0;34m\u001b[0m\u001b[0m\n\u001b[0m\u001b[1;32m   1502\u001b[0m         \u001b[0;31m# Do not call functions when jit is used\u001b[0m\u001b[0;34m\u001b[0m\u001b[0;34m\u001b[0m\u001b[0m\n\u001b[1;32m   1503\u001b[0m         \u001b[0mfull_backward_hooks\u001b[0m\u001b[0;34m,\u001b[0m \u001b[0mnon_full_backward_hooks\u001b[0m \u001b[0;34m=\u001b[0m \u001b[0;34m[\u001b[0m\u001b[0;34m]\u001b[0m\u001b[0;34m,\u001b[0m \u001b[0;34m[\u001b[0m\u001b[0;34m]\u001b[0m\u001b[0;34m\u001b[0m\u001b[0;34m\u001b[0m\u001b[0m\n",
      "\u001b[0;32m/usr/local/lib/python3.9/dist-packages/transformers/models/pegasus/modeling_pegasus.py\u001b[0m in \u001b[0;36mforward\u001b[0;34m(self, input_ids, attention_mask, decoder_input_ids, decoder_attention_mask, head_mask, decoder_head_mask, cross_attn_head_mask, encoder_outputs, past_key_values, inputs_embeds, decoder_inputs_embeds, use_cache, output_attentions, output_hidden_states, return_dict)\u001b[0m\n\u001b[1;32m   1269\u001b[0m \u001b[0;34m\u001b[0m\u001b[0m\n\u001b[1;32m   1270\u001b[0m         \u001b[0;31m# decoder outputs consists of (dec_features, past_key_value, dec_hidden, dec_attn)\u001b[0m\u001b[0;34m\u001b[0m\u001b[0;34m\u001b[0m\u001b[0m\n\u001b[0;32m-> 1271\u001b[0;31m         decoder_outputs = self.decoder(\n\u001b[0m\u001b[1;32m   1272\u001b[0m             \u001b[0minput_ids\u001b[0m\u001b[0;34m=\u001b[0m\u001b[0mdecoder_input_ids\u001b[0m\u001b[0;34m,\u001b[0m\u001b[0;34m\u001b[0m\u001b[0;34m\u001b[0m\u001b[0m\n\u001b[1;32m   1273\u001b[0m             \u001b[0mattention_mask\u001b[0m\u001b[0;34m=\u001b[0m\u001b[0mdecoder_attention_mask\u001b[0m\u001b[0;34m,\u001b[0m\u001b[0;34m\u001b[0m\u001b[0;34m\u001b[0m\u001b[0m\n",
      "\u001b[0;32m/usr/local/lib/python3.9/dist-packages/torch/nn/modules/module.py\u001b[0m in \u001b[0;36m_call_impl\u001b[0;34m(self, *args, **kwargs)\u001b[0m\n\u001b[1;32m   1499\u001b[0m                 \u001b[0;32mor\u001b[0m \u001b[0m_global_backward_pre_hooks\u001b[0m \u001b[0;32mor\u001b[0m \u001b[0m_global_backward_hooks\u001b[0m\u001b[0;34m\u001b[0m\u001b[0;34m\u001b[0m\u001b[0m\n\u001b[1;32m   1500\u001b[0m                 or _global_forward_hooks or _global_forward_pre_hooks):\n\u001b[0;32m-> 1501\u001b[0;31m             \u001b[0;32mreturn\u001b[0m \u001b[0mforward_call\u001b[0m\u001b[0;34m(\u001b[0m\u001b[0;34m*\u001b[0m\u001b[0margs\u001b[0m\u001b[0;34m,\u001b[0m \u001b[0;34m**\u001b[0m\u001b[0mkwargs\u001b[0m\u001b[0;34m)\u001b[0m\u001b[0;34m\u001b[0m\u001b[0;34m\u001b[0m\u001b[0m\n\u001b[0m\u001b[1;32m   1502\u001b[0m         \u001b[0;31m# Do not call functions when jit is used\u001b[0m\u001b[0;34m\u001b[0m\u001b[0;34m\u001b[0m\u001b[0m\n\u001b[1;32m   1503\u001b[0m         \u001b[0mfull_backward_hooks\u001b[0m\u001b[0;34m,\u001b[0m \u001b[0mnon_full_backward_hooks\u001b[0m \u001b[0;34m=\u001b[0m \u001b[0;34m[\u001b[0m\u001b[0;34m]\u001b[0m\u001b[0;34m,\u001b[0m \u001b[0;34m[\u001b[0m\u001b[0;34m]\u001b[0m\u001b[0;34m\u001b[0m\u001b[0;34m\u001b[0m\u001b[0m\n",
      "\u001b[0;32m/usr/local/lib/python3.9/dist-packages/transformers/models/pegasus/modeling_pegasus.py\u001b[0m in \u001b[0;36mforward\u001b[0;34m(self, input_ids, attention_mask, encoder_hidden_states, encoder_attention_mask, head_mask, cross_attn_head_mask, past_key_values, inputs_embeds, use_cache, output_attentions, output_hidden_states, return_dict)\u001b[0m\n\u001b[1;32m   1101\u001b[0m                 )\n\u001b[1;32m   1102\u001b[0m             \u001b[0;32melse\u001b[0m\u001b[0;34m:\u001b[0m\u001b[0;34m\u001b[0m\u001b[0;34m\u001b[0m\u001b[0m\n\u001b[0;32m-> 1103\u001b[0;31m                 layer_outputs = decoder_layer(\n\u001b[0m\u001b[1;32m   1104\u001b[0m                     \u001b[0mhidden_states\u001b[0m\u001b[0;34m,\u001b[0m\u001b[0;34m\u001b[0m\u001b[0;34m\u001b[0m\u001b[0m\n\u001b[1;32m   1105\u001b[0m                     \u001b[0mattention_mask\u001b[0m\u001b[0;34m=\u001b[0m\u001b[0mattention_mask\u001b[0m\u001b[0;34m,\u001b[0m\u001b[0;34m\u001b[0m\u001b[0;34m\u001b[0m\u001b[0m\n",
      "\u001b[0;32m/usr/local/lib/python3.9/dist-packages/torch/nn/modules/module.py\u001b[0m in \u001b[0;36m_call_impl\u001b[0;34m(self, *args, **kwargs)\u001b[0m\n\u001b[1;32m   1499\u001b[0m                 \u001b[0;32mor\u001b[0m \u001b[0m_global_backward_pre_hooks\u001b[0m \u001b[0;32mor\u001b[0m \u001b[0m_global_backward_hooks\u001b[0m\u001b[0;34m\u001b[0m\u001b[0;34m\u001b[0m\u001b[0m\n\u001b[1;32m   1500\u001b[0m                 or _global_forward_hooks or _global_forward_pre_hooks):\n\u001b[0;32m-> 1501\u001b[0;31m             \u001b[0;32mreturn\u001b[0m \u001b[0mforward_call\u001b[0m\u001b[0;34m(\u001b[0m\u001b[0;34m*\u001b[0m\u001b[0margs\u001b[0m\u001b[0;34m,\u001b[0m \u001b[0;34m**\u001b[0m\u001b[0mkwargs\u001b[0m\u001b[0;34m)\u001b[0m\u001b[0;34m\u001b[0m\u001b[0;34m\u001b[0m\u001b[0m\n\u001b[0m\u001b[1;32m   1502\u001b[0m         \u001b[0;31m# Do not call functions when jit is used\u001b[0m\u001b[0;34m\u001b[0m\u001b[0;34m\u001b[0m\u001b[0m\n\u001b[1;32m   1503\u001b[0m         \u001b[0mfull_backward_hooks\u001b[0m\u001b[0;34m,\u001b[0m \u001b[0mnon_full_backward_hooks\u001b[0m \u001b[0;34m=\u001b[0m \u001b[0;34m[\u001b[0m\u001b[0;34m]\u001b[0m\u001b[0;34m,\u001b[0m \u001b[0;34m[\u001b[0m\u001b[0;34m]\u001b[0m\u001b[0;34m\u001b[0m\u001b[0;34m\u001b[0m\u001b[0m\n",
      "\u001b[0;32m/usr/local/lib/python3.9/dist-packages/transformers/models/pegasus/modeling_pegasus.py\u001b[0m in \u001b[0;36mforward\u001b[0;34m(self, hidden_states, attention_mask, encoder_hidden_states, encoder_attention_mask, layer_head_mask, cross_attn_layer_head_mask, past_key_value, output_attentions, use_cache)\u001b[0m\n\u001b[1;32m    450\u001b[0m             \u001b[0;31m# cross_attn cached key/values tuple is at positions 3,4 of present_key_value tuple\u001b[0m\u001b[0;34m\u001b[0m\u001b[0;34m\u001b[0m\u001b[0m\n\u001b[1;32m    451\u001b[0m             \u001b[0mcross_attn_past_key_value\u001b[0m \u001b[0;34m=\u001b[0m \u001b[0mpast_key_value\u001b[0m\u001b[0;34m[\u001b[0m\u001b[0;34m-\u001b[0m\u001b[0;36m2\u001b[0m\u001b[0;34m:\u001b[0m\u001b[0;34m]\u001b[0m \u001b[0;32mif\u001b[0m \u001b[0mpast_key_value\u001b[0m \u001b[0;32mis\u001b[0m \u001b[0;32mnot\u001b[0m \u001b[0;32mNone\u001b[0m \u001b[0;32melse\u001b[0m \u001b[0;32mNone\u001b[0m\u001b[0;34m\u001b[0m\u001b[0;34m\u001b[0m\u001b[0m\n\u001b[0;32m--> 452\u001b[0;31m             hidden_states, cross_attn_weights, cross_attn_present_key_value = self.encoder_attn(\n\u001b[0m\u001b[1;32m    453\u001b[0m                 \u001b[0mhidden_states\u001b[0m\u001b[0;34m=\u001b[0m\u001b[0mhidden_states\u001b[0m\u001b[0;34m,\u001b[0m\u001b[0;34m\u001b[0m\u001b[0;34m\u001b[0m\u001b[0m\n\u001b[1;32m    454\u001b[0m                 \u001b[0mkey_value_states\u001b[0m\u001b[0;34m=\u001b[0m\u001b[0mencoder_hidden_states\u001b[0m\u001b[0;34m,\u001b[0m\u001b[0;34m\u001b[0m\u001b[0;34m\u001b[0m\u001b[0m\n",
      "\u001b[0;32m/usr/local/lib/python3.9/dist-packages/torch/nn/modules/module.py\u001b[0m in \u001b[0;36m_call_impl\u001b[0;34m(self, *args, **kwargs)\u001b[0m\n\u001b[1;32m   1499\u001b[0m                 \u001b[0;32mor\u001b[0m \u001b[0m_global_backward_pre_hooks\u001b[0m \u001b[0;32mor\u001b[0m \u001b[0m_global_backward_hooks\u001b[0m\u001b[0;34m\u001b[0m\u001b[0;34m\u001b[0m\u001b[0m\n\u001b[1;32m   1500\u001b[0m                 or _global_forward_hooks or _global_forward_pre_hooks):\n\u001b[0;32m-> 1501\u001b[0;31m             \u001b[0;32mreturn\u001b[0m \u001b[0mforward_call\u001b[0m\u001b[0;34m(\u001b[0m\u001b[0;34m*\u001b[0m\u001b[0margs\u001b[0m\u001b[0;34m,\u001b[0m \u001b[0;34m**\u001b[0m\u001b[0mkwargs\u001b[0m\u001b[0;34m)\u001b[0m\u001b[0;34m\u001b[0m\u001b[0;34m\u001b[0m\u001b[0m\n\u001b[0m\u001b[1;32m   1502\u001b[0m         \u001b[0;31m# Do not call functions when jit is used\u001b[0m\u001b[0;34m\u001b[0m\u001b[0;34m\u001b[0m\u001b[0m\n\u001b[1;32m   1503\u001b[0m         \u001b[0mfull_backward_hooks\u001b[0m\u001b[0;34m,\u001b[0m \u001b[0mnon_full_backward_hooks\u001b[0m \u001b[0;34m=\u001b[0m \u001b[0;34m[\u001b[0m\u001b[0;34m]\u001b[0m\u001b[0;34m,\u001b[0m \u001b[0;34m[\u001b[0m\u001b[0;34m]\u001b[0m\u001b[0;34m\u001b[0m\u001b[0;34m\u001b[0m\u001b[0m\n",
      "\u001b[0;32m/usr/local/lib/python3.9/dist-packages/transformers/models/pegasus/modeling_pegasus.py\u001b[0m in \u001b[0;36mforward\u001b[0;34m(self, hidden_states, key_value_states, past_key_value, attention_mask, layer_head_mask, output_attentions)\u001b[0m\n\u001b[1;32m    275\u001b[0m             \u001b[0mattn_weights_reshaped\u001b[0m \u001b[0;34m=\u001b[0m \u001b[0;32mNone\u001b[0m\u001b[0;34m\u001b[0m\u001b[0;34m\u001b[0m\u001b[0m\n\u001b[1;32m    276\u001b[0m \u001b[0;34m\u001b[0m\u001b[0m\n\u001b[0;32m--> 277\u001b[0;31m         \u001b[0mattn_probs\u001b[0m \u001b[0;34m=\u001b[0m \u001b[0mnn\u001b[0m\u001b[0;34m.\u001b[0m\u001b[0mfunctional\u001b[0m\u001b[0;34m.\u001b[0m\u001b[0mdropout\u001b[0m\u001b[0;34m(\u001b[0m\u001b[0mattn_weights\u001b[0m\u001b[0;34m,\u001b[0m \u001b[0mp\u001b[0m\u001b[0;34m=\u001b[0m\u001b[0mself\u001b[0m\u001b[0;34m.\u001b[0m\u001b[0mdropout\u001b[0m\u001b[0;34m,\u001b[0m \u001b[0mtraining\u001b[0m\u001b[0;34m=\u001b[0m\u001b[0mself\u001b[0m\u001b[0;34m.\u001b[0m\u001b[0mtraining\u001b[0m\u001b[0;34m)\u001b[0m\u001b[0;34m\u001b[0m\u001b[0;34m\u001b[0m\u001b[0m\n\u001b[0m\u001b[1;32m    278\u001b[0m \u001b[0;34m\u001b[0m\u001b[0m\n\u001b[1;32m    279\u001b[0m         \u001b[0mattn_output\u001b[0m \u001b[0;34m=\u001b[0m \u001b[0mtorch\u001b[0m\u001b[0;34m.\u001b[0m\u001b[0mbmm\u001b[0m\u001b[0;34m(\u001b[0m\u001b[0mattn_probs\u001b[0m\u001b[0;34m,\u001b[0m \u001b[0mvalue_states\u001b[0m\u001b[0;34m)\u001b[0m\u001b[0;34m\u001b[0m\u001b[0;34m\u001b[0m\u001b[0m\n",
      "\u001b[0;32m/usr/local/lib/python3.9/dist-packages/torch/nn/functional.py\u001b[0m in \u001b[0;36mdropout\u001b[0;34m(input, p, training, inplace)\u001b[0m\n\u001b[1;32m   1250\u001b[0m     \u001b[0;32mif\u001b[0m \u001b[0mp\u001b[0m \u001b[0;34m<\u001b[0m \u001b[0;36m0.0\u001b[0m \u001b[0;32mor\u001b[0m \u001b[0mp\u001b[0m \u001b[0;34m>\u001b[0m \u001b[0;36m1.0\u001b[0m\u001b[0;34m:\u001b[0m\u001b[0;34m\u001b[0m\u001b[0;34m\u001b[0m\u001b[0m\n\u001b[1;32m   1251\u001b[0m         \u001b[0;32mraise\u001b[0m \u001b[0mValueError\u001b[0m\u001b[0;34m(\u001b[0m\u001b[0;34m\"dropout probability has to be between 0 and 1, \"\u001b[0m \u001b[0;34m\"but got {}\"\u001b[0m\u001b[0;34m.\u001b[0m\u001b[0mformat\u001b[0m\u001b[0;34m(\u001b[0m\u001b[0mp\u001b[0m\u001b[0;34m)\u001b[0m\u001b[0;34m)\u001b[0m\u001b[0;34m\u001b[0m\u001b[0;34m\u001b[0m\u001b[0m\n\u001b[0;32m-> 1252\u001b[0;31m     \u001b[0;32mreturn\u001b[0m \u001b[0m_VF\u001b[0m\u001b[0;34m.\u001b[0m\u001b[0mdropout_\u001b[0m\u001b[0;34m(\u001b[0m\u001b[0minput\u001b[0m\u001b[0;34m,\u001b[0m \u001b[0mp\u001b[0m\u001b[0;34m,\u001b[0m \u001b[0mtraining\u001b[0m\u001b[0;34m)\u001b[0m \u001b[0;32mif\u001b[0m \u001b[0minplace\u001b[0m \u001b[0;32melse\u001b[0m \u001b[0m_VF\u001b[0m\u001b[0;34m.\u001b[0m\u001b[0mdropout\u001b[0m\u001b[0;34m(\u001b[0m\u001b[0minput\u001b[0m\u001b[0;34m,\u001b[0m \u001b[0mp\u001b[0m\u001b[0;34m,\u001b[0m \u001b[0mtraining\u001b[0m\u001b[0;34m)\u001b[0m\u001b[0;34m\u001b[0m\u001b[0;34m\u001b[0m\u001b[0m\n\u001b[0m\u001b[1;32m   1253\u001b[0m \u001b[0;34m\u001b[0m\u001b[0m\n\u001b[1;32m   1254\u001b[0m \u001b[0;34m\u001b[0m\u001b[0m\n",
      "\u001b[0;31mOutOfMemoryError\u001b[0m: CUDA out of memory. Tried to allocate 72.00 MiB (GPU 0; 14.75 GiB total capacity; 13.32 GiB already allocated; 34.81 MiB free; 13.68 GiB reserved in total by PyTorch) If reserved memory is >> allocated memory try setting max_split_size_mb to avoid fragmentation.  See documentation for Memory Management and PYTORCH_CUDA_ALLOC_CONF"
     ]
    }
   ],
   "source": [
    "from transformers import Trainer, TrainingArguments\n",
    "from transformers import Seq2SeqTrainer, Seq2SeqTrainingArguments\n",
    "\n",
    "tokenizer = PegasusTokenizer.from_pretrained(model_name)\n",
    "\n",
    "# torch_device = 'cuda' if torch.cuda.is_available() else 'cpu'\n",
    "model = PegasusForConditionalGeneration.from_pretrained(model_name)\n",
    "\n",
    "# define Training Arguments\n",
    "training_args = Seq2SeqTrainingArguments(\n",
    "    output_dir='./results',          # output directory\n",
    "    num_train_epochs=5,              # total number of training epochs\n",
    "    per_device_train_batch_size=16,   # batch size per device during training\n",
    "    per_device_eval_batch_size=32,   # batch size for evaluation\n",
    "    warmup_steps=500,                # number of warmup steps for learning rate scheduler\n",
    "    weight_decay=0.01,               # strength of weight decay\n",
    "    logging_dir='./logs',            # directory for storing logs\n",
    "    load_best_model_at_end=True,     # load the best model when finished training (default metric is loss)\n",
    "    logging_steps=1  ,               # log & save weights each logging_steps\n",
    "    eval_steps=1,                    # number of update steps before evaluation\n",
    "    evaluation_strategy=\"steps\",     # evaluate each `logging_steps`\n",
    "    predict_with_generate = True     # whether to use generate to calculate generative metrics (ROUGE, BLEU). \n",
    "\n",
    "    \n",
    ")\n",
    "\n",
    "trainer = Seq2SeqTrainer(\n",
    "    model=model,                     # the instantiated 🤗 Transformers model to be trained\n",
    "    tokenizer = tokenizer,           # the instantiated 🤗 Transformers tokenizer to be trained  \n",
    "    args=training_args,              # training arguments, defined above\n",
    "    train_dataset=train_dataset,     # training dataset\n",
    "    eval_dataset=val_dataset,        # evaluation dataset\n",
    "    compute_metrics=compute_metrics  # pass metric function\n",
    ")\n",
    "\n",
    "trainer.train()"
   ]
  },
  {
   "cell_type": "code",
   "execution_count": null,
   "metadata": {
    "id": "SRFhjEg3OaQq"
   },
   "outputs": [],
   "source": [
    "# evaluate\n",
    "trainer.evaluate()"
   ]
  },
  {
   "cell_type": "code",
   "execution_count": null,
   "metadata": {
    "id": "XRo-dlQrOazG"
   },
   "outputs": [],
   "source": [
    "model.save_pretrained('fine_tuned')\n",
    "tokenizer.save_pretrained('fine_tuned')"
   ]
  },
  {
   "cell_type": "code",
   "execution_count": null,
   "metadata": {
    "id": "dJlOtQ_xOlAT"
   },
   "outputs": [],
   "source": [
    "# SKIP THIS\n",
    "# model = PegasusForConditionalGeneration.from_pretrained('fine_tuned')\n",
    "# tokenizer = PegasusTokenizer.from_pretrained('fine_tuned')"
   ]
  },
  {
   "cell_type": "code",
   "execution_count": null,
   "metadata": {
    "id": "kOixh4QmOsjm"
   },
   "outputs": [],
   "source": [
    "# evaluation\n",
    "\n",
    "# create empry lists to store rouge scores\n",
    "r1_precision = []\n",
    "r2_precision = []\n",
    "rL_precision = []\n",
    "\n",
    "r1_recall = []\n",
    "r2_recall = []\n",
    "rL_recall = []\n",
    "\n",
    "r1_fmeasure = []\n",
    "r2_fmeasure = []\n",
    "rL_fmeasure = []\n",
    "\n",
    "test_model_decode = []\n",
    "\n",
    "# start counting seconds to keep track of time \n",
    "start = time.time()\n",
    "\n",
    "# loop over test set\n",
    "for sample_id in range(len(test_texts)):\n",
    "    \n",
    "    # get input (body OR abstract + cited text spans) - scisummnet uses abstract, we want to use body\n",
    "    sample_input = test_texts[sample_id]\n",
    "    \n",
    "    # tokenize it\n",
    "    inputs = tokenizer([sample_input], max_length=1024, return_tensors='pt', truncation=True, padding=True)\n",
    "\n",
    "    # 'max_length': Pad to a maximum length specified with the argument max_length \n",
    "    # or to the maximum acceptable input length for the model if that argument is not provided.\n",
    "\n",
    "    # generate Summary\n",
    "    summary_ids = model.generate(inputs['input_ids'])\n",
    "    \n",
    "    # decode summary\n",
    "    sample_output = [tokenizer.decode(g, skip_special_tokens=True, clean_up_tokenization_spaces=False) for g in summary_ids]\n",
    "    \n",
    "    # store summary\n",
    "    test_model_decode = test_model_decode + sample_output\n",
    "    \n",
    "    # get reference (gold) summary \n",
    "    sample_reference = test_decode[sample_id]\n",
    "    \n",
    "    #calculate rouge score\n",
    "    scores = scorer.score(str(sample_reference), str(sample_output))\n",
    "    \n",
    "    r1_precision.append(scores['rouge1'][0])\n",
    "    r1_recall.append(scores['rouge1'][1])\n",
    "    r1_fmeasure.append(scores['rouge1'][2])\n",
    "    \n",
    "    r2_precision.append(scores['rouge2'][0])\n",
    "    r2_recall.append(scores['rouge2'][1])\n",
    "    r2_fmeasure.append(scores['rouge2'][2])\n",
    "    \n",
    "    rL_precision.append(scores['rougeL'][0])\n",
    "    rL_recall.append(scores['rougeL'][1])\n",
    "    rL_fmeasure.append(scores['rougeL'][2])\n",
    "    \n",
    "    if sample_id % 5 == 0:\n",
    "        print(sample_id, time.time() - start)\n",
    "        start = time.time()"
   ]
  },
  {
   "cell_type": "code",
   "execution_count": null,
   "metadata": {
    "id": "WRcCShU5O80P"
   },
   "outputs": [],
   "source": [
    "# compute score statistics\n",
    "all_socores = {'R1': [stats.mean(r1_precision), stats.mean(r1_recall), stats.mean(r1_fmeasure)],\n",
    "        'R2': [stats.mean(r2_precision), stats.mean(r2_recall), stats.mean(r2_fmeasure)],\n",
    "        'RL': [stats.mean(rL_precision), stats.mean(rL_recall), stats.mean(rL_fmeasure)]      \n",
    "        }\n",
    "\n",
    "all_socores_df = pd.DataFrame(all_socores, columns = ['R1', 'R2', 'RL'], index=['precision','recall','fmeasure'])\n",
    "\n",
    "print(all_socores_df)   "
   ]
  }
 ],
 "metadata": {
  "accelerator": "GPU",
  "colab": {
   "collapsed_sections": [
    "XNXj3QNqyQrm",
    "DjyKXvuoktFb",
    "QsffmlyFFJpt",
    "sdQLIUT7Mebz"
   ],
   "machine_shape": "hm",
   "provenance": [],
   "toc_visible": true
  },
  "gpuClass": "premium",
  "kernelspec": {
   "display_name": "si630",
   "language": "python",
   "name": "si630"
  },
  "language_info": {
   "codemirror_mode": {
    "name": "ipython",
    "version": 3
   },
   "file_extension": ".py",
   "mimetype": "text/x-python",
   "name": "python",
   "nbconvert_exporter": "python",
   "pygments_lexer": "ipython3",
   "version": "3.11.0"
  },
  "widgets": {
   "application/vnd.jupyter.widget-state+json": {
    "0672aec6b7734d2f8193d7a6aafabfca": {
     "model_module": "@jupyter-widgets/controls",
     "model_module_version": "1.5.0",
     "model_name": "DescriptionStyleModel",
     "state": {
      "_model_module": "@jupyter-widgets/controls",
      "_model_module_version": "1.5.0",
      "_model_name": "DescriptionStyleModel",
      "_view_count": null,
      "_view_module": "@jupyter-widgets/base",
      "_view_module_version": "1.2.0",
      "_view_name": "StyleView",
      "description_width": ""
     }
    },
    "08981308cc134cd6a85b4d0397a43444": {
     "model_module": "@jupyter-widgets/controls",
     "model_module_version": "1.5.0",
     "model_name": "HBoxModel",
     "state": {
      "_dom_classes": [],
      "_model_module": "@jupyter-widgets/controls",
      "_model_module_version": "1.5.0",
      "_model_name": "HBoxModel",
      "_view_count": null,
      "_view_module": "@jupyter-widgets/controls",
      "_view_module_version": "1.5.0",
      "_view_name": "HBoxView",
      "box_style": "",
      "children": [
       "IPY_MODEL_28b56545c7c34a57aad5fab8475d4683",
       "IPY_MODEL_80f643ae90a849a8aab02c34a4918a8a",
       "IPY_MODEL_8e40ae81925e47798902a848a28d53af"
      ],
      "layout": "IPY_MODEL_3880c4c9291149f19585f52d3ae15914"
     }
    },
    "0b4d2ded66d541e2b1264ea57a50d0d4": {
     "model_module": "@jupyter-widgets/controls",
     "model_module_version": "1.5.0",
     "model_name": "HBoxModel",
     "state": {
      "_dom_classes": [],
      "_model_module": "@jupyter-widgets/controls",
      "_model_module_version": "1.5.0",
      "_model_name": "HBoxModel",
      "_view_count": null,
      "_view_module": "@jupyter-widgets/controls",
      "_view_module_version": "1.5.0",
      "_view_name": "HBoxView",
      "box_style": "",
      "children": [
       "IPY_MODEL_3fee2fd4f86049858ba5ac47411d426c",
       "IPY_MODEL_997c87c487584b2d848df524be28bb56",
       "IPY_MODEL_59d926283b0546599e836c6bc67c65c1"
      ],
      "layout": "IPY_MODEL_b55e567378094857bf7aa3bceab37efc"
     }
    },
    "0d33e32c6cc246759784a1bd17e643d8": {
     "model_module": "@jupyter-widgets/controls",
     "model_module_version": "1.5.0",
     "model_name": "HTMLModel",
     "state": {
      "_dom_classes": [],
      "_model_module": "@jupyter-widgets/controls",
      "_model_module_version": "1.5.0",
      "_model_name": "HTMLModel",
      "_view_count": null,
      "_view_module": "@jupyter-widgets/controls",
      "_view_module_version": "1.5.0",
      "_view_name": "HTMLView",
      "description": "",
      "description_tooltip": null,
      "layout": "IPY_MODEL_8270bf36950148d68690b5bc56e26af8",
      "placeholder": "​",
      "style": "IPY_MODEL_d566e46a33f848009bb4b4a022a1b49e",
      "value": "Downloading pytorch_model.bin: 100%"
     }
    },
    "116aa5e0d1f748bca54ac5bc784b9583": {
     "model_module": "@jupyter-widgets/controls",
     "model_module_version": "1.5.0",
     "model_name": "HBoxModel",
     "state": {
      "_dom_classes": [],
      "_model_module": "@jupyter-widgets/controls",
      "_model_module_version": "1.5.0",
      "_model_name": "HBoxModel",
      "_view_count": null,
      "_view_module": "@jupyter-widgets/controls",
      "_view_module_version": "1.5.0",
      "_view_name": "HBoxView",
      "box_style": "",
      "children": [
       "IPY_MODEL_0d33e32c6cc246759784a1bd17e643d8",
       "IPY_MODEL_c90b5eab7d164560859ad3ba5a8e6f80",
       "IPY_MODEL_6ace1935f36740b5b39918722bec96da"
      ],
      "layout": "IPY_MODEL_3cc2b1c160a942a6ad2188e5d484b978"
     }
    },
    "14173ff7a03c4b41a8abf150659b6f2d": {
     "model_module": "@jupyter-widgets/controls",
     "model_module_version": "1.5.0",
     "model_name": "ProgressStyleModel",
     "state": {
      "_model_module": "@jupyter-widgets/controls",
      "_model_module_version": "1.5.0",
      "_model_name": "ProgressStyleModel",
      "_view_count": null,
      "_view_module": "@jupyter-widgets/base",
      "_view_module_version": "1.2.0",
      "_view_name": "StyleView",
      "bar_color": null,
      "description_width": ""
     }
    },
    "1a3edd3e83b64a30860502582dab667a": {
     "model_module": "@jupyter-widgets/base",
     "model_module_version": "1.2.0",
     "model_name": "LayoutModel",
     "state": {
      "_model_module": "@jupyter-widgets/base",
      "_model_module_version": "1.2.0",
      "_model_name": "LayoutModel",
      "_view_count": null,
      "_view_module": "@jupyter-widgets/base",
      "_view_module_version": "1.2.0",
      "_view_name": "LayoutView",
      "align_content": null,
      "align_items": null,
      "align_self": null,
      "border": null,
      "bottom": null,
      "display": null,
      "flex": null,
      "flex_flow": null,
      "grid_area": null,
      "grid_auto_columns": null,
      "grid_auto_flow": null,
      "grid_auto_rows": null,
      "grid_column": null,
      "grid_gap": null,
      "grid_row": null,
      "grid_template_areas": null,
      "grid_template_columns": null,
      "grid_template_rows": null,
      "height": null,
      "justify_content": null,
      "justify_items": null,
      "left": null,
      "margin": null,
      "max_height": null,
      "max_width": null,
      "min_height": null,
      "min_width": null,
      "object_fit": null,
      "object_position": null,
      "order": null,
      "overflow": null,
      "overflow_x": null,
      "overflow_y": null,
      "padding": null,
      "right": null,
      "top": null,
      "visibility": null,
      "width": null
     }
    },
    "1ab7b0e5e2a34fb3a47e43f894032bea": {
     "model_module": "@jupyter-widgets/controls",
     "model_module_version": "1.5.0",
     "model_name": "DescriptionStyleModel",
     "state": {
      "_model_module": "@jupyter-widgets/controls",
      "_model_module_version": "1.5.0",
      "_model_name": "DescriptionStyleModel",
      "_view_count": null,
      "_view_module": "@jupyter-widgets/base",
      "_view_module_version": "1.2.0",
      "_view_name": "StyleView",
      "description_width": ""
     }
    },
    "2188d2ee43354d628c6d7e1b34304b92": {
     "model_module": "@jupyter-widgets/base",
     "model_module_version": "1.2.0",
     "model_name": "LayoutModel",
     "state": {
      "_model_module": "@jupyter-widgets/base",
      "_model_module_version": "1.2.0",
      "_model_name": "LayoutModel",
      "_view_count": null,
      "_view_module": "@jupyter-widgets/base",
      "_view_module_version": "1.2.0",
      "_view_name": "LayoutView",
      "align_content": null,
      "align_items": null,
      "align_self": null,
      "border": null,
      "bottom": null,
      "display": null,
      "flex": null,
      "flex_flow": null,
      "grid_area": null,
      "grid_auto_columns": null,
      "grid_auto_flow": null,
      "grid_auto_rows": null,
      "grid_column": null,
      "grid_gap": null,
      "grid_row": null,
      "grid_template_areas": null,
      "grid_template_columns": null,
      "grid_template_rows": null,
      "height": null,
      "justify_content": null,
      "justify_items": null,
      "left": null,
      "margin": null,
      "max_height": null,
      "max_width": null,
      "min_height": null,
      "min_width": null,
      "object_fit": null,
      "object_position": null,
      "order": null,
      "overflow": null,
      "overflow_x": null,
      "overflow_y": null,
      "padding": null,
      "right": null,
      "top": null,
      "visibility": null,
      "width": null
     }
    },
    "22482c7f4dba4351936c13d321827a64": {
     "model_module": "@jupyter-widgets/controls",
     "model_module_version": "1.5.0",
     "model_name": "DescriptionStyleModel",
     "state": {
      "_model_module": "@jupyter-widgets/controls",
      "_model_module_version": "1.5.0",
      "_model_name": "DescriptionStyleModel",
      "_view_count": null,
      "_view_module": "@jupyter-widgets/base",
      "_view_module_version": "1.2.0",
      "_view_name": "StyleView",
      "description_width": ""
     }
    },
    "2634f5454d7449429ea4a6c8ddcc5009": {
     "model_module": "@jupyter-widgets/base",
     "model_module_version": "1.2.0",
     "model_name": "LayoutModel",
     "state": {
      "_model_module": "@jupyter-widgets/base",
      "_model_module_version": "1.2.0",
      "_model_name": "LayoutModel",
      "_view_count": null,
      "_view_module": "@jupyter-widgets/base",
      "_view_module_version": "1.2.0",
      "_view_name": "LayoutView",
      "align_content": null,
      "align_items": null,
      "align_self": null,
      "border": null,
      "bottom": null,
      "display": null,
      "flex": null,
      "flex_flow": null,
      "grid_area": null,
      "grid_auto_columns": null,
      "grid_auto_flow": null,
      "grid_auto_rows": null,
      "grid_column": null,
      "grid_gap": null,
      "grid_row": null,
      "grid_template_areas": null,
      "grid_template_columns": null,
      "grid_template_rows": null,
      "height": null,
      "justify_content": null,
      "justify_items": null,
      "left": null,
      "margin": null,
      "max_height": null,
      "max_width": null,
      "min_height": null,
      "min_width": null,
      "object_fit": null,
      "object_position": null,
      "order": null,
      "overflow": null,
      "overflow_x": null,
      "overflow_y": null,
      "padding": null,
      "right": null,
      "top": null,
      "visibility": null,
      "width": null
     }
    },
    "281391602b474d84a1ea3efd6beb018d": {
     "model_module": "@jupyter-widgets/controls",
     "model_module_version": "1.5.0",
     "model_name": "FloatProgressModel",
     "state": {
      "_dom_classes": [],
      "_model_module": "@jupyter-widgets/controls",
      "_model_module_version": "1.5.0",
      "_model_name": "FloatProgressModel",
      "_view_count": null,
      "_view_module": "@jupyter-widgets/controls",
      "_view_module_version": "1.5.0",
      "_view_name": "ProgressView",
      "bar_style": "success",
      "description": "",
      "description_tooltip": null,
      "layout": "IPY_MODEL_70da8db814dd44a8a5ac9ede6cff85ab",
      "max": 65,
      "min": 0,
      "orientation": "horizontal",
      "style": "IPY_MODEL_d8799b2adeff4ae2a8b34357618ffa16",
      "value": 65
     }
    },
    "28b56545c7c34a57aad5fab8475d4683": {
     "model_module": "@jupyter-widgets/controls",
     "model_module_version": "1.5.0",
     "model_name": "HTMLModel",
     "state": {
      "_dom_classes": [],
      "_model_module": "@jupyter-widgets/controls",
      "_model_module_version": "1.5.0",
      "_model_name": "HTMLModel",
      "_view_count": null,
      "_view_module": "@jupyter-widgets/controls",
      "_view_module_version": "1.5.0",
      "_view_name": "HTMLView",
      "description": "",
      "description_tooltip": null,
      "layout": "IPY_MODEL_b299608a16d945b9860fae856c7cd1bd",
      "placeholder": "​",
      "style": "IPY_MODEL_8c279c4bf4f74338be11d29bab0e90d6",
      "value": "Downloading (…)okenizer_config.json: 100%"
     }
    },
    "2c0313f2fdbf41daae45a2e80f8f9106": {
     "model_module": "@jupyter-widgets/base",
     "model_module_version": "1.2.0",
     "model_name": "LayoutModel",
     "state": {
      "_model_module": "@jupyter-widgets/base",
      "_model_module_version": "1.2.0",
      "_model_name": "LayoutModel",
      "_view_count": null,
      "_view_module": "@jupyter-widgets/base",
      "_view_module_version": "1.2.0",
      "_view_name": "LayoutView",
      "align_content": null,
      "align_items": null,
      "align_self": null,
      "border": null,
      "bottom": null,
      "display": null,
      "flex": null,
      "flex_flow": null,
      "grid_area": null,
      "grid_auto_columns": null,
      "grid_auto_flow": null,
      "grid_auto_rows": null,
      "grid_column": null,
      "grid_gap": null,
      "grid_row": null,
      "grid_template_areas": null,
      "grid_template_columns": null,
      "grid_template_rows": null,
      "height": null,
      "justify_content": null,
      "justify_items": null,
      "left": null,
      "margin": null,
      "max_height": null,
      "max_width": null,
      "min_height": null,
      "min_width": null,
      "object_fit": null,
      "object_position": null,
      "order": null,
      "overflow": null,
      "overflow_x": null,
      "overflow_y": null,
      "padding": null,
      "right": null,
      "top": null,
      "visibility": null,
      "width": null
     }
    },
    "3880c4c9291149f19585f52d3ae15914": {
     "model_module": "@jupyter-widgets/base",
     "model_module_version": "1.2.0",
     "model_name": "LayoutModel",
     "state": {
      "_model_module": "@jupyter-widgets/base",
      "_model_module_version": "1.2.0",
      "_model_name": "LayoutModel",
      "_view_count": null,
      "_view_module": "@jupyter-widgets/base",
      "_view_module_version": "1.2.0",
      "_view_name": "LayoutView",
      "align_content": null,
      "align_items": null,
      "align_self": null,
      "border": null,
      "bottom": null,
      "display": null,
      "flex": null,
      "flex_flow": null,
      "grid_area": null,
      "grid_auto_columns": null,
      "grid_auto_flow": null,
      "grid_auto_rows": null,
      "grid_column": null,
      "grid_gap": null,
      "grid_row": null,
      "grid_template_areas": null,
      "grid_template_columns": null,
      "grid_template_rows": null,
      "height": null,
      "justify_content": null,
      "justify_items": null,
      "left": null,
      "margin": null,
      "max_height": null,
      "max_width": null,
      "min_height": null,
      "min_width": null,
      "object_fit": null,
      "object_position": null,
      "order": null,
      "overflow": null,
      "overflow_x": null,
      "overflow_y": null,
      "padding": null,
      "right": null,
      "top": null,
      "visibility": null,
      "width": null
     }
    },
    "3cc2b1c160a942a6ad2188e5d484b978": {
     "model_module": "@jupyter-widgets/base",
     "model_module_version": "1.2.0",
     "model_name": "LayoutModel",
     "state": {
      "_model_module": "@jupyter-widgets/base",
      "_model_module_version": "1.2.0",
      "_model_name": "LayoutModel",
      "_view_count": null,
      "_view_module": "@jupyter-widgets/base",
      "_view_module_version": "1.2.0",
      "_view_name": "LayoutView",
      "align_content": null,
      "align_items": null,
      "align_self": null,
      "border": null,
      "bottom": null,
      "display": null,
      "flex": null,
      "flex_flow": null,
      "grid_area": null,
      "grid_auto_columns": null,
      "grid_auto_flow": null,
      "grid_auto_rows": null,
      "grid_column": null,
      "grid_gap": null,
      "grid_row": null,
      "grid_template_areas": null,
      "grid_template_columns": null,
      "grid_template_rows": null,
      "height": null,
      "justify_content": null,
      "justify_items": null,
      "left": null,
      "margin": null,
      "max_height": null,
      "max_width": null,
      "min_height": null,
      "min_width": null,
      "object_fit": null,
      "object_position": null,
      "order": null,
      "overflow": null,
      "overflow_x": null,
      "overflow_y": null,
      "padding": null,
      "right": null,
      "top": null,
      "visibility": null,
      "width": null
     }
    },
    "3fee2fd4f86049858ba5ac47411d426c": {
     "model_module": "@jupyter-widgets/controls",
     "model_module_version": "1.5.0",
     "model_name": "HTMLModel",
     "state": {
      "_dom_classes": [],
      "_model_module": "@jupyter-widgets/controls",
      "_model_module_version": "1.5.0",
      "_model_name": "HTMLModel",
      "_view_count": null,
      "_view_module": "@jupyter-widgets/controls",
      "_view_module_version": "1.5.0",
      "_view_name": "HTMLView",
      "description": "",
      "description_tooltip": null,
      "layout": "IPY_MODEL_b250fbea8c6b4562965009135865e967",
      "placeholder": "​",
      "style": "IPY_MODEL_c2ed5871374346209a3f77fc54c8fde5",
      "value": "Downloading builder script: "
     }
    },
    "40882975dbd244899b0557fc05fb3b56": {
     "model_module": "@jupyter-widgets/base",
     "model_module_version": "1.2.0",
     "model_name": "LayoutModel",
     "state": {
      "_model_module": "@jupyter-widgets/base",
      "_model_module_version": "1.2.0",
      "_model_name": "LayoutModel",
      "_view_count": null,
      "_view_module": "@jupyter-widgets/base",
      "_view_module_version": "1.2.0",
      "_view_name": "LayoutView",
      "align_content": null,
      "align_items": null,
      "align_self": null,
      "border": null,
      "bottom": null,
      "display": null,
      "flex": null,
      "flex_flow": null,
      "grid_area": null,
      "grid_auto_columns": null,
      "grid_auto_flow": null,
      "grid_auto_rows": null,
      "grid_column": null,
      "grid_gap": null,
      "grid_row": null,
      "grid_template_areas": null,
      "grid_template_columns": null,
      "grid_template_rows": null,
      "height": null,
      "justify_content": null,
      "justify_items": null,
      "left": null,
      "margin": null,
      "max_height": null,
      "max_width": null,
      "min_height": null,
      "min_width": null,
      "object_fit": null,
      "object_position": null,
      "order": null,
      "overflow": null,
      "overflow_x": null,
      "overflow_y": null,
      "padding": null,
      "right": null,
      "top": null,
      "visibility": null,
      "width": null
     }
    },
    "408e4dd936c445c386f091803c790c91": {
     "model_module": "@jupyter-widgets/base",
     "model_module_version": "1.2.0",
     "model_name": "LayoutModel",
     "state": {
      "_model_module": "@jupyter-widgets/base",
      "_model_module_version": "1.2.0",
      "_model_name": "LayoutModel",
      "_view_count": null,
      "_view_module": "@jupyter-widgets/base",
      "_view_module_version": "1.2.0",
      "_view_name": "LayoutView",
      "align_content": null,
      "align_items": null,
      "align_self": null,
      "border": null,
      "bottom": null,
      "display": null,
      "flex": null,
      "flex_flow": null,
      "grid_area": null,
      "grid_auto_columns": null,
      "grid_auto_flow": null,
      "grid_auto_rows": null,
      "grid_column": null,
      "grid_gap": null,
      "grid_row": null,
      "grid_template_areas": null,
      "grid_template_columns": null,
      "grid_template_rows": null,
      "height": null,
      "justify_content": null,
      "justify_items": null,
      "left": null,
      "margin": null,
      "max_height": null,
      "max_width": null,
      "min_height": null,
      "min_width": null,
      "object_fit": null,
      "object_position": null,
      "order": null,
      "overflow": null,
      "overflow_x": null,
      "overflow_y": null,
      "padding": null,
      "right": null,
      "top": null,
      "visibility": null,
      "width": null
     }
    },
    "47485d97028944e1940120d1f192313e": {
     "model_module": "@jupyter-widgets/controls",
     "model_module_version": "1.5.0",
     "model_name": "HBoxModel",
     "state": {
      "_dom_classes": [],
      "_model_module": "@jupyter-widgets/controls",
      "_model_module_version": "1.5.0",
      "_model_name": "HBoxModel",
      "_view_count": null,
      "_view_module": "@jupyter-widgets/controls",
      "_view_module_version": "1.5.0",
      "_view_name": "HBoxView",
      "box_style": "",
      "children": [
       "IPY_MODEL_5834a8668ba549a7bcb0f8045417a195",
       "IPY_MODEL_59a21c26703341df8dce87d4d3249b0d",
       "IPY_MODEL_9be526babb2e4f4897c6ce7b2de4883e"
      ],
      "layout": "IPY_MODEL_d5e7448ef4af468cbe59e2ca8651f453"
     }
    },
    "497f116bfa634485ae7c10405d6ca94d": {
     "model_module": "@jupyter-widgets/base",
     "model_module_version": "1.2.0",
     "model_name": "LayoutModel",
     "state": {
      "_model_module": "@jupyter-widgets/base",
      "_model_module_version": "1.2.0",
      "_model_name": "LayoutModel",
      "_view_count": null,
      "_view_module": "@jupyter-widgets/base",
      "_view_module_version": "1.2.0",
      "_view_name": "LayoutView",
      "align_content": null,
      "align_items": null,
      "align_self": null,
      "border": null,
      "bottom": null,
      "display": null,
      "flex": null,
      "flex_flow": null,
      "grid_area": null,
      "grid_auto_columns": null,
      "grid_auto_flow": null,
      "grid_auto_rows": null,
      "grid_column": null,
      "grid_gap": null,
      "grid_row": null,
      "grid_template_areas": null,
      "grid_template_columns": null,
      "grid_template_rows": null,
      "height": null,
      "justify_content": null,
      "justify_items": null,
      "left": null,
      "margin": null,
      "max_height": null,
      "max_width": null,
      "min_height": null,
      "min_width": null,
      "object_fit": null,
      "object_position": null,
      "order": null,
      "overflow": null,
      "overflow_x": null,
      "overflow_y": null,
      "padding": null,
      "right": null,
      "top": null,
      "visibility": null,
      "width": null
     }
    },
    "49bb572f3fcf4d4fa08f654c0558574d": {
     "model_module": "@jupyter-widgets/base",
     "model_module_version": "1.2.0",
     "model_name": "LayoutModel",
     "state": {
      "_model_module": "@jupyter-widgets/base",
      "_model_module_version": "1.2.0",
      "_model_name": "LayoutModel",
      "_view_count": null,
      "_view_module": "@jupyter-widgets/base",
      "_view_module_version": "1.2.0",
      "_view_name": "LayoutView",
      "align_content": null,
      "align_items": null,
      "align_self": null,
      "border": null,
      "bottom": null,
      "display": null,
      "flex": null,
      "flex_flow": null,
      "grid_area": null,
      "grid_auto_columns": null,
      "grid_auto_flow": null,
      "grid_auto_rows": null,
      "grid_column": null,
      "grid_gap": null,
      "grid_row": null,
      "grid_template_areas": null,
      "grid_template_columns": null,
      "grid_template_rows": null,
      "height": null,
      "justify_content": null,
      "justify_items": null,
      "left": null,
      "margin": null,
      "max_height": null,
      "max_width": null,
      "min_height": null,
      "min_width": null,
      "object_fit": null,
      "object_position": null,
      "order": null,
      "overflow": null,
      "overflow_x": null,
      "overflow_y": null,
      "padding": null,
      "right": null,
      "top": null,
      "visibility": null,
      "width": null
     }
    },
    "4fdded31c12440b199fa6f0721756fdd": {
     "model_module": "@jupyter-widgets/controls",
     "model_module_version": "1.5.0",
     "model_name": "HTMLModel",
     "state": {
      "_dom_classes": [],
      "_model_module": "@jupyter-widgets/controls",
      "_model_module_version": "1.5.0",
      "_model_name": "HTMLModel",
      "_view_count": null,
      "_view_module": "@jupyter-widgets/controls",
      "_view_module_version": "1.5.0",
      "_view_name": "HTMLView",
      "description": "",
      "description_tooltip": null,
      "layout": "IPY_MODEL_5666f51ca8244620ac4f0c5c65782ed2",
      "placeholder": "​",
      "style": "IPY_MODEL_d95e99e30b9b479096f71174b4ec37e1",
      "value": " 1.12k/1.12k [00:00&lt;00:00, 51.3kB/s]"
     }
    },
    "53a6ce9932d645edb8e1e411ad60b3eb": {
     "model_module": "@jupyter-widgets/controls",
     "model_module_version": "1.5.0",
     "model_name": "ProgressStyleModel",
     "state": {
      "_model_module": "@jupyter-widgets/controls",
      "_model_module_version": "1.5.0",
      "_model_name": "ProgressStyleModel",
      "_view_count": null,
      "_view_module": "@jupyter-widgets/base",
      "_view_module_version": "1.2.0",
      "_view_name": "StyleView",
      "bar_color": null,
      "description_width": ""
     }
    },
    "5666f51ca8244620ac4f0c5c65782ed2": {
     "model_module": "@jupyter-widgets/base",
     "model_module_version": "1.2.0",
     "model_name": "LayoutModel",
     "state": {
      "_model_module": "@jupyter-widgets/base",
      "_model_module_version": "1.2.0",
      "_model_name": "LayoutModel",
      "_view_count": null,
      "_view_module": "@jupyter-widgets/base",
      "_view_module_version": "1.2.0",
      "_view_name": "LayoutView",
      "align_content": null,
      "align_items": null,
      "align_self": null,
      "border": null,
      "bottom": null,
      "display": null,
      "flex": null,
      "flex_flow": null,
      "grid_area": null,
      "grid_auto_columns": null,
      "grid_auto_flow": null,
      "grid_auto_rows": null,
      "grid_column": null,
      "grid_gap": null,
      "grid_row": null,
      "grid_template_areas": null,
      "grid_template_columns": null,
      "grid_template_rows": null,
      "height": null,
      "justify_content": null,
      "justify_items": null,
      "left": null,
      "margin": null,
      "max_height": null,
      "max_width": null,
      "min_height": null,
      "min_width": null,
      "object_fit": null,
      "object_position": null,
      "order": null,
      "overflow": null,
      "overflow_x": null,
      "overflow_y": null,
      "padding": null,
      "right": null,
      "top": null,
      "visibility": null,
      "width": null
     }
    },
    "57110cc86f4741fc899962065b4619ad": {
     "model_module": "@jupyter-widgets/base",
     "model_module_version": "1.2.0",
     "model_name": "LayoutModel",
     "state": {
      "_model_module": "@jupyter-widgets/base",
      "_model_module_version": "1.2.0",
      "_model_name": "LayoutModel",
      "_view_count": null,
      "_view_module": "@jupyter-widgets/base",
      "_view_module_version": "1.2.0",
      "_view_name": "LayoutView",
      "align_content": null,
      "align_items": null,
      "align_self": null,
      "border": null,
      "bottom": null,
      "display": null,
      "flex": null,
      "flex_flow": null,
      "grid_area": null,
      "grid_auto_columns": null,
      "grid_auto_flow": null,
      "grid_auto_rows": null,
      "grid_column": null,
      "grid_gap": null,
      "grid_row": null,
      "grid_template_areas": null,
      "grid_template_columns": null,
      "grid_template_rows": null,
      "height": null,
      "justify_content": null,
      "justify_items": null,
      "left": null,
      "margin": null,
      "max_height": null,
      "max_width": null,
      "min_height": null,
      "min_width": null,
      "object_fit": null,
      "object_position": null,
      "order": null,
      "overflow": null,
      "overflow_x": null,
      "overflow_y": null,
      "padding": null,
      "right": null,
      "top": null,
      "visibility": null,
      "width": null
     }
    },
    "5834a8668ba549a7bcb0f8045417a195": {
     "model_module": "@jupyter-widgets/controls",
     "model_module_version": "1.5.0",
     "model_name": "HTMLModel",
     "state": {
      "_dom_classes": [],
      "_model_module": "@jupyter-widgets/controls",
      "_model_module_version": "1.5.0",
      "_model_name": "HTMLModel",
      "_view_count": null,
      "_view_module": "@jupyter-widgets/controls",
      "_view_module_version": "1.5.0",
      "_view_name": "HTMLView",
      "description": "",
      "description_tooltip": null,
      "layout": "IPY_MODEL_793f6596ff654828b6fdaac283222e8c",
      "placeholder": "​",
      "style": "IPY_MODEL_5cc461850afb41d8bc9a93a2c32eee2b",
      "value": "Downloading (…)ve/main/spiece.model: 100%"
     }
    },
    "59a21c26703341df8dce87d4d3249b0d": {
     "model_module": "@jupyter-widgets/controls",
     "model_module_version": "1.5.0",
     "model_name": "FloatProgressModel",
     "state": {
      "_dom_classes": [],
      "_model_module": "@jupyter-widgets/controls",
      "_model_module_version": "1.5.0",
      "_model_name": "FloatProgressModel",
      "_view_count": null,
      "_view_module": "@jupyter-widgets/controls",
      "_view_module_version": "1.5.0",
      "_view_name": "ProgressView",
      "bar_style": "success",
      "description": "",
      "description_tooltip": null,
      "layout": "IPY_MODEL_e7390851b75c45d1b1c4be061d7083da",
      "max": 1912529,
      "min": 0,
      "orientation": "horizontal",
      "style": "IPY_MODEL_a7d40422e69e461aa80484757967c7a6",
      "value": 1912529
     }
    },
    "59d926283b0546599e836c6bc67c65c1": {
     "model_module": "@jupyter-widgets/controls",
     "model_module_version": "1.5.0",
     "model_name": "HTMLModel",
     "state": {
      "_dom_classes": [],
      "_model_module": "@jupyter-widgets/controls",
      "_model_module_version": "1.5.0",
      "_model_name": "HTMLModel",
      "_view_count": null,
      "_view_module": "@jupyter-widgets/controls",
      "_view_module_version": "1.5.0",
      "_view_name": "HTMLView",
      "description": "",
      "description_tooltip": null,
      "layout": "IPY_MODEL_408e4dd936c445c386f091803c790c91",
      "placeholder": "​",
      "style": "IPY_MODEL_fe51b9bfb4524b54981d2e6c503a5f99",
      "value": " 5.65k/? [00:00&lt;00:00, 291kB/s]"
     }
    },
    "5cc461850afb41d8bc9a93a2c32eee2b": {
     "model_module": "@jupyter-widgets/controls",
     "model_module_version": "1.5.0",
     "model_name": "DescriptionStyleModel",
     "state": {
      "_model_module": "@jupyter-widgets/controls",
      "_model_module_version": "1.5.0",
      "_model_name": "DescriptionStyleModel",
      "_view_count": null,
      "_view_module": "@jupyter-widgets/base",
      "_view_module_version": "1.2.0",
      "_view_name": "StyleView",
      "description_width": ""
     }
    },
    "5f815d1c65914f7497804912eedf41bf": {
     "model_module": "@jupyter-widgets/controls",
     "model_module_version": "1.5.0",
     "model_name": "HTMLModel",
     "state": {
      "_dom_classes": [],
      "_model_module": "@jupyter-widgets/controls",
      "_model_module_version": "1.5.0",
      "_model_name": "HTMLModel",
      "_view_count": null,
      "_view_module": "@jupyter-widgets/controls",
      "_view_module_version": "1.5.0",
      "_view_name": "HTMLView",
      "description": "",
      "description_tooltip": null,
      "layout": "IPY_MODEL_f5414025a0784249aa3fc6a66bae430f",
      "placeholder": "​",
      "style": "IPY_MODEL_ff78ad829d794b8aade83e721aae3fc9",
      "value": " 65.0/65.0 [00:00&lt;00:00, 2.50kB/s]"
     }
    },
    "62b963d052dd4122bf12f2a80e3749ba": {
     "model_module": "@jupyter-widgets/base",
     "model_module_version": "1.2.0",
     "model_name": "LayoutModel",
     "state": {
      "_model_module": "@jupyter-widgets/base",
      "_model_module_version": "1.2.0",
      "_model_name": "LayoutModel",
      "_view_count": null,
      "_view_module": "@jupyter-widgets/base",
      "_view_module_version": "1.2.0",
      "_view_name": "LayoutView",
      "align_content": null,
      "align_items": null,
      "align_self": null,
      "border": null,
      "bottom": null,
      "display": null,
      "flex": null,
      "flex_flow": null,
      "grid_area": null,
      "grid_auto_columns": null,
      "grid_auto_flow": null,
      "grid_auto_rows": null,
      "grid_column": null,
      "grid_gap": null,
      "grid_row": null,
      "grid_template_areas": null,
      "grid_template_columns": null,
      "grid_template_rows": null,
      "height": null,
      "justify_content": null,
      "justify_items": null,
      "left": null,
      "margin": null,
      "max_height": null,
      "max_width": null,
      "min_height": null,
      "min_width": null,
      "object_fit": null,
      "object_position": null,
      "order": null,
      "overflow": null,
      "overflow_x": null,
      "overflow_y": null,
      "padding": null,
      "right": null,
      "top": null,
      "visibility": null,
      "width": null
     }
    },
    "64c81d8ae9a74755a33455a77667a5a8": {
     "model_module": "@jupyter-widgets/controls",
     "model_module_version": "1.5.0",
     "model_name": "FloatProgressModel",
     "state": {
      "_dom_classes": [],
      "_model_module": "@jupyter-widgets/controls",
      "_model_module_version": "1.5.0",
      "_model_name": "FloatProgressModel",
      "_view_count": null,
      "_view_module": "@jupyter-widgets/controls",
      "_view_module_version": "1.5.0",
      "_view_name": "ProgressView",
      "bar_style": "success",
      "description": "",
      "description_tooltip": null,
      "layout": "IPY_MODEL_62b963d052dd4122bf12f2a80e3749ba",
      "max": 1120,
      "min": 0,
      "orientation": "horizontal",
      "style": "IPY_MODEL_af72b147ab3d4bd0afcf62696d131cf5",
      "value": 1120
     }
    },
    "699efc49e4d2483db9d249018202b97f": {
     "model_module": "@jupyter-widgets/controls",
     "model_module_version": "1.5.0",
     "model_name": "HTMLModel",
     "state": {
      "_dom_classes": [],
      "_model_module": "@jupyter-widgets/controls",
      "_model_module_version": "1.5.0",
      "_model_name": "HTMLModel",
      "_view_count": null,
      "_view_module": "@jupyter-widgets/controls",
      "_view_module_version": "1.5.0",
      "_view_name": "HTMLView",
      "description": "",
      "description_tooltip": null,
      "layout": "IPY_MODEL_c137033754e241e988668b067a47891d",
      "placeholder": "​",
      "style": "IPY_MODEL_0672aec6b7734d2f8193d7a6aafabfca",
      "value": "Downloading (…)neration_config.json: 100%"
     }
    },
    "6ace1935f36740b5b39918722bec96da": {
     "model_module": "@jupyter-widgets/controls",
     "model_module_version": "1.5.0",
     "model_name": "HTMLModel",
     "state": {
      "_dom_classes": [],
      "_model_module": "@jupyter-widgets/controls",
      "_model_module_version": "1.5.0",
      "_model_name": "HTMLModel",
      "_view_count": null,
      "_view_module": "@jupyter-widgets/controls",
      "_view_module_version": "1.5.0",
      "_view_name": "HTMLView",
      "description": "",
      "description_tooltip": null,
      "layout": "IPY_MODEL_57110cc86f4741fc899962065b4619ad",
      "placeholder": "​",
      "style": "IPY_MODEL_1ab7b0e5e2a34fb3a47e43f894032bea",
      "value": " 2.28G/2.28G [00:14&lt;00:00, 254MB/s]"
     }
    },
    "6e65996d7c2441ba9401e70ac08e8a77": {
     "model_module": "@jupyter-widgets/controls",
     "model_module_version": "1.5.0",
     "model_name": "DescriptionStyleModel",
     "state": {
      "_model_module": "@jupyter-widgets/controls",
      "_model_module_version": "1.5.0",
      "_model_name": "DescriptionStyleModel",
      "_view_count": null,
      "_view_module": "@jupyter-widgets/base",
      "_view_module_version": "1.2.0",
      "_view_name": "StyleView",
      "description_width": ""
     }
    },
    "70da8db814dd44a8a5ac9ede6cff85ab": {
     "model_module": "@jupyter-widgets/base",
     "model_module_version": "1.2.0",
     "model_name": "LayoutModel",
     "state": {
      "_model_module": "@jupyter-widgets/base",
      "_model_module_version": "1.2.0",
      "_model_name": "LayoutModel",
      "_view_count": null,
      "_view_module": "@jupyter-widgets/base",
      "_view_module_version": "1.2.0",
      "_view_name": "LayoutView",
      "align_content": null,
      "align_items": null,
      "align_self": null,
      "border": null,
      "bottom": null,
      "display": null,
      "flex": null,
      "flex_flow": null,
      "grid_area": null,
      "grid_auto_columns": null,
      "grid_auto_flow": null,
      "grid_auto_rows": null,
      "grid_column": null,
      "grid_gap": null,
      "grid_row": null,
      "grid_template_areas": null,
      "grid_template_columns": null,
      "grid_template_rows": null,
      "height": null,
      "justify_content": null,
      "justify_items": null,
      "left": null,
      "margin": null,
      "max_height": null,
      "max_width": null,
      "min_height": null,
      "min_width": null,
      "object_fit": null,
      "object_position": null,
      "order": null,
      "overflow": null,
      "overflow_x": null,
      "overflow_y": null,
      "padding": null,
      "right": null,
      "top": null,
      "visibility": null,
      "width": null
     }
    },
    "778ee3e2bb084dff9277e912c17d6ba4": {
     "model_module": "@jupyter-widgets/controls",
     "model_module_version": "1.5.0",
     "model_name": "FloatProgressModel",
     "state": {
      "_dom_classes": [],
      "_model_module": "@jupyter-widgets/controls",
      "_model_module_version": "1.5.0",
      "_model_name": "FloatProgressModel",
      "_view_count": null,
      "_view_module": "@jupyter-widgets/controls",
      "_view_module_version": "1.5.0",
      "_view_name": "ProgressView",
      "bar_style": "success",
      "description": "",
      "description_tooltip": null,
      "layout": "IPY_MODEL_962dd44d23da4c1a95076c20283713a8",
      "max": 280,
      "min": 0,
      "orientation": "horizontal",
      "style": "IPY_MODEL_14173ff7a03c4b41a8abf150659b6f2d",
      "value": 280
     }
    },
    "793f6596ff654828b6fdaac283222e8c": {
     "model_module": "@jupyter-widgets/base",
     "model_module_version": "1.2.0",
     "model_name": "LayoutModel",
     "state": {
      "_model_module": "@jupyter-widgets/base",
      "_model_module_version": "1.2.0",
      "_model_name": "LayoutModel",
      "_view_count": null,
      "_view_module": "@jupyter-widgets/base",
      "_view_module_version": "1.2.0",
      "_view_name": "LayoutView",
      "align_content": null,
      "align_items": null,
      "align_self": null,
      "border": null,
      "bottom": null,
      "display": null,
      "flex": null,
      "flex_flow": null,
      "grid_area": null,
      "grid_auto_columns": null,
      "grid_auto_flow": null,
      "grid_auto_rows": null,
      "grid_column": null,
      "grid_gap": null,
      "grid_row": null,
      "grid_template_areas": null,
      "grid_template_columns": null,
      "grid_template_rows": null,
      "height": null,
      "justify_content": null,
      "justify_items": null,
      "left": null,
      "margin": null,
      "max_height": null,
      "max_width": null,
      "min_height": null,
      "min_width": null,
      "object_fit": null,
      "object_position": null,
      "order": null,
      "overflow": null,
      "overflow_x": null,
      "overflow_y": null,
      "padding": null,
      "right": null,
      "top": null,
      "visibility": null,
      "width": null
     }
    },
    "7b3da72c486b415797efade827d583c4": {
     "model_module": "@jupyter-widgets/controls",
     "model_module_version": "1.5.0",
     "model_name": "DescriptionStyleModel",
     "state": {
      "_model_module": "@jupyter-widgets/controls",
      "_model_module_version": "1.5.0",
      "_model_name": "DescriptionStyleModel",
      "_view_count": null,
      "_view_module": "@jupyter-widgets/base",
      "_view_module_version": "1.2.0",
      "_view_name": "StyleView",
      "description_width": ""
     }
    },
    "7ee2e9ee35e34565a8415a6c09a5ccdd": {
     "model_module": "@jupyter-widgets/controls",
     "model_module_version": "1.5.0",
     "model_name": "HBoxModel",
     "state": {
      "_dom_classes": [],
      "_model_module": "@jupyter-widgets/controls",
      "_model_module_version": "1.5.0",
      "_model_name": "HBoxModel",
      "_view_count": null,
      "_view_module": "@jupyter-widgets/controls",
      "_view_module_version": "1.5.0",
      "_view_name": "HBoxView",
      "box_style": "",
      "children": [
       "IPY_MODEL_98f91b5ab846495bbfea7c57b81e1964",
       "IPY_MODEL_64c81d8ae9a74755a33455a77667a5a8",
       "IPY_MODEL_4fdded31c12440b199fa6f0721756fdd"
      ],
      "layout": "IPY_MODEL_c625f9d476c34497936d7bff567ec5b6"
     }
    },
    "80f643ae90a849a8aab02c34a4918a8a": {
     "model_module": "@jupyter-widgets/controls",
     "model_module_version": "1.5.0",
     "model_name": "FloatProgressModel",
     "state": {
      "_dom_classes": [],
      "_model_module": "@jupyter-widgets/controls",
      "_model_module_version": "1.5.0",
      "_model_name": "FloatProgressModel",
      "_view_count": null,
      "_view_module": "@jupyter-widgets/controls",
      "_view_module_version": "1.5.0",
      "_view_name": "ProgressView",
      "bar_style": "success",
      "description": "",
      "description_tooltip": null,
      "layout": "IPY_MODEL_e829523a5d4e4b34a2ddceb449179f3e",
      "max": 88,
      "min": 0,
      "orientation": "horizontal",
      "style": "IPY_MODEL_fbbaae08a4124c74874e6be91285317b",
      "value": 88
     }
    },
    "81ad3e87a0124c92904ad969a33fbfef": {
     "model_module": "@jupyter-widgets/controls",
     "model_module_version": "1.5.0",
     "model_name": "DescriptionStyleModel",
     "state": {
      "_model_module": "@jupyter-widgets/controls",
      "_model_module_version": "1.5.0",
      "_model_name": "DescriptionStyleModel",
      "_view_count": null,
      "_view_module": "@jupyter-widgets/base",
      "_view_module_version": "1.2.0",
      "_view_name": "StyleView",
      "description_width": ""
     }
    },
    "8270bf36950148d68690b5bc56e26af8": {
     "model_module": "@jupyter-widgets/base",
     "model_module_version": "1.2.0",
     "model_name": "LayoutModel",
     "state": {
      "_model_module": "@jupyter-widgets/base",
      "_model_module_version": "1.2.0",
      "_model_name": "LayoutModel",
      "_view_count": null,
      "_view_module": "@jupyter-widgets/base",
      "_view_module_version": "1.2.0",
      "_view_name": "LayoutView",
      "align_content": null,
      "align_items": null,
      "align_self": null,
      "border": null,
      "bottom": null,
      "display": null,
      "flex": null,
      "flex_flow": null,
      "grid_area": null,
      "grid_auto_columns": null,
      "grid_auto_flow": null,
      "grid_auto_rows": null,
      "grid_column": null,
      "grid_gap": null,
      "grid_row": null,
      "grid_template_areas": null,
      "grid_template_columns": null,
      "grid_template_rows": null,
      "height": null,
      "justify_content": null,
      "justify_items": null,
      "left": null,
      "margin": null,
      "max_height": null,
      "max_width": null,
      "min_height": null,
      "min_width": null,
      "object_fit": null,
      "object_position": null,
      "order": null,
      "overflow": null,
      "overflow_x": null,
      "overflow_y": null,
      "padding": null,
      "right": null,
      "top": null,
      "visibility": null,
      "width": null
     }
    },
    "8c0b20de088a40cbbe87a11fdb1530ea": {
     "model_module": "@jupyter-widgets/controls",
     "model_module_version": "1.5.0",
     "model_name": "HTMLModel",
     "state": {
      "_dom_classes": [],
      "_model_module": "@jupyter-widgets/controls",
      "_model_module_version": "1.5.0",
      "_model_name": "HTMLModel",
      "_view_count": null,
      "_view_module": "@jupyter-widgets/controls",
      "_view_module_version": "1.5.0",
      "_view_name": "HTMLView",
      "description": "",
      "description_tooltip": null,
      "layout": "IPY_MODEL_1a3edd3e83b64a30860502582dab667a",
      "placeholder": "​",
      "style": "IPY_MODEL_22482c7f4dba4351936c13d321827a64",
      "value": " 280/280 [00:00&lt;00:00, 10.4kB/s]"
     }
    },
    "8c279c4bf4f74338be11d29bab0e90d6": {
     "model_module": "@jupyter-widgets/controls",
     "model_module_version": "1.5.0",
     "model_name": "DescriptionStyleModel",
     "state": {
      "_model_module": "@jupyter-widgets/controls",
      "_model_module_version": "1.5.0",
      "_model_name": "DescriptionStyleModel",
      "_view_count": null,
      "_view_module": "@jupyter-widgets/base",
      "_view_module_version": "1.2.0",
      "_view_name": "StyleView",
      "description_width": ""
     }
    },
    "8e40ae81925e47798902a848a28d53af": {
     "model_module": "@jupyter-widgets/controls",
     "model_module_version": "1.5.0",
     "model_name": "HTMLModel",
     "state": {
      "_dom_classes": [],
      "_model_module": "@jupyter-widgets/controls",
      "_model_module_version": "1.5.0",
      "_model_name": "HTMLModel",
      "_view_count": null,
      "_view_module": "@jupyter-widgets/controls",
      "_view_module_version": "1.5.0",
      "_view_name": "HTMLView",
      "description": "",
      "description_tooltip": null,
      "layout": "IPY_MODEL_2188d2ee43354d628c6d7e1b34304b92",
      "placeholder": "​",
      "style": "IPY_MODEL_7b3da72c486b415797efade827d583c4",
      "value": " 88.0/88.0 [00:00&lt;00:00, 3.66kB/s]"
     }
    },
    "962dd44d23da4c1a95076c20283713a8": {
     "model_module": "@jupyter-widgets/base",
     "model_module_version": "1.2.0",
     "model_name": "LayoutModel",
     "state": {
      "_model_module": "@jupyter-widgets/base",
      "_model_module_version": "1.2.0",
      "_model_name": "LayoutModel",
      "_view_count": null,
      "_view_module": "@jupyter-widgets/base",
      "_view_module_version": "1.2.0",
      "_view_name": "LayoutView",
      "align_content": null,
      "align_items": null,
      "align_self": null,
      "border": null,
      "bottom": null,
      "display": null,
      "flex": null,
      "flex_flow": null,
      "grid_area": null,
      "grid_auto_columns": null,
      "grid_auto_flow": null,
      "grid_auto_rows": null,
      "grid_column": null,
      "grid_gap": null,
      "grid_row": null,
      "grid_template_areas": null,
      "grid_template_columns": null,
      "grid_template_rows": null,
      "height": null,
      "justify_content": null,
      "justify_items": null,
      "left": null,
      "margin": null,
      "max_height": null,
      "max_width": null,
      "min_height": null,
      "min_width": null,
      "object_fit": null,
      "object_position": null,
      "order": null,
      "overflow": null,
      "overflow_x": null,
      "overflow_y": null,
      "padding": null,
      "right": null,
      "top": null,
      "visibility": null,
      "width": null
     }
    },
    "98f91b5ab846495bbfea7c57b81e1964": {
     "model_module": "@jupyter-widgets/controls",
     "model_module_version": "1.5.0",
     "model_name": "HTMLModel",
     "state": {
      "_dom_classes": [],
      "_model_module": "@jupyter-widgets/controls",
      "_model_module_version": "1.5.0",
      "_model_name": "HTMLModel",
      "_view_count": null,
      "_view_module": "@jupyter-widgets/controls",
      "_view_module_version": "1.5.0",
      "_view_name": "HTMLView",
      "description": "",
      "description_tooltip": null,
      "layout": "IPY_MODEL_2634f5454d7449429ea4a6c8ddcc5009",
      "placeholder": "​",
      "style": "IPY_MODEL_df6ec905e310453099ff46aa16ff2849",
      "value": "Downloading (…)lve/main/config.json: 100%"
     }
    },
    "997c87c487584b2d848df524be28bb56": {
     "model_module": "@jupyter-widgets/controls",
     "model_module_version": "1.5.0",
     "model_name": "FloatProgressModel",
     "state": {
      "_dom_classes": [],
      "_model_module": "@jupyter-widgets/controls",
      "_model_module_version": "1.5.0",
      "_model_name": "FloatProgressModel",
      "_view_count": null,
      "_view_module": "@jupyter-widgets/controls",
      "_view_module_version": "1.5.0",
      "_view_name": "ProgressView",
      "bar_style": "success",
      "description": "",
      "description_tooltip": null,
      "layout": "IPY_MODEL_2c0313f2fdbf41daae45a2e80f8f9106",
      "max": 2169,
      "min": 0,
      "orientation": "horizontal",
      "style": "IPY_MODEL_53a6ce9932d645edb8e1e411ad60b3eb",
      "value": 2169
     }
    },
    "9be526babb2e4f4897c6ce7b2de4883e": {
     "model_module": "@jupyter-widgets/controls",
     "model_module_version": "1.5.0",
     "model_name": "HTMLModel",
     "state": {
      "_dom_classes": [],
      "_model_module": "@jupyter-widgets/controls",
      "_model_module_version": "1.5.0",
      "_model_name": "HTMLModel",
      "_view_count": null,
      "_view_module": "@jupyter-widgets/controls",
      "_view_module_version": "1.5.0",
      "_view_name": "HTMLView",
      "description": "",
      "description_tooltip": null,
      "layout": "IPY_MODEL_497f116bfa634485ae7c10405d6ca94d",
      "placeholder": "​",
      "style": "IPY_MODEL_6e65996d7c2441ba9401e70ac08e8a77",
      "value": " 1.91M/1.91M [00:01&lt;00:00, 1.82MB/s]"
     }
    },
    "a6cab4f710ed4f72b167673e1bc29be4": {
     "model_module": "@jupyter-widgets/controls",
     "model_module_version": "1.5.0",
     "model_name": "HBoxModel",
     "state": {
      "_dom_classes": [],
      "_model_module": "@jupyter-widgets/controls",
      "_model_module_version": "1.5.0",
      "_model_name": "HBoxModel",
      "_view_count": null,
      "_view_module": "@jupyter-widgets/controls",
      "_view_module_version": "1.5.0",
      "_view_name": "HBoxView",
      "box_style": "",
      "children": [
       "IPY_MODEL_c89af36d1fb34074aeec52c80f8ae3a6",
       "IPY_MODEL_281391602b474d84a1ea3efd6beb018d",
       "IPY_MODEL_5f815d1c65914f7497804912eedf41bf"
      ],
      "layout": "IPY_MODEL_b4f43d802bf34631ad91858a2572b890"
     }
    },
    "a7d40422e69e461aa80484757967c7a6": {
     "model_module": "@jupyter-widgets/controls",
     "model_module_version": "1.5.0",
     "model_name": "ProgressStyleModel",
     "state": {
      "_model_module": "@jupyter-widgets/controls",
      "_model_module_version": "1.5.0",
      "_model_name": "ProgressStyleModel",
      "_view_count": null,
      "_view_module": "@jupyter-widgets/base",
      "_view_module_version": "1.2.0",
      "_view_name": "StyleView",
      "bar_color": null,
      "description_width": ""
     }
    },
    "ae84768e264e46edabf5c55f1a5e71de": {
     "model_module": "@jupyter-widgets/controls",
     "model_module_version": "1.5.0",
     "model_name": "HBoxModel",
     "state": {
      "_dom_classes": [],
      "_model_module": "@jupyter-widgets/controls",
      "_model_module_version": "1.5.0",
      "_model_name": "HBoxModel",
      "_view_count": null,
      "_view_module": "@jupyter-widgets/controls",
      "_view_module_version": "1.5.0",
      "_view_name": "HBoxView",
      "box_style": "",
      "children": [
       "IPY_MODEL_699efc49e4d2483db9d249018202b97f",
       "IPY_MODEL_778ee3e2bb084dff9277e912c17d6ba4",
       "IPY_MODEL_8c0b20de088a40cbbe87a11fdb1530ea"
      ],
      "layout": "IPY_MODEL_f2d18956101b4abd977b9905c7ed70ce"
     }
    },
    "af72b147ab3d4bd0afcf62696d131cf5": {
     "model_module": "@jupyter-widgets/controls",
     "model_module_version": "1.5.0",
     "model_name": "ProgressStyleModel",
     "state": {
      "_model_module": "@jupyter-widgets/controls",
      "_model_module_version": "1.5.0",
      "_model_name": "ProgressStyleModel",
      "_view_count": null,
      "_view_module": "@jupyter-widgets/base",
      "_view_module_version": "1.2.0",
      "_view_name": "StyleView",
      "bar_color": null,
      "description_width": ""
     }
    },
    "b250fbea8c6b4562965009135865e967": {
     "model_module": "@jupyter-widgets/base",
     "model_module_version": "1.2.0",
     "model_name": "LayoutModel",
     "state": {
      "_model_module": "@jupyter-widgets/base",
      "_model_module_version": "1.2.0",
      "_model_name": "LayoutModel",
      "_view_count": null,
      "_view_module": "@jupyter-widgets/base",
      "_view_module_version": "1.2.0",
      "_view_name": "LayoutView",
      "align_content": null,
      "align_items": null,
      "align_self": null,
      "border": null,
      "bottom": null,
      "display": null,
      "flex": null,
      "flex_flow": null,
      "grid_area": null,
      "grid_auto_columns": null,
      "grid_auto_flow": null,
      "grid_auto_rows": null,
      "grid_column": null,
      "grid_gap": null,
      "grid_row": null,
      "grid_template_areas": null,
      "grid_template_columns": null,
      "grid_template_rows": null,
      "height": null,
      "justify_content": null,
      "justify_items": null,
      "left": null,
      "margin": null,
      "max_height": null,
      "max_width": null,
      "min_height": null,
      "min_width": null,
      "object_fit": null,
      "object_position": null,
      "order": null,
      "overflow": null,
      "overflow_x": null,
      "overflow_y": null,
      "padding": null,
      "right": null,
      "top": null,
      "visibility": null,
      "width": null
     }
    },
    "b299608a16d945b9860fae856c7cd1bd": {
     "model_module": "@jupyter-widgets/base",
     "model_module_version": "1.2.0",
     "model_name": "LayoutModel",
     "state": {
      "_model_module": "@jupyter-widgets/base",
      "_model_module_version": "1.2.0",
      "_model_name": "LayoutModel",
      "_view_count": null,
      "_view_module": "@jupyter-widgets/base",
      "_view_module_version": "1.2.0",
      "_view_name": "LayoutView",
      "align_content": null,
      "align_items": null,
      "align_self": null,
      "border": null,
      "bottom": null,
      "display": null,
      "flex": null,
      "flex_flow": null,
      "grid_area": null,
      "grid_auto_columns": null,
      "grid_auto_flow": null,
      "grid_auto_rows": null,
      "grid_column": null,
      "grid_gap": null,
      "grid_row": null,
      "grid_template_areas": null,
      "grid_template_columns": null,
      "grid_template_rows": null,
      "height": null,
      "justify_content": null,
      "justify_items": null,
      "left": null,
      "margin": null,
      "max_height": null,
      "max_width": null,
      "min_height": null,
      "min_width": null,
      "object_fit": null,
      "object_position": null,
      "order": null,
      "overflow": null,
      "overflow_x": null,
      "overflow_y": null,
      "padding": null,
      "right": null,
      "top": null,
      "visibility": null,
      "width": null
     }
    },
    "b4f43d802bf34631ad91858a2572b890": {
     "model_module": "@jupyter-widgets/base",
     "model_module_version": "1.2.0",
     "model_name": "LayoutModel",
     "state": {
      "_model_module": "@jupyter-widgets/base",
      "_model_module_version": "1.2.0",
      "_model_name": "LayoutModel",
      "_view_count": null,
      "_view_module": "@jupyter-widgets/base",
      "_view_module_version": "1.2.0",
      "_view_name": "LayoutView",
      "align_content": null,
      "align_items": null,
      "align_self": null,
      "border": null,
      "bottom": null,
      "display": null,
      "flex": null,
      "flex_flow": null,
      "grid_area": null,
      "grid_auto_columns": null,
      "grid_auto_flow": null,
      "grid_auto_rows": null,
      "grid_column": null,
      "grid_gap": null,
      "grid_row": null,
      "grid_template_areas": null,
      "grid_template_columns": null,
      "grid_template_rows": null,
      "height": null,
      "justify_content": null,
      "justify_items": null,
      "left": null,
      "margin": null,
      "max_height": null,
      "max_width": null,
      "min_height": null,
      "min_width": null,
      "object_fit": null,
      "object_position": null,
      "order": null,
      "overflow": null,
      "overflow_x": null,
      "overflow_y": null,
      "padding": null,
      "right": null,
      "top": null,
      "visibility": null,
      "width": null
     }
    },
    "b55e567378094857bf7aa3bceab37efc": {
     "model_module": "@jupyter-widgets/base",
     "model_module_version": "1.2.0",
     "model_name": "LayoutModel",
     "state": {
      "_model_module": "@jupyter-widgets/base",
      "_model_module_version": "1.2.0",
      "_model_name": "LayoutModel",
      "_view_count": null,
      "_view_module": "@jupyter-widgets/base",
      "_view_module_version": "1.2.0",
      "_view_name": "LayoutView",
      "align_content": null,
      "align_items": null,
      "align_self": null,
      "border": null,
      "bottom": null,
      "display": null,
      "flex": null,
      "flex_flow": null,
      "grid_area": null,
      "grid_auto_columns": null,
      "grid_auto_flow": null,
      "grid_auto_rows": null,
      "grid_column": null,
      "grid_gap": null,
      "grid_row": null,
      "grid_template_areas": null,
      "grid_template_columns": null,
      "grid_template_rows": null,
      "height": null,
      "justify_content": null,
      "justify_items": null,
      "left": null,
      "margin": null,
      "max_height": null,
      "max_width": null,
      "min_height": null,
      "min_width": null,
      "object_fit": null,
      "object_position": null,
      "order": null,
      "overflow": null,
      "overflow_x": null,
      "overflow_y": null,
      "padding": null,
      "right": null,
      "top": null,
      "visibility": null,
      "width": null
     }
    },
    "bcf7600b9dba49c0802d0e88d5e8c8fd": {
     "model_module": "@jupyter-widgets/controls",
     "model_module_version": "1.5.0",
     "model_name": "ProgressStyleModel",
     "state": {
      "_model_module": "@jupyter-widgets/controls",
      "_model_module_version": "1.5.0",
      "_model_name": "ProgressStyleModel",
      "_view_count": null,
      "_view_module": "@jupyter-widgets/base",
      "_view_module_version": "1.2.0",
      "_view_name": "StyleView",
      "bar_color": null,
      "description_width": ""
     }
    },
    "c137033754e241e988668b067a47891d": {
     "model_module": "@jupyter-widgets/base",
     "model_module_version": "1.2.0",
     "model_name": "LayoutModel",
     "state": {
      "_model_module": "@jupyter-widgets/base",
      "_model_module_version": "1.2.0",
      "_model_name": "LayoutModel",
      "_view_count": null,
      "_view_module": "@jupyter-widgets/base",
      "_view_module_version": "1.2.0",
      "_view_name": "LayoutView",
      "align_content": null,
      "align_items": null,
      "align_self": null,
      "border": null,
      "bottom": null,
      "display": null,
      "flex": null,
      "flex_flow": null,
      "grid_area": null,
      "grid_auto_columns": null,
      "grid_auto_flow": null,
      "grid_auto_rows": null,
      "grid_column": null,
      "grid_gap": null,
      "grid_row": null,
      "grid_template_areas": null,
      "grid_template_columns": null,
      "grid_template_rows": null,
      "height": null,
      "justify_content": null,
      "justify_items": null,
      "left": null,
      "margin": null,
      "max_height": null,
      "max_width": null,
      "min_height": null,
      "min_width": null,
      "object_fit": null,
      "object_position": null,
      "order": null,
      "overflow": null,
      "overflow_x": null,
      "overflow_y": null,
      "padding": null,
      "right": null,
      "top": null,
      "visibility": null,
      "width": null
     }
    },
    "c2ed5871374346209a3f77fc54c8fde5": {
     "model_module": "@jupyter-widgets/controls",
     "model_module_version": "1.5.0",
     "model_name": "DescriptionStyleModel",
     "state": {
      "_model_module": "@jupyter-widgets/controls",
      "_model_module_version": "1.5.0",
      "_model_name": "DescriptionStyleModel",
      "_view_count": null,
      "_view_module": "@jupyter-widgets/base",
      "_view_module_version": "1.2.0",
      "_view_name": "StyleView",
      "description_width": ""
     }
    },
    "c625f9d476c34497936d7bff567ec5b6": {
     "model_module": "@jupyter-widgets/base",
     "model_module_version": "1.2.0",
     "model_name": "LayoutModel",
     "state": {
      "_model_module": "@jupyter-widgets/base",
      "_model_module_version": "1.2.0",
      "_model_name": "LayoutModel",
      "_view_count": null,
      "_view_module": "@jupyter-widgets/base",
      "_view_module_version": "1.2.0",
      "_view_name": "LayoutView",
      "align_content": null,
      "align_items": null,
      "align_self": null,
      "border": null,
      "bottom": null,
      "display": null,
      "flex": null,
      "flex_flow": null,
      "grid_area": null,
      "grid_auto_columns": null,
      "grid_auto_flow": null,
      "grid_auto_rows": null,
      "grid_column": null,
      "grid_gap": null,
      "grid_row": null,
      "grid_template_areas": null,
      "grid_template_columns": null,
      "grid_template_rows": null,
      "height": null,
      "justify_content": null,
      "justify_items": null,
      "left": null,
      "margin": null,
      "max_height": null,
      "max_width": null,
      "min_height": null,
      "min_width": null,
      "object_fit": null,
      "object_position": null,
      "order": null,
      "overflow": null,
      "overflow_x": null,
      "overflow_y": null,
      "padding": null,
      "right": null,
      "top": null,
      "visibility": null,
      "width": null
     }
    },
    "c89af36d1fb34074aeec52c80f8ae3a6": {
     "model_module": "@jupyter-widgets/controls",
     "model_module_version": "1.5.0",
     "model_name": "HTMLModel",
     "state": {
      "_dom_classes": [],
      "_model_module": "@jupyter-widgets/controls",
      "_model_module_version": "1.5.0",
      "_model_name": "HTMLModel",
      "_view_count": null,
      "_view_module": "@jupyter-widgets/controls",
      "_view_module_version": "1.5.0",
      "_view_name": "HTMLView",
      "description": "",
      "description_tooltip": null,
      "layout": "IPY_MODEL_40882975dbd244899b0557fc05fb3b56",
      "placeholder": "​",
      "style": "IPY_MODEL_81ad3e87a0124c92904ad969a33fbfef",
      "value": "Downloading (…)cial_tokens_map.json: 100%"
     }
    },
    "c90b5eab7d164560859ad3ba5a8e6f80": {
     "model_module": "@jupyter-widgets/controls",
     "model_module_version": "1.5.0",
     "model_name": "FloatProgressModel",
     "state": {
      "_dom_classes": [],
      "_model_module": "@jupyter-widgets/controls",
      "_model_module_version": "1.5.0",
      "_model_name": "FloatProgressModel",
      "_view_count": null,
      "_view_module": "@jupyter-widgets/controls",
      "_view_module_version": "1.5.0",
      "_view_name": "ProgressView",
      "bar_style": "success",
      "description": "",
      "description_tooltip": null,
      "layout": "IPY_MODEL_49bb572f3fcf4d4fa08f654c0558574d",
      "max": 2275327883,
      "min": 0,
      "orientation": "horizontal",
      "style": "IPY_MODEL_bcf7600b9dba49c0802d0e88d5e8c8fd",
      "value": 2275327883
     }
    },
    "d566e46a33f848009bb4b4a022a1b49e": {
     "model_module": "@jupyter-widgets/controls",
     "model_module_version": "1.5.0",
     "model_name": "DescriptionStyleModel",
     "state": {
      "_model_module": "@jupyter-widgets/controls",
      "_model_module_version": "1.5.0",
      "_model_name": "DescriptionStyleModel",
      "_view_count": null,
      "_view_module": "@jupyter-widgets/base",
      "_view_module_version": "1.2.0",
      "_view_name": "StyleView",
      "description_width": ""
     }
    },
    "d5e7448ef4af468cbe59e2ca8651f453": {
     "model_module": "@jupyter-widgets/base",
     "model_module_version": "1.2.0",
     "model_name": "LayoutModel",
     "state": {
      "_model_module": "@jupyter-widgets/base",
      "_model_module_version": "1.2.0",
      "_model_name": "LayoutModel",
      "_view_count": null,
      "_view_module": "@jupyter-widgets/base",
      "_view_module_version": "1.2.0",
      "_view_name": "LayoutView",
      "align_content": null,
      "align_items": null,
      "align_self": null,
      "border": null,
      "bottom": null,
      "display": null,
      "flex": null,
      "flex_flow": null,
      "grid_area": null,
      "grid_auto_columns": null,
      "grid_auto_flow": null,
      "grid_auto_rows": null,
      "grid_column": null,
      "grid_gap": null,
      "grid_row": null,
      "grid_template_areas": null,
      "grid_template_columns": null,
      "grid_template_rows": null,
      "height": null,
      "justify_content": null,
      "justify_items": null,
      "left": null,
      "margin": null,
      "max_height": null,
      "max_width": null,
      "min_height": null,
      "min_width": null,
      "object_fit": null,
      "object_position": null,
      "order": null,
      "overflow": null,
      "overflow_x": null,
      "overflow_y": null,
      "padding": null,
      "right": null,
      "top": null,
      "visibility": null,
      "width": null
     }
    },
    "d8799b2adeff4ae2a8b34357618ffa16": {
     "model_module": "@jupyter-widgets/controls",
     "model_module_version": "1.5.0",
     "model_name": "ProgressStyleModel",
     "state": {
      "_model_module": "@jupyter-widgets/controls",
      "_model_module_version": "1.5.0",
      "_model_name": "ProgressStyleModel",
      "_view_count": null,
      "_view_module": "@jupyter-widgets/base",
      "_view_module_version": "1.2.0",
      "_view_name": "StyleView",
      "bar_color": null,
      "description_width": ""
     }
    },
    "d95e99e30b9b479096f71174b4ec37e1": {
     "model_module": "@jupyter-widgets/controls",
     "model_module_version": "1.5.0",
     "model_name": "DescriptionStyleModel",
     "state": {
      "_model_module": "@jupyter-widgets/controls",
      "_model_module_version": "1.5.0",
      "_model_name": "DescriptionStyleModel",
      "_view_count": null,
      "_view_module": "@jupyter-widgets/base",
      "_view_module_version": "1.2.0",
      "_view_name": "StyleView",
      "description_width": ""
     }
    },
    "df6ec905e310453099ff46aa16ff2849": {
     "model_module": "@jupyter-widgets/controls",
     "model_module_version": "1.5.0",
     "model_name": "DescriptionStyleModel",
     "state": {
      "_model_module": "@jupyter-widgets/controls",
      "_model_module_version": "1.5.0",
      "_model_name": "DescriptionStyleModel",
      "_view_count": null,
      "_view_module": "@jupyter-widgets/base",
      "_view_module_version": "1.2.0",
      "_view_name": "StyleView",
      "description_width": ""
     }
    },
    "e7390851b75c45d1b1c4be061d7083da": {
     "model_module": "@jupyter-widgets/base",
     "model_module_version": "1.2.0",
     "model_name": "LayoutModel",
     "state": {
      "_model_module": "@jupyter-widgets/base",
      "_model_module_version": "1.2.0",
      "_model_name": "LayoutModel",
      "_view_count": null,
      "_view_module": "@jupyter-widgets/base",
      "_view_module_version": "1.2.0",
      "_view_name": "LayoutView",
      "align_content": null,
      "align_items": null,
      "align_self": null,
      "border": null,
      "bottom": null,
      "display": null,
      "flex": null,
      "flex_flow": null,
      "grid_area": null,
      "grid_auto_columns": null,
      "grid_auto_flow": null,
      "grid_auto_rows": null,
      "grid_column": null,
      "grid_gap": null,
      "grid_row": null,
      "grid_template_areas": null,
      "grid_template_columns": null,
      "grid_template_rows": null,
      "height": null,
      "justify_content": null,
      "justify_items": null,
      "left": null,
      "margin": null,
      "max_height": null,
      "max_width": null,
      "min_height": null,
      "min_width": null,
      "object_fit": null,
      "object_position": null,
      "order": null,
      "overflow": null,
      "overflow_x": null,
      "overflow_y": null,
      "padding": null,
      "right": null,
      "top": null,
      "visibility": null,
      "width": null
     }
    },
    "e829523a5d4e4b34a2ddceb449179f3e": {
     "model_module": "@jupyter-widgets/base",
     "model_module_version": "1.2.0",
     "model_name": "LayoutModel",
     "state": {
      "_model_module": "@jupyter-widgets/base",
      "_model_module_version": "1.2.0",
      "_model_name": "LayoutModel",
      "_view_count": null,
      "_view_module": "@jupyter-widgets/base",
      "_view_module_version": "1.2.0",
      "_view_name": "LayoutView",
      "align_content": null,
      "align_items": null,
      "align_self": null,
      "border": null,
      "bottom": null,
      "display": null,
      "flex": null,
      "flex_flow": null,
      "grid_area": null,
      "grid_auto_columns": null,
      "grid_auto_flow": null,
      "grid_auto_rows": null,
      "grid_column": null,
      "grid_gap": null,
      "grid_row": null,
      "grid_template_areas": null,
      "grid_template_columns": null,
      "grid_template_rows": null,
      "height": null,
      "justify_content": null,
      "justify_items": null,
      "left": null,
      "margin": null,
      "max_height": null,
      "max_width": null,
      "min_height": null,
      "min_width": null,
      "object_fit": null,
      "object_position": null,
      "order": null,
      "overflow": null,
      "overflow_x": null,
      "overflow_y": null,
      "padding": null,
      "right": null,
      "top": null,
      "visibility": null,
      "width": null
     }
    },
    "f2d18956101b4abd977b9905c7ed70ce": {
     "model_module": "@jupyter-widgets/base",
     "model_module_version": "1.2.0",
     "model_name": "LayoutModel",
     "state": {
      "_model_module": "@jupyter-widgets/base",
      "_model_module_version": "1.2.0",
      "_model_name": "LayoutModel",
      "_view_count": null,
      "_view_module": "@jupyter-widgets/base",
      "_view_module_version": "1.2.0",
      "_view_name": "LayoutView",
      "align_content": null,
      "align_items": null,
      "align_self": null,
      "border": null,
      "bottom": null,
      "display": null,
      "flex": null,
      "flex_flow": null,
      "grid_area": null,
      "grid_auto_columns": null,
      "grid_auto_flow": null,
      "grid_auto_rows": null,
      "grid_column": null,
      "grid_gap": null,
      "grid_row": null,
      "grid_template_areas": null,
      "grid_template_columns": null,
      "grid_template_rows": null,
      "height": null,
      "justify_content": null,
      "justify_items": null,
      "left": null,
      "margin": null,
      "max_height": null,
      "max_width": null,
      "min_height": null,
      "min_width": null,
      "object_fit": null,
      "object_position": null,
      "order": null,
      "overflow": null,
      "overflow_x": null,
      "overflow_y": null,
      "padding": null,
      "right": null,
      "top": null,
      "visibility": null,
      "width": null
     }
    },
    "f5414025a0784249aa3fc6a66bae430f": {
     "model_module": "@jupyter-widgets/base",
     "model_module_version": "1.2.0",
     "model_name": "LayoutModel",
     "state": {
      "_model_module": "@jupyter-widgets/base",
      "_model_module_version": "1.2.0",
      "_model_name": "LayoutModel",
      "_view_count": null,
      "_view_module": "@jupyter-widgets/base",
      "_view_module_version": "1.2.0",
      "_view_name": "LayoutView",
      "align_content": null,
      "align_items": null,
      "align_self": null,
      "border": null,
      "bottom": null,
      "display": null,
      "flex": null,
      "flex_flow": null,
      "grid_area": null,
      "grid_auto_columns": null,
      "grid_auto_flow": null,
      "grid_auto_rows": null,
      "grid_column": null,
      "grid_gap": null,
      "grid_row": null,
      "grid_template_areas": null,
      "grid_template_columns": null,
      "grid_template_rows": null,
      "height": null,
      "justify_content": null,
      "justify_items": null,
      "left": null,
      "margin": null,
      "max_height": null,
      "max_width": null,
      "min_height": null,
      "min_width": null,
      "object_fit": null,
      "object_position": null,
      "order": null,
      "overflow": null,
      "overflow_x": null,
      "overflow_y": null,
      "padding": null,
      "right": null,
      "top": null,
      "visibility": null,
      "width": null
     }
    },
    "fbbaae08a4124c74874e6be91285317b": {
     "model_module": "@jupyter-widgets/controls",
     "model_module_version": "1.5.0",
     "model_name": "ProgressStyleModel",
     "state": {
      "_model_module": "@jupyter-widgets/controls",
      "_model_module_version": "1.5.0",
      "_model_name": "ProgressStyleModel",
      "_view_count": null,
      "_view_module": "@jupyter-widgets/base",
      "_view_module_version": "1.2.0",
      "_view_name": "StyleView",
      "bar_color": null,
      "description_width": ""
     }
    },
    "fe51b9bfb4524b54981d2e6c503a5f99": {
     "model_module": "@jupyter-widgets/controls",
     "model_module_version": "1.5.0",
     "model_name": "DescriptionStyleModel",
     "state": {
      "_model_module": "@jupyter-widgets/controls",
      "_model_module_version": "1.5.0",
      "_model_name": "DescriptionStyleModel",
      "_view_count": null,
      "_view_module": "@jupyter-widgets/base",
      "_view_module_version": "1.2.0",
      "_view_name": "StyleView",
      "description_width": ""
     }
    },
    "ff78ad829d794b8aade83e721aae3fc9": {
     "model_module": "@jupyter-widgets/controls",
     "model_module_version": "1.5.0",
     "model_name": "DescriptionStyleModel",
     "state": {
      "_model_module": "@jupyter-widgets/controls",
      "_model_module_version": "1.5.0",
      "_model_name": "DescriptionStyleModel",
      "_view_count": null,
      "_view_module": "@jupyter-widgets/base",
      "_view_module_version": "1.2.0",
      "_view_name": "StyleView",
      "description_width": ""
     }
    }
   }
  }
 },
 "nbformat": 4,
 "nbformat_minor": 1
}
